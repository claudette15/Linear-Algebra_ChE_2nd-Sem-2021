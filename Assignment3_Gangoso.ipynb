{
  "cells": [
    {
      "cell_type": "markdown",
      "metadata": {
        "id": "view-in-github",
        "colab_type": "text"
      },
      "source": [
        "<a href=\"https://colab.research.google.com/github/claudette15/Linear-Algebra_ChE_2nd-Sem-2021/blob/main/Assignment3_Gangoso.ipynb\" target=\"_parent\"><img src=\"https://colab.research.google.com/assets/colab-badge.svg\" alt=\"Open In Colab\"/></a>"
      ]
    },
    {
      "cell_type": "markdown",
      "metadata": {
        "id": "TvIZe7lKATz0"
      },
      "source": [
        "### Objectives\n",
        "At the end of this activity you will be able to:\n",
        "\n",
        "Be familiar with matrices and their relation to linear equations.\n",
        "Perform basic matrix operations.\n",
        "Program and translate matrix equations and operations using Python."
      ]
    },
    {
      "cell_type": "markdown",
      "metadata": {
        "id": "pgc3V1XcBGtB"
      },
      "source": [
        "## Discussion"
      ]
    },
    {
      "cell_type": "code",
      "execution_count": null,
      "metadata": {
        "id": "OHQbPmpRBQcV"
      },
      "outputs": [],
      "source": [
        "import numpy as np\n",
        "import matplotlib.pyplot as plt\n",
        "import scipy.linalg as la\n",
        "%matplotlib inline"
      ]
    },
    {
      "cell_type": "markdown",
      "metadata": {
        "id": "QckGvWNMBV2D"
      },
      "source": [
        "### Matrices"
      ]
    },
    {
      "cell_type": "markdown",
      "metadata": {
        "id": "20DFhONACG7d"
      },
      "source": [
        "The notation and use of matrices is probably one of the fundamentals of modern computing. Matrices are also handy representations of complex equations or multiple inter-related equations from 2-dimensional equations to even hundreds and thousands of them."
      ]
    },
    {
      "cell_type": "markdown",
      "metadata": {
        "id": "eDHheB8XCTru"
      },
      "source": [
        "Let's say for example you have $A$ and $B$ as system of equation."
      ]
    },
    {
      "cell_type": "markdown",
      "metadata": {
        "id": "P5KCz-J1CcMW"
      },
      "source": [
        "$$\n",
        "A = \\left\\{\n",
        "    \\begin{array}\\\n",
        "        x + y \\\\ \n",
        "        1x - 2y\n",
        "    \\end{array}\n",
        "\\right. \\\\\n",
        "B = \\left\\{\n",
        "    \\begin{array}\\\n",
        "        x+y+z \\\\ \n",
        "        3x -4y -z \\\\\n",
        "        -x + 5y +6z\n",
        "    \\end{array}\n",
        "\\right. $$"
      ]
    },
    {
      "cell_type": "markdown",
      "metadata": {
        "id": "tVoupj1iC1E5"
      },
      "source": [
        "We could see that $A$ is a system of 2 equations with 2 parameters. While $B$ is a system of 3 equations with 3 parameters. We can represent them as matrices as:"
      ]
    },
    {
      "cell_type": "markdown",
      "metadata": {
        "id": "hGEp06fQC2n4"
      },
      "source": [
        "$$\n",
        "A=\\begin{bmatrix} 1 & 2 \\\\ 3 & {-4}\\end{bmatrix} \\\\\n",
        "B=\\begin{bmatrix} 1 & 1 & 1 \\\\ 2 & -2 & -2 \\\\ -3 & 3 & 3\\end{bmatrix}\n",
        "$$"
      ]
    },
    {
      "cell_type": "markdown",
      "metadata": {
        "id": "MaU1vc02DAw0"
      },
      "source": [
        "So assuming that you already discussed the fundamental representation of matrices, their types, and operations. We'll proceed in doing them in here in Python."
      ]
    },
    {
      "cell_type": "markdown",
      "metadata": {
        "id": "GWLka049DT6t"
      },
      "source": [
        "### Declaring Matrices"
      ]
    },
    {
      "cell_type": "markdown",
      "metadata": {
        "id": "U36Ur7-tDYfS"
      },
      "source": [
        "Just like our previous laboratory activity, we'll represent system of linear equations as a matrix. The entities or numbers in matrices are called the elements of a matrix. These elements are arranged and ordered in rows and columns which form the list/array-like structure of matrices. And just like arrays, these elements are indexed according to their position with respect to their rows and columns. This can be represented just like the equation below. Whereas $A$ is a matrix consisting of elements denoted by $a_{i,j}$. Denoted by $i$ is the number of rows in the matrix while $j$ stands for the number of columns.<br>\n",
        "Do note that the $size$ of a matrix is $i\\times j$."
      ]
    },
    {
      "cell_type": "markdown",
      "metadata": {
        "id": "8c-VUKgAD2a9"
      },
      "source": [
        "$$A=\\begin{bmatrix}\n",
        "a_{(0,1)}&a_{(2,1)}&\\dots&a_{(0,j-0)}\\\\\n",
        "a_{(2,0)}&a_{(1,2)}&\\dots&a_{(1,j-1)}\\\\\n",
        "\\vdots&\\vdots&\\ddots&\\vdots&\\\\\n",
        "a_{(i-1,0)}&a_{(i-1,1)}&\\dots&a_{(i-1,j-1)}\n",
        "\\end{bmatrix}\n",
        "$$"
      ]
    },
    {
      "cell_type": "markdown",
      "metadata": {
        "id": "gJev8npNEPtQ"
      },
      "source": [
        "We already gone over some of the types of matrices as vectors but we'll further discuss them in this laboratory activity. Since you already know how to describe vectors using <b>shape</b>, <b>dimensions</b> and <b>size</b> attributes, we'll use them to analyze these matrices."
      ]
    },
    {
      "cell_type": "code",
      "execution_count": null,
      "metadata": {
        "id": "eZn5atKMEjp3"
      },
      "outputs": [],
      "source": [
        "## Since we'll keep on describing matrices. Let's make a function.\n",
        "def describe_mat(matrix):\n",
        "    print(f'Matrix:\\n{matrix}\\n\\nShape:\\t{matrix.shape}\\nRank:\\t{matrix.ndim}\\n')"
      ]
    },
    {
      "cell_type": "code",
      "execution_count": null,
      "metadata": {
        "colab": {
          "base_uri": "https://localhost:8080/"
        },
        "id": "HcEVQuNrErlx",
        "outputId": "ea723f05-850c-4326-c41a-cd6eba152d98"
      },
      "outputs": [
        {
          "name": "stdout",
          "output_type": "stream",
          "text": [
            "Matrix:\n",
            "[[1 2]\n",
            " [3 1]]\n",
            "\n",
            "Shape:\t(2, 2)\n",
            "Rank:\t2\n",
            "\n"
          ]
        }
      ],
      "source": [
        "## Declaring a 2 x 2 matrix\n",
        "A = np.array([\n",
        "    [1, 2],\n",
        "    [3, 1]\n",
        "])\n",
        "describe_mat(A)"
      ]
    },
    {
      "cell_type": "code",
      "execution_count": null,
      "metadata": {
        "colab": {
          "base_uri": "https://localhost:8080/"
        },
        "id": "uMiDCndnFh0t",
        "outputId": "e2ad9648-b3f9-462a-b52a-0923e73a7094"
      },
      "outputs": [
        {
          "name": "stdout",
          "output_type": "stream",
          "text": [
            "Matrix:\n",
            "[[1 2]\n",
            " [3 1]]\n",
            "\n",
            "Shape:\t(2, 2)\n",
            "Rank:\t2\n",
            "\n"
          ]
        }
      ],
      "source": [
        "## Declaring a 2 x 2 matrix\n",
        "A = np.array([\n",
        "    [1, 2],\n",
        "    [3, 1]\n",
        "])\n",
        "describe_mat(A)"
      ]
    },
    {
      "cell_type": "code",
      "execution_count": null,
      "metadata": {
        "colab": {
          "base_uri": "https://localhost:8080/"
        },
        "id": "BsRHc21qFpFL",
        "outputId": "19cd5739-b32c-4b40-e1ad-b67e59784578"
      },
      "outputs": [
        {
          "name": "stdout",
          "output_type": "stream",
          "text": [
            "Matrix:\n",
            "[[1 1]\n",
            " [2 2]]\n",
            "\n",
            "Shape:\t(2, 2)\n",
            "Rank:\t2\n",
            "\n"
          ]
        }
      ],
      "source": [
        "G = np.array([\n",
        "    [1,1],\n",
        "    [2,2]\n",
        "])\n",
        "describe_mat(G)"
      ]
    },
    {
      "cell_type": "code",
      "execution_count": null,
      "metadata": {
        "colab": {
          "base_uri": "https://localhost:8080/"
        },
        "id": "wdsII5pxF86e",
        "outputId": "2f5512a2-da5c-4ed4-e51d-05dd5d885feb"
      },
      "outputs": [
        {
          "name": "stdout",
          "output_type": "stream",
          "text": [
            "Matrix:\n",
            "[[8 2]\n",
            " [5 4]\n",
            " [1 1]]\n",
            "\n",
            "Shape:\t(3, 2)\n",
            "Rank:\t2\n",
            "\n"
          ]
        }
      ],
      "source": [
        "## Declaring a 3 x 2 matrix\n",
        "B = np.array([\n",
        "    [8, 2],\n",
        "    [5, 4],\n",
        "    [1, 1]\n",
        "])\n",
        "describe_mat(B)"
      ]
    },
    {
      "cell_type": "code",
      "execution_count": null,
      "metadata": {
        "colab": {
          "base_uri": "https://localhost:8080/"
        },
        "id": "XP-McQCgGCDW",
        "outputId": "f9a3aa04-d67e-4005-daf9-7a25fcd9df18"
      },
      "outputs": [
        {
          "name": "stdout",
          "output_type": "stream",
          "text": [
            "Matrix:\n",
            "[1 2 3 4 5]\n",
            "\n",
            "Shape:\t(5,)\n",
            "Rank:\t1\n",
            "\n"
          ]
        }
      ],
      "source": [
        "H = np.array([1,2,3,4,5])\n",
        "describe_mat(H)"
      ]
    },
    {
      "cell_type": "markdown",
      "metadata": {
        "id": "gG3dX6QCGLS6"
      },
      "source": [
        "## Categorizing Matrices"
      ]
    },
    {
      "cell_type": "markdown",
      "metadata": {
        "id": "6zrppn5FGVNu"
      },
      "source": [
        "There are several ways of classifying matrices. Once could be according to their shape and another is according to their element values. We'll try to go through them."
      ]
    },
    {
      "cell_type": "markdown",
      "metadata": {
        "id": "xz-SgstsGs-d"
      },
      "source": [
        "# According to shape"
      ]
    },
    {
      "cell_type": "markdown",
      "metadata": {
        "id": "5sn0F8VfHFru"
      },
      "source": [
        "#### Row and Column Matrices"
      ]
    },
    {
      "cell_type": "markdown",
      "metadata": {
        "id": "meSJydBZHp68"
      },
      "source": [
        "Row and column matrices are common in vector and matrix computations. They can also represent row and column spaces of a bigger vector space. Row and column matrices are represented by a single column or single row. So with that being, the shape of row matrices would be $1 \\times j$ and column matrices would be $i \\times 1$."
      ]
    },
    {
      "cell_type": "code",
      "execution_count": null,
      "metadata": {
        "colab": {
          "base_uri": "https://localhost:8080/"
        },
        "id": "jjjQJnXaIBWr",
        "outputId": "44a898e1-c344-4710-fe08-ca066d0b5c2c"
      },
      "outputs": [
        {
          "name": "stdout",
          "output_type": "stream",
          "text": [
            "Matrix:\n",
            "[1 3 2]\n",
            "\n",
            "Shape:\t(3,)\n",
            "Rank:\t1\n",
            "\n",
            "Matrix:\n",
            "[[1 2 3]]\n",
            "\n",
            "Shape:\t(1, 3)\n",
            "Rank:\t2\n",
            "\n"
          ]
        }
      ],
      "source": [
        "## Declaring a Row Matrix\n",
        "\n",
        "row_mat_1D = np.array([\n",
        "    1, 3, 2\n",
        "]) ## this is a 1-D Matrix with a shape of (3,), it's not really considered as a row matrix.\n",
        "row_mat_2D = np.array([\n",
        "    [1,2,3]\n",
        "]) ## this is a 2-D Matrix with a shape of (1,3)\n",
        "describe_mat(row_mat_1D)\n",
        "describe_mat(row_mat_2D)"
      ]
    },
    {
      "cell_type": "code",
      "execution_count": null,
      "metadata": {
        "colab": {
          "base_uri": "https://localhost:8080/"
        },
        "id": "IGZVFmsSKq_8",
        "outputId": "4189322f-577f-46eb-c96c-7cf04209b02d"
      },
      "outputs": [
        {
          "name": "stdout",
          "output_type": "stream",
          "text": [
            "Matrix:\n",
            "[[1]\n",
            " [2]\n",
            " [5]]\n",
            "\n",
            "Shape:\t(3, 1)\n",
            "Rank:\t2\n",
            "\n"
          ]
        }
      ],
      "source": [
        "## Declaring a Column Matrix\n",
        "\n",
        "col_mat = np.array([\n",
        "    [1],\n",
        "    [2],\n",
        "    [5]\n",
        "]) ## this is a 2-D Matrix with a shape of (3,1)\n",
        "describe_mat(col_mat)"
      ]
    },
    {
      "cell_type": "markdown",
      "metadata": {
        "id": "jB1vh00lLJuD"
      },
      "source": [
        "#### Square Matrices"
      ]
    },
    {
      "cell_type": "markdown",
      "metadata": {
        "id": "p_hMDxVsLPio"
      },
      "source": [
        "Square matrices are matrices that have the same row and column sizes. We could say a matrix is square if  i=j . We can tweak our matrix descriptor function to determine square matrices."
      ]
    },
    {
      "cell_type": "code",
      "execution_count": null,
      "metadata": {
        "id": "X3P7YTD4LaLu"
      },
      "outputs": [],
      "source": [
        "def describe_mat(matrix):\n",
        "    is_square = True if matrix.shape[0] == matrix.shape[1] else False \n",
        "    print(f'Matrix:\\n{matrix}\\n\\nShape:\\t{matrix.shape}\\nRank:\\t{matrix.ndim}\\nIs Square: {is_square}\\n')"
      ]
    },
    {
      "cell_type": "code",
      "execution_count": null,
      "metadata": {
        "colab": {
          "base_uri": "https://localhost:8080/"
        },
        "id": "vCRJKjONLlMp",
        "outputId": "d8038e1f-5831-4c94-de14-912b19843c0f"
      },
      "outputs": [
        {
          "name": "stdout",
          "output_type": "stream",
          "text": [
            "Matrix:\n",
            "[[1 2 5]\n",
            " [3 3 8]\n",
            " [6 1 2]]\n",
            "\n",
            "Shape:\t(3, 3)\n",
            "Rank:\t2\n",
            "Is Square: True\n",
            "\n",
            "Matrix:\n",
            "[[1 2 5]\n",
            " [3 3 8]]\n",
            "\n",
            "Shape:\t(2, 3)\n",
            "Rank:\t2\n",
            "Is Square: False\n",
            "\n"
          ]
        }
      ],
      "source": [
        "square_mat = np.array([\n",
        "    [1,2,5],\n",
        "    [3,3,8],\n",
        "    [6,1,2]\n",
        "])\n",
        "\n",
        "non_square_mat = np.array([\n",
        "    [1,2,5],\n",
        "    [3,3,8]\n",
        "])\n",
        "describe_mat(square_mat)\n",
        "describe_mat(non_square_mat)"
      ]
    },
    {
      "cell_type": "markdown",
      "metadata": {
        "id": "HbJn-CGeLrEp"
      },
      "source": [
        "### According to element values"
      ]
    },
    {
      "cell_type": "markdown",
      "metadata": {
        "id": "SWci4XvRLuwd"
      },
      "source": [
        "Null Matrix"
      ]
    },
    {
      "cell_type": "code",
      "execution_count": null,
      "metadata": {
        "id": "etHasUbZL2eJ"
      },
      "outputs": [],
      "source": [
        "def describe_mat(matrix):\n",
        "    if matrix.size > 0:\n",
        "        is_square = True if matrix.shape[0] == matrix.shape[1] else False \n",
        "        print(f'Matrix:\\n{matrix}\\n\\nShape:\\t{matrix.shape}\\nRank:\\t{matrix.ndim}\\nIs Square: {is_square}\\n')\n",
        "    else:\n",
        "        print('Matrix is Null')"
      ]
    },
    {
      "cell_type": "code",
      "execution_count": null,
      "metadata": {
        "colab": {
          "base_uri": "https://localhost:8080/"
        },
        "id": "Je843pKhMCgX",
        "outputId": "0b80d9af-e035-4019-d69e-4250bdbb9e1a"
      },
      "outputs": [
        {
          "name": "stdout",
          "output_type": "stream",
          "text": [
            "Matrix is Null\n"
          ]
        }
      ],
      "source": [
        "null_mat = np.array([])\n",
        "describe_mat(null_mat)"
      ]
    },
    {
      "cell_type": "markdown",
      "metadata": {
        "id": "gXQ7FkfdMMX8"
      },
      "source": [
        "*italicized text*#### Zero Matrix\n",
        "\n",
        "> Indented block\n"
      ]
    },
    {
      "cell_type": "markdown",
      "metadata": {
        "id": "aLVQbdeiMQvw"
      },
      "source": [
        "A zero matrix can be any rectangular matrix but with all elements having a value of 0."
      ]
    },
    {
      "cell_type": "code",
      "execution_count": null,
      "metadata": {
        "colab": {
          "base_uri": "https://localhost:8080/"
        },
        "id": "l_eSnb3AMgEE",
        "outputId": "b7d81c73-9408-4e9c-a1a4-bd2914eb855f"
      },
      "outputs": [
        {
          "name": "stdout",
          "output_type": "stream",
          "text": [
            "Zero Row Matrix: \n",
            "[[0. 0.]]\n",
            "Zero Square Matrix: \n",
            "[[0. 0.]\n",
            " [0. 0.]]\n",
            "Zero Rectangular Matrix: \n",
            "[[0. 0.]\n",
            " [0. 0.]\n",
            " [0. 0.]]\n"
          ]
        }
      ],
      "source": [
        "zero_mat_row = np.zeros((1,2))\n",
        "zero_mat_sqr = np.zeros((2,2))\n",
        "zero_mat_rct = np.zeros((3,2))\n",
        "\n",
        "print(f'Zero Row Matrix: \\n{zero_mat_row}')\n",
        "print(f'Zero Square Matrix: \\n{zero_mat_sqr}')\n",
        "print(f'Zero Rectangular Matrix: \\n{zero_mat_rct}')"
      ]
    },
    {
      "cell_type": "markdown",
      "metadata": {
        "id": "EoHzmTG-MnC2"
      },
      "source": [
        "#### Ones Matrix"
      ]
    },
    {
      "cell_type": "code",
      "execution_count": null,
      "metadata": {
        "id": "BaeNqN6gOCVG"
      },
      "outputs": [],
      "source": [
        "ones_mat_row = np.ones((1,2))\n",
        "ones_mat_sqr = np.ones((2,2))\n",
        "ones_mat_rct = np.ones((3,2))\n",
        "\n",
        "print(f'Ones Row Matrix: \\n{ones_mat_row}')\n",
        "print(f'Ones Square Matrix: \\n{ones_mat_sqr}')\n",
        "print(f'Ones Rectangular Matrix: \\n{ones_mat_rct}')"
      ]
    },
    {
      "cell_type": "markdown",
      "metadata": {
        "id": "3Sq-VllIOIxu"
      },
      "source": [
        "### Diagonal Matrix"
      ]
    },
    {
      "cell_type": "code",
      "execution_count": null,
      "metadata": {
        "colab": {
          "base_uri": "https://localhost:8080/"
        },
        "id": "SpZc_CQ4OYtn",
        "outputId": "15d71836-70bd-4ae6-c236-9f68b799b0e9"
      },
      "outputs": [
        {
          "data": {
            "text/plain": [
              "array([[2, 0, 0],\n",
              "       [0, 3, 0],\n",
              "       [0, 0, 5]])"
            ]
          },
          "execution_count": 17,
          "metadata": {},
          "output_type": "execute_result"
        }
      ],
      "source": [
        "np.array([\n",
        "    [2,0,0],\n",
        "    [0,3,0],\n",
        "    [0,0,5]\n",
        "])\n",
        "# a[1,1], a[2,2], a[3,3], ... a[n-1,n-1]"
      ]
    },
    {
      "cell_type": "code",
      "execution_count": null,
      "metadata": {
        "colab": {
          "base_uri": "https://localhost:8080/"
        },
        "id": "QlmXXnLqOfEo",
        "outputId": "d87392a3-2fef-4f94-dc5a-31c51101bcbf"
      },
      "outputs": [
        {
          "data": {
            "text/plain": [
              "False"
            ]
          },
          "execution_count": 18,
          "metadata": {},
          "output_type": "execute_result"
        }
      ],
      "source": [
        "d = np.diag([2,3,5,7])\n",
        "np.diag(d).shape == d.shape[0] == d.shape[1]"
      ]
    },
    {
      "cell_type": "markdown",
      "metadata": {
        "id": "PyIIolXwOlOM"
      },
      "source": [
        "#### Identity Matrix"
      ]
    },
    {
      "cell_type": "markdown",
      "metadata": {
        "id": "E-OIbp5fOqz0"
      },
      "source": [
        "An identity matrix is a special diagonal matrix in which the values at the diagonal are ones."
      ]
    },
    {
      "cell_type": "code",
      "execution_count": null,
      "metadata": {
        "colab": {
          "background_save": true
        },
        "id": "vxNua2tpO2Vl",
        "outputId": "da7391a4-f20a-412f-f1ee-aed5b3952035"
      },
      "outputs": [
        {
          "data": {
            "text/plain": [
              "array([[1., 0., 0., 0., 0.],\n",
              "       [0., 1., 0., 0., 0.],\n",
              "       [0., 0., 1., 0., 0.],\n",
              "       [0., 0., 0., 1., 0.],\n",
              "       [0., 0., 0., 0., 1.]])"
            ]
          },
          "execution_count": null,
          "metadata": {},
          "output_type": "execute_result"
        }
      ],
      "source": [
        "np.eye(5)"
      ]
    },
    {
      "cell_type": "code",
      "execution_count": 23,
      "metadata": {
        "id": "naJBhL3YO8X4",
        "colab": {
          "base_uri": "https://localhost:8080/"
        },
        "outputId": "5724cd61-e15f-4e09-cddf-38944da6e07d"
      },
      "outputs": [
        {
          "output_type": "execute_result",
          "data": {
            "text/plain": [
              "array([[1., 0., 0., 0., 0.],\n",
              "       [0., 1., 0., 0., 0.],\n",
              "       [0., 0., 1., 0., 0.],\n",
              "       [0., 0., 0., 1., 0.],\n",
              "       [0., 0., 0., 0., 1.]])"
            ]
          },
          "metadata": {},
          "execution_count": 23
        }
      ],
      "source": [
        "np.identity(5)"
      ]
    },
    {
      "cell_type": "markdown",
      "source": [
        "#### Upper Triangular Matrix\n",
        "\n",
        "> Indented block"
      ],
      "metadata": {
        "id": "xn0y44VHazaW"
      }
    },
    {
      "cell_type": "markdown",
      "source": [
        "An upper triangular matrix is a matrix that has no values below the diagonal."
      ],
      "metadata": {
        "id": "1EX6BvoPa6oX"
      }
    },
    {
      "cell_type": "code",
      "source": [
        "np.array([\n",
        "    [1,2,3],\n",
        "    [0,3,1],\n",
        "    [0,0,5]\n",
        "])"
      ],
      "metadata": {
        "colab": {
          "base_uri": "https://localhost:8080/"
        },
        "id": "rhcWj8LGa8lX",
        "outputId": "335c1253-5356-4540-aa87-ac76e9239daa"
      },
      "execution_count": 24,
      "outputs": [
        {
          "output_type": "execute_result",
          "data": {
            "text/plain": [
              "array([[1, 2, 3],\n",
              "       [0, 3, 1],\n",
              "       [0, 0, 5]])"
            ]
          },
          "metadata": {},
          "execution_count": 24
        }
      ]
    },
    {
      "cell_type": "markdown",
      "source": [
        "\n",
        "\n",
        "```\n",
        "# This is formatted as code\n",
        "```\n",
        "\n",
        "#### Lower Triangular Matrix"
      ],
      "metadata": {
        "id": "dRm2Sd1kbeXF"
      }
    },
    {
      "cell_type": "markdown",
      "source": [
        "A lower triangular matrix is a matrix that has no values above the diagonal."
      ],
      "metadata": {
        "id": "mmKsed_DbjmC"
      }
    },
    {
      "cell_type": "code",
      "source": [
        "np.array([\n",
        "    [1,0,0],\n",
        "    [5,3,0],\n",
        "    [7,8,5]\n",
        "])"
      ],
      "metadata": {
        "colab": {
          "base_uri": "https://localhost:8080/"
        },
        "id": "i8nt25q8brtc",
        "outputId": "aa3e4685-342b-4e48-a86d-7f1a2bd752c6"
      },
      "execution_count": 25,
      "outputs": [
        {
          "output_type": "execute_result",
          "data": {
            "text/plain": [
              "array([[1, 0, 0],\n",
              "       [5, 3, 0],\n",
              "       [7, 8, 5]])"
            ]
          },
          "metadata": {},
          "execution_count": 25
        }
      ]
    },
    {
      "cell_type": "markdown",
      "source": [
        "## Practice"
      ],
      "metadata": {
        "id": "6wkmwPMob5yC"
      }
    },
    {
      "cell_type": "markdown",
      "source": [
        "1. Given the linear combination below, try to create a corresponding matrix representing it."
      ],
      "metadata": {
        "id": "nXao3N2Lb_zP"
      }
    },
    {
      "cell_type": "markdown",
      "source": [
        "$$\\theta = 5x + 3y - z$$"
      ],
      "metadata": {
        "id": "ufQwGtkxcFB3"
      }
    },
    {
      "cell_type": "markdown",
      "source": [
        "2. Given the system of linear combinations below, try to \n",
        "\n",
        "1.   List item\n",
        "2.   List item\n",
        "\n",
        "encode it as a matrix. Also describe the matrix."
      ],
      "metadata": {
        "id": "MzDGwcPBcI7k"
      }
    },
    {
      "cell_type": "markdown",
      "source": [
        "$$\n",
        "B = \\left\\{\n",
        "    \\begin{array}\\\n",
        "        x_{1}+2_{x2}+x_{3}\\\\ \n",
        "        4x_{2}-x_{3} \\\\\n",
        "        10x_{3}\n",
        "    \\end{array}\n",
        "\\right. $$"
      ],
      "metadata": {
        "id": "bJm-PCmidYWk"
      }
    },
    {
      "cell_type": "markdown",
      "source": [
        "3. Given the matrix below, express it as a linear combination in a markdown."
      ],
      "metadata": {
        "id": "ds8RLQbWcY2E"
      }
    },
    {
      "cell_type": "code",
      "source": [
        "G = np.array([\n",
        "    [1,7,8],\n",
        "    [2,2,2],\n",
        "    [4,6,7]\n",
        "])"
      ],
      "metadata": {
        "id": "ybQAuU67ge5u"
      },
      "execution_count": 27,
      "outputs": []
    },
    {
      "cell_type": "markdown",
      "source": [
        "4. Given the matrix below, display the output as a LaTeX makdown also express it as a system of linear combinations."
      ],
      "metadata": {
        "id": "z6h1m0gMgoLE"
      }
    },
    {
      "cell_type": "code",
      "source": [
        "H = np.tril(G)\n",
        "H"
      ],
      "metadata": {
        "colab": {
          "base_uri": "https://localhost:8080/"
        },
        "id": "Zy2n7UlIgtit",
        "outputId": "0d2b7f2b-085d-4b60-e722-a495049f5c41"
      },
      "execution_count": 28,
      "outputs": [
        {
          "output_type": "execute_result",
          "data": {
            "text/plain": [
              "array([[1, 0, 0],\n",
              "       [2, 2, 0],\n",
              "       [4, 6, 7]])"
            ]
          },
          "metadata": {},
          "execution_count": 28
        }
      ]
    },
    {
      "cell_type": "markdown",
      "source": [
        "# Matrix Algebra"
      ],
      "metadata": {
        "id": "A4ZDaiKTgy1X"
      }
    },
    {
      "cell_type": "markdown",
      "source": [
        "### Addition\n"
      ],
      "metadata": {
        "id": "eEWwWoJQg3Yo"
      }
    },
    {
      "cell_type": "code",
      "source": [
        "A = np.array([\n",
        "    [1,2],\n",
        "    [2,3],\n",
        "    [4,1]\n",
        "])\n",
        "B = np.array([\n",
        "    [2,2],\n",
        "    [0,0],\n",
        "    [1,1]\n",
        "])\n",
        "A+B"
      ],
      "metadata": {
        "colab": {
          "base_uri": "https://localhost:8080/"
        },
        "id": "G5NXAH3QhLS0",
        "outputId": "20a42e68-7d63-4df2-950e-5b13606fa67f"
      },
      "execution_count": 29,
      "outputs": [
        {
          "output_type": "execute_result",
          "data": {
            "text/plain": [
              "array([[3, 4],\n",
              "       [2, 3],\n",
              "       [5, 2]])"
            ]
          },
          "metadata": {},
          "execution_count": 29
        }
      ]
    },
    {
      "cell_type": "code",
      "source": [
        "2+A ##Broadcasting\n",
        "# 2*np.ones(A.shape)+A"
      ],
      "metadata": {
        "colab": {
          "base_uri": "https://localhost:8080/"
        },
        "id": "b8rPRs0vhQXU",
        "outputId": "6b1e6f30-569a-4979-caa6-0ed16bf21a89"
      },
      "execution_count": 30,
      "outputs": [
        {
          "output_type": "execute_result",
          "data": {
            "text/plain": [
              "array([[3, 4],\n",
              "       [4, 5],\n",
              "       [6, 3]])"
            ]
          },
          "metadata": {},
          "execution_count": 30
        }
      ]
    },
    {
      "cell_type": "markdown",
      "source": [
        "### Subtraction"
      ],
      "metadata": {
        "id": "ET_UwOZPhVnS"
      }
    },
    {
      "cell_type": "code",
      "source": [
        "A-B"
      ],
      "metadata": {
        "colab": {
          "base_uri": "https://localhost:8080/"
        },
        "id": "DLIh6Vnvhbzk",
        "outputId": "980e753a-f75d-41b5-9d39-d58781141900"
      },
      "execution_count": 31,
      "outputs": [
        {
          "output_type": "execute_result",
          "data": {
            "text/plain": [
              "array([[-1,  0],\n",
              "       [ 2,  3],\n",
              "       [ 3,  0]])"
            ]
          },
          "metadata": {},
          "execution_count": 31
        }
      ]
    },
    {
      "cell_type": "code",
      "source": [
        "3-B == 3*np.ones(B.shape)-B"
      ],
      "metadata": {
        "colab": {
          "base_uri": "https://localhost:8080/"
        },
        "id": "mNq8uvpnhhuA",
        "outputId": "bae69026-c974-43d1-fa24-35a57a40adee"
      },
      "execution_count": 32,
      "outputs": [
        {
          "output_type": "execute_result",
          "data": {
            "text/plain": [
              "array([[ True,  True],\n",
              "       [ True,  True],\n",
              "       [ True,  True]])"
            ]
          },
          "metadata": {},
          "execution_count": 32
        }
      ]
    },
    {
      "cell_type": "markdown",
      "source": [
        "### Element-wise Multiplication"
      ],
      "metadata": {
        "id": "z5pUW9OLho27"
      }
    },
    {
      "cell_type": "code",
      "source": [
        "A*B\n",
        "np.multiply(A,B)"
      ],
      "metadata": {
        "colab": {
          "base_uri": "https://localhost:8080/"
        },
        "id": "GPXFg6HqhtLc",
        "outputId": "1ed94632-eb14-47e9-a645-9a6a225b9c05"
      },
      "execution_count": 33,
      "outputs": [
        {
          "output_type": "execute_result",
          "data": {
            "text/plain": [
              "array([[2, 4],\n",
              "       [0, 0],\n",
              "       [4, 1]])"
            ]
          },
          "metadata": {},
          "execution_count": 33
        }
      ]
    },
    {
      "cell_type": "code",
      "source": [
        "2*A"
      ],
      "metadata": {
        "colab": {
          "base_uri": "https://localhost:8080/"
        },
        "id": "F_0tI2DAhzKn",
        "outputId": "e04ac887-36a2-46a4-912d-75502876a829"
      },
      "execution_count": 34,
      "outputs": [
        {
          "output_type": "execute_result",
          "data": {
            "text/plain": [
              "array([[2, 4],\n",
              "       [4, 6],\n",
              "       [8, 2]])"
            ]
          },
          "metadata": {},
          "execution_count": 34
        }
      ]
    },
    {
      "cell_type": "code",
      "source": [
        "A@B"
      ],
      "metadata": {
        "colab": {
          "base_uri": "https://localhost:8080/",
          "height": 172
        },
        "id": "9smY30NuiDmS",
        "outputId": "991ff39e-3c09-41f8-927e-f5753641b1e2"
      },
      "execution_count": 38,
      "outputs": [
        {
          "output_type": "error",
          "ename": "ValueError",
          "evalue": "ignored",
          "traceback": [
            "\u001b[0;31m---------------------------------------------------------------------------\u001b[0m",
            "\u001b[0;31mValueError\u001b[0m                                Traceback (most recent call last)",
            "\u001b[0;32m<ipython-input-38-5016aafd2858>\u001b[0m in \u001b[0;36m<module>\u001b[0;34m()\u001b[0m\n\u001b[0;32m----> 1\u001b[0;31m \u001b[0mA\u001b[0m\u001b[0;34m@\u001b[0m\u001b[0mB\u001b[0m\u001b[0;34m\u001b[0m\u001b[0;34m\u001b[0m\u001b[0m\n\u001b[0m",
            "\u001b[0;31mValueError\u001b[0m: matmul: Input operand 1 has a mismatch in its core dimension 0, with gufunc signature (n?,k),(k,m?)->(n?,m?) (size 3 is different from 2)"
          ]
        }
      ]
    },
    {
      "cell_type": "code",
      "source": [
        "alpha=10**-10\n",
        "A/(alpha+B)"
      ],
      "metadata": {
        "colab": {
          "base_uri": "https://localhost:8080/"
        },
        "id": "QxYJK4criTad",
        "outputId": "e2e8f104-e9fb-490f-b3d6-e82be5ab1ddd"
      },
      "execution_count": 39,
      "outputs": [
        {
          "output_type": "execute_result",
          "data": {
            "text/plain": [
              "array([[5.e-01, 1.e+00],\n",
              "       [2.e+10, 3.e+10],\n",
              "       [4.e+00, 1.e+00]])"
            ]
          },
          "metadata": {},
          "execution_count": 39
        }
      ]
    },
    {
      "cell_type": "code",
      "source": [
        "np.add(A,B)"
      ],
      "metadata": {
        "colab": {
          "base_uri": "https://localhost:8080/"
        },
        "id": "hxOTIBRCiXSe",
        "outputId": "293fae7c-8b1f-4ea1-ec82-c42a240887f9"
      },
      "execution_count": 40,
      "outputs": [
        {
          "output_type": "execute_result",
          "data": {
            "text/plain": [
              "array([[3, 4],\n",
              "       [2, 3],\n",
              "       [5, 2]])"
            ]
          },
          "metadata": {},
          "execution_count": 40
        }
      ]
    },
    {
      "cell_type": "markdown",
      "source": [
        "## Activity\n"
      ],
      "metadata": {
        "id": "PjxSIjkNibsd"
      }
    },
    {
      "cell_type": "code",
      "source": [
        "### Task 1"
      ],
      "metadata": {
        "id": "SyyyKuvxijA_"
      },
      "execution_count": 41,
      "outputs": []
    },
    {
      "cell_type": "markdown",
      "source": [
        "Create a function named mat_desc() that througouhly describes a matrix, it should:\n",
        "\n",
        "Displays the shape, size, and rank of the matrix. Displays whether the matrix is square or non-square. Displays whether the matrix is an empty matrix. Displays if the matrix is an identity, ones, or zeros matrix Use 5 sample matrices in which their shapes are not lower than (3,3) . In your methodology, create a flowchart discuss the functions and methods you have done. Present your results in the results section showing the description of each matrix you have declared."
      ],
      "metadata": {
        "id": "-lJQQq5tinIX"
      }
    },
    {
      "cell_type": "code",
      "source": [
        "## Function Area\n",
        "import numpy as np\n"
      ],
      "metadata": {
        "id": "tMHLqvRyiral"
      },
      "execution_count": 42,
      "outputs": []
    },
    {
      "cell_type": "code",
      "source": [
        "## Matrix Declarations\n",
        "\n",
        "def mat_desc(mat):\n",
        "    sq = False\n",
        "    mat = np.array(mat)\n",
        "    print(mat)\n",
        "    print('Shape:', mat.shape)\n",
        "    print('Size:', mat.size)\n",
        "    print('Rank:', np.linalg.matrix_rank(mat))\n",
        "    if(mat.shape[0] == mat.shape[1]):\n",
        "        sq = True\n",
        "        print('The matrix is square')\n",
        "    else:\n",
        "        print('The matrix is non-square')\n",
        "    if(mat.shape[0] == 0 and mat.shape[1] == 0):\n",
        "        print('The matrix is empty')\n",
        "    else:\n",
        "        print('The matrix is not empty')\n",
        "    iden = np.identity(mat.shape[0])\n",
        "    if(sq and (iden == mat).all()):\n",
        "        print('The matrix is an identity matrix')\n",
        "    else:\n",
        "        print('The matrix is not an identity matrix')\n",
        "    one = np.ones((mat.shape[0], mat.shape[1]))\n",
        "    if((one == mat).all()):\n",
        "        print('The matrix is a ones matrix')\n",
        "    else:\n",
        "        print('The matrix is not an ones matrix')\n",
        "    zero = np.zeros((mat.shape[0], mat.shape[1]))\n",
        "    if((zero == mat).all()):\n",
        "        print('The matrix is a zeros matrix')\n",
        "    else:\n",
        "        print('The matrix is not a zeros matrix')"
      ],
      "metadata": {
        "id": "vv8QbK7Gpqp9"
      },
      "execution_count": 72,
      "outputs": []
    },
    {
      "cell_type": "code",
      "source": [
        "## Sample Matrices\n",
        "print('Matrix 1:')\n",
        "mat_desc([[0,0,0,0], [0, 0, 0,0], [0,0,0,0]])\n",
        "print('Matrix 2:')\n",
        "mat_desc([[4, 3, 0, 1], [2, 6, 2,5], [7, 1, 2, 8]])\n",
        "print('Matrix 3:')\n",
        "mat_desc([[2, 0, 6, 7], [2, 9, 4, 1], [7, 6, 9, 4]])\n",
        "print('Matrix 4:')\n",
        "mat_desc([[1,1,1],[1,1,1],[1,1,1],[1,1,1], [1,1,1]])\n",
        "print('Matrix 5:')\n",
        "mat_desc([[2,4,5,0],[2,5,1,0],[3,9,6,2],[4,5,1,0],[1,9,1,5]])"
      ],
      "metadata": {
        "colab": {
          "base_uri": "https://localhost:8080/"
        },
        "id": "ltV55wp_pxX9",
        "outputId": "80acf24c-b5f0-41f8-bdaf-cbc95e9d9410"
      },
      "execution_count": 76,
      "outputs": [
        {
          "output_type": "stream",
          "name": "stdout",
          "text": [
            "Matrix 1:\n",
            "[[0 0 0 0]\n",
            " [0 0 0 0]\n",
            " [0 0 0 0]]\n",
            "Shape: (3, 4)\n",
            "Size: 12\n",
            "Rank: 0\n",
            "The matrix is non-square\n",
            "The matrix is not empty\n",
            "The matrix is not an identity matrix\n",
            "The matrix is not an ones matrix\n",
            "The matrix is a zeros matrix\n",
            "Matrix 2:\n",
            "[[4 3 0 1]\n",
            " [2 6 2 5]\n",
            " [7 1 2 8]]\n",
            "Shape: (3, 4)\n",
            "Size: 12\n",
            "Rank: 3\n",
            "The matrix is non-square\n",
            "The matrix is not empty\n",
            "The matrix is not an identity matrix\n",
            "The matrix is not an ones matrix\n",
            "The matrix is not a zeros matrix\n",
            "Matrix 3:\n",
            "[[2 0 6 7]\n",
            " [2 9 4 1]\n",
            " [7 6 9 4]]\n",
            "Shape: (3, 4)\n",
            "Size: 12\n",
            "Rank: 3\n",
            "The matrix is non-square\n",
            "The matrix is not empty\n",
            "The matrix is not an identity matrix\n",
            "The matrix is not an ones matrix\n",
            "The matrix is not a zeros matrix\n",
            "Matrix 4:\n",
            "[[1 1 1]\n",
            " [1 1 1]\n",
            " [1 1 1]\n",
            " [1 1 1]\n",
            " [1 1 1]]\n",
            "Shape: (5, 3)\n",
            "Size: 15\n",
            "Rank: 1\n",
            "The matrix is non-square\n",
            "The matrix is not empty\n",
            "The matrix is not an identity matrix\n",
            "The matrix is a ones matrix\n",
            "The matrix is not a zeros matrix\n",
            "Matrix 5:\n",
            "[[2 4 5 0]\n",
            " [2 5 1 0]\n",
            " [3 9 6 2]\n",
            " [4 5 1 0]\n",
            " [1 9 1 5]]\n",
            "Shape: (5, 4)\n",
            "Size: 20\n",
            "Rank: 4\n",
            "The matrix is non-square\n",
            "The matrix is not empty\n",
            "The matrix is not an identity matrix\n",
            "The matrix is not an ones matrix\n",
            "The matrix is not a zeros matrix\n"
          ]
        }
      ]
    },
    {
      "cell_type": "markdown",
      "source": [
        "### Task 2"
      ],
      "metadata": {
        "id": "uIhdu9zCqXXn"
      }
    },
    {
      "cell_type": "markdown",
      "source": [
        "Create a function named mat_operations() that takes in two matrices a input parameters it should:\n",
        "\n",
        "Determines if the matrices are viable for operation and returns your own error message if they are not viable. Returns the sum of the matrices. Returns the differen of the matrices. Returns the element-wise multiplication of the matrices. Returns the element-wise division of the matrices. Use 5 sample matrices in which their shapes are not lower than (3,3) . In your methodology, create a flowchart discuss the functions and methods you have done. Present your results in the results section showing the description of each matrix you have declared."
      ],
      "metadata": {
        "id": "Fbg-U0Gzqasa"
      }
    },
    {
      "cell_type": "code",
      "source": [
        "## Function Area\n",
        "import numpy as np"
      ],
      "metadata": {
        "id": "NSzK-pEPqiWJ"
      },
      "execution_count": 77,
      "outputs": []
    },
    {
      "cell_type": "code",
      "source": [
        "def mat_operations(mat1, mat2):\n",
        "    mat1 = np.array(mat1)\n",
        "    mat2 = np.array(mat2)\n",
        "    print('Matrix 1:', mat1)\n",
        "    print('Matrix 2:', mat2)\n",
        "    if(mat1.shape != mat2.shape):\n",
        "        print('The matrices are not equal and invalid size operation.')\n",
        "        return\n",
        "    print('Sum of the  matrices:')\n",
        "    matsum = mat1 + mat2\n",
        "    print(matsum)\n",
        "    print('Difference of the  matrices:')\n",
        "    matdiff = mat1 - mat2\n",
        "    print(matdiff)\n",
        "    print('Element-wise multiplication of the  matrices:')\n",
        "    matmul = np.multiply(mat1, mat2)\n",
        "    print(matmul)\n",
        "    print('Element-wise division of the  matrices:')\n",
        "    matdiv = np.divide(mat1, mat2)\n",
        "    print(matdiv)"
      ],
      "metadata": {
        "id": "OxJAJMMoqnwN"
      },
      "execution_count": 78,
      "outputs": []
    },
    {
      "cell_type": "code",
      "source": [
        "print('sample1:')\n",
        "mat_operations([[1,4,1], [6,2,8], [2,1,7]],[[2,1,5], [2,7,4],[3,5,6]])\n",
        "\n",
        "print('sample 2:')\n",
        "mat_operations([[2, 3, 1,4], [1,1,7,5], [4,1,4,7]], [[2,6,4,6],[3,5,1,9],[9,2,2,2]])\n",
        "\n",
        "print('sample 3:')\n",
        "mat_operations([[2, 5, 2], [3,7,3], [6,0,5]], [[9,3,2],[3,9,5],[2,1,2]])\n",
        "\n",
        "print('sample 4:')\n",
        "mat_operations([[2,2,6,8,2], [3,6,3,7,8], [6,1,5,9,2]], [[5,4,2,7,7],[3,4,6,8,9],[3,2,3,6,2]])\n",
        "\n",
        "print('sample 5:')\n",
        "mat_operations([[6,2,1,8,2,5], [3,6,3,7,8,8], [6,1,5,9,2,2]], [[5,4,2,7,7,8],[3,4,6,8,9,2],[3,2,3,6,2,1]])"
      ],
      "metadata": {
        "colab": {
          "base_uri": "https://localhost:8080/"
        },
        "id": "OYikAW-BqqaB",
        "outputId": "90a6ff3a-7d4e-4be4-fd52-2c83c68d3ee1"
      },
      "execution_count": 80,
      "outputs": [
        {
          "output_type": "stream",
          "name": "stdout",
          "text": [
            "sample1:\n",
            "Matrix 1: [[1 4 1]\n",
            " [6 2 8]\n",
            " [2 1 7]]\n",
            "Matrix 2: [[2 1 5]\n",
            " [2 7 4]\n",
            " [3 5 6]]\n",
            "Sum of the  matrices:\n",
            "[[ 3  5  6]\n",
            " [ 8  9 12]\n",
            " [ 5  6 13]]\n",
            "Difference of the  matrices:\n",
            "[[-1  3 -4]\n",
            " [ 4 -5  4]\n",
            " [-1 -4  1]]\n",
            "Element-wise multiplication of the  matrices:\n",
            "[[ 2  4  5]\n",
            " [12 14 32]\n",
            " [ 6  5 42]]\n",
            "Element-wise division of the  matrices:\n",
            "[[0.5        4.         0.2       ]\n",
            " [3.         0.28571429 2.        ]\n",
            " [0.66666667 0.2        1.16666667]]\n",
            "sample 2:\n",
            "Matrix 1: [[2 3 1 4]\n",
            " [1 1 7 5]\n",
            " [4 1 4 7]]\n",
            "Matrix 2: [[2 6 4 6]\n",
            " [3 5 1 9]\n",
            " [9 2 2 2]]\n",
            "Sum of the  matrices:\n",
            "[[ 4  9  5 10]\n",
            " [ 4  6  8 14]\n",
            " [13  3  6  9]]\n",
            "Difference of the  matrices:\n",
            "[[ 0 -3 -3 -2]\n",
            " [-2 -4  6 -4]\n",
            " [-5 -1  2  5]]\n",
            "Element-wise multiplication of the  matrices:\n",
            "[[ 4 18  4 24]\n",
            " [ 3  5  7 45]\n",
            " [36  2  8 14]]\n",
            "Element-wise division of the  matrices:\n",
            "[[1.         0.5        0.25       0.66666667]\n",
            " [0.33333333 0.2        7.         0.55555556]\n",
            " [0.44444444 0.5        2.         3.5       ]]\n",
            "sample 3:\n",
            "Matrix 1: [[2 5 2]\n",
            " [3 7 3]\n",
            " [6 0 5]]\n",
            "Matrix 2: [[9 3 2]\n",
            " [3 9 5]\n",
            " [2 1 2]]\n",
            "Sum of the  matrices:\n",
            "[[11  8  4]\n",
            " [ 6 16  8]\n",
            " [ 8  1  7]]\n",
            "Difference of the  matrices:\n",
            "[[-7  2  0]\n",
            " [ 0 -2 -2]\n",
            " [ 4 -1  3]]\n",
            "Element-wise multiplication of the  matrices:\n",
            "[[18 15  4]\n",
            " [ 9 63 15]\n",
            " [12  0 10]]\n",
            "Element-wise division of the  matrices:\n",
            "[[0.22222222 1.66666667 1.        ]\n",
            " [1.         0.77777778 0.6       ]\n",
            " [3.         0.         2.5       ]]\n",
            "sample 4:\n",
            "Matrix 1: [[2 2 6 8 2]\n",
            " [3 6 3 7 8]\n",
            " [6 1 5 9 2]]\n",
            "Matrix 2: [[5 4 2 7 7]\n",
            " [3 4 6 8 9]\n",
            " [3 2 3 6 2]]\n",
            "Sum of the  matrices:\n",
            "[[ 7  6  8 15  9]\n",
            " [ 6 10  9 15 17]\n",
            " [ 9  3  8 15  4]]\n",
            "Difference of the  matrices:\n",
            "[[-3 -2  4  1 -5]\n",
            " [ 0  2 -3 -1 -1]\n",
            " [ 3 -1  2  3  0]]\n",
            "Element-wise multiplication of the  matrices:\n",
            "[[10  8 12 56 14]\n",
            " [ 9 24 18 56 72]\n",
            " [18  2 15 54  4]]\n",
            "Element-wise division of the  matrices:\n",
            "[[0.4        0.5        3.         1.14285714 0.28571429]\n",
            " [1.         1.5        0.5        0.875      0.88888889]\n",
            " [2.         0.5        1.66666667 1.5        1.        ]]\n",
            "sample 5:\n",
            "Matrix 1: [[6 2 1 8 2 5]\n",
            " [3 6 3 7 8 8]\n",
            " [6 1 5 9 2 2]]\n",
            "Matrix 2: [[5 4 2 7 7 8]\n",
            " [3 4 6 8 9 2]\n",
            " [3 2 3 6 2 1]]\n",
            "Sum of the  matrices:\n",
            "[[11  6  3 15  9 13]\n",
            " [ 6 10  9 15 17 10]\n",
            " [ 9  3  8 15  4  3]]\n",
            "Difference of the  matrices:\n",
            "[[ 1 -2 -1  1 -5 -3]\n",
            " [ 0  2 -3 -1 -1  6]\n",
            " [ 3 -1  2  3  0  1]]\n",
            "Element-wise multiplication of the  matrices:\n",
            "[[30  8  2 56 14 40]\n",
            " [ 9 24 18 56 72 16]\n",
            " [18  2 15 54  4  2]]\n",
            "Element-wise division of the  matrices:\n",
            "[[1.2        0.5        0.5        1.14285714 0.28571429 0.625     ]\n",
            " [1.         1.5        0.5        0.875      0.88888889 4.        ]\n",
            " [2.         0.5        1.66666667 1.5        1.         2.        ]]\n"
          ]
        }
      ]
    },
    {
      "cell_type": "markdown",
      "source": [
        "## Conclusion"
      ],
      "metadata": {
        "id": "JYFkCv9hsM_X"
      }
    },
    {
      "cell_type": "markdown",
      "source": [
        "The programmers have learned various ways of encoding matrices and have a good understanding of the definitions and types of matrices that can be used more easily than using handwritten algebraic expressions to further utilize the technology using computers and Google Colab. Moreover, this activity proves that matrices are used for shortcuts in Differential equations and a basic concept to use for the upcoming Chemical Engineers in creating prototypes for analysis specifically in the industry. Furthermore, the use of Matrix Algebra might be convenient for using different equations and for presentations for planning. In addition to that, the programmers have learnt numerous methods of encoding matrices and have a thorough understanding of the definitions and types of matrices that may be used more easily than handwritten algebraic expressions in order to take advantage of the technology available through computers and Google Colab."
      ],
      "metadata": {
        "id": "BiYfxfeIsRTb"
      }
    }
  ],
  "metadata": {
    "colab": {
      "name": "Assignment3_Gangoso",
      "provenance": [],
      "authorship_tag": "ABX9TyPtYEB38vUcc8sDfJaxiiEm",
      "include_colab_link": true
    },
    "kernelspec": {
      "display_name": "Python 3",
      "name": "python3"
    },
    "language_info": {
      "name": "python"
    }
  },
  "nbformat": 4,
  "nbformat_minor": 0
}