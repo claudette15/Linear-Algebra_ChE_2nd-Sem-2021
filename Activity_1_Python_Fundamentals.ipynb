{
  "nbformat": 4,
  "nbformat_minor": 0,
  "metadata": {
    "colab": {
      "name": "Activity 1 - Python Fundamentals",
      "provenance": [],
      "authorship_tag": "ABX9TyMs1pNJ/eAzoeqwmaZj1+j2",
      "include_colab_link": true
    },
    "kernelspec": {
      "name": "python3",
      "display_name": "Python 3"
    },
    "language_info": {
      "name": "python"
    },
    "accelerator": "GPU"
  },
  "cells": [
    {
      "cell_type": "markdown",
      "metadata": {
        "id": "view-in-github",
        "colab_type": "text"
      },
      "source": [
        "<a href=\"https://colab.research.google.com/github/claudette15/Linear-Algebra_ChE_2nd-Sem-2021/blob/main/Activity_1_Python_Fundamentals.ipynb\" target=\"_parent\"><img src=\"https://colab.research.google.com/assets/colab-badge.svg\" alt=\"Open In Colab\"/></a>"
      ]
    },
    {
      "cell_type": "code",
      "source": [
        ""
      ],
      "metadata": {
        "id": "Wa2y1aMdvO2b"
      },
      "execution_count": null,
      "outputs": []
    },
    {
      "cell_type": "markdown",
      "source": [
        "Hello world!"
      ],
      "metadata": {
        "id": "ym8DxZ2Qvmdq"
      }
    },
    {
      "cell_type": "markdown",
      "source": [
        "# Welcome to Python Fundamentals\n",
        "In this module, we are going to establish or review our skills in Python programming. In this notebook we are going to cover:\n",
        "\n",
        "\n",
        "*   Variables and Data Types\n",
        "*   Operations\n",
        "*   Input and Output Operations\n",
        "*   Logic Control\n",
        "*   Iterables\n",
        "*   Functions\n",
        "\n",
        "\n",
        "\n",
        "\n",
        "\n",
        "\n"
      ],
      "metadata": {
        "id": "FDSdYstoxZ_v"
      }
    },
    {
      "cell_type": "markdown",
      "source": [
        "## Variable and Data Types"
      ],
      "metadata": {
        "id": "LGUDwF7wztcg"
      }
    },
    {
      "cell_type": "code",
      "source": [
        "x = 3\n",
        "a,b = 0, -3\n",
        "x"
      ],
      "metadata": {
        "id": "I925yH0b0Nzv",
        "colab": {
          "base_uri": "https://localhost:8080/"
        },
        "outputId": "a352a1d9-fabe-485c-a4fd-01d017f1ef5c"
      },
      "execution_count": 1,
      "outputs": [
        {
          "output_type": "execute_result",
          "data": {
            "text/plain": [
              "3"
            ]
          },
          "metadata": {},
          "execution_count": 1
        }
      ]
    },
    {
      "cell_type": "code",
      "source": [
        "type(x)"
      ],
      "metadata": {
        "id": "ScBbPiwa15wC",
        "colab": {
          "base_uri": "https://localhost:8080/"
        },
        "outputId": "ff43bb74-4661-4e38-f27c-edba2ca464b6"
      },
      "execution_count": 2,
      "outputs": [
        {
          "output_type": "execute_result",
          "data": {
            "text/plain": [
              "int"
            ]
          },
          "metadata": {},
          "execution_count": 2
        }
      ]
    },
    {
      "cell_type": "code",
      "source": [
        "y = 2.0\n",
        "type(y)"
      ],
      "metadata": {
        "id": "k0Sb_Mud2ziW",
        "colab": {
          "base_uri": "https://localhost:8080/"
        },
        "outputId": "0fb118d0-2a92-48ae-979e-05a6e87d0d06"
      },
      "execution_count": 3,
      "outputs": [
        {
          "output_type": "execute_result",
          "data": {
            "text/plain": [
              "float"
            ]
          },
          "metadata": {},
          "execution_count": 3
        }
      ]
    },
    {
      "cell_type": "code",
      "source": [
        "x = float(x)\n",
        "type(x)"
      ],
      "metadata": {
        "id": "chY4VHVD3UD9",
        "colab": {
          "base_uri": "https://localhost:8080/"
        },
        "outputId": "7f1a8723-80cd-4550-e2d3-f11baef1f4ce"
      },
      "execution_count": 4,
      "outputs": [
        {
          "output_type": "execute_result",
          "data": {
            "text/plain": [
              "float"
            ]
          },
          "metadata": {},
          "execution_count": 4
        }
      ]
    },
    {
      "cell_type": "code",
      "source": [
        "s,t,u = \"8\", '4', 'four'\n",
        "type(u)"
      ],
      "metadata": {
        "colab": {
          "base_uri": "https://localhost:8080/"
        },
        "id": "p1XOLW0h378y",
        "outputId": "6a0ad811-560b-428f-dcfe-5ae0ba235ac7"
      },
      "execution_count": 5,
      "outputs": [
        {
          "output_type": "execute_result",
          "data": {
            "text/plain": [
              "str"
            ]
          },
          "metadata": {},
          "execution_count": 5
        }
      ]
    },
    {
      "cell_type": "code",
      "source": [
        "s_int = int(s)\n",
        "s_int "
      ],
      "metadata": {
        "colab": {
          "base_uri": "https://localhost:8080/"
        },
        "id": "rNkz7Fxc475N",
        "outputId": "aef42de7-659a-4442-8a13-e5ef9de0c9ae"
      },
      "execution_count": 6,
      "outputs": [
        {
          "output_type": "execute_result",
          "data": {
            "text/plain": [
              "8"
            ]
          },
          "metadata": {},
          "execution_count": 6
        }
      ]
    },
    {
      "cell_type": "markdown",
      "source": [
        "## Operation"
      ],
      "metadata": {
        "id": "7NURp1-n5w49"
      }
    },
    {
      "cell_type": "markdown",
      "source": [
        "### Arithmetic"
      ],
      "metadata": {
        "id": "Ji5UikjL524S"
      }
    },
    {
      "cell_type": "code",
      "source": [
        "m,a,r,k = 4.0, -1.0, 5.0, -15"
      ],
      "metadata": {
        "id": "Xf7DtKB36fHt"
      },
      "execution_count": 7,
      "outputs": []
    },
    {
      "cell_type": "code",
      "source": [
        "# Addition\n",
        "S = m+a\n",
        "S"
      ],
      "metadata": {
        "id": "sLTU7O2W6vMm",
        "colab": {
          "base_uri": "https://localhost:8080/"
        },
        "outputId": "f830e1a7-9d99-40e7-e985-1eb27fab1706"
      },
      "execution_count": 8,
      "outputs": [
        {
          "output_type": "execute_result",
          "data": {
            "text/plain": [
              "3.0"
            ]
          },
          "metadata": {},
          "execution_count": 8
        }
      ]
    },
    {
      "cell_type": "code",
      "source": [
        "# Subtraction\n",
        "D = r-k\n",
        "D"
      ],
      "metadata": {
        "id": "TiQdGVX192h2",
        "colab": {
          "base_uri": "https://localhost:8080/"
        },
        "outputId": "688ad5c0-0daa-41b1-8086-790bc1a77380"
      },
      "execution_count": 9,
      "outputs": [
        {
          "output_type": "execute_result",
          "data": {
            "text/plain": [
              "20.0"
            ]
          },
          "metadata": {},
          "execution_count": 9
        }
      ]
    },
    {
      "cell_type": "code",
      "source": [
        "# Multiplication\n",
        "P = m*k\n",
        "P"
      ],
      "metadata": {
        "id": "jAfUx-wu-O0U",
        "colab": {
          "base_uri": "https://localhost:8080/"
        },
        "outputId": "457346f7-df3b-4aad-f0a6-6bd876556d1e"
      },
      "execution_count": 10,
      "outputs": [
        {
          "output_type": "execute_result",
          "data": {
            "text/plain": [
              "-60.0"
            ]
          },
          "metadata": {},
          "execution_count": 10
        }
      ]
    },
    {
      "cell_type": "code",
      "source": [
        "# Division\n",
        "Q = r/m\n",
        "Q"
      ],
      "metadata": {
        "colab": {
          "base_uri": "https://localhost:8080/"
        },
        "id": "_JFrKj4i-zM2",
        "outputId": "ea199398-a1e4-4a02-f0d2-1c14cc95fa8c"
      },
      "execution_count": null,
      "outputs": [
        {
          "output_type": "execute_result",
          "data": {
            "text/plain": [
              "1.25"
            ]
          },
          "metadata": {},
          "execution_count": 11
        }
      ]
    },
    {
      "cell_type": "code",
      "source": [
        "### Floor Division\n",
        "Fq = m//a\n",
        "Fq"
      ],
      "metadata": {
        "colab": {
          "base_uri": "https://localhost:8080/"
        },
        "id": "SSOXbfqP_Et6",
        "outputId": "42248a24-8210-4990-a84b-9302840354f7"
      },
      "execution_count": null,
      "outputs": [
        {
          "output_type": "execute_result",
          "data": {
            "text/plain": [
              "-4.0"
            ]
          },
          "metadata": {},
          "execution_count": 12
        }
      ]
    },
    {
      "cell_type": "code",
      "source": [
        "### Exponentiation\n",
        "t = m**a\n",
        "t"
      ],
      "metadata": {
        "colab": {
          "base_uri": "https://localhost:8080/"
        },
        "id": "8vHXb9SGA65a",
        "outputId": "6f15e8f3-eff8-4183-d921-2a876d6d1028"
      },
      "execution_count": null,
      "outputs": [
        {
          "output_type": "execute_result",
          "data": {
            "text/plain": [
              "0.25"
            ]
          },
          "metadata": {},
          "execution_count": 13
        }
      ]
    },
    {
      "cell_type": "code",
      "source": [
        "### Modulo\n",
        "mod = m%a\n",
        "mod"
      ],
      "metadata": {
        "colab": {
          "base_uri": "https://localhost:8080/"
        },
        "id": "_Zlxu72UBjPb",
        "outputId": "f044e54c-46e1-4ec5-9c4a-92eb241c9981"
      },
      "execution_count": null,
      "outputs": [
        {
          "output_type": "execute_result",
          "data": {
            "text/plain": [
              "-0.0"
            ]
          },
          "metadata": {},
          "execution_count": 14
        }
      ]
    },
    {
      "cell_type": "markdown",
      "source": [
        "### Assignment Operations"
      ],
      "metadata": {
        "id": "PvP9iRlUDtPj"
      }
    },
    {
      "cell_type": "code",
      "source": [
        "L, U, N, A = 0, 31, 9, 9"
      ],
      "metadata": {
        "id": "cHJ1aAs5D4Gd"
      },
      "execution_count": 11,
      "outputs": []
    },
    {
      "cell_type": "code",
      "source": [
        "L += r\n",
        "L"
      ],
      "metadata": {
        "colab": {
          "base_uri": "https://localhost:8080/"
        },
        "id": "1yVFLne9E94u",
        "outputId": "52aac5f8-80bf-42b8-c33d-530328065ff4"
      },
      "execution_count": 12,
      "outputs": [
        {
          "output_type": "execute_result",
          "data": {
            "text/plain": [
              "5.0"
            ]
          },
          "metadata": {},
          "execution_count": 12
        }
      ]
    },
    {
      "cell_type": "code",
      "source": [
        "U -= m\n",
        "U"
      ],
      "metadata": {
        "colab": {
          "base_uri": "https://localhost:8080/"
        },
        "id": "X7SL5xSbJWcH",
        "outputId": "279b7ee8-d460-4968-d993-4f6f5657ff1a"
      },
      "execution_count": 13,
      "outputs": [
        {
          "output_type": "execute_result",
          "data": {
            "text/plain": [
              "27.0"
            ]
          },
          "metadata": {},
          "execution_count": 13
        }
      ]
    },
    {
      "cell_type": "code",
      "source": [
        "N *= 1\n",
        "N"
      ],
      "metadata": {
        "colab": {
          "base_uri": "https://localhost:8080/"
        },
        "id": "20asSFtlL1PA",
        "outputId": "c09186ed-c788-4279-a7eb-bcd6e39bdb58"
      },
      "execution_count": 14,
      "outputs": [
        {
          "output_type": "execute_result",
          "data": {
            "text/plain": [
              "9"
            ]
          },
          "metadata": {},
          "execution_count": 14
        }
      ]
    },
    {
      "cell_type": "code",
      "source": [
        "A **= 4\n",
        "A"
      ],
      "metadata": {
        "colab": {
          "base_uri": "https://localhost:8080/"
        },
        "id": "J4MLizeBL8jp",
        "outputId": "e8b4f102-3ede-4fe1-9a35-f79e5e8fcabf"
      },
      "execution_count": 15,
      "outputs": [
        {
          "output_type": "execute_result",
          "data": {
            "text/plain": [
              "6561"
            ]
          },
          "metadata": {},
          "execution_count": 15
        }
      ]
    },
    {
      "cell_type": "markdown",
      "source": [
        "### Comparators"
      ],
      "metadata": {
        "id": "ACW6pY0hMV19"
      }
    },
    {
      "cell_type": "code",
      "source": [
        "res_1, res_2, res_3 = 3, 4.0, \"9\"\n",
        "true_val = 2.0"
      ],
      "metadata": {
        "id": "LvV0QTcqMyuG"
      },
      "execution_count": 16,
      "outputs": []
    },
    {
      "cell_type": "code",
      "source": [
        "## Equality\n",
        "res_1 == true_val"
      ],
      "metadata": {
        "colab": {
          "base_uri": "https://localhost:8080/"
        },
        "id": "9U4QRMzANQJU",
        "outputId": "a2aff59c-b9a6-4f34-e46c-f3c6688fc01c"
      },
      "execution_count": 17,
      "outputs": [
        {
          "output_type": "execute_result",
          "data": {
            "text/plain": [
              "False"
            ]
          },
          "metadata": {},
          "execution_count": 17
        }
      ]
    },
    {
      "cell_type": "code",
      "source": [
        "## Non-equality\n",
        "res_2 != true_val"
      ],
      "metadata": {
        "colab": {
          "base_uri": "https://localhost:8080/"
        },
        "id": "1FQaV4AxNfey",
        "outputId": "ee4ad599-ef05-4b4f-dae1-ef77b2a768a3"
      },
      "execution_count": 18,
      "outputs": [
        {
          "output_type": "execute_result",
          "data": {
            "text/plain": [
              "True"
            ]
          },
          "metadata": {},
          "execution_count": 18
        }
      ]
    },
    {
      "cell_type": "code",
      "source": [
        "## Inequality\n",
        "t1 = res_1 > res_2\n",
        "t2 = res_1 < res_2/2\n",
        "t3 = res_1 >= res_2/2\n",
        "t4 = res_1 <= res_2\n",
        "t2"
      ],
      "metadata": {
        "colab": {
          "base_uri": "https://localhost:8080/"
        },
        "id": "eEY1xVjMOLmr",
        "outputId": "a07b16e9-4561-42d3-852f-cda1cc22eb4b"
      },
      "execution_count": 19,
      "outputs": [
        {
          "output_type": "execute_result",
          "data": {
            "text/plain": [
              "False"
            ]
          },
          "metadata": {},
          "execution_count": 19
        }
      ]
    },
    {
      "cell_type": "markdown",
      "source": [
        "### Logical"
      ],
      "metadata": {
        "id": "aZn94fWPPmvr"
      }
    },
    {
      "cell_type": "code",
      "source": [
        "res_1 == true_val"
      ],
      "metadata": {
        "colab": {
          "base_uri": "https://localhost:8080/"
        },
        "id": "B-FvoeHgPsDm",
        "outputId": "44a15df3-eb4e-4020-a330-8fe8f4052414"
      },
      "execution_count": 34,
      "outputs": [
        {
          "output_type": "execute_result",
          "data": {
            "text/plain": [
              "False"
            ]
          },
          "metadata": {},
          "execution_count": 34
        }
      ]
    },
    {
      "cell_type": "code",
      "source": [
        "res_1 is true_val"
      ],
      "metadata": {
        "colab": {
          "base_uri": "https://localhost:8080/"
        },
        "id": "cZrRVCmeQCYB",
        "outputId": "c5c3d5ef-a0e0-4334-e2b8-99464e01020c"
      },
      "execution_count": 28,
      "outputs": [
        {
          "output_type": "execute_result",
          "data": {
            "text/plain": [
              "False"
            ]
          },
          "metadata": {},
          "execution_count": 28
        }
      ]
    },
    {
      "cell_type": "code",
      "source": [
        "res_1 is not true_val"
      ],
      "metadata": {
        "colab": {
          "base_uri": "https://localhost:8080/"
        },
        "id": "kQKI2xocQK1W",
        "outputId": "341d5656-4463-4cf6-e6ed-5c6149a7534c"
      },
      "execution_count": 29,
      "outputs": [
        {
          "output_type": "execute_result",
          "data": {
            "text/plain": [
              "True"
            ]
          },
          "metadata": {},
          "execution_count": 29
        }
      ]
    },
    {
      "cell_type": "code",
      "source": [
        "r, i = True, True\n",
        "conj = r and i\n",
        "conj"
      ],
      "metadata": {
        "colab": {
          "base_uri": "https://localhost:8080/"
        },
        "id": "iqTdqmvTQPn6",
        "outputId": "ae2ba8d7-8c4a-4a88-cf2f-11c02aa94055"
      },
      "execution_count": 30,
      "outputs": [
        {
          "output_type": "execute_result",
          "data": {
            "text/plain": [
              "True"
            ]
          },
          "metadata": {},
          "execution_count": 30
        }
      ]
    },
    {
      "cell_type": "code",
      "source": [
        "r, i = True, False\n",
        "disj = r or i\n",
        "disj\n"
      ],
      "metadata": {
        "colab": {
          "base_uri": "https://localhost:8080/"
        },
        "id": "1nK0nZVPRtUq",
        "outputId": "611a8265-a1bc-43b6-f59f-0115af7c1f53"
      },
      "execution_count": 31,
      "outputs": [
        {
          "output_type": "execute_result",
          "data": {
            "text/plain": [
              "True"
            ]
          },
          "metadata": {},
          "execution_count": 31
        }
      ]
    },
    {
      "cell_type": "code",
      "source": [
        "r, i = True, False\n",
        "nand = not (r and i)\n",
        "nand"
      ],
      "metadata": {
        "colab": {
          "base_uri": "https://localhost:8080/"
        },
        "id": "xQfiAdg7SbX6",
        "outputId": "ca4b4640-1291-4af9-e156-ecaba93a1803"
      },
      "execution_count": 32,
      "outputs": [
        {
          "output_type": "execute_result",
          "data": {
            "text/plain": [
              "True"
            ]
          },
          "metadata": {},
          "execution_count": 32
        }
      ]
    },
    {
      "cell_type": "code",
      "source": [
        "r, i = True, False\n",
        "xor = (not r and i) or (r and not i)\n",
        "xor"
      ],
      "metadata": {
        "colab": {
          "base_uri": "https://localhost:8080/"
        },
        "id": "0T1kZXIkSleH",
        "outputId": "f0253fbf-9da7-4bc6-8714-f2d67eb72d2f"
      },
      "execution_count": 33,
      "outputs": [
        {
          "output_type": "execute_result",
          "data": {
            "text/plain": [
              "True"
            ]
          },
          "metadata": {},
          "execution_count": 33
        }
      ]
    },
    {
      "cell_type": "markdown",
      "source": [
        "### I/O"
      ],
      "metadata": {
        "id": "IwB8Vjj2UO8V"
      }
    },
    {
      "cell_type": "code",
      "source": [
        "print (\"Hello Pilipens\")"
      ],
      "metadata": {
        "colab": {
          "base_uri": "https://localhost:8080/"
        },
        "id": "Q6mJi7QVUS_e",
        "outputId": "60c9953d-e0a9-4fc5-88d3-256b6f29e921"
      },
      "execution_count": 35,
      "outputs": [
        {
          "output_type": "stream",
          "name": "stdout",
          "text": [
            "Hello Pilipens\n"
          ]
        }
      ]
    },
    {
      "cell_type": "code",
      "source": [
        "cnt = 2"
      ],
      "metadata": {
        "id": "oplWN6A3Uyc4"
      },
      "execution_count": 36,
      "outputs": []
    },
    {
      "cell_type": "code",
      "source": [
        "string = \"Hello Pilipens\"\n",
        "print(string, \", Current run count is:\", cnt)\n",
        "cnt += 2"
      ],
      "metadata": {
        "colab": {
          "base_uri": "https://localhost:8080/"
        },
        "id": "QMkEfDKuVCGJ",
        "outputId": "360e12be-de3f-4022-f53d-336fbd8eaa86"
      },
      "execution_count": 37,
      "outputs": [
        {
          "output_type": "stream",
          "name": "stdout",
          "text": [
            "Hello Pilipens , Current run count is: 2\n"
          ]
        }
      ]
    },
    {
      "cell_type": "code",
      "source": [
        "print(f\"{string} Current count is: {cnt}\")"
      ],
      "metadata": {
        "colab": {
          "base_uri": "https://localhost:8080/"
        },
        "id": "Qe0hrpfAW9mJ",
        "outputId": "7e3c5379-3d65-44a4-cc59-a9f28190599f"
      },
      "execution_count": 38,
      "outputs": [
        {
          "output_type": "stream",
          "name": "stdout",
          "text": [
            "Hello Pilipens Current count is: 4\n"
          ]
        }
      ]
    },
    {
      "cell_type": "code",
      "source": [
        "sem_grade = 1.0\n",
        "name = \"Rio Boy\"\n",
        "print(\"Hello {}, your semestral grade is: {}\".format(name, sem_grade))"
      ],
      "metadata": {
        "colab": {
          "base_uri": "https://localhost:8080/"
        },
        "id": "6Kenlr0-XwVd",
        "outputId": "b194eb4e-7036-46d7-d3b9-3021337fdba1"
      },
      "execution_count": 39,
      "outputs": [
        {
          "output_type": "stream",
          "name": "stdout",
          "text": [
            "Hello Rio Boy, your semestral grade is: 1.0\n"
          ]
        }
      ]
    },
    {
      "cell_type": "code",
      "source": [
        "w_pg, w_mg, w_fg = 0.3, 0.3, 0.4\n",
        "print(\"The weights of your semestral grades are:\\\n",
        "\\t\\n{:.2%} for Prelims\\\n",
        "\\n\\t{:.2%} for Midterms, and\\\n",
        "\\n\\t{:.2%} for Finals.\".format(w_pg, w_mg, w_fg))"
      ],
      "metadata": {
        "id": "YOrC9p_cb0Wa",
        "colab": {
          "base_uri": "https://localhost:8080/"
        },
        "outputId": "4f115776-82ec-44ea-a5fc-1e0b6df45f79"
      },
      "execution_count": 40,
      "outputs": [
        {
          "output_type": "stream",
          "name": "stdout",
          "text": [
            "The weights of your semestral grades are:\t\n",
            "30.00% for Prelims\n",
            "\t30.00% for Midterms, and\n",
            "\t40.00% for Finals.\n"
          ]
        }
      ]
    },
    {
      "cell_type": "code",
      "source": [
        "x = input(\"input your name: \")\n",
        "x"
      ],
      "metadata": {
        "colab": {
          "base_uri": "https://localhost:8080/",
          "height": 54
        },
        "id": "5yf1gLGIKiPz",
        "outputId": "46c6d93f-ccc4-48af-8cb4-0da5afeaa145"
      },
      "execution_count": 41,
      "outputs": [
        {
          "name": "stdout",
          "output_type": "stream",
          "text": [
            "input your name: Eli\n"
          ]
        },
        {
          "output_type": "execute_result",
          "data": {
            "application/vnd.google.colaboratory.intrinsic+json": {
              "type": "string"
            },
            "text/plain": [
              "'Eli'"
            ]
          },
          "metadata": {},
          "execution_count": 41
        }
      ]
    },
    {
      "cell_type": "code",
      "source": [
        "name = input(\"Kimi no nawa: \")\n",
        "pg = input(\"Enter prelim grade: \")\n",
        "mg = input(\"Enter midterm grade: \")\n",
        "fg = input(\"Enter finals grade: \")\n",
        "sem_grade = 85\n",
        "print(\"Hello {}, your semestral grade is: {}\".format(name, sem_grade))\n"
      ],
      "metadata": {
        "colab": {
          "base_uri": "https://localhost:8080/"
        },
        "id": "um9G0nVULn38",
        "outputId": "f4fecc1c-096e-4c6b-b9e8-25de62ea0815"
      },
      "execution_count": 42,
      "outputs": [
        {
          "output_type": "stream",
          "name": "stdout",
          "text": [
            "Kimi no nawa: Rio Boy\n",
            "Enter prelim grade: 85\n",
            "Enter midterm grade: 84\n",
            "Enter finals grade: 89\n",
            "Hello Rio Boy, your semestral grade is: 85\n"
          ]
        }
      ]
    },
    {
      "cell_type": "markdown",
      "source": [
        "# Looping Statements"
      ],
      "metadata": {
        "id": "kBtdjeuVN7Tk"
      }
    },
    {
      "cell_type": "markdown",
      "source": [
        "### While"
      ],
      "metadata": {
        "id": "bdhKfXcyODX7"
      }
    },
    {
      "cell_type": "code",
      "source": [
        "## while loops\n",
        "c, o = 1, 25\n",
        "while(c<=o):\n",
        "  print(f\"{c}\\t|\\t{o}\")\n",
        "  c+=1"
      ],
      "metadata": {
        "colab": {
          "base_uri": "https://localhost:8080/"
        },
        "id": "BOG743TrO8YX",
        "outputId": "0116e89e-7e96-4439-840e-3559e8357774"
      },
      "execution_count": 43,
      "outputs": [
        {
          "output_type": "stream",
          "name": "stdout",
          "text": [
            "1\t|\t25\n",
            "2\t|\t25\n",
            "3\t|\t25\n",
            "4\t|\t25\n",
            "5\t|\t25\n",
            "6\t|\t25\n",
            "7\t|\t25\n",
            "8\t|\t25\n",
            "9\t|\t25\n",
            "10\t|\t25\n",
            "11\t|\t25\n",
            "12\t|\t25\n",
            "13\t|\t25\n",
            "14\t|\t25\n",
            "15\t|\t25\n",
            "16\t|\t25\n",
            "17\t|\t25\n",
            "18\t|\t25\n",
            "19\t|\t25\n",
            "20\t|\t25\n",
            "21\t|\t25\n",
            "22\t|\t25\n",
            "23\t|\t25\n",
            "24\t|\t25\n",
            "25\t|\t25\n"
          ]
        }
      ]
    },
    {
      "cell_type": "markdown",
      "source": [
        "### For"
      ],
      "metadata": {
        "id": "nL8oHYO3QGMZ"
      }
    },
    {
      "cell_type": "code",
      "source": [
        "# for(int c=1; c<25; c++){\n",
        "    # print(c)\n",
        "#}\n",
        "\n",
        "c=1\n",
        "for c in range(25):\n",
        "  print(c)"
      ],
      "metadata": {
        "colab": {
          "base_uri": "https://localhost:8080/"
        },
        "id": "1HXbTcbUQ4pn",
        "outputId": "dececff2-04e5-4a99-e168-a22a4ccf2e4f"
      },
      "execution_count": 44,
      "outputs": [
        {
          "output_type": "stream",
          "name": "stdout",
          "text": [
            "0\n",
            "1\n",
            "2\n",
            "3\n",
            "4\n",
            "5\n",
            "6\n",
            "7\n",
            "8\n",
            "9\n",
            "10\n",
            "11\n",
            "12\n",
            "13\n",
            "14\n",
            "15\n",
            "16\n",
            "17\n",
            "18\n",
            "19\n",
            "20\n",
            "21\n",
            "22\n",
            "23\n",
            "24\n"
          ]
        }
      ]
    },
    {
      "cell_type": "code",
      "source": [
        "playlist = [\"Broke\", \"Mornin\"]\n",
        "print('Now Playing:\\n')\n",
        "for song in playlist:\n",
        "  print(song)"
      ],
      "metadata": {
        "colab": {
          "base_uri": "https://localhost:8080/"
        },
        "id": "2QRU8O6OSucT",
        "outputId": "97694e64-67ea-4f78-f1d9-b0b483a98b89"
      },
      "execution_count": 45,
      "outputs": [
        {
          "output_type": "stream",
          "name": "stdout",
          "text": [
            "Now Playing:\n",
            "\n",
            "Broke\n",
            "Mornin\n"
          ]
        }
      ]
    },
    {
      "cell_type": "markdown",
      "source": [
        "# Flow Control"
      ],
      "metadata": {
        "id": "mQ6JKe7WTXBF"
      }
    },
    {
      "cell_type": "markdown",
      "source": [
        "## Condition Statements"
      ],
      "metadata": {
        "id": "6BD6TNabTfPV"
      }
    },
    {
      "cell_type": "code",
      "source": [
        "numeral1, numeral2 = 9, 15\n",
        "if(numeral1 == numeral2):\n",
        "  print(\"Yey\")\n",
        "elif(numeral1>numeral2):\n",
        "    print(\"Hiho\")\n",
        "else:\n",
        "      print(\"Awit\")\n",
        "print(\"Materyal Ghorl\")"
      ],
      "metadata": {
        "colab": {
          "base_uri": "https://localhost:8080/"
        },
        "id": "DUz-K9t9T1CQ",
        "outputId": "5f870e27-13d2-464b-e05c-893ecc69688d"
      },
      "execution_count": 46,
      "outputs": [
        {
          "output_type": "stream",
          "name": "stdout",
          "text": [
            "Awit\n",
            "Materyal Ghorl\n"
          ]
        }
      ]
    },
    {
      "cell_type": "markdown",
      "source": [
        "# Functions"
      ],
      "metadata": {
        "id": "bg07eR-zU6n2"
      }
    },
    {
      "cell_type": "code",
      "source": [
        "# void DeleteUser(int userid){\n",
        "#   delete(userid);    \n",
        "#}\n",
        "\n",
        "def delete_user (userid):\n",
        "  print(\"Successfully deleted user: {}\".format(userid))\n",
        "\n",
        "def delete_all_users ():\n",
        "  print(\"Successfully deleted all users\")"
      ],
      "metadata": {
        "id": "m_HN5xxrVtx3"
      },
      "execution_count": 47,
      "outputs": []
    },
    {
      "cell_type": "code",
      "source": [
        "userid = 202013869\n",
        "delete_user(202013869)\n",
        "delete_all_users()"
      ],
      "metadata": {
        "colab": {
          "base_uri": "https://localhost:8080/"
        },
        "id": "VI2xSWDzY0mo",
        "outputId": "3dba2081-7be0-40f7-e745-395b77e412cf"
      },
      "execution_count": 48,
      "outputs": [
        {
          "output_type": "stream",
          "name": "stdout",
          "text": [
            "Successfully deleted user: 202013869\n",
            "Successfully deleted all users\n"
          ]
        }
      ]
    },
    {
      "cell_type": "code",
      "source": [
        "def add(addend1, addend2):\n",
        "  print(\"I hate Math addend1 and addend2\")\n",
        "  return addend1 + addend2\n",
        "  \n",
        "\n",
        "def power_of_base2(exponent):\n",
        "    return 2**exponent\n",
        "\n",
        "addend1 = 6\n",
        "addend2 = 21\n",
        "\n",
        "exponent = 7\n",
        "\n",
        "#add(addend1, addend2)\n",
        "power_of_base2(exponent)"
      ],
      "metadata": {
        "colab": {
          "base_uri": "https://localhost:8080/"
        },
        "id": "Bsx-s35_ZB2s",
        "outputId": "f67533da-3bd8-4355-93fb-bbff4d0f8bd8"
      },
      "execution_count": 49,
      "outputs": [
        {
          "output_type": "execute_result",
          "data": {
            "text/plain": [
              "128"
            ]
          },
          "metadata": {},
          "execution_count": 49
        }
      ]
    },
    {
      "cell_type": "code",
      "source": [
        "add(addend1, addend2)"
      ],
      "metadata": {
        "colab": {
          "base_uri": "https://localhost:8080/"
        },
        "id": "Q1kcxSy7czvg",
        "outputId": "caa00053-36aa-4d4f-c591-2e6a5b29d3a3"
      },
      "execution_count": 50,
      "outputs": [
        {
          "output_type": "stream",
          "name": "stdout",
          "text": [
            "I hate Math addend1 and addend2\n"
          ]
        },
        {
          "output_type": "execute_result",
          "data": {
            "text/plain": [
              "27"
            ]
          },
          "metadata": {},
          "execution_count": 50
        }
      ]
    },
    {
      "cell_type": "markdown",
      "source": [
        "# Activity Calculator"
      ],
      "metadata": {
        "id": "yhP_Xsk7G2mF"
      }
    },
    {
      "cell_type": "code",
      "source": [
        "name = input(\"Kimi no nawa: \")\n",
        "pg = input(\"Enter prelim grade: \")\n",
        "mg = input(\"Enter midterm grade: \")\n",
        "fg = input(\"Enter finals grade: \")\n",
        "sem_grade = 90\n",
        "print(\"Hello {}, your semestral grade is: {}\".format(name, sem_grade))"
      ],
      "metadata": {
        "colab": {
          "base_uri": "https://localhost:8080/"
        },
        "id": "Woa5M9FzG6Xq",
        "outputId": "6a36bfe8-49d3-42a5-cad6-797449544d2d"
      },
      "execution_count": 51,
      "outputs": [
        {
          "output_type": "stream",
          "name": "stdout",
          "text": [
            "Kimi no nawa: Claudette Elija C. Gangoso\n",
            "Enter prelim grade: 89\n",
            "Enter midterm grade: 85\n",
            "Enter finals grade: 87\n",
            "Hello Claudette Elija C. Gangoso, your semestral grade is: 90\n"
          ]
        }
      ]
    }
  ]
}