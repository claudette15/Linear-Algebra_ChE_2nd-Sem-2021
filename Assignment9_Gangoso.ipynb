{
  "nbformat": 4,
  "nbformat_minor": 0,
  "metadata": {
    "colab": {
      "name": "Assignment9_Gangoso",
      "provenance": [],
      "authorship_tag": "ABX9TyNnuD9NdMZ48+ywDSz3+jNu",
      "include_colab_link": true
    },
    "kernelspec": {
      "name": "python3",
      "display_name": "Python 3"
    },
    "language_info": {
      "name": "python"
    }
  },
  "cells": [
    {
      "cell_type": "markdown",
      "metadata": {
        "id": "view-in-github",
        "colab_type": "text"
      },
      "source": [
        "<a href=\"https://colab.research.google.com/github/claudette15/Linear-Algebra_ChE_2nd-Sem-2021/blob/main/Assignment9_Gangoso.ipynb\" target=\"_parent\"><img src=\"https://colab.research.google.com/assets/colab-badge.svg\" alt=\"Open In Colab\"/></a>"
      ]
    },
    {
      "cell_type": "markdown",
      "source": [
        "# Lab 9 - Plotting Vector using NumPy and MatPlotLib"
      ],
      "metadata": {
        "id": "GEKKmk2q-xKq"
      }
    },
    {
      "cell_type": "markdown",
      "source": [
        "In this laboratory we will be discussing the basics of numerical and scientific programming by working with Vectors using NumPy and MatPlotLib."
      ],
      "metadata": {
        "id": "c7y3SPeu-zxP"
      }
    },
    {
      "cell_type": "markdown",
      "source": [
        "### Objectives\n",
        "At the end of this activity you will be able to:\n",
        "1. Be familiar with the libraries in Python for numerical and scientific programming.\n",
        "2. Visualize vectors through Python programming.\n",
        "3. Perform simple vector operations through code."
      ],
      "metadata": {
        "id": "laiCtIaF-5me"
      }
    },
    {
      "cell_type": "markdown",
      "source": [
        "##Discussion"
      ],
      "metadata": {
        "id": "2xVsP8U1-9v7"
      }
    },
    {
      "cell_type": "markdown",
      "source": [
        "###NumPy"
      ],
      "metadata": {
        "id": "O0ssBW6o-_9T"
      }
    },
    {
      "cell_type": "markdown",
      "source": [
        "NumPy or Numerical Python, is mainly used for matrix and vector operations. It is capable of declaring computing and representing matrices. Most Python scientific programming libraries uses NumPy as the basic code.\n",
        "\n",
        "Scalars\n",
        "Represent magnitude or a single value\n",
        "\n",
        "Vectors\n",
        "Represent magnitude with directors\n",
        "\n"
      ],
      "metadata": {
        "id": "KFqrhDtb_C2A"
      }
    },
    {
      "cell_type": "markdown",
      "source": [
        "####Representing Vectors"
      ],
      "metadata": {
        "id": "Bf2KrIuk_HFh"
      }
    },
    {
      "cell_type": "markdown",
      "source": [
        "Now that you know how to represent vectors using their component and matrix form we can now hard-code them in Python. Let's say that you have the vectors:"
      ],
      "metadata": {
        "id": "oUPPlsa__J8v"
      }
    },
    {
      "cell_type": "markdown",
      "source": [
        "$$ A = 3\\hat{x} + 2\\hat{y} \\\\\n",
        "B = 1\\hat{x} - 4\\hat{y}\\\\\n",
        "C = 3ax + 2ay - 1az \\\\\n",
        "D = 1\\hat{i} - 1\\hat{j} + 2\\hat{k}$$"
      ],
      "metadata": {
        "id": "ZHD8Yh22_K0A"
      }
    },
    {
      "cell_type": "markdown",
      "source": [
        "In which it's matrix equivalent is:"
      ],
      "metadata": {
        "id": "4EDj8A8n_OZb"
      }
    },
    {
      "cell_type": "markdown",
      "source": [
        "$$ A = \\begin{bmatrix} 4 \\\\ 3\\end{bmatrix} , B = \\begin{bmatrix} 2 \\\\ -5\\end{bmatrix} , C = \\begin{bmatrix} 4 \\\\ 3 \\\\  -2 \\end{bmatrix}, D = \\begin{bmatrix} 2 \\\\ -2 \\\\ 3\\end{bmatrix}\n",
        "$$\n",
        "$$ A = \\begin{bmatrix} 4 & 3\\end{bmatrix} , B = \\begin{bmatrix} 2 & -5\\end{bmatrix} , C = \\begin{bmatrix} 4 & 3 & -2\\end{bmatrix} , D = \\begin{bmatrix} 2 & -2 & 3\\end{bmatrix} \n",
        "$$"
      ],
      "metadata": {
        "id": "n2JQNZCZ_Qoh"
      }
    },
    {
      "cell_type": "markdown",
      "source": [
        "We can then start doing numpy code with this by:"
      ],
      "metadata": {
        "id": "sKG-QuXg_Wt4"
      }
    },
    {
      "cell_type": "code",
      "source": [
        "## Importing necessary libraries\n",
        "import numpy as np ## 'np' here is short-hand name of the library (numpy) or a nickname."
      ],
      "metadata": {
        "id": "R0FxRssi_cBE"
      },
      "execution_count": 29,
      "outputs": []
    },
    {
      "cell_type": "code",
      "source": [
        "M = np.array([2, 1])\n",
        "A = np.array([3, -4])\n",
        "R = np.array([\n",
        "              [4],\n",
        "              [1],\n",
        "              [-2]\n",
        "])\n",
        "K = np.array ([[5],\n",
        "              [-8],\n",
        "              [1]])\n",
        "print('Vector M is ', M)\n",
        "print('Vector A is ', A)\n",
        "print('Vector R is ', R)\n",
        "print('Vector K is ', K)"
      ],
      "metadata": {
        "colab": {
          "base_uri": "https://localhost:8080/"
        },
        "id": "7rEidu4s_qLm",
        "outputId": "24e643e8-38af-4bba-d9e8-7a74a50e689a"
      },
      "execution_count": 30,
      "outputs": [
        {
          "output_type": "stream",
          "name": "stdout",
          "text": [
            "Vector M is  [2 1]\n",
            "Vector A is  [ 3 -4]\n",
            "Vector R is  [[ 4]\n",
            " [ 1]\n",
            " [-2]]\n",
            "Vector K is  [[ 5]\n",
            " [-8]\n",
            " [ 1]]\n"
          ]
        }
      ]
    },
    {
      "cell_type": "markdown",
      "source": [
        "#### Describing vectors in NumPy"
      ],
      "metadata": {
        "id": "A7Q46cQxAKum"
      }
    },
    {
      "cell_type": "markdown",
      "source": [
        "Describing vectors is very important if we want to perform basic to advanced operations with them. The fundamental ways in describing vectors are knowing their shape, size and dimensions."
      ],
      "metadata": {
        "id": "HBQ-OZinANLA"
      }
    },
    {
      "cell_type": "code",
      "source": [
        "### Checking shapes\n",
        "### Shapes tells us how many elements are there on each row and column\n",
        "\n",
        "M.shape\n",
        "A = np.array([3, 2, 4, 6, -5.3, 1])\n",
        "R.shape\n",
        "K.shape"
      ],
      "metadata": {
        "colab": {
          "base_uri": "https://localhost:8080/"
        },
        "id": "6kDAeULrASsA",
        "outputId": "e0daf415-7a5b-4916-ebfc-6cbcb88ae8fd"
      },
      "execution_count": null,
      "outputs": [
        {
          "output_type": "execute_result",
          "data": {
            "text/plain": [
              "(3, 1)"
            ]
          },
          "metadata": {},
          "execution_count": 5
        }
      ]
    },
    {
      "cell_type": "code",
      "source": [
        "### Checking size\n",
        "### Array/Vector sizes tells us many total number of elements are there in the vector\n",
        "\n",
        "K.size"
      ],
      "metadata": {
        "colab": {
          "base_uri": "https://localhost:8080/"
        },
        "id": "Ks_7uqnCAn7L",
        "outputId": "ac6a9bfe-492b-4896-a8ad-dfa01de431a7"
      },
      "execution_count": null,
      "outputs": [
        {
          "output_type": "execute_result",
          "data": {
            "text/plain": [
              "3"
            ]
          },
          "metadata": {},
          "execution_count": 7
        }
      ]
    },
    {
      "cell_type": "code",
      "source": [
        "### Checking dimensions\n",
        "### The dimensions or rank of a vector tells us how many dimensions are there for the vector.\n",
        "\n",
        "K.ndim"
      ],
      "metadata": {
        "colab": {
          "base_uri": "https://localhost:8080/"
        },
        "id": "ijnKJnEqAujM",
        "outputId": "7fa33a5b-317a-4757-d21e-68d35464e0e3"
      },
      "execution_count": 31,
      "outputs": [
        {
          "output_type": "execute_result",
          "data": {
            "text/plain": [
              "2"
            ]
          },
          "metadata": {},
          "execution_count": 31
        }
      ]
    },
    {
      "cell_type": "markdown",
      "source": [
        "Great! Now let's try to explore in performing operations with these vectors."
      ],
      "metadata": {
        "id": "ZU8b8-kDAzdp"
      }
    },
    {
      "cell_type": "markdown",
      "source": [
        "#### *Addition* "
      ],
      "metadata": {
        "id": "xwvbOn1wA5q7"
      }
    },
    {
      "cell_type": "markdown",
      "source": [
        "The addition rule is simple, the we just need to add the elements of the matrices according to their index. So in this case if we add vector $A$ and vector $M$ we will have a resulting vector:\n"
      ],
      "metadata": {
        "id": "DnXWQTazA8qg"
      }
    },
    {
      "cell_type": "markdown",
      "source": [
        "$$J = 6\\hat{x}-2\\hat{y} \\\\ \\\\or \\\\ \\\\ J = \\begin{bmatrix} 6 \\\\ -2\\end{bmatrix} $$"
      ],
      "metadata": {
        "id": "GXFgZXyDBHIQ"
      }
    },
    {
      "cell_type": "markdown",
      "source": [
        "So let's try to do that in NumPy in several number of ways:"
      ],
      "metadata": {
        "id": "6O_PZh-fCZca"
      }
    },
    {
      "cell_type": "code",
      "source": [
        "P = np.add(M, A) ## this is the functional method usisng the numpy library\n",
        "L = np.add(R, K)"
      ],
      "metadata": {
        "id": "rAW-WQunFTpH"
      },
      "execution_count": 33,
      "outputs": []
    },
    {
      "cell_type": "code",
      "source": [
        "P = M + A   ## this is the explicit method, since Python does a value-reference so it can \n",
        "            ## know that these variables would need to do array operations.\n",
        "P"
      ],
      "metadata": {
        "colab": {
          "base_uri": "https://localhost:8080/"
        },
        "id": "Ay3eU4JVFhKG",
        "outputId": "649e2b23-5c05-4469-93bd-f5bf1c9837a2"
      },
      "execution_count": 34,
      "outputs": [
        {
          "output_type": "execute_result",
          "data": {
            "text/plain": [
              "array([ 5, -3])"
            ]
          },
          "metadata": {},
          "execution_count": 34
        }
      ]
    },
    {
      "cell_type": "code",
      "source": [
        "L = R + K\n",
        "L"
      ],
      "metadata": {
        "colab": {
          "base_uri": "https://localhost:8080/"
        },
        "id": "569ch89-FsDr",
        "outputId": "9ff19a7e-c0bd-4008-dd4a-3575b2193000"
      },
      "execution_count": 35,
      "outputs": [
        {
          "output_type": "execute_result",
          "data": {
            "text/plain": [
              "array([[13],\n",
              "       [-6],\n",
              "       [-3]])"
            ]
          },
          "metadata": {},
          "execution_count": 35
        }
      ]
    },
    {
      "cell_type": "code",
      "source": [
        "pos1 = np.array([2,2,3])\n",
        "pos2 = np.array([1,5,3])\n",
        "pos3 = np.array([0,6,-2])\n",
        "pos4 = np.array([7,-2,4])\n",
        "#L = pos1 + pos2 + pos3 + pos4\n",
        "#L = np.multiply(pos1, pos4)\n",
        "R = pos3 / pos4\n",
        "R"
      ],
      "metadata": {
        "colab": {
          "base_uri": "https://localhost:8080/"
        },
        "id": "0sgmnf2kF0fx",
        "outputId": "19460b56-a18d-442f-ce38-5febea1eca6d"
      },
      "execution_count": 37,
      "outputs": [
        {
          "output_type": "execute_result",
          "data": {
            "text/plain": [
              "array([ 0. , -3. , -0.5])"
            ]
          },
          "metadata": {},
          "execution_count": 37
        }
      ]
    },
    {
      "cell_type": "code",
      "source": [
        "pos1 = np.array([6,8,4])\n",
        "pos2 = np.array([1,2,2])\n",
        "pos3 = np.array([0,4,-3])\n",
        "pos4 = np.array([5,-2,2])\n",
        "R = pos1 + pos2 + pos3 + pos4\n",
        "#R = np.multiply(pos3, pos4)\n",
        "#R = pos2/ pos4\n",
        "R"
      ],
      "metadata": {
        "colab": {
          "base_uri": "https://localhost:8080/"
        },
        "id": "psfbW5e1GU-8",
        "outputId": "85a7bc09-555f-43fe-fff2-bb4ed7ea443e"
      },
      "execution_count": 39,
      "outputs": [
        {
          "output_type": "execute_result",
          "data": {
            "text/plain": [
              "array([12, 12,  5])"
            ]
          },
          "metadata": {},
          "execution_count": 39
        }
      ]
    },
    {
      "cell_type": "code",
      "source": [
        "pos1 = np.array([6,8,4])\n",
        "pos2 = np.array([1,2,2])\n",
        "pos3 = np.array([0,4,-3])\n",
        "pos4 = np.array([5,-2,2])\n",
        "#R = pos1 + pos2 + pos3 + pos4\n",
        "R = np.multiply(pos3, pos4)\n",
        "#R = pos2 / pos4\n",
        "R"
      ],
      "metadata": {
        "colab": {
          "base_uri": "https://localhost:8080/"
        },
        "id": "QLJGGjnEGgh5",
        "outputId": "a71df946-7303-4d7a-9cc3-12a94300ce48"
      },
      "execution_count": 40,
      "outputs": [
        {
          "output_type": "execute_result",
          "data": {
            "text/plain": [
              "array([ 0, -8, -6])"
            ]
          },
          "metadata": {},
          "execution_count": 40
        }
      ]
    },
    {
      "cell_type": "markdown",
      "source": [
        "##Try for yourself!"
      ],
      "metadata": {
        "id": "TnwVwEE6G5-g"
      }
    },
    {
      "cell_type": "markdown",
      "source": [
        "Try to implement subtraction, multiplication, and division with vectors $M$ and $A$!"
      ],
      "metadata": {
        "id": "KvMlV6a0HESw"
      }
    },
    {
      "cell_type": "code",
      "source": [
        "### Try out you code here! \n",
        "\n",
        "### Try out you code here! \n",
        "### Subtraction\n",
        "D = np.subtract (M,A)\n",
        "\n",
        "D"
      ],
      "metadata": {
        "colab": {
          "base_uri": "https://localhost:8080/"
        },
        "id": "tFlLynoWHNCR",
        "outputId": "f65bca93-7614-428e-8658-3aee4cd6203e"
      },
      "execution_count": 41,
      "outputs": [
        {
          "output_type": "execute_result",
          "data": {
            "text/plain": [
              "array([-1,  5])"
            ]
          },
          "metadata": {},
          "execution_count": 41
        }
      ]
    },
    {
      "cell_type": "code",
      "source": [
        "### Multiplication\n",
        "E = np.multiply (M,A)\n",
        "\n",
        "E"
      ],
      "metadata": {
        "colab": {
          "base_uri": "https://localhost:8080/"
        },
        "id": "vLzc_sEdHVy8",
        "outputId": "9ccb6fb1-0909-44ab-b53b-883e769d89f5"
      },
      "execution_count": 42,
      "outputs": [
        {
          "output_type": "execute_result",
          "data": {
            "text/plain": [
              "array([ 6, -4])"
            ]
          },
          "metadata": {},
          "execution_count": 42
        }
      ]
    },
    {
      "cell_type": "code",
      "source": [
        "### Division\n",
        "F = np.divide (M,A)\n",
        "\n",
        "F"
      ],
      "metadata": {
        "colab": {
          "base_uri": "https://localhost:8080/"
        },
        "id": "Blf1Xe0QHcNW",
        "outputId": "bfd9f24e-8730-456a-833b-fea044dffebc"
      },
      "execution_count": 43,
      "outputs": [
        {
          "output_type": "execute_result",
          "data": {
            "text/plain": [
              "array([ 0.66666667, -0.25      ])"
            ]
          },
          "metadata": {},
          "execution_count": 43
        }
      ]
    },
    {
      "cell_type": "markdown",
      "source": [
        "### Scaling"
      ],
      "metadata": {
        "id": "gNW6y7-7Hg7C"
      }
    },
    {
      "cell_type": "markdown",
      "source": [
        "Scaling or scalar multiplication takes a scalar value and performs multiplication with a vector. Let's take the example below:"
      ],
      "metadata": {
        "id": "4_VqMNVRHoUe"
      }
    },
    {
      "cell_type": "markdown",
      "source": [
        ":$$S = 7 \\cdot L$$"
      ],
      "metadata": {
        "id": "MSMyqGcjHrO8"
      }
    },
    {
      "cell_type": "markdown",
      "source": [
        "We can do this in numpy through:"
      ],
      "metadata": {
        "id": "EITHCrxqHt3Y"
      }
    },
    {
      "cell_type": "code",
      "source": [
        "#S = 7 * L\n",
        "S = np.multiply(4,M)\n",
        "S"
      ],
      "metadata": {
        "colab": {
          "base_uri": "https://localhost:8080/"
        },
        "id": "jsvHPOV-HyH5",
        "outputId": "77712ef8-5211-4fa3-9d0b-406eaf35aa40"
      },
      "execution_count": 44,
      "outputs": [
        {
          "output_type": "execute_result",
          "data": {
            "text/plain": [
              "array([8, 4])"
            ]
          },
          "metadata": {},
          "execution_count": 44
        }
      ]
    },
    {
      "cell_type": "markdown",
      "source": [
        "*`Try`* to implement scaling with two vectors."
      ],
      "metadata": {
        "id": "_l6Tm-BiH4tX"
      }
    },
    {
      "cell_type": "code",
      "source": [
        "###Scaling with two vectors\n",
        "#S = 7 * M\n",
        "#S = 7 * A\n",
        "M = np.array ([3,2])\n",
        "A = np.array ([14,9])\n",
        "S = np.multiply (7,M)\n",
        "S"
      ],
      "metadata": {
        "colab": {
          "base_uri": "https://localhost:8080/"
        },
        "id": "iQO3FSWgH7aL",
        "outputId": "d294d2a4-ff71-481b-b830-f51cf83f39a2"
      },
      "execution_count": 47,
      "outputs": [
        {
          "output_type": "execute_result",
          "data": {
            "text/plain": [
              "array([21, 14])"
            ]
          },
          "metadata": {},
          "execution_count": 47
        }
      ]
    },
    {
      "cell_type": "code",
      "source": [
        "###Scaling with two vectors\n",
        "#S = 7 * M\n",
        "#S = 7 * A\n",
        "M = np.array ([3,2])\n",
        "A = np.array ([14,9])\n",
        "S = np.multiply (7,A)\n",
        "S"
      ],
      "metadata": {
        "colab": {
          "base_uri": "https://localhost:8080/"
        },
        "id": "3J8pj6RRIN7v",
        "outputId": "d8559348-b49f-488e-dd0f-4519024def12"
      },
      "execution_count": 46,
      "outputs": [
        {
          "output_type": "execute_result",
          "data": {
            "text/plain": [
              "array([98, 63])"
            ]
          },
          "metadata": {},
          "execution_count": 46
        }
      ]
    },
    {
      "cell_type": "markdown",
      "source": [
        "### MatPlotLib"
      ],
      "metadata": {
        "id": "JcWCPyf8IncB"
      }
    },
    {
      "cell_type": "markdown",
      "source": [
        "MatPlotLib or MATLab Plotting library is Python's take on MATLabs plotting feature. MatPlotLib can be used vastly from graping values to visualizing several dimensions of data."
      ],
      "metadata": {
        "id": "ALUAnXxHIq2q"
      }
    },
    {
      "cell_type": "markdown",
      "source": [
        "#### Visualizing Data"
      ],
      "metadata": {
        "id": "d9ELlKIWIwq8"
      }
    },
    {
      "cell_type": "markdown",
      "source": [
        "It's not enough just solving these vectors so might need to visualize them. So we'll use MatPlotLib for that. We'll need to import it first."
      ],
      "metadata": {
        "id": "lD3uJX90Izlu"
      }
    },
    {
      "cell_type": "code",
      "source": [
        "import matplotlib.pyplot as plt\n",
        "import matplotlib\n",
        "%matplotlib inline"
      ],
      "metadata": {
        "id": "PTVgJzvmI2Yy"
      },
      "execution_count": 48,
      "outputs": []
    },
    {
      "cell_type": "code",
      "source": [
        "X = [1, -5]\n",
        "Y = [8, -9]\n",
        "#ax = plt.axes(projection='3d')\n",
        "plt.scatter(X[0], X[1], label='X', c='Green')\n",
        "plt.scatter(Y[0], Y[1], label='Y', c='Black')\n",
        "plt.grid()\n",
        "plt.legend()\n",
        "plt.show()"
      ],
      "metadata": {
        "colab": {
          "base_uri": "https://localhost:8080/",
          "height": 265
        },
        "id": "rGsAuVTSI5YN",
        "outputId": "202281da-a1c9-445a-8841-208ec9f6612a"
      },
      "execution_count": 49,
      "outputs": [
        {
          "output_type": "display_data",
          "data": {
            "text/plain": [
              "<Figure size 432x288 with 1 Axes>"
            ],
            "image/png": "[encoded data removed]"
          },
          "metadata": {
            "needs_background": "light"
          }
        }
      ]
    },
    {
      "cell_type": "code",
      "source": [
        "A = np.array([3, 0])\n",
        "B = np.array([3, 9])\n",
        "R = A + B\n",
        "Magnitude = np.sqrt(np.sum(R**2))\n",
        "plt.title(\"Resultant Vector\\nMagnitude:{}\" .format(Magnitude))\n",
        "plt.xlim(-6, 4)\n",
        "plt.ylim(-6, 4)\n",
        "plt.quiver(0, 0, A[0], A[1], angles='xy', scale_units='xy', scale=1, color='Blue')\n",
        "plt.quiver(A[0], A[1], B[0], B[1], angles='xy', scale_units='xy', scale=1, color='Red')\n",
        "J = X + Y\n",
        "plt.quiver(0, 0, R[0], R[1], angles='xy', scale_units='xy', scale=1, color='Magenta')\n",
        "plt.grid()\n",
        "plt.show()\n",
        "print(J)\n",
        "print(Magnitude)\n",
        "Slope = R[1]/R[0]\n",
        "print(Slope)\n",
        "Angle = (np.arctan(Slope))*(180/np.pi)\n",
        "print(Angle)"
      ],
      "metadata": {
        "colab": {
          "base_uri": "https://localhost:8080/",
          "height": 365
        },
        "id": "ipVJa_umJQJe",
        "outputId": "930e18f8-43a7-4517-c8ba-1c05c9acc525"
      },
      "execution_count": 52,
      "outputs": [
        {
          "output_type": "display_data",
          "data": {
            "text/plain": [
              "<Figure size 432x288 with 1 Axes>"
            ],
            "image/png": "[encoded data removed]"
          },
          "metadata": {
            "needs_background": "light"
          }
        },
        {
          "output_type": "stream",
          "name": "stdout",
          "text": [
            "[1, -5, 8, -9]\n",
            "10.816653826391969\n",
            "1.5\n",
            "56.309932474020215\n"
          ]
        }
      ]
    },
    {
      "cell_type": "code",
      "source": [
        "n = A.shape[0]\n",
        "plt.xlim(-11, 15)\n",
        "plt.ylim(-10, 11)\n",
        "plt.quiver(0,0, A[0], A[1], angles='xy', scale_units='xy',scale=1)\n",
        "plt.quiver(A[0],A[1], B[0], B[1], angles='xy', scale_units='xy',scale=1)\n",
        "plt.quiver(0,0, R[0], R[1], angles='xy', scale_units='xy',scale=1)\n",
        "plt.show()"
      ],
      "metadata": {
        "colab": {
          "base_uri": "https://localhost:8080/",
          "height": 265
        },
        "id": "3zXDRObqJdN3",
        "outputId": "7a5a4017-c93f-4eab-bc93-ca2413a8e1dc"
      },
      "execution_count": 54,
      "outputs": [
        {
          "output_type": "display_data",
          "data": {
            "text/plain": [
              "<Figure size 432x288 with 1 Axes>"
            ],
            "image/png": "[encoded data removed]"
          },
          "metadata": {
            "needs_background": "light"
          }
        }
      ]
    },
    {
      "cell_type": "markdown",
      "source": [
        "Try plotting Three Vectors and show the Resultant Vector as a result.\n",
        "Use Head to Tail Method."
      ],
      "metadata": {
        "id": "N3HC1rabJocn"
      }
    },
    {
      "cell_type": "code",
      "source": [
        "####Three vectors\n",
        "A = np.array([15 ,9])\n",
        "B = np.array([4, 8])\n",
        "C = A + B\n",
        "D = np.array([-12, 13])\n",
        "E = D + A + B\n",
        "magnitude = np.sqrt(np.sum(E**2))\n",
        "plt.title(\"Resultant Vector\\nMagnitude: {} \\n Resultant: {}\".format(magnitude, E))\n",
        "plt.xlim(-10, 40)\n",
        "plt.ylim(-10, 40)\n",
        "plt.quiver(0, 0, A[0], A[1], angles='xy', scale_units='xy', scale=1, color='Red')\n",
        "plt.quiver(A[0], A[1], B[0],  B[1], angles='xy', scale_units='xy', scale=1, color='Orange')\n",
        "plt.quiver(C[0], C[1], D[0], D[1], angles='xy', scale_units='xy', scale=1, color='Blue')\n",
        "plt.quiver(0, 0, E[0], E[1], angles='xy', scale_units='xy', scale=1, color='Violet')\n",
        "plt.grid()\n",
        "plt.show()\n",
        "Slope = R[1]/R[0]\n",
        "print(Slope)\n",
        "Angle = (np.arctan(Slope))*(180/np.pi)\n",
        "print(Angle)"
      ],
      "metadata": {
        "colab": {
          "base_uri": "https://localhost:8080/",
          "height": 346
        },
        "id": "XwjaaVUKJsbK",
        "outputId": "05ac4dac-dca0-4454-b755-0fdc3f164eae"
      },
      "execution_count": 58,
      "outputs": [
        {
          "output_type": "display_data",
          "data": {
            "text/plain": [
              "<Figure size 432x288 with 1 Axes>"
            ],
            "image/png": "[encoded data removed]"
          },
          "metadata": {
            "needs_background": "light"
          }
        },
        {
          "output_type": "stream",
          "name": "stdout",
          "text": [
            "1.5\n",
            "56.309932474020215\n"
          ]
        }
      ]
    }
  ]
}