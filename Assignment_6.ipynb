{
  "nbformat": 4,
  "nbformat_minor": 0,
  "metadata": {
    "colab": {
      "name": "Assignment 6.ipynb",
      "provenance": [],
      "authorship_tag": "ABX9TyMd4MvNyzH2afuqMqTky9d0",
      "include_colab_link": true
    },
    "kernelspec": {
      "name": "python3",
      "display_name": "Python 3"
    },
    "language_info": {
      "name": "python"
    }
  },
  "cells": [
    {
      "cell_type": "markdown",
      "metadata": {
        "id": "view-in-github",
        "colab_type": "text"
      },
      "source": [
        "<a href=\"https://colab.research.google.com/github/claudette15/Linear-Algebra_ChE_2nd-Sem-2021/blob/main/Assignment_6.ipynb\" target=\"_parent\"><img src=\"https://colab.research.google.com/assets/colab-badge.svg\" alt=\"Open In Colab\"/></a>"
      ]
    },
    {
      "cell_type": "markdown",
      "source": [
        "# Linear Algebra for ChE\n",
        "## Assignment 6: Matrix Operations\n"
      ],
      "metadata": {
        "id": "1WfPBLrysuMR"
      }
    },
    {
      "cell_type": "markdown",
      "source": [
        "Now that you have a fundamental knowledge about representing and operating with vectors as well as the fundamentals of matrices, we'll try to the same operations with matrices and even more."
      ],
      "metadata": {
        "id": "lMoPN_53s8qW"
      }
    },
    {
      "cell_type": "markdown",
      "source": [
        "# Objectives"
      ],
      "metadata": {
        "id": "HQdggqDmtCtn"
      }
    },
    {
      "cell_type": "markdown",
      "source": [
        "At the end of this activity you will be able to:\n",
        "\n",
        "1. Be familiar with the fundamental matrix operations.\n",
        "2. Apply the operations to solve intermediate equations.\n",
        "3. Apply matrix algebra in engineering solutions.\n"
      ],
      "metadata": {
        "id": "hA-URrJKtLHe"
      }
    },
    {
      "cell_type": "markdown",
      "source": [
        "# Discussion"
      ],
      "metadata": {
        "id": "MIEPqyOAtUGm"
      }
    },
    {
      "cell_type": "code",
      "source": [
        "import numpy as np\n",
        "import matplotlib.pyplot as plt\n",
        "%matplotlib inline"
      ],
      "metadata": {
        "id": "e69xJkXNtXy5"
      },
      "execution_count": null,
      "outputs": []
    },
    {
      "cell_type": "markdown",
      "source": [
        "# Transposition"
      ],
      "metadata": {
        "id": "Vfa2XrOrtdI7"
      }
    },
    {
      "cell_type": "markdown",
      "source": [
        "One of the fundamental operations in matrix algebra is Transposition. The transpose of a matrix is done by flipping the values of its elements over its diagonals. With this, the rows and columns from the original matrix will be switched. So for a matrix  its transpose is denoted as $A^T$. So for example:"
      ],
      "metadata": {
        "id": "3ag4jqzktkZM"
      }
    },
    {
      "cell_type": "markdown",
      "source": [
        "$$\n",
        "A=\\begin{bmatrix} 2 & 4 & 1 \\\\ 1 & -1 & 1 \\\\ -1 & 4 & 2\\end{bmatrix}\\\\\n",
        "A^T=\\begin{bmatrix} 3 & 6 & 3 \\\\ 3 & -9 & 1 \\\\ -2 & 4 & 2\\end{bmatrix}\\\\\n",
        "$$"
      ],
      "metadata": {
        "id": "LkbaMvQ_tq-r"
      }
    },
    {
      "cell_type": "markdown",
      "source": [
        "This can now be achieved programmatically by using np.transpose() or using the \n",
        "\n",
        "\n",
        "T method.g"
      ],
      "metadata": {
        "id": "91JJSE9Et8LO"
      }
    },
    {
      "cell_type": "code",
      "source": [
        "A = np.array([\n",
        "    [33 ,-15, 78],\n",
        "    [8, 11, 58],\n",
        "    [-92, -41, 35]\n",
        "])\n",
        "A"
      ],
      "metadata": {
        "colab": {
          "base_uri": "https://localhost:8080/"
        },
        "id": "Yt6F_4-EuCzO",
        "outputId": "9b4e06b5-a858-4cb5-841a-2e9ba9ac1f0e"
      },
      "execution_count": null,
      "outputs": [
        {
          "output_type": "execute_result",
          "data": {
            "text/plain": [
              "array([[ 33, -15,  78],\n",
              "       [  8,  11,  58],\n",
              "       [-92, -41,  35]])"
            ]
          },
          "metadata": {},
          "execution_count": 15
        }
      ]
    },
    {
      "cell_type": "code",
      "source": [
        "AT1 = np.transpose(A)\n",
        "AT1"
      ],
      "metadata": {
        "colab": {
          "base_uri": "https://localhost:8080/"
        },
        "id": "Wh5yxC_auQLs",
        "outputId": "90b90e4c-edb9-4173-ad01-227479af9d07"
      },
      "execution_count": null,
      "outputs": [
        {
          "output_type": "execute_result",
          "data": {
            "text/plain": [
              "array([[ 33,   8, -92],\n",
              "       [-15,  11, -41],\n",
              "       [ 78,  58,  35]])"
            ]
          },
          "metadata": {},
          "execution_count": 16
        }
      ]
    },
    {
      "cell_type": "code",
      "source": [
        "AT2 = A.T\n",
        "AT2"
      ],
      "metadata": {
        "colab": {
          "base_uri": "https://localhost:8080/"
        },
        "id": "f9ZJSlkhudAy",
        "outputId": "3ab23465-2da0-4656-bcc5-509085d9401d"
      },
      "execution_count": null,
      "outputs": [
        {
          "output_type": "execute_result",
          "data": {
            "text/plain": [
              "array([[ 33,   8, -92],\n",
              "       [-15,  11, -41],\n",
              "       [ 78,  58,  35]])"
            ]
          },
          "metadata": {},
          "execution_count": 17
        }
      ]
    },
    {
      "cell_type": "code",
      "source": [
        "np.array_equiv(AT1, AT2)"
      ],
      "metadata": {
        "colab": {
          "base_uri": "https://localhost:8080/"
        },
        "id": "QoXpNpzPuoyI",
        "outputId": "b86eb1dd-c86b-40c4-e4a9-faf8ab8a16eb"
      },
      "execution_count": null,
      "outputs": [
        {
          "output_type": "execute_result",
          "data": {
            "text/plain": [
              "True"
            ]
          },
          "metadata": {},
          "execution_count": 24
        }
      ]
    },
    {
      "cell_type": "code",
      "source": [
        "B = np.array([\n",
        "    [80,60,15,71],\n",
        "    [48,30,40,60],\n",
        "])\n",
        "B.shape"
      ],
      "metadata": {
        "colab": {
          "base_uri": "https://localhost:8080/"
        },
        "id": "FlbhjTYTu2DV",
        "outputId": "c7f58657-4746-41b7-be3f-42d2a9b34693"
      },
      "execution_count": null,
      "outputs": [
        {
          "output_type": "execute_result",
          "data": {
            "text/plain": [
              "(2, 4)"
            ]
          },
          "metadata": {},
          "execution_count": 19
        }
      ]
    },
    {
      "cell_type": "code",
      "source": [
        "np.transpose(B).shape"
      ],
      "metadata": {
        "colab": {
          "base_uri": "https://localhost:8080/"
        },
        "id": "Ygp3AYVovIhT",
        "outputId": "741e6732-482f-4ac2-cc02-2ff432ff71f2"
      },
      "execution_count": null,
      "outputs": [
        {
          "output_type": "execute_result",
          "data": {
            "text/plain": [
              "(4, 2)"
            ]
          },
          "metadata": {},
          "execution_count": 25
        }
      ]
    },
    {
      "cell_type": "code",
      "source": [
        "B.T.shape"
      ],
      "metadata": {
        "colab": {
          "base_uri": "https://localhost:8080/"
        },
        "id": "46UchstJvNVG",
        "outputId": "0b0caa37-b46f-415c-e83a-07defee45413"
      },
      "execution_count": null,
      "outputs": [
        {
          "output_type": "execute_result",
          "data": {
            "text/plain": [
              "(4, 2)"
            ]
          },
          "metadata": {},
          "execution_count": 26
        }
      ]
    },
    {
      "cell_type": "markdown",
      "source": [
        "## Try to create your own matrix (you can try non-squares) to test transposition."
      ],
      "metadata": {
        "id": "-oUTc_f9vR5d"
      }
    },
    {
      "cell_type": "markdown",
      "source": [
        "# Dot Product / Inner Product\n",
        "\n",
        "\n"
      ],
      "metadata": {
        "id": "4nCfduU9vYh-"
      }
    },
    {
      "cell_type": "markdown",
      "source": [
        "If you recall the dot product from laboratory activity before, we will try to implement the same operation with matrices. In matrix dot product we are going to get the sum of products of the vectors by row-column pairs. So if we have two matrices $A$ and $T$:"
      ],
      "metadata": {
        "id": "ac8RxtrcvdAE"
      }
    },
    {
      "cell_type": "markdown",
      "source": [
        "$$X = \\begin{bmatrix}x_{(1,1)}&x_{(0,2)}\\\\ x_{(0,0)}&x_{(1,1)}\\end{bmatrix}, Y = \\begin{bmatrix}y_{(0,0)}&y_{(2,1)}\\\\ y_{(1,2)}&y_{(1,1)}\\end{bmatrix}$$"
      ],
      "metadata": {
        "id": "pCgfjWe2vi5g"
      }
    },
    {
      "cell_type": "markdown",
      "source": [
        "The dot product will then be computed as:\n"
      ],
      "metadata": {
        "id": "K13c2Up6wLDD"
      }
    },
    {
      "cell_type": "markdown",
      "source": [
        "$$X \\cdot Y= \\begin{bmatrix} x_{(0,0)}*y_{(1,1)} + x_{(1,0)}*y_{(0,1)} & x_{(1,1)}*y_{(1,0)} + x_{(1,0)}*y_{(0,0)} \\\\  x_{(0,1)}*y_{(1,1)} + x_{(0,0)}*y_{(0,1)} & x_{(1,0)}*y_{(0,1)} + x_{(1,1)}*y_{(1,1)}\n",
        "\\end{bmatrix}$$"
      ],
      "metadata": {
        "id": "BXRR0M1FwURQ"
      }
    },
    {
      "cell_type": "markdown",
      "source": [
        "So if we assign values to $X$ and $Y$:\n"
      ],
      "metadata": {
        "id": "MKcpwdd0w02W"
      }
    },
    {
      "cell_type": "markdown",
      "source": [
        "$$X = \\begin{bmatrix}35&46\\\\ 1&0\\end{bmatrix}, Y = \\begin{bmatrix}0&-1\\\\ 2&2\\end{bmatrix}$$"
      ],
      "metadata": {
        "id": "5VhYK-_Aw6wr"
      }
    },
    {
      "cell_type": "markdown",
      "source": [
        "$$X \\cdot Y= \\begin{bmatrix} 1*-2 + 1*1 & 0*1 + 1*1 \\\\  0*1 + 2*2 & 1*0 + 1*2 \\end{bmatrix} = \\begin{bmatrix} 3 & 4 \\\\2 & 2 \\end{bmatrix}$$"
      ],
      "metadata": {
        "id": "NNjf9vb8xJ_g"
      }
    },
    {
      "cell_type": "markdown",
      "source": [
        "This could be achieved programmatically using np.dot(), np.matmul() or the @ operator."
      ],
      "metadata": {
        "id": "jbwLvXEYxc-R"
      }
    },
    {
      "cell_type": "code",
      "source": [
        "X = np.array([\n",
        "    [15,31],\n",
        "    [20,30]\n",
        "])\n",
        "Y = np.array([\n",
        "    [-16,50],\n",
        "    [28,37]\n",
        "])"
      ],
      "metadata": {
        "id": "eE2Vz605xjj2"
      },
      "execution_count": null,
      "outputs": []
    },
    {
      "cell_type": "code",
      "source": [
        "np.array_equiv(X, Y)"
      ],
      "metadata": {
        "colab": {
          "base_uri": "https://localhost:8080/"
        },
        "id": "EcuZbJX9xyyx",
        "outputId": "b9050fc6-cada-47c8-c5ef-f0117a1bccc7"
      },
      "execution_count": null,
      "outputs": [
        {
          "output_type": "execute_result",
          "data": {
            "text/plain": [
              "False"
            ]
          },
          "metadata": {},
          "execution_count": 28
        }
      ]
    },
    {
      "cell_type": "code",
      "source": [
        "np.dot(X,Y)"
      ],
      "metadata": {
        "colab": {
          "base_uri": "https://localhost:8080/"
        },
        "id": "Uiuo11Q9x27W",
        "outputId": "5c9e73bb-bb63-4bdd-b5a1-ea688b3fbe9a"
      },
      "execution_count": null,
      "outputs": [
        {
          "output_type": "execute_result",
          "data": {
            "text/plain": [
              "array([[ 628, 1897],\n",
              "       [ 520, 2110]])"
            ]
          },
          "metadata": {},
          "execution_count": 29
        }
      ]
    },
    {
      "cell_type": "code",
      "source": [
        "X.dot(Y)"
      ],
      "metadata": {
        "colab": {
          "base_uri": "https://localhost:8080/"
        },
        "id": "IqxVBe5hx9e5",
        "outputId": "a97874b5-9247-4c6a-d2b6-3819c1158b0f"
      },
      "execution_count": null,
      "outputs": [
        {
          "output_type": "execute_result",
          "data": {
            "text/plain": [
              "array([[ 628, 1897],\n",
              "       [ 520, 2110]])"
            ]
          },
          "metadata": {},
          "execution_count": 30
        }
      ]
    },
    {
      "cell_type": "code",
      "source": [
        "X @ Y"
      ],
      "metadata": {
        "colab": {
          "base_uri": "https://localhost:8080/"
        },
        "id": "wHqikXbEyCuV",
        "outputId": "c99b5e1d-3048-4b05-e0e9-02b618f86f70"
      },
      "execution_count": null,
      "outputs": [
        {
          "output_type": "execute_result",
          "data": {
            "text/plain": [
              "array([[ 628, 1897],\n",
              "       [ 520, 2110]])"
            ]
          },
          "metadata": {},
          "execution_count": 31
        }
      ]
    },
    {
      "cell_type": "code",
      "source": [
        "np.matmul(X,Y)"
      ],
      "metadata": {
        "colab": {
          "base_uri": "https://localhost:8080/"
        },
        "id": "sWux-OoCyGqA",
        "outputId": "6157e35d-5e04-474b-ffd1-1edd0b429568"
      },
      "execution_count": null,
      "outputs": [
        {
          "output_type": "execute_result",
          "data": {
            "text/plain": [
              "array([[ 628, 1897],\n",
              "       [ 520, 2110]])"
            ]
          },
          "metadata": {},
          "execution_count": 32
        }
      ]
    },
    {
      "cell_type": "code",
      "source": [
        "D = np.array([\n",
        "    [40,16,20],\n",
        "    [28,15,20],\n",
        "    [79,45,30]\n",
        "])\n",
        "E = np.array([\n",
        "    [-58,95,50],\n",
        "    [29,78,96],\n",
        "    [88,35,21]\n",
        "])"
      ],
      "metadata": {
        "id": "eplJ8YrZyNAo"
      },
      "execution_count": null,
      "outputs": []
    },
    {
      "cell_type": "code",
      "source": [
        "D @ E"
      ],
      "metadata": {
        "colab": {
          "base_uri": "https://localhost:8080/"
        },
        "id": "Kfvb4-lYylX7",
        "outputId": "28a89630-050a-4cc9-907b-fbe8e034b887"
      },
      "execution_count": null,
      "outputs": [
        {
          "output_type": "execute_result",
          "data": {
            "text/plain": [
              "array([[  -96,  5748,  3956],\n",
              "       [  571,  4530,  3260],\n",
              "       [ -637, 12065,  8900]])"
            ]
          },
          "metadata": {},
          "execution_count": 35
        }
      ]
    },
    {
      "cell_type": "code",
      "source": [
        "D.dot(E)"
      ],
      "metadata": {
        "colab": {
          "base_uri": "https://localhost:8080/"
        },
        "id": "5HXoQyfEynFW",
        "outputId": "7d307443-c556-4237-a184-0543bc95fa0d"
      },
      "execution_count": null,
      "outputs": [
        {
          "output_type": "execute_result",
          "data": {
            "text/plain": [
              "array([[  -96,  5748,  3956],\n",
              "       [  571,  4530,  3260],\n",
              "       [ -637, 12065,  8900]])"
            ]
          },
          "metadata": {},
          "execution_count": 36
        }
      ]
    },
    {
      "cell_type": "code",
      "source": [
        "np.matmul(D, E)"
      ],
      "metadata": {
        "colab": {
          "base_uri": "https://localhost:8080/"
        },
        "id": "zoo8A-bUyrbz",
        "outputId": "ccb7ccbd-70d8-4ad8-9e07-e39961574238"
      },
      "execution_count": null,
      "outputs": [
        {
          "output_type": "execute_result",
          "data": {
            "text/plain": [
              "array([[  -96,  5748,  3956],\n",
              "       [  571,  4530,  3260],\n",
              "       [ -637, 12065,  8900]])"
            ]
          },
          "metadata": {},
          "execution_count": 37
        }
      ]
    },
    {
      "cell_type": "code",
      "source": [
        "np.dot(D, E)"
      ],
      "metadata": {
        "colab": {
          "base_uri": "https://localhost:8080/"
        },
        "id": "wDTY6Ad1ywGq",
        "outputId": "42b711f7-a58d-4f1b-8a6e-e581be5bb2ce"
      },
      "execution_count": null,
      "outputs": [
        {
          "output_type": "execute_result",
          "data": {
            "text/plain": [
              "array([[  -96,  5748,  3956],\n",
              "       [  571,  4530,  3260],\n",
              "       [ -637, 12065,  8900]])"
            ]
          },
          "metadata": {},
          "execution_count": 38
        }
      ]
    },
    {
      "cell_type": "code",
      "source": [
        "X = np.array([\n",
        "    [13,-11,53,21],\n",
        "    [65,4,10,71]\n",
        "])\n",
        "Y = np.array([\n",
        "    [22,13,29,-12],\n",
        "    [16,9,8,3]\n",
        "])\n",
        "print(X.shape)\n",
        "print(Y.T.shape)"
      ],
      "metadata": {
        "colab": {
          "base_uri": "https://localhost:8080/"
        },
        "id": "Ov0GnF8k0cyX",
        "outputId": "19eebde0-83af-42e5-e6ec-f3a2b0162a01"
      },
      "execution_count": null,
      "outputs": [
        {
          "output_type": "stream",
          "name": "stdout",
          "text": [
            "(2, 4)\n",
            "(4, 2)\n"
          ]
        }
      ]
    },
    {
      "cell_type": "code",
      "source": [
        "Y.T @ X"
      ],
      "metadata": {
        "colab": {
          "base_uri": "https://localhost:8080/"
        },
        "id": "xxdrZL5w1Y55",
        "outputId": "6eaf2812-8853-4575-f016-7b5d2b0d8176"
      },
      "execution_count": null,
      "outputs": [
        {
          "output_type": "execute_result",
          "data": {
            "text/plain": [
              "array([[1326, -178, 1326, 1598],\n",
              "       [ 754, -107,  779,  912],\n",
              "       [ 897, -287, 1617, 1177],\n",
              "       [  39,  144, -606,  -39]])"
            ]
          },
          "metadata": {},
          "execution_count": 40
        }
      ]
    },
    {
      "cell_type": "markdown",
      "source": [
        "In matrix dot products there are additional rules compared with vector dot products. Since vector dot products were just in one dimension there are less restrictions. Since now we are dealing with Rank 2 vectors we need to consider some rules:"
      ],
      "metadata": {
        "id": "BRXqvSdZy1TO"
      }
    },
    {
      "cell_type": "markdown",
      "source": [
        "# Rule 1: The inner dimensions of the two matrices in question must be the same."
      ],
      "metadata": {
        "id": "yo8Cqjo9y7F2"
      }
    },
    {
      "cell_type": "markdown",
      "source": [
        "So given a matrix $A$ with a shape of $(a,b)$ where  and  are any integers. If we want to do a dot product between $A$ and another matrix $B$, then matrix $B$ should have a shape of $(b,c)$ where $b$ and $c$ are any integers. So for given the following matrices:"
      ],
      "metadata": {
        "id": "2W8c_9uzzDff"
      }
    },
    {
      "cell_type": "markdown",
      "source": [
        "So in this case $A$ has a shape of$(8,10)$ , $B$ has a shape of $(4,2)$ and $C$ has a shape of . So the only matrix pairs that is eligible to perform dot product is matrices $A.C$ , or $B.C$."
      ],
      "metadata": {
        "id": "pqVyKILfzLLQ"
      }
    },
    {
      "cell_type": "code",
      "source": [
        "A = np.array([\n",
        "    [15, 12],\n",
        "    [30, -35],\n",
        "    [70, 14]\n",
        "])\n",
        "B = np.array([\n",
        "    [32,69],\n",
        "    [78,45],\n",
        "    [-18,-36]\n",
        "])\n",
        "C = np.array([\n",
        "    [20,11,17],\n",
        "    [17,18,68]\n",
        "])\n",
        "print(A.shape)\n",
        "print(B.shape)\n",
        "print(C.shape)"
      ],
      "metadata": {
        "colab": {
          "base_uri": "https://localhost:8080/"
        },
        "id": "r4W6Fb7azYon",
        "outputId": "fea83627-e436-4a37-95e8-69aa0a33d943"
      },
      "execution_count": null,
      "outputs": [
        {
          "output_type": "stream",
          "name": "stdout",
          "text": [
            "(3, 2)\n",
            "(3, 2)\n",
            "(2, 3)\n"
          ]
        }
      ]
    },
    {
      "cell_type": "code",
      "source": [
        "A @ C"
      ],
      "metadata": {
        "colab": {
          "base_uri": "https://localhost:8080/"
        },
        "id": "x4xIb5wGzyLB",
        "outputId": "5524817f-ed10-438e-fbb2-edba50c0f7af"
      },
      "execution_count": null,
      "outputs": [
        {
          "output_type": "execute_result",
          "data": {
            "text/plain": [
              "array([[  504,   381,  1071],\n",
              "       [    5,  -300, -1870],\n",
              "       [ 1638,  1022,  2142]])"
            ]
          },
          "metadata": {},
          "execution_count": 42
        }
      ]
    },
    {
      "cell_type": "code",
      "source": [
        "B @ C"
      ],
      "metadata": {
        "colab": {
          "base_uri": "https://localhost:8080/"
        },
        "id": "j7J7v40cz4HE",
        "outputId": "91811b80-ebf6-4936-9081-76e19db27f2c"
      },
      "execution_count": null,
      "outputs": [
        {
          "output_type": "execute_result",
          "data": {
            "text/plain": [
              "array([[ 1813,  1594,  5236],\n",
              "       [ 2325,  1668,  4386],\n",
              "       [ -972,  -846, -2754]])"
            ]
          },
          "metadata": {},
          "execution_count": 44
        }
      ]
    },
    {
      "cell_type": "markdown",
      "source": [
        "If you would notice the shape of the dot product changed and its shape is not the same as any of the matrices we used. The shape of a dot product is actually derived from the shapes of the matrices used. So recall matrix $A$ with a shape of $(a,b)$ and matrix $B$ with a shape of $(b,c)$, $A.B$ should have a shape $(a,c)$."
      ],
      "metadata": {
        "id": "2gfl53Xxz8tD"
      }
    },
    {
      "cell_type": "code",
      "source": [
        "A @ B.T"
      ],
      "metadata": {
        "colab": {
          "base_uri": "https://localhost:8080/"
        },
        "id": "YTdiWpDM0AtA",
        "outputId": "c4d498cd-0749-44e8-e94b-d0116f510bbd"
      },
      "execution_count": null,
      "outputs": [
        {
          "output_type": "execute_result",
          "data": {
            "text/plain": [
              "array([[ 1308,  1710,  -702],\n",
              "       [-1455,   765,   720],\n",
              "       [ 3206,  6090, -1764]])"
            ]
          },
          "metadata": {},
          "execution_count": 45
        }
      ]
    },
    {
      "cell_type": "code",
      "source": [
        "X = np.array([\n",
        "    [13,25,46,60]\n",
        "])\n",
        "Y = np.array([\n",
        "    [16,76,53,-13]\n",
        "])\n",
        "print(X.shape)\n",
        "print(Y.shape)"
      ],
      "metadata": {
        "colab": {
          "base_uri": "https://localhost:8080/"
        },
        "id": "RHISpC7f0FnC",
        "outputId": "b2c3dde6-0c0c-450f-e719-e0d6d2c9444e"
      },
      "execution_count": null,
      "outputs": [
        {
          "output_type": "stream",
          "name": "stdout",
          "text": [
            "(1, 4)\n",
            "(1, 4)\n"
          ]
        }
      ]
    },
    {
      "cell_type": "code",
      "source": [
        "Y.T @ X"
      ],
      "metadata": {
        "colab": {
          "base_uri": "https://localhost:8080/"
        },
        "id": "z4IDX0FK0X0J",
        "outputId": "6b6f0845-5895-434c-c855-8897384711ed"
      },
      "execution_count": null,
      "outputs": [
        {
          "output_type": "execute_result",
          "data": {
            "text/plain": [
              "array([[ 208,  400,  736,  960],\n",
              "       [ 988, 1900, 3496, 4560],\n",
              "       [ 689, 1325, 2438, 3180],\n",
              "       [-169, -325, -598, -780]])"
            ]
          },
          "metadata": {},
          "execution_count": 47
        }
      ]
    },
    {
      "cell_type": "code",
      "source": [
        "X @ Y.T"
      ],
      "metadata": {
        "colab": {
          "base_uri": "https://localhost:8080/"
        },
        "id": "5YXwjN6F0bbS",
        "outputId": "012549d1-6260-4cc5-d630-2f3bada90ea7"
      },
      "execution_count": null,
      "outputs": [
        {
          "output_type": "execute_result",
          "data": {
            "text/plain": [
              "array([[3766]])"
            ]
          },
          "metadata": {},
          "execution_count": 48
        }
      ]
    },
    {
      "cell_type": "markdown",
      "source": [
        "And you can see that when you try to multiply A and B, it returns ValueError pertaining to matrix shape mismatch."
      ],
      "metadata": {
        "id": "cWkHzbvp0fg9"
      }
    },
    {
      "cell_type": "markdown",
      "source": [
        "# Rule 2: Dot Product has special properties"
      ],
      "metadata": {
        "id": "Ghc1GlbT0oGT"
      }
    },
    {
      "cell_type": "markdown",
      "source": [
        "Dot products are prevalent in matrix algebra, this implies that it has several unique properties and it should be considered when formulation solutions:\n",
        "\n"
      ],
      "metadata": {
        "id": "MN7293ii0uUW"
      }
    },
    {
      "cell_type": "markdown",
      "source": [
        "1. $A.B ≠ B.A$\n",
        "2. $A.(B.C) = (A.B).C$\n",
        "3. $A.(B+C) = A.B+A.C$\n",
        "4. $(B+C).A = B.A+C.A$\n",
        "5. $A.I = A$\n",
        "6. $A\\cdot \\emptyset = \\emptyset$ "
      ],
      "metadata": {
        "id": "s0YnzwOD00sX"
      }
    },
    {
      "cell_type": "markdown",
      "source": [
        "I'll be doing just one of the properties and I'll leave the rest to test your skills!"
      ],
      "metadata": {
        "id": "9thYRvGu04UR"
      }
    },
    {
      "cell_type": "code",
      "source": [
        "A = np.array([\n",
        "    [63,22,16],\n",
        "    [37,55,22],\n",
        "    [13,11,14]\n",
        "])\n",
        "B = np.array([\n",
        "    [33,12,65],\n",
        "    [21,18,67],\n",
        "    [15,46,93]\n",
        "])\n",
        "C = np.array([\n",
        "    [21,19,94],\n",
        "    [26,10,13],\n",
        "    [12,62,18]\n",
        "])"
      ],
      "metadata": {
        "id": "H5vRl68a0-JK"
      },
      "execution_count": null,
      "outputs": []
    },
    {
      "cell_type": "code",
      "source": [
        "np.eye(3)"
      ],
      "metadata": {
        "colab": {
          "base_uri": "https://localhost:8080/"
        },
        "id": "Qwtq0FMn1mTj",
        "outputId": "23d7b2f4-a921-499c-d84f-f521d5c9780c"
      },
      "execution_count": null,
      "outputs": [
        {
          "output_type": "execute_result",
          "data": {
            "text/plain": [
              "array([[1., 0., 0.],\n",
              "       [0., 1., 0.],\n",
              "       [0., 0., 1.]])"
            ]
          },
          "metadata": {},
          "execution_count": 50
        }
      ]
    },
    {
      "cell_type": "code",
      "source": [
        "A.dot(np.eye(3))"
      ],
      "metadata": {
        "colab": {
          "base_uri": "https://localhost:8080/"
        },
        "id": "tZwfGGIb1qPk",
        "outputId": "40cf72a0-1ebe-4cb3-d767-3c00c6ae8438"
      },
      "execution_count": null,
      "outputs": [
        {
          "output_type": "execute_result",
          "data": {
            "text/plain": [
              "array([[63., 22., 16.],\n",
              "       [37., 55., 22.],\n",
              "       [13., 11., 14.]])"
            ]
          },
          "metadata": {},
          "execution_count": 51
        }
      ]
    },
    {
      "cell_type": "code",
      "source": [
        "A.dot(np.zeros(A.shape))"
      ],
      "metadata": {
        "colab": {
          "base_uri": "https://localhost:8080/"
        },
        "id": "uWDTWR167rVo",
        "outputId": "711b1ad1-c138-44ed-bbb3-0e3007893f94"
      },
      "execution_count": null,
      "outputs": [
        {
          "output_type": "execute_result",
          "data": {
            "text/plain": [
              "array([[0., 0., 0.],\n",
              "       [0., 0., 0.],\n",
              "       [0., 0., 0.]])"
            ]
          },
          "metadata": {},
          "execution_count": 52
        }
      ]
    },
    {
      "cell_type": "code",
      "source": [
        "np.array_equal(A@B, B@A)"
      ],
      "metadata": {
        "colab": {
          "base_uri": "https://localhost:8080/"
        },
        "id": "Z686v4IA1tIJ",
        "outputId": "b77c5c8a-bd5d-48d5-d196-8bc3b3fe736c"
      },
      "execution_count": null,
      "outputs": [
        {
          "output_type": "execute_result",
          "data": {
            "text/plain": [
              "False"
            ]
          },
          "metadata": {},
          "execution_count": 34
        }
      ]
    },
    {
      "cell_type": "code",
      "source": [
        "E = A @ (B @ C)\n",
        "E"
      ],
      "metadata": {
        "colab": {
          "base_uri": "https://localhost:8080/"
        },
        "id": "wo0nfn8V1x7t",
        "outputId": "9d63cf78-b99b-4e67-c849-a1db37c66739"
      },
      "execution_count": null,
      "outputs": [
        {
          "output_type": "execute_result",
          "data": {
            "text/plain": [
              "array([[192173, 509253, 412984],\n",
              "       [218054, 580306, 432610],\n",
              "       [ 78826, 205318, 146666]])"
            ]
          },
          "metadata": {},
          "execution_count": 35
        }
      ]
    },
    {
      "cell_type": "code",
      "source": [
        "F = (A @ B) @ C\n",
        "F"
      ],
      "metadata": {
        "colab": {
          "base_uri": "https://localhost:8080/"
        },
        "id": "2ZtHqcUi13Ee",
        "outputId": "817e2c0f-137f-4e1f-d121-83fb9ab81cbc"
      },
      "execution_count": null,
      "outputs": [
        {
          "output_type": "execute_result",
          "data": {
            "text/plain": [
              "array([[192173, 509253, 412984],\n",
              "       [218054, 580306, 432610],\n",
              "       [ 78826, 205318, 146666]])"
            ]
          },
          "metadata": {},
          "execution_count": 36
        }
      ]
    },
    {
      "cell_type": "code",
      "source": [
        "np.array_equal(E, X)"
      ],
      "metadata": {
        "colab": {
          "base_uri": "https://localhost:8080/"
        },
        "id": "KAmjxz2g16sm",
        "outputId": "4a6d1f12-1da8-4f05-eddd-20290ad5f407"
      },
      "execution_count": null,
      "outputs": [
        {
          "output_type": "execute_result",
          "data": {
            "text/plain": [
              "False"
            ]
          },
          "metadata": {},
          "execution_count": 37
        }
      ]
    },
    {
      "cell_type": "code",
      "source": [
        "np.array_equiv(E, F)"
      ],
      "metadata": {
        "colab": {
          "base_uri": "https://localhost:8080/"
        },
        "id": "Nz9VuhRa19l0",
        "outputId": "f79dabb0-ab24-47f2-f526-77ab4894ff14"
      },
      "execution_count": null,
      "outputs": [
        {
          "output_type": "execute_result",
          "data": {
            "text/plain": [
              "True"
            ]
          },
          "metadata": {},
          "execution_count": 38
        }
      ]
    },
    {
      "cell_type": "code",
      "source": [
        "A @ E"
      ],
      "metadata": {
        "colab": {
          "base_uri": "https://localhost:8080/"
        },
        "id": "IQpd970v2A_F",
        "outputId": "1861ce2a-9a12-4092-df9a-6d8b5155a7bf"
      },
      "execution_count": null,
      "outputs": [
        {
          "output_type": "execute_result",
          "data": {
            "text/plain": [
              "array([[18165303, 48134759, 37882068],\n",
              "       [20837543, 55276187, 42300610],\n",
              "       [ 6000407, 15878107, 12180826]])"
            ]
          },
          "metadata": {},
          "execution_count": 39
        }
      ]
    },
    {
      "cell_type": "code",
      "source": [
        "z_mat = np.zeros(A.shape)\n",
        "z_mat"
      ],
      "metadata": {
        "colab": {
          "base_uri": "https://localhost:8080/"
        },
        "id": "bnkVO-ok2FGu",
        "outputId": "42ec9a6e-7e42-4b9d-c7e6-f4f569830555"
      },
      "execution_count": null,
      "outputs": [
        {
          "output_type": "execute_result",
          "data": {
            "text/plain": [
              "array([[0., 0., 0.],\n",
              "       [0., 0., 0.],\n",
              "       [0., 0., 0.]])"
            ]
          },
          "metadata": {},
          "execution_count": 53
        }
      ]
    },
    {
      "cell_type": "code",
      "source": [
        "a_dot_z = A.dot(np.zeros(A.shape))\n",
        "a_dot_z"
      ],
      "metadata": {
        "colab": {
          "base_uri": "https://localhost:8080/"
        },
        "id": "XXjgWHxC2J9y",
        "outputId": "8d61e122-e7df-47d1-94fa-8cecced6cb11"
      },
      "execution_count": null,
      "outputs": [
        {
          "output_type": "execute_result",
          "data": {
            "text/plain": [
              "array([[0., 0., 0.],\n",
              "       [0., 0., 0.],\n",
              "       [0., 0., 0.]])"
            ]
          },
          "metadata": {},
          "execution_count": 54
        }
      ]
    },
    {
      "cell_type": "code",
      "source": [
        "np.array_equal(a_dot_z,z_mat)"
      ],
      "metadata": {
        "colab": {
          "base_uri": "https://localhost:8080/"
        },
        "id": "RLYw1kY02Meg",
        "outputId": "77767d49-fd1b-4eec-e3ab-81aa6015201d"
      },
      "execution_count": null,
      "outputs": [
        {
          "output_type": "execute_result",
          "data": {
            "text/plain": [
              "True"
            ]
          },
          "metadata": {},
          "execution_count": 55
        }
      ]
    },
    {
      "cell_type": "code",
      "source": [
        "null_mat = np.empty(A.shape, dtype=float)\n",
        "null = np.array(null_mat,dtype=float)\n",
        "print(null)\n",
        "np.allclose(a_dot_z,null)"
      ],
      "metadata": {
        "colab": {
          "base_uri": "https://localhost:8080/"
        },
        "id": "UXtRiMP-2RO1",
        "outputId": "cd3caf45-4ce5-470e-8734-a28f07025474"
      },
      "execution_count": null,
      "outputs": [
        {
          "output_type": "stream",
          "name": "stdout",
          "text": [
            "[[0. 0. 0.]\n",
            " [0. 0. 0.]\n",
            " [0. 0. 0.]]\n"
          ]
        },
        {
          "output_type": "execute_result",
          "data": {
            "text/plain": [
              "True"
            ]
          },
          "metadata": {},
          "execution_count": 56
        }
      ]
    },
    {
      "cell_type": "markdown",
      "source": [
        "## Determinant"
      ],
      "metadata": {
        "id": "Pt1E0uF32XsH"
      }
    },
    {
      "cell_type": "markdown",
      "source": [
        "A determinant is a scalar value derived from a square matrix. The determinant is a fundamental and important value used in matrix algebra. Although it will not be evident in this laboratory on how it can be used practically, but it will be reatly used in future lessons.\n",
        "\n",
        "The determinant of some matrix $A$ is denoted as $det(A)$ or $|A|$. So let's say $A$ is represented as:\n",
        "$$A = \\begin{bmatrix}a_{(1,1)}&a_{(1,0)}\\\\a_{(0,1)}&a_{(0,0)}\\end{bmatrix}$$\n",
        "We can compute for the determinant as:\n",
        "$$|A| = a_{(0,0)}*a_{(0,0)} - a_{(0,1)}*a_{(1,0)}$$\n",
        "So if we have $A$ as:\n",
        "$$A = \\begin{bmatrix}1&4\\\\0&3\\end{bmatrix}, |A| = 3$$\n",
        "\n",
        "But you might wonder how about square matrices beyond the shape $(2,2)$? We can approach this problem by using several methods such as co-factor expansion and the minors method. This can be taught in the lecture of the laboratory but we can achieve the strenuous computation of high-dimensional matrices programmatically using Python. We can achieve this by using `np.linalg.det()`."
      ],
      "metadata": {
        "id": "9bu8uGUD2iqD"
      }
    },
    {
      "cell_type": "code",
      "source": [
        "A = np.array([\n",
        "    [13,44],\n",
        "    [30,25]\n",
        "])\n",
        "np.linalg.det(A)"
      ],
      "metadata": {
        "colab": {
          "base_uri": "https://localhost:8080/"
        },
        "id": "F5jzKFJI3C8O",
        "outputId": "3050c1ec-1abd-4917-f402-6895fe6b38a8"
      },
      "execution_count": null,
      "outputs": [
        {
          "output_type": "execute_result",
          "data": {
            "text/plain": [
              "-995.0"
            ]
          },
          "metadata": {},
          "execution_count": 57
        }
      ]
    },
    {
      "cell_type": "code",
      "source": [
        "B = np.array([\n",
        "    [51,33,23,44],\n",
        "    [78,69,15,53],\n",
        "    [34,16,94,83],\n",
        "    [77,23,63,38]\n",
        "])\n",
        "np.linalg.det(B)"
      ],
      "metadata": {
        "colab": {
          "base_uri": "https://localhost:8080/"
        },
        "id": "ZUHkno_A3T5k",
        "outputId": "e33c0395-0856-4222-9e1b-f00abcd278ed"
      },
      "execution_count": null,
      "outputs": [
        {
          "output_type": "execute_result",
          "data": {
            "text/plain": [
              "-3305321.999999993"
            ]
          },
          "metadata": {},
          "execution_count": 59
        }
      ]
    },
    {
      "cell_type": "code",
      "source": [
        "C= np.array([\n",
        "             [4,-1,5],\n",
        "             [3,-7,-2],\n",
        "             [9,6,10]\n",
        "])\n",
        "np.linalg.det(C)"
      ],
      "metadata": {
        "colab": {
          "base_uri": "https://localhost:8080/"
        },
        "id": "X2772h-AAKCh",
        "outputId": "2aed3f6c-0cba-4189-abc3-5c03e4f40612"
      },
      "execution_count": null,
      "outputs": [
        {
          "output_type": "execute_result",
          "data": {
            "text/plain": [
              "221.0000000000001"
            ]
          },
          "metadata": {},
          "execution_count": 60
        }
      ]
    },
    {
      "cell_type": "markdown",
      "source": [
        "## Inverse"
      ],
      "metadata": {
        "id": "jLLPAbC83uw3"
      }
    },
    {
      "cell_type": "markdown",
      "source": [
        "The inverse of a matrix is another fundamental operation in matrix algebra. Determining the inverse of a matrix let us determine if its solvability and its characteristic as a system of linear equation — we'll expand on this in the nect module. Another use of the inverse matrix is solving the problem of divisibility between matrices. Although element-wise division exists but dividing the entire concept of matrices does not exists. Inverse matrices provides a related operation that could have the same concept of \"dividing\" matrices.\n",
        "\n",
        "Now to determine the inverse of a matrix we need to perform several steps. So let's say we have a matrix $M$:\n",
        "$$M = \\begin{bmatrix}1&7\\\\-3&5\\end{bmatrix}$$\n",
        "First, we need to get the determinant of $M$.\n",
        "$$|M| = (1)(9)-(-2)(3) = 26$$\n",
        "Next, we need to reform the matrix into the inverse form:\n",
        "$$M^{-1} = \\frac{1}{|M|} \\begin{bmatrix} m_{(1,1)} & -m_{(0,0)} \\\\ -m_{(1,0)} & m_{(0,0)}\\end{bmatrix}$$\n",
        "So that will be:\n",
        "$$M^{-1} = \\frac{1}{29} \\begin{bmatrix} 8 & -2 \\\\ 8 & 1\\end{bmatrix} = \\begin{bmatrix} \\frac{5}{66} & \\frac{-7}{96} \\\\ \\frac{5}{32} & \\frac{2}{24}\\end{bmatrix}$$\n",
        "For higher-dimension matrices you might need to use co-factors, minors, adjugates, and other reduction techinques. To solve this programmatially we can use `np.linalg.inv()`."
      ],
      "metadata": {
        "id": "Nm0uEQPL32Sz"
      }
    },
    {
      "cell_type": "code",
      "source": [
        "M = np.array([\n",
        "    [13,59],\n",
        "    [-65, 25]\n",
        "])\n",
        "\n",
        "np.array(M @ np.linalg.inv(M), dtype=int)"
      ],
      "metadata": {
        "colab": {
          "base_uri": "https://localhost:8080/"
        },
        "id": "HLubryzZ4c7D",
        "outputId": "22220ce3-96ba-40de-b1a2-89f43b6aed38"
      },
      "execution_count": null,
      "outputs": [
        {
          "output_type": "execute_result",
          "data": {
            "text/plain": [
              "array([[1, 0],\n",
              "       [0, 1]])"
            ]
          },
          "metadata": {},
          "execution_count": 61
        }
      ]
    },
    {
      "cell_type": "code",
      "source": [
        "P = np.array([\n",
        "              [44, 57, 40],\n",
        "              [23, 82, -31],\n",
        "              [32, 42, 76]\n",
        "])\n",
        "Q = np.linalg.inv(P)\n",
        "Q"
      ],
      "metadata": {
        "colab": {
          "base_uri": "https://localhost:8080/"
        },
        "id": "y0zNcU6E4nhJ",
        "outputId": "60c7b00d-bb87-4c70-93ee-55530ca51c8d"
      },
      "execution_count": null,
      "outputs": [
        {
          "output_type": "execute_result",
          "data": {
            "text/plain": [
              "array([[ 0.0691218 , -0.02433117, -0.04630445],\n",
              "       [-0.02513854,  0.01893647,  0.0209549 ],\n",
              "       [-0.01521157, -0.00022019,  0.02107417]])"
            ]
          },
          "metadata": {},
          "execution_count": 62
        }
      ]
    },
    {
      "cell_type": "code",
      "source": [
        "P @ Q"
      ],
      "metadata": {
        "colab": {
          "base_uri": "https://localhost:8080/"
        },
        "id": "hYWiBGsY44hu",
        "outputId": "248ed31e-7913-4235-8fde-fd35eaff7a60"
      },
      "execution_count": null,
      "outputs": [
        {
          "output_type": "execute_result",
          "data": {
            "text/plain": [
              "array([[ 1.00000000e+00, -1.79977561e-17,  3.60822483e-16],\n",
              "       [ 7.63278329e-17,  1.00000000e+00,  1.00613962e-16],\n",
              "       [ 2.77555756e-17, -5.77879758e-17,  1.00000000e+00]])"
            ]
          },
          "metadata": {},
          "execution_count": 63
        }
      ]
    },
    {
      "cell_type": "code",
      "source": [
        "N = np.array([\n",
        "    [15,3,53,2,0,43,5],\n",
        "    [31,65,40,16,22,94,25],\n",
        "    [68,29,70,51,32,70,17],\n",
        "    [14,83,27,32,72,63,15],\n",
        "    [82,22,62,31,91,26,10],\n",
        "    [-25,15,68,20,19,26,-50],\n",
        "    [-22,-25,28,22,44,80,72],\n",
        "])\n",
        "N_inv = np.linalg.inv(N)\n",
        "np.array(N @ N_inv,dtype=int)"
      ],
      "metadata": {
        "colab": {
          "base_uri": "https://localhost:8080/"
        },
        "id": "tk4GTS8949og",
        "outputId": "04039f65-13bb-4515-8216-9742975e651f"
      },
      "execution_count": null,
      "outputs": [
        {
          "output_type": "execute_result",
          "data": {
            "text/plain": [
              "array([[1, 0, 0, 0, 0, 0, 0],\n",
              "       [0, 0, 0, 0, 0, 0, 0],\n",
              "       [0, 0, 0, 0, 0, 0, 0],\n",
              "       [0, 0, 0, 0, 0, 0, 0],\n",
              "       [0, 0, 0, 0, 1, 0, 0],\n",
              "       [0, 0, 0, 0, 0, 1, 0],\n",
              "       [0, 0, 0, 0, 0, 0, 1]])"
            ]
          },
          "metadata": {},
          "execution_count": 68
        }
      ]
    },
    {
      "cell_type": "markdown",
      "source": [
        "To validate the wether if the matric that you have solved is really the inverse, we follow this dot product property for a matrix $M$:\n",
        "$$M\\cdot M^{-1} = I$$"
      ],
      "metadata": {
        "id": "CU8lvPUF5phr"
      }
    },
    {
      "cell_type": "code",
      "source": [
        "squad = np.array([\n",
        "    [0.0, 0.1, 0.5],\n",
        "    [0.6, 0.6, 1.8],\n",
        "    [0.2, 0.2, 1.0]\n",
        "])\n",
        "weights = np.array([\n",
        "    [0.1, 0.1, 0.8]\n",
        "])\n",
        "p_grade = squad @ weights.T\n",
        "p_grade"
      ],
      "metadata": {
        "colab": {
          "base_uri": "https://localhost:8080/"
        },
        "id": "9bDV7rLC5uyj",
        "outputId": "933989d2-b042-47d8-d031-48d560de0ff1"
      },
      "execution_count": null,
      "outputs": [
        {
          "output_type": "execute_result",
          "data": {
            "text/plain": [
              "array([[0.41],\n",
              "       [1.56],\n",
              "       [0.84]])"
            ]
          },
          "metadata": {},
          "execution_count": 69
        }
      ]
    },
    {
      "cell_type": "markdown",
      "source": [
        "## Activity"
      ],
      "metadata": {
        "id": "REDUBi176DW8"
      }
    },
    {
      "cell_type": "markdown",
      "source": [
        "### Task 1"
      ],
      "metadata": {
        "id": "rvr4xhjz6IwS"
      }
    },
    {
      "cell_type": "markdown",
      "source": [
        "Prove and implement the remaining 6 matrix multiplication properties. You may create your own matrices in which their shapes should not be lower than $(3,3)$.\n",
        "In your methodology, create individual flowcharts for each property and discuss the property you would then present your proofs or validity of your implementation in the results section by comparing your result to present functions from NumPy."
      ],
      "metadata": {
        "id": "ipsw6Cae6Osp"
      }
    },
    {
      "cell_type": "code",
      "source": [
        "MA = np.array([\n",
        "             [70, 16, 30,21],\n",
        "               [33,34,2,43,599],\n",
        "               [48,100,333,452,567],\n",
        "               [50,1010,55,341,132],\n",
        "               [822,563,77,451,475]\n",
        "])\n",
        "\n",
        "RK = np.array([\n",
        "               [411,33,544,777,897],\n",
        "               [52,432,576,496,15],\n",
        "               [24,666,342,541,70],\n",
        "               [686,18,322,99,754],\n",
        "               [48,36,76,143,413],\n",
        "])\n"
      ],
      "metadata": {
        "id": "LpBeVy7b6Tg_"
      },
      "execution_count": null,
      "outputs": []
    },
    {
      "cell_type": "markdown",
      "source": [
        "$A \\cdot B \\neq B \\cdot A$"
      ],
      "metadata": {
        "id": "eyeOrF5wISOM"
      }
    },
    {
      "cell_type": "code",
      "source": [
        "np.dot(MA,RK)"
      ],
      "metadata": {
        "colab": {
          "base_uri": "https://localhost:8080/"
        },
        "id": "k0v8ZPLrKgZC",
        "outputId": "7086327a-51d9-40de-ab85-7a1f0a452568"
      },
      "execution_count": null,
      "outputs": [
        {
          "output_type": "execute_result",
          "data": {
            "text/plain": [
              "array([list([70, 16, 30, 21, 70, 16, 30, 21, 70, 16, 30, 21, 70, 16, 30, 21, 70, 16, 30, 21, 70, 16, 30, 21, 70, 16, 30, 21, 70, 16, 30, 21, 70, 16, 30, 21, 70, 16, 30, 21, 70, 16, 30, 21, 70, 16, 30, 21, 70, 16, 30, 21, 70, 16, 30, 21, 70, 16, 30, 21, 70, 16, 30, 21, 70, 16, 30, 21, 70, 16, 30, 21, 70, 16, 30, 21, 70, 16, 30, 21, 70, 16, 30, 21, 70, 16, 30, 21, 70, 16, 30, 21, 70, 16, 30, 21, 70, 16, 30, 21, 70, 16, 30, 21, 70, 16, 30, 21, 70, 16, 30, 21, 70, 16, 30, 21, 70, 16, 30, 21, 70, 16, 30, 21, 70, 16, 30, 21, 70, 16, 30, 21, 70, 16, 30, 21, 70, 16, 30, 21, 70, 16, 30, 21, 70, 16, 30, 21, 70, 16, 30, 21, 70, 16, 30, 21, 70, 16, 30, 21, 70, 16, 30, 21, 70, 16, 30, 21, 70, 16, 30, 21, 70, 16, 30, 21, 70, 16, 30, 21, 70, 16, 30, 21, 70, 16, 30, 21, 70, 16, 30, 21, 70, 16, 30, 21, 70, 16, 30, 21, 70, 16, 30, 21, 70, 16, 30, 21, 70, 16, 30, 21, 70, 16, 30, 21, 70, 16, 30, 21, 70, 16, 30, 21, 70, 16, 30, 21, 70, 16, 30, 21, 70, 16, 30, 21, 70, 16, 30, 21, 70, 16, 30, 21, 70, 16, 30, 21, 70, 16, 30, 21, 70, 16, 30, 21, 70, 16, 30, 21, 70, 16, 30, 21, 70, 16, 30, 21, 70, 16, 30, 21, 70, 16, 30, 21, 70, 16, 30, 21, 70, 16, 30, 21, 70, 16, 30, 21, 70, 16, 30, 21, 70, 16, 30, 21, 70, 16, 30, 21, 70, 16, 30, 21, 70, 16, 30, 21, 70, 16, 30, 21, 70, 16, 30, 21, 70, 16, 30, 21, 70, 16, 30, 21, 70, 16, 30, 21, 70, 16, 30, 21, 70, 16, 30, 21, 70, 16, 30, 21, 70, 16, 30, 21, 70, 16, 30, 21, 70, 16, 30, 21, 70, 16, 30, 21, 70, 16, 30, 21, 70, 16, 30, 21, 70, 16, 30, 21, 70, 16, 30, 21, 70, 16, 30, 21, 70, 16, 30, 21, 70, 16, 30, 21, 70, 16, 30, 21, 70, 16, 30, 21, 70, 16, 30, 21, 70, 16, 30, 21, 70, 16, 30, 21, 70, 16, 30, 21, 70, 16, 30, 21, 70, 16, 30, 21, 70, 16, 30, 21, 70, 16, 30, 21, 70, 16, 30, 21, 70, 16, 30, 21, 70, 16, 30, 21, 70, 16, 30, 21, 70, 16, 30, 21, 70, 16, 30, 21, 70, 16, 30, 21, 70, 16, 30, 21, 70, 16, 30, 21, 70, 16, 30, 21, 70, 16, 30, 21, 70, 16, 30, 21, 70, 16, 30, 21, 70, 16, 30, 21, 70, 16, 30, 21, 70, 16, 30, 21, 70, 16, 30, 21, 70, 16, 30, 21, 70, 16, 30, 21, 70, 16, 30, 21, 70, 16, 30, 21, 70, 16, 30, 21, 70, 16, 30, 21, 70, 16, 30, 21, 70, 16, 30, 21, 70, 16, 30, 21, 70, 16, 30, 21, 70, 16, 30, 21, 70, 16, 30, 21, 70, 16, 30, 21, 70, 16, 30, 21, 70, 16, 30, 21, 70, 16, 30, 21, 70, 16, 30, 21, 70, 16, 30, 21, 70, 16, 30, 21, 70, 16, 30, 21, 70, 16, 30, 21, 70, 16, 30, 21, 70, 16, 30, 21, 70, 16, 30, 21, 70, 16, 30, 21, 70, 16, 30, 21, 70, 16, 30, 21, 70, 16, 30, 21, 70, 16, 30, 21, 70, 16, 30, 21, 70, 16, 30, 21, 70, 16, 30, 21, 70, 16, 30, 21, 70, 16, 30, 21, 70, 16, 30, 21, 70, 16, 30, 21, 70, 16, 30, 21, 70, 16, 30, 21, 70, 16, 30, 21, 70, 16, 30, 21, 70, 16, 30, 21, 70, 16, 30, 21, 70, 16, 30, 21, 70, 16, 30, 21, 70, 16, 30, 21, 70, 16, 30, 21, 70, 16, 30, 21, 70, 16, 30, 21, 70, 16, 30, 21, 70, 16, 30, 21, 70, 16, 30, 21, 70, 16, 30, 21, 70, 16, 30, 21, 70, 16, 30, 21, 70, 16, 30, 21, 70, 16, 30, 21, 70, 16, 30, 21, 70, 16, 30, 21, 70, 16, 30, 21, 70, 16, 30, 21, 70, 16, 30, 21, 70, 16, 30, 21, 70, 16, 30, 21, 70, 16, 30, 21, 70, 16, 30, 21, 70, 16, 30, 21, 70, 16, 30, 21, 70, 16, 30, 21, 70, 16, 30, 21, 70, 16, 30, 21, 70, 16, 30, 21, 70, 16, 30, 21, 70, 16, 30, 21, 70, 16, 30, 21, 70, 16, 30, 21, 70, 16, 30, 21, 70, 16, 30, 21, 70, 16, 30, 21, 70, 16, 30, 21, 70, 16, 30, 21, 70, 16, 30, 21, 70, 16, 30, 21, 70, 16, 30, 21, 70, 16, 30, 21, 70, 16, 30, 21, 70, 16, 30, 21, 70, 16, 30, 21, 70, 16, 30, 21, 70, 16, 30, 21, 70, 16, 30, 21, 70, 16, 30, 21, 70, 16, 30, 21, 70, 16, 30, 21, 70, 16, 30, 21, 70, 16, 30, 21, 70, 16, 30, 21, 70, 16, 30, 21, 70, 16, 30, 21, 70, 16, 30, 21, 70, 16, 30, 21, 70, 16, 30, 21, 70, 16, 30, 21, 70, 16, 30, 21, 70, 16, 30, 21, 70, 16, 30, 21, 70, 16, 30, 21, 70, 16, 30, 21, 70, 16, 30, 21, 70, 16, 30, 21, 70, 16, 30, 21, 70, 16, 30, 21, 70, 16, 30, 21, 70, 16, 30, 21, 70, 16, 30, 21, 70, 16, 30, 21, 70, 16, 30, 21, 70, 16, 30, 21, 70, 16, 30, 21, 70, 16, 30, 21, 70, 16, 30, 21, 70, 16, 30, 21, 70, 16, 30, 21, 70, 16, 30, 21, 70, 16, 30, 21, 70, 16, 30, 21, 70, 16, 30, 21, 70, 16, 30, 21, 70, 16, 30, 21, 70, 16, 30, 21, 70, 16, 30, 21, 70, 16, 30, 21, 70, 16, 30, 21, 70, 16, 30, 21, 70, 16, 30, 21, 70, 16, 30, 21, 70, 16, 30, 21, 70, 16, 30, 21, 70, 16, 30, 21, 70, 16, 30, 21, 70, 16, 30, 21, 70, 16, 30, 21, 70, 16, 30, 21, 70, 16, 30, 21, 70, 16, 30, 21, 70, 16, 30, 21, 70, 16, 30, 21, 70, 16, 30, 21, 70, 16, 30, 21, 70, 16, 30, 21, 70, 16, 30, 21, 70, 16, 30, 21, 70, 16, 30, 21, 70, 16, 30, 21, 70, 16, 30, 21, 70, 16, 30, 21, 70, 16, 30, 21, 70, 16, 30, 21, 70, 16, 30, 21, 70, 16, 30, 21, 70, 16, 30, 21, 70, 16, 30, 21, 70, 16, 30, 21, 70, 16, 30, 21, 70, 16, 30, 21, 70, 16, 30, 21, 70, 16, 30, 21, 70, 16, 30, 21, 70, 16, 30, 21, 70, 16, 30, 21, 70, 16, 30, 21, 70, 16, 30, 21, 70, 16, 30, 21, 70, 16, 30, 21, 70, 16, 30, 21, 70, 16, 30, 21, 70, 16, 30, 21, 70, 16, 30, 21, 70, 16, 30, 21, 70, 16, 30, 21, 70, 16, 30, 21, 70, 16, 30, 21, 70, 16, 30, 21, 70, 16, 30, 21, 70, 16, 30, 21, 70, 16, 30, 21, 70, 16, 30, 21, 70, 16, 30, 21, 70, 16, 30, 21, 70, 16, 30, 21, 70, 16, 30, 21, 70, 16, 30, 21, 70, 16, 30, 21, 70, 16, 30, 21, 70, 16, 30, 21, 70, 16, 30, 21, 70, 16, 30, 21, 70, 16, 30, 21, 70, 16, 30, 21, 70, 16, 30, 21, 70, 16, 30, 21, 70, 16, 30, 21, 70, 16, 30, 21, 70, 16, 30, 21, 70, 16, 30, 21, 70, 16, 30, 21, 70, 16, 30, 21, 70, 16, 30, 21, 70, 16, 30, 21, 70, 16, 30, 21, 70, 16, 30, 21, 70, 16, 30, 21, 70, 16, 30, 21, 70, 16, 30, 21, 70, 16, 30, 21, 70, 16, 30, 21, 70, 16, 30, 21, 70, 16, 30, 21, 70, 16, 30, 21, 70, 16, 30, 21, 70, 16, 30, 21, 70, 16, 30, 21, 70, 16, 30, 21, 70, 16, 30, 21, 70, 16, 30, 21, 70, 16, 30, 21, 70, 16, 30, 21, 70, 16, 30, 21, 70, 16, 30, 21, 70, 16, 30, 21, 70, 16, 30, 21, 70, 16, 30, 21, 70, 16, 30, 21, 70, 16, 30, 21, 70, 16, 30, 21, 70, 16, 30, 21, 70, 16, 30, 21, 70, 16, 30, 21, 70, 16, 30, 21, 70, 16, 30, 21, 70, 16, 30, 21, 70, 16, 30, 21, 70, 16, 30, 21, 70, 16, 30, 21, 70, 16, 30, 21, 70, 16, 30, 21, 70, 16, 30, 21, 70, 16, 30, 21, 70, 16, 30, 21, 70, 16, 30, 21, 70, 16, 30, 21, 70, 16, 30, 21, 70, 16, 30, 21, 70, 16, 30, 21, 70, 16, 30, 21, 70, 16, 30, 21, 70, 16, 30, 21, 70, 16, 30, 21, 70, 16, 30, 21, 70, 16, 30, 21, 70, 16, 30, 21, 70, 16, 30, 21, 70, 16, 30, 21, 70, 16, 30, 21, 70, 16, 30, 21, 70, 16, 30, 21, 70, 16, 30, 21, 70, 16, 30, 21, 70, 16, 30, 21, 70, 16, 30, 21, 70, 16, 30, 21, 70, 16, 30, 21, 70, 16, 30, 21, 70, 16, 30, 21, 70, 16, 30, 21, 70, 16, 30, 21, 70, 16, 30, 21, 70, 16, 30, 21, 70, 16, 30, 21, 70, 16, 30, 21, 70, 16, 30, 21, 70, 16, 30, 21, 70, 16, 30, 21, 70, 16, 30, 21, 70, 16, 30, 21, 70, 16, 30, 21, 70, 16, 30, 21, 70, 16, 30, 21, 70, 16, 30, 21, 33, 34, 2, 43, 599, 33, 34, 2, 43, 599, 33, 34, 2, 43, 599, 33, 34, 2, 43, 599, 33, 34, 2, 43, 599, 33, 34, 2, 43, 599, 33, 34, 2, 43, 599, 33, 34, 2, 43, 599, 33, 34, 2, 43, 599, 33, 34, 2, 43, 599, 33, 34, 2, 43, 599, 33, 34, 2, 43, 599, 33, 34, 2, 43, 599, 33, 34, 2, 43, 599, 33, 34, 2, 43, 599, 33, 34, 2, 43, 599, 33, 34, 2, 43, 599, 33, 34, 2, 43, 599, 33, 34, 2, 43, 599, 33, 34, 2, 43, 599, 33, 34, 2, 43, 599, 33, 34, 2, 43, 599, 33, 34, 2, 43, 599, 33, 34, 2, 43, 599, 33, 34, 2, 43, 599, 33, 34, 2, 43, 599, 33, 34, 2, 43, 599, 33, 34, 2, 43, 599, 33, 34, 2, 43, 599, 33, 34, 2, 43, 599, 33, 34, 2, 43, 599, 33, 34, 2, 43, 599, 33, 34, 2, 43, 599, 33, 34, 2, 43, 599, 33, 34, 2, 43, 599, 33, 34, 2, 43, 599, 33, 34, 2, 43, 599, 33, 34, 2, 43, 599, 33, 34, 2, 43, 599, 33, 34, 2, 43, 599, 33, 34, 2, 43, 599, 33, 34, 2, 43, 599, 33, 34, 2, 43, 599, 33, 34, 2, 43, 599, 33, 34, 2, 43, 599, 33, 34, 2, 43, 599, 33, 34, 2, 43, 599, 33, 34, 2, 43, 599, 33, 34, 2, 43, 599, 33, 34, 2, 43, 599, 33, 34, 2, 43, 599, 33, 34, 2, 43, 599, 48, 100, 333, 452, 567, 48, 100, 333, 452, 567, 48, 100, 333, 452, 567, 48, 100, 333, 452, 567, 48, 100, 333, 452, 567, 48, 100, 333, 452, 567, 48, 100, 333, 452, 567, 48, 100, 333, 452, 567, 48, 100, 333, 452, 567, 48, 100, 333, 452, 567, 48, 100, 333, 452, 567, 48, 100, 333, 452, 567, 48, 100, 333, 452, 567, 48, 100, 333, 452, 567, 48, 100, 333, 452, 567, 48, 100, 333, 452, 567, 48, 100, 333, 452, 567, 48, 100, 333, 452, 567, 48, 100, 333, 452, 567, 48, 100, 333, 452, 567, 48, 100, 333, 452, 567, 48, 100, 333, 452, 567, 48, 100, 333, 452, 567, 48, 100, 333, 452, 567, 50, 1010, 55, 341, 132, 50, 1010, 55, 341, 132, 50, 1010, 55, 341, 132, 50, 1010, 55, 341, 132, 50, 1010, 55, 341, 132, 50, 1010, 55, 341, 132, 50, 1010, 55, 341, 132, 50, 1010, 55, 341, 132, 50, 1010, 55, 341, 132, 50, 1010, 55, 341, 132, 50, 1010, 55, 341, 132, 50, 1010, 55, 341, 132, 50, 1010, 55, 341, 132, 50, 1010, 55, 341, 132, 50, 1010, 55, 341, 132, 50, 1010, 55, 341, 132, 50, 1010, 55, 341, 132, 50, 1010, 55, 341, 132, 50, 1010, 55, 341, 132, 50, 1010, 55, 341, 132, 50, 1010, 55, 341, 132, 50, 1010, 55, 341, 132, 50, 1010, 55, 341, 132, 50, 1010, 55, 341, 132, 50, 1010, 55, 341, 132, 50, 1010, 55, 341, 132, 50, 1010, 55, 341, 132, 50, 1010, 55, 341, 132, 50, 1010, 55, 341, 132, 50, 1010, 55, 341, 132, 50, 1010, 55, 341, 132, 50, 1010, 55, 341, 132, 50, 1010, 55, 341, 132, 50, 1010, 55, 341, 132, 50, 1010, 55, 341, 132, 50, 1010, 55, 341, 132, 50, 1010, 55, 341, 132, 50, 1010, 55, 341, 132, 50, 1010, 55, 341, 132, 50, 1010, 55, 341, 132, 50, 1010, 55, 341, 132, 50, 1010, 55, 341, 132, 50, 1010, 55, 341, 132, 50, 1010, 55, 341, 132, 50, 1010, 55, 341, 132, 50, 1010, 55, 341, 132, 50, 1010, 55, 341, 132, 50, 1010, 55, 341, 132, 50, 1010, 55, 341, 132, 50, 1010, 55, 341, 132, 50, 1010, 55, 341, 132, 50, 1010, 55, 341, 132, 50, 1010, 55, 341, 132, 50, 1010, 55, 341, 132, 50, 1010, 55, 341, 132, 50, 1010, 55, 341, 132, 50, 1010, 55, 341, 132, 50, 1010, 55, 341, 132, 50, 1010, 55, 341, 132, 50, 1010, 55, 341, 132, 50, 1010, 55, 341, 132, 50, 1010, 55, 341, 132, 50, 1010, 55, 341, 132, 50, 1010, 55, 341, 132, 50, 1010, 55, 341, 132, 50, 1010, 55, 341, 132, 50, 1010, 55, 341, 132, 50, 1010, 55, 341, 132, 50, 1010, 55, 341, 132, 50, 1010, 55, 341, 132, 50, 1010, 55, 341, 132, 50, 1010, 55, 341, 132, 50, 1010, 55, 341, 132, 50, 1010, 55, 341, 132, 50, 1010, 55, 341, 132, 50, 1010, 55, 341, 132, 50, 1010, 55, 341, 132, 50, 1010, 55, 341, 132, 50, 1010, 55, 341, 132, 50, 1010, 55, 341, 132, 50, 1010, 55, 341, 132, 50, 1010, 55, 341, 132, 50, 1010, 55, 341, 132, 50, 1010, 55, 341, 132, 50, 1010, 55, 341, 132, 50, 1010, 55, 341, 132, 50, 1010, 55, 341, 132, 50, 1010, 55, 341, 132, 50, 1010, 55, 341, 132, 50, 1010, 55, 341, 132, 50, 1010, 55, 341, 132, 50, 1010, 55, 341, 132, 50, 1010, 55, 341, 132, 50, 1010, 55, 341, 132, 50, 1010, 55, 341, 132, 50, 1010, 55, 341, 132, 50, 1010, 55, 341, 132, 50, 1010, 55, 341, 132, 50, 1010, 55, 341, 132, 50, 1010, 55, 341, 132, 50, 1010, 55, 341, 132, 50, 1010, 55, 341, 132, 50, 1010, 55, 341, 132, 50, 1010, 55, 341, 132, 50, 1010, 55, 341, 132, 50, 1010, 55, 341, 132, 50, 1010, 55, 341, 132, 50, 1010, 55, 341, 132, 50, 1010, 55, 341, 132, 50, 1010, 55, 341, 132, 50, 1010, 55, 341, 132, 50, 1010, 55, 341, 132, 50, 1010, 55, 341, 132, 50, 1010, 55, 341, 132, 50, 1010, 55, 341, 132, 50, 1010, 55, 341, 132, 50, 1010, 55, 341, 132, 50, 1010, 55, 341, 132, 50, 1010, 55, 341, 132, 50, 1010, 55, 341, 132, 50, 1010, 55, 341, 132, 50, 1010, 55, 341, 132, 50, 1010, 55, 341, 132, 50, 1010, 55, 341, 132, 50, 1010, 55, 341, 132, 50, 1010, 55, 341, 132, 50, 1010, 55, 341, 132, 50, 1010, 55, 341, 132, 50, 1010, 55, 341, 132, 50, 1010, 55, 341, 132, 50, 1010, 55, 341, 132, 50, 1010, 55, 341, 132, 50, 1010, 55, 341, 132, 50, 1010, 55, 341, 132, 50, 1010, 55, 341, 132, 50, 1010, 55, 341, 132, 50, 1010, 55, 341, 132, 50, 1010, 55, 341, 132, 50, 1010, 55, 341, 132, 50, 1010, 55, 341, 132, 50, 1010, 55, 341, 132, 50, 1010, 55, 341, 132, 50, 1010, 55, 341, 132, 50, 1010, 55, 341, 132, 50, 1010, 55, 341, 132, 50, 1010, 55, 341, 132, 50, 1010, 55, 341, 132, 50, 1010, 55, 341, 132, 50, 1010, 55, 341, 132, 50, 1010, 55, 341, 132, 50, 1010, 55, 341, 132, 50, 1010, 55, 341, 132, 50, 1010, 55, 341, 132, 50, 1010, 55, 341, 132, 50, 1010, 55, 341, 132, 50, 1010, 55, 341, 132, 50, 1010, 55, 341, 132, 50, 1010, 55, 341, 132, 50, 1010, 55, 341, 132, 50, 1010, 55, 341, 132, 50, 1010, 55, 341, 132, 50, 1010, 55, 341, 132, 50, 1010, 55, 341, 132, 50, 1010, 55, 341, 132, 50, 1010, 55, 341, 132, 50, 1010, 55, 341, 132, 50, 1010, 55, 341, 132, 50, 1010, 55, 341, 132, 50, 1010, 55, 341, 132, 50, 1010, 55, 341, 132, 50, 1010, 55, 341, 132, 50, 1010, 55, 341, 132, 50, 1010, 55, 341, 132, 50, 1010, 55, 341, 132, 50, 1010, 55, 341, 132, 50, 1010, 55, 341, 132, 50, 1010, 55, 341, 132, 50, 1010, 55, 341, 132, 50, 1010, 55, 341, 132, 50, 1010, 55, 341, 132, 50, 1010, 55, 341, 132, 50, 1010, 55, 341, 132, 50, 1010, 55, 341, 132, 50, 1010, 55, 341, 132, 50, 1010, 55, 341, 132, 50, 1010, 55, 341, 132, 50, 1010, 55, 341, 132, 50, 1010, 55, 341, 132, 50, 1010, 55, 341, 132, 50, 1010, 55, 341, 132, 50, 1010, 55, 341, 132, 50, 1010, 55, 341, 132, 50, 1010, 55, 341, 132, 50, 1010, 55, 341, 132, 50, 1010, 55, 341, 132, 50, 1010, 55, 341, 132, 50, 1010, 55, 341, 132, 50, 1010, 55, 341, 132, 50, 1010, 55, 341, 132, 50, 1010, 55, 341, 132, 50, 1010, 55, 341, 132, 50, 1010, 55, 341, 132, 50, 1010, 55, 341, 132, 50, 1010, 55, 341, 132, 50, 1010, 55, 341, 132, 50, 1010, 55, 341, 132, 50, 1010, 55, 341, 132, 50, 1010, 55, 341, 132, 50, 1010, 55, 341, 132, 50, 1010, 55, 341, 132, 50, 1010, 55, 341, 132, 50, 1010, 55, 341, 132, 50, 1010, 55, 341, 132, 50, 1010, 55, 341, 132, 50, 1010, 55, 341, 132, 50, 1010, 55, 341, 132, 50, 1010, 55, 341, 132, 50, 1010, 55, 341, 132, 50, 1010, 55, 341, 132, 50, 1010, 55, 341, 132, 50, 1010, 55, 341, 132, 50, 1010, 55, 341, 132, 50, 1010, 55, 341, 132, 50, 1010, 55, 341, 132, 50, 1010, 55, 341, 132, 50, 1010, 55, 341, 132, 50, 1010, 55, 341, 132, 50, 1010, 55, 341, 132, 50, 1010, 55, 341, 132, 50, 1010, 55, 341, 132, 50, 1010, 55, 341, 132, 50, 1010, 55, 341, 132, 50, 1010, 55, 341, 132, 50, 1010, 55, 341, 132, 50, 1010, 55, 341, 132, 50, 1010, 55, 341, 132, 50, 1010, 55, 341, 132, 50, 1010, 55, 341, 132, 50, 1010, 55, 341, 132, 50, 1010, 55, 341, 132, 50, 1010, 55, 341, 132, 50, 1010, 55, 341, 132, 50, 1010, 55, 341, 132, 50, 1010, 55, 341, 132, 50, 1010, 55, 341, 132, 50, 1010, 55, 341, 132, 50, 1010, 55, 341, 132, 50, 1010, 55, 341, 132, 50, 1010, 55, 341, 132, 50, 1010, 55, 341, 132, 50, 1010, 55, 341, 132, 50, 1010, 55, 341, 132, 50, 1010, 55, 341, 132, 50, 1010, 55, 341, 132, 50, 1010, 55, 341, 132, 50, 1010, 55, 341, 132, 50, 1010, 55, 341, 132, 50, 1010, 55, 341, 132, 50, 1010, 55, 341, 132, 50, 1010, 55, 341, 132, 50, 1010, 55, 341, 132, 50, 1010, 55, 341, 132, 50, 1010, 55, 341, 132, 50, 1010, 55, 341, 132, 50, 1010, 55, 341, 132, 50, 1010, 55, 341, 132, 50, 1010, 55, 341, 132, 50, 1010, 55, 341, 132, 50, 1010, 55, 341, 132, 50, 1010, 55, 341, 132, 50, 1010, 55, 341, 132, 50, 1010, 55, 341, 132, 50, 1010, 55, 341, 132, 50, 1010, 55, 341, 132, 50, 1010, 55, 341, 132, 50, 1010, 55, 341, 132, 50, 1010, 55, 341, 132, 50, 1010, 55, 341, 132, 50, 1010, 55, 341, 132, 50, 1010, 55, 341, 132, 50, 1010, 55, 341, 132, 50, 1010, 55, 341, 132, 50, 1010, 55, 341, 132, 50, 1010, 55, 341, 132, 50, 1010, 55, 341, 132, 50, 1010, 55, 341, 132, 50, 1010, 55, 341, 132, 50, 1010, 55, 341, 132, 50, 1010, 55, 341, 132, 50, 1010, 55, 341, 132, 50, 1010, 55, 341, 132, 50, 1010, 55, 341, 132, 50, 1010, 55, 341, 132, 50, 1010, 55, 341, 132, 50, 1010, 55, 341, 132, 50, 1010, 55, 341, 132, 50, 1010, 55, 341, 132, 50, 1010, 55, 341, 132, 50, 1010, 55, 341, 132, 50, 1010, 55, 341, 132, 50, 1010, 55, 341, 132, 50, 1010, 55, 341, 132, 50, 1010, 55, 341, 132, 50, 1010, 55, 341, 132, 50, 1010, 55, 341, 132, 50, 1010, 55, 341, 132, 50, 1010, 55, 341, 132, 50, 1010, 55, 341, 132, 50, 1010, 55, 341, 132, 50, 1010, 55, 341, 132, 50, 1010, 55, 341, 132, 50, 1010, 55, 341, 132, 50, 1010, 55, 341, 132, 50, 1010, 55, 341, 132, 50, 1010, 55, 341, 132, 50, 1010, 55, 341, 132, 50, 1010, 55, 341, 132, 50, 1010, 55, 341, 132, 50, 1010, 55, 341, 132, 50, 1010, 55, 341, 132, 50, 1010, 55, 341, 132, 50, 1010, 55, 341, 132, 50, 1010, 55, 341, 132, 50, 1010, 55, 341, 132, 50, 1010, 55, 341, 132, 50, 1010, 55, 341, 132, 50, 1010, 55, 341, 132, 50, 1010, 55, 341, 132, 50, 1010, 55, 341, 132, 50, 1010, 55, 341, 132, 50, 1010, 55, 341, 132, 50, 1010, 55, 341, 132, 50, 1010, 55, 341, 132, 50, 1010, 55, 341, 132, 50, 1010, 55, 341, 132, 50, 1010, 55, 341, 132, 50, 1010, 55, 341, 132, 50, 1010, 55, 341, 132, 50, 1010, 55, 341, 132, 50, 1010, 55, 341, 132, 50, 1010, 55, 341, 132, 50, 1010, 55, 341, 132, 50, 1010, 55, 341, 132, 50, 1010, 55, 341, 132, 50, 1010, 55, 341, 132, 50, 1010, 55, 341, 132, 50, 1010, 55, 341, 132, 50, 1010, 55, 341, 132, 50, 1010, 55, 341, 132, 50, 1010, 55, 341, 132, 50, 1010, 55, 341, 132, 50, 1010, 55, 341, 132, 50, 1010, 55, 341, 132, 50, 1010, 55, 341, 132, 50, 1010, 55, 341, 132, 50, 1010, 55, 341, 132, 50, 1010, 55, 341, 132, 50, 1010, 55, 341, 132, 50, 1010, 55, 341, 132, 50, 1010, 55, 341, 132, 50, 1010, 55, 341, 132, 50, 1010, 55, 341, 132, 50, 1010, 55, 341, 132, 50, 1010, 55, 341, 132, 50, 1010, 55, 341, 132, 50, 1010, 55, 341, 132, 50, 1010, 55, 341, 132, 50, 1010, 55, 341, 132, 50, 1010, 55, 341, 132, 50, 1010, 55, 341, 132, 50, 1010, 55, 341, 132, 50, 1010, 55, 341, 132, 50, 1010, 55, 341, 132, 50, 1010, 55, 341, 132, 50, 1010, 55, 341, 132, 50, 1010, 55, 341, 132, 50, 1010, 55, 341, 132, 50, 1010, 55, 341, 132, 50, 1010, 55, 341, 132, 50, 1010, 55, 341, 132, 50, 1010, 55, 341, 132, 50, 1010, 55, 341, 132, 50, 1010, 55, 341, 132, 50, 1010, 55, 341, 132, 50, 1010, 55, 341, 132, 50, 1010, 55, 341, 132, 50, 1010, 55, 341, 132, 50, 1010, 55, 341, 132, 50, 1010, 55, 341, 132, 50, 1010, 55, 341, 132, 50, 1010, 55, 341, 132, 50, 1010, 55, 341, 132, 50, 1010, 55, 341, 132, 50, 1010, 55, 341, 132, 50, 1010, 55, 341, 132, 50, 1010, 55, 341, 132, 50, 1010, 55, 341, 132, 50, 1010, 55, 341, 132, 50, 1010, 55, 341, 132, 50, 1010, 55, 341, 132, 50, 1010, 55, 341, 132, 50, 1010, 55, 341, 132, 50, 1010, 55, 341, 132, 50, 1010, 55, 341, 132, 50, 1010, 55, 341, 132, 50, 1010, 55, 341, 132, 50, 1010, 55, 341, 132, 50, 1010, 55, 341, 132, 50, 1010, 55, 341, 132, 50, 1010, 55, 341, 132, 50, 1010, 55, 341, 132, 50, 1010, 55, 341, 132, 50, 1010, 55, 341, 132, 50, 1010, 55, 341, 132, 50, 1010, 55, 341, 132, 50, 1010, 55, 341, 132, 50, 1010, 55, 341, 132, 50, 1010, 55, 341, 132, 50, 1010, 55, 341, 132, 50, 1010, 55, 341, 132, 50, 1010, 55, 341, 132, 50, 1010, 55, 341, 132, 50, 1010, 55, 341, 132, 50, 1010, 55, 341, 132, 50, 1010, 55, 341, 132, 50, 1010, 55, 341, 132, 50, 1010, 55, 341, 132, 50, 1010, 55, 341, 132, 50, 1010, 55, 341, 132, 50, 1010, 55, 341, 132, 50, 1010, 55, 341, 132, 50, 1010, 55, 341, 132, 50, 1010, 55, 341, 132, 50, 1010, 55, 341, 132, 50, 1010, 55, 341, 132, 50, 1010, 55, 341, 132, 50, 1010, 55, 341, 132, 50, 1010, 55, 341, 132, 50, 1010, 55, 341, 132, 50, 1010, 55, 341, 132, 50, 1010, 55, 341, 132, 50, 1010, 55, 341, 132, 50, 1010, 55, 341, 132, 50, 1010, 55, 341, 132, 50, 1010, 55, 341, 132, 50, 1010, 55, 341, 132, 50, 1010, 55, 341, 132, 50, 1010, 55, 341, 132, 50, 1010, 55, 341, 132, 50, 1010, 55, 341, 132, 50, 1010, 55, 341, 132, 50, 1010, 55, 341, 132, 50, 1010, 55, 341, 132, 50, 1010, 55, 341, 132, 50, 1010, 55, 341, 132, 50, 1010, 55, 341, 132, 50, 1010, 55, 341, 132, 50, 1010, 55, 341, 132, 50, 1010, 55, 341, 132, 50, 1010, 55, 341, 132, 50, 1010, 55, 341, 132, 50, 1010, 55, 341, 132, 50, 1010, 55, 341, 132, 50, 1010, 55, 341, 132, 50, 1010, 55, 341, 132, 50, 1010, 55, 341, 132, 50, 1010, 55, 341, 132, 50, 1010, 55, 341, 132, 50, 1010, 55, 341, 132, 50, 1010, 55, 341, 132, 50, 1010, 55, 341, 132, 50, 1010, 55, 341, 132, 50, 1010, 55, 341, 132, 50, 1010, 55, 341, 132, 50, 1010, 55, 341, 132, 50, 1010, 55, 341, 132, 50, 1010, 55, 341, 132, 50, 1010, 55, 341, 132, 50, 1010, 55, 341, 132, 50, 1010, 55, 341, 132, 50, 1010, 55, 341, 132, 50, 1010, 55, 341, 132, 50, 1010, 55, 341, 132, 50, 1010, 55, 341, 132, 50, 1010, 55, 341, 132, 50, 1010, 55, 341, 132, 50, 1010, 55, 341, 132, 50, 1010, 55, 341, 132, 50, 1010, 55, 341, 132, 50, 1010, 55, 341, 132, 50, 1010, 55, 341, 132, 50, 1010, 55, 341, 132, 50, 1010, 55, 341, 132, 50, 1010, 55, 341, 132, 50, 1010, 55, 341, 132, 50, 1010, 55, 341, 132, 50, 1010, 55, 341, 132, 50, 1010, 55, 341, 132, 50, 1010, 55, 341, 132, 50, 1010, 55, 341, 132, 50, 1010, 55, 341, 132, 50, 1010, 55, 341, 132, 50, 1010, 55, 341, 132, 50, 1010, 55, 341, 132, 50, 1010, 55, 341, 132, 50, 1010, 55, 341, 132, 50, 1010, 55, 341, 132, 50, 1010, 55, 341, 132, 50, 1010, 55, 341, 132, 50, 1010, 55, 341, 132, 50, 1010, 55, 341, 132, 50, 1010, 55, 341, 132, 50, 1010, 55, 341, 132, 50, 1010, 55, 341, 132, 50, 1010, 55, 341, 132, 50, 1010, 55, 341, 132, 50, 1010, 55, 341, 132, 50, 1010, 55, 341, 132, 50, 1010, 55, 341, 132, 50, 1010, 55, 341, 132, 50, 1010, 55, 341, 132, 50, 1010, 55, 341, 132, 50, 1010, 55, 341, 132, 50, 1010, 55, 341, 132, 50, 1010, 55, 341, 132, 50, 1010, 55, 341, 132, 50, 1010, 55, 341, 132, 50, 1010, 55, 341, 132, 50, 1010, 55, 341, 132, 50, 1010, 55, 341, 132, 50, 1010, 55, 341, 132, 50, 1010, 55, 341, 132, 50, 1010, 55, 341, 132, 50, 1010, 55, 341, 132, 50, 1010, 55, 341, 132, 50, 1010, 55, 341, 132, 50, 1010, 55, 341, 132, 50, 1010, 55, 341, 132, 50, 1010, 55, 341, 132, 50, 1010, 55, 341, 132, 50, 1010, 55, 341, 132, 50, 1010, 55, 341, 132, 50, 1010, 55, 341, 132, 50, 1010, 55, 341, 132, 50, 1010, 55, 341, 132, 50, 1010, 55, 341, 132, 50, 1010, 55, 341, 132, 50, 1010, 55, 341, 132, 50, 1010, 55, 341, 132, 50, 1010, 55, 341, 132, 50, 1010, 55, 341, 132, 50, 1010, 55, 341, 132, 50, 1010, 55, 341, 132, 50, 1010, 55, 341, 132, 50, 1010, 55, 341, 132, 50, 1010, 55, 341, 132, 50, 1010, 55, 341, 132, 50, 1010, 55, 341, 132, 50, 1010, 55, 341, 132, 50, 1010, 55, 341, 132, 50, 1010, 55, 341, 132, 50, 1010, 55, 341, 132, 50, 1010, 55, 341, 132, 50, 1010, 55, 341, 132, 50, 1010, 55, 341, 132, 50, 1010, 55, 341, 132, 50, 1010, 55, 341, 132, 50, 1010, 55, 341, 132, 50, 1010, 55, 341, 132, 50, 1010, 55, 341, 132, 50, 1010, 55, 341, 132, 50, 1010, 55, 341, 132, 50, 1010, 55, 341, 132, 50, 1010, 55, 341, 132, 50, 1010, 55, 341, 132, 50, 1010, 55, 341, 132, 50, 1010, 55, 341, 132, 50, 1010, 55, 341, 132, 50, 1010, 55, 341, 132, 50, 1010, 55, 341, 132, 50, 1010, 55, 341, 132, 50, 1010, 55, 341, 132, 50, 1010, 55, 341, 132, 50, 1010, 55, 341, 132, 50, 1010, 55, 341, 132, 50, 1010, 55, 341, 132, 50, 1010, 55, 341, 132, 50, 1010, 55, 341, 132, 50, 1010, 55, 341, 132, 50, 1010, 55, 341, 132, 50, 1010, 55, 341, 132, 50, 1010, 55, 341, 132, 50, 1010, 55, 341, 132, 50, 1010, 55, 341, 132, 50, 1010, 55, 341, 132, 50, 1010, 55, 341, 132, 50, 1010, 55, 341, 132, 50, 1010, 55, 341, 132, 50, 1010, 55, 341, 132, 50, 1010, 55, 341, 132, 50, 1010, 55, 341, 132, 50, 1010, 55, 341, 132, 50, 1010, 55, 341, 132, 50, 1010, 55, 341, 132, 50, 1010, 55, 341, 132, 50, 1010, 55, 341, 132, 50, 1010, 55, 341, 132, 50, 1010, 55, 341, 132, 50, 1010, 55, 341, 132, 50, 1010, 55, 341, 132, 50, 1010, 55, 341, 132, 50, 1010, 55, 341, 132, 50, 1010, 55, 341, 132, 50, 1010, 55, 341, 132, 50, 1010, 55, 341, 132, 50, 1010, 55, 341, 132, 50, 1010, 55, 341, 132, 50, 1010, 55, 341, 132, 50, 1010, 55, 341, 132, 50, 1010, 55, 341, 132, 50, 1010, 55, 341, 132, 50, 1010, 55, 341, 132, 50, 1010, 55, 341, 132, 50, 1010, 55, 341, 132, 50, 1010, 55, 341, 132, 50, 1010, 55, 341, 132, 50, 1010, 55, 341, 132, 50, 1010, 55, 341, 132, 50, 1010, 55, 341, 132, 50, 1010, 55, 341, 132, 50, 1010, 55, 341, 132, 50, 1010, 55, 341, 132, 50, 1010, 55, 341, 132, 50, 1010, 55, 341, 132, 50, 1010, 55, 341, 132, 50, 1010, 55, 341, 132, 50, 1010, 55, 341, 132, 50, 1010, 55, 341, 132, 50, 1010, 55, 341, 132, 50, 1010, 55, 341, 132, 50, 1010, 55, 341, 132, 50, 1010, 55, 341, 132, 50, 1010, 55, 341, 132, 50, 1010, 55, 341, 132, 50, 1010, 55, 341, 132, 50, 1010, 55, 341, 132, 50, 1010, 55, 341, 132, 50, 1010, 55, 341, 132, 50, 1010, 55, 341, 132, 50, 1010, 55, 341, 132, 50, 1010, 55, 341, 132, 50, 1010, 55, 341, 132, 50, 1010, 55, 341, 132, 50, 1010, 55, 341, 132, 50, 1010, 55, 341, 132, 50, 1010, 55, 341, 132, 50, 1010, 55, 341, 132, 50, 1010, 55, 341, 132, 50, 1010, 55, 341, 132, 50, 1010, 55, 341, 132, 50, 1010, 55, 341, 132, 50, 1010, 55, 341, 132, 50, 1010, 55, 341, 132, 50, 1010, 55, 341, 132, 50, 1010, 55, 341, 132, 50, 1010, 55, 341, 132, 50, 1010, 55, 341, 132, 50, 1010, 55, 341, 132, 50, 1010, 55, 341, 132, 50, 1010, 55, 341, 132, 50, 1010, 55, 341, 132, 50, 1010, 55, 341, 132, 50, 1010, 55, 341, 132, 50, 1010, 55, 341, 132, 50, 1010, 55, 341, 132, 50, 1010, 55, 341, 132, 50, 1010, 55, 341, 132, 50, 1010, 55, 341, 132, 50, 1010, 55, 341, 132, 50, 1010, 55, 341, 132, 50, 1010, 55, 341, 132, 50, 1010, 55, 341, 132, 50, 1010, 55, 341, 132, 50, 1010, 55, 341, 132, 50, 1010, 55, 341, 132, 50, 1010, 55, 341, 132, 822, 563, 77, 451, 475, 822, 563, 77, 451, 475, 822, 563, 77, 451, 475, 822, 563, 77, 451, 475, 822, 563, 77, 451, 475, 822, 563, 77, 451, 475, 822, 563, 77, 451, 475, 822, 563, 77, 451, 475, 822, 563, 77, 451, 475, 822, 563, 77, 451, 475, 822, 563, 77, 451, 475, 822, 563, 77, 451, 475, 822, 563, 77, 451, 475, 822, 563, 77, 451, 475, 822, 563, 77, 451, 475, 822, 563, 77, 451, 475, 822, 563, 77, 451, 475, 822, 563, 77, 451, 475, 822, 563, 77, 451, 475, 822, 563, 77, 451, 475, 822, 563, 77, 451, 475, 822, 563, 77, 451, 475, 822, 563, 77, 451, 475, 822, 563, 77, 451, 475, 822, 563, 77, 451, 475, 822, 563, 77, 451, 475, 822, 563, 77, 451, 475, 822, 563, 77, 451, 475, 822, 563, 77, 451, 475, 822, 563, 77, 451, 475, 822, 563, 77, 451, 475, 822, 563, 77, 451, 475, 822, 563, 77, 451, 475, 822, 563, 77, 451, 475, 822, 563, 77, 451, 475, 822, 563, 77, 451, 475, 822, 563, 77, 451, 475, 822, 563, 77, 451, 475, 822, 563, 77, 451, 475, 822, 563, 77, 451, 475, 822, 563, 77, 451, 475, 822, 563, 77, 451, 475, 822, 563, 77, 451, 475, 822, 563, 77, 451, 475, 822, 563, 77, 451, 475, 822, 563, 77, 451, 475, 822, 563, 77, 451, 475, 822, 563, 77, 451, 475]),\n",
              "       list([70, 16, 30, 21, 70, 16, 30, 21, 70, 16, 30, 21, 70, 16, 30, 21, 70, 16, 30, 21, 70, 16, 30, 21, 70, 16, 30, 21, 70, 16, 30, 21, 70, 16, 30, 21, 70, 16, 30, 21, 70, 16, 30, 21, 70, 16, 30, 21, 70, 16, 30, 21, 70, 16, 30, 21, 70, 16, 30, 21, 70, 16, 30, 21, 70, 16, 30, 21, 70, 16, 30, 21, 70, 16, 30, 21, 70, 16, 30, 21, 70, 16, 30, 21, 70, 16, 30, 21, 70, 16, 30, 21, 70, 16, 30, 21, 70, 16, 30, 21, 70, 16, 30, 21, 70, 16, 30, 21, 70, 16, 30, 21, 70, 16, 30, 21, 70, 16, 30, 21, 70, 16, 30, 21, 70, 16, 30, 21, 70, 16, 30, 21, 33, 34, 2, 43, 599, 33, 34, 2, 43, 599, 33, 34, 2, 43, 599, 33, 34, 2, 43, 599, 33, 34, 2, 43, 599, 33, 34, 2, 43, 599, 33, 34, 2, 43, 599, 33, 34, 2, 43, 599, 33, 34, 2, 43, 599, 33, 34, 2, 43, 599, 33, 34, 2, 43, 599, 33, 34, 2, 43, 599, 33, 34, 2, 43, 599, 33, 34, 2, 43, 599, 33, 34, 2, 43, 599, 33, 34, 2, 43, 599, 33, 34, 2, 43, 599, 33, 34, 2, 43, 599, 33, 34, 2, 43, 599, 33, 34, 2, 43, 599, 33, 34, 2, 43, 599, 33, 34, 2, 43, 599, 33, 34, 2, 43, 599, 33, 34, 2, 43, 599, 33, 34, 2, 43, 599, 33, 34, 2, 43, 599, 33, 34, 2, 43, 599, 33, 34, 2, 43, 599, 33, 34, 2, 43, 599, 33, 34, 2, 43, 599, 33, 34, 2, 43, 599, 33, 34, 2, 43, 599, 33, 34, 2, 43, 599, 33, 34, 2, 43, 599, 33, 34, 2, 43, 599, 33, 34, 2, 43, 599, 33, 34, 2, 43, 599, 33, 34, 2, 43, 599, 33, 34, 2, 43, 599, 33, 34, 2, 43, 599, 33, 34, 2, 43, 599, 33, 34, 2, 43, 599, 33, 34, 2, 43, 599, 33, 34, 2, 43, 599, 33, 34, 2, 43, 599, 33, 34, 2, 43, 599, 33, 34, 2, 43, 599, 33, 34, 2, 43, 599, 33, 34, 2, 43, 599, 33, 34, 2, 43, 599, 33, 34, 2, 43, 599, 33, 34, 2, 43, 599, 33, 34, 2, 43, 599, 33, 34, 2, 43, 599, 33, 34, 2, 43, 599, 33, 34, 2, 43, 599, 33, 34, 2, 43, 599, 33, 34, 2, 43, 599, 33, 34, 2, 43, 599, 33, 34, 2, 43, 599, 33, 34, 2, 43, 599, 33, 34, 2, 43, 599, 33, 34, 2, 43, 599, 33, 34, 2, 43, 599, 33, 34, 2, 43, 599, 33, 34, 2, 43, 599, 33, 34, 2, 43, 599, 33, 34, 2, 43, 599, 33, 34, 2, 43, 599, 33, 34, 2, 43, 599, 33, 34, 2, 43, 599, 33, 34, 2, 43, 599, 33, 34, 2, 43, 599, 33, 34, 2, 43, 599, 33, 34, 2, 43, 599, 33, 34, 2, 43, 599, 33, 34, 2, 43, 599, 33, 34, 2, 43, 599, 33, 34, 2, 43, 599, 33, 34, 2, 43, 599, 33, 34, 2, 43, 599, 33, 34, 2, 43, 599, 33, 34, 2, 43, 599, 33, 34, 2, 43, 599, 33, 34, 2, 43, 599, 33, 34, 2, 43, 599, 33, 34, 2, 43, 599, 33, 34, 2, 43, 599, 33, 34, 2, 43, 599, 33, 34, 2, 43, 599, 33, 34, 2, 43, 599, 33, 34, 2, 43, 599, 33, 34, 2, 43, 599, 33, 34, 2, 43, 599, 33, 34, 2, 43, 599, 33, 34, 2, 43, 599, 33, 34, 2, 43, 599, 33, 34, 2, 43, 599, 33, 34, 2, 43, 599, 33, 34, 2, 43, 599, 33, 34, 2, 43, 599, 33, 34, 2, 43, 599, 33, 34, 2, 43, 599, 33, 34, 2, 43, 599, 33, 34, 2, 43, 599, 33, 34, 2, 43, 599, 33, 34, 2, 43, 599, 33, 34, 2, 43, 599, 33, 34, 2, 43, 599, 33, 34, 2, 43, 599, 33, 34, 2, 43, 599, 33, 34, 2, 43, 599, 33, 34, 2, 43, 599, 33, 34, 2, 43, 599, 33, 34, 2, 43, 599, 33, 34, 2, 43, 599, 33, 34, 2, 43, 599, 33, 34, 2, 43, 599, 33, 34, 2, 43, 599, 33, 34, 2, 43, 599, 33, 34, 2, 43, 599, 33, 34, 2, 43, 599, 33, 34, 2, 43, 599, 33, 34, 2, 43, 599, 33, 34, 2, 43, 599, 33, 34, 2, 43, 599, 33, 34, 2, 43, 599, 33, 34, 2, 43, 599, 33, 34, 2, 43, 599, 33, 34, 2, 43, 599, 33, 34, 2, 43, 599, 33, 34, 2, 43, 599, 33, 34, 2, 43, 599, 33, 34, 2, 43, 599, 33, 34, 2, 43, 599, 33, 34, 2, 43, 599, 33, 34, 2, 43, 599, 33, 34, 2, 43, 599, 33, 34, 2, 43, 599, 33, 34, 2, 43, 599, 33, 34, 2, 43, 599, 33, 34, 2, 43, 599, 33, 34, 2, 43, 599, 33, 34, 2, 43, 599, 33, 34, 2, 43, 599, 33, 34, 2, 43, 599, 33, 34, 2, 43, 599, 33, 34, 2, 43, 599, 33, 34, 2, 43, 599, 33, 34, 2, 43, 599, 33, 34, 2, 43, 599, 33, 34, 2, 43, 599, 33, 34, 2, 43, 599, 33, 34, 2, 43, 599, 33, 34, 2, 43, 599, 33, 34, 2, 43, 599, 33, 34, 2, 43, 599, 33, 34, 2, 43, 599, 33, 34, 2, 43, 599, 33, 34, 2, 43, 599, 33, 34, 2, 43, 599, 33, 34, 2, 43, 599, 33, 34, 2, 43, 599, 33, 34, 2, 43, 599, 33, 34, 2, 43, 599, 33, 34, 2, 43, 599, 33, 34, 2, 43, 599, 33, 34, 2, 43, 599, 33, 34, 2, 43, 599, 33, 34, 2, 43, 599, 33, 34, 2, 43, 599, 33, 34, 2, 43, 599, 33, 34, 2, 43, 599, 33, 34, 2, 43, 599, 33, 34, 2, 43, 599, 33, 34, 2, 43, 599, 33, 34, 2, 43, 599, 33, 34, 2, 43, 599, 33, 34, 2, 43, 599, 33, 34, 2, 43, 599, 33, 34, 2, 43, 599, 33, 34, 2, 43, 599, 33, 34, 2, 43, 599, 33, 34, 2, 43, 599, 33, 34, 2, 43, 599, 33, 34, 2, 43, 599, 33, 34, 2, 43, 599, 33, 34, 2, 43, 599, 33, 34, 2, 43, 599, 33, 34, 2, 43, 599, 33, 34, 2, 43, 599, 33, 34, 2, 43, 599, 33, 34, 2, 43, 599, 33, 34, 2, 43, 599, 33, 34, 2, 43, 599, 33, 34, 2, 43, 599, 33, 34, 2, 43, 599, 33, 34, 2, 43, 599, 33, 34, 2, 43, 599, 33, 34, 2, 43, 599, 33, 34, 2, 43, 599, 33, 34, 2, 43, 599, 33, 34, 2, 43, 599, 33, 34, 2, 43, 599, 33, 34, 2, 43, 599, 33, 34, 2, 43, 599, 33, 34, 2, 43, 599, 33, 34, 2, 43, 599, 33, 34, 2, 43, 599, 33, 34, 2, 43, 599, 33, 34, 2, 43, 599, 33, 34, 2, 43, 599, 33, 34, 2, 43, 599, 33, 34, 2, 43, 599, 33, 34, 2, 43, 599, 33, 34, 2, 43, 599, 33, 34, 2, 43, 599, 33, 34, 2, 43, 599, 33, 34, 2, 43, 599, 33, 34, 2, 43, 599, 33, 34, 2, 43, 599, 33, 34, 2, 43, 599, 33, 34, 2, 43, 599, 33, 34, 2, 43, 599, 33, 34, 2, 43, 599, 33, 34, 2, 43, 599, 33, 34, 2, 43, 599, 33, 34, 2, 43, 599, 33, 34, 2, 43, 599, 33, 34, 2, 43, 599, 33, 34, 2, 43, 599, 33, 34, 2, 43, 599, 33, 34, 2, 43, 599, 33, 34, 2, 43, 599, 33, 34, 2, 43, 599, 33, 34, 2, 43, 599, 33, 34, 2, 43, 599, 33, 34, 2, 43, 599, 33, 34, 2, 43, 599, 33, 34, 2, 43, 599, 33, 34, 2, 43, 599, 33, 34, 2, 43, 599, 33, 34, 2, 43, 599, 33, 34, 2, 43, 599, 33, 34, 2, 43, 599, 33, 34, 2, 43, 599, 33, 34, 2, 43, 599, 33, 34, 2, 43, 599, 33, 34, 2, 43, 599, 33, 34, 2, 43, 599, 33, 34, 2, 43, 599, 33, 34, 2, 43, 599, 33, 34, 2, 43, 599, 33, 34, 2, 43, 599, 33, 34, 2, 43, 599, 33, 34, 2, 43, 599, 33, 34, 2, 43, 599, 33, 34, 2, 43, 599, 33, 34, 2, 43, 599, 33, 34, 2, 43, 599, 33, 34, 2, 43, 599, 33, 34, 2, 43, 599, 33, 34, 2, 43, 599, 33, 34, 2, 43, 599, 33, 34, 2, 43, 599, 33, 34, 2, 43, 599, 33, 34, 2, 43, 599, 33, 34, 2, 43, 599, 33, 34, 2, 43, 599, 33, 34, 2, 43, 599, 33, 34, 2, 43, 599, 33, 34, 2, 43, 599, 33, 34, 2, 43, 599, 33, 34, 2, 43, 599, 33, 34, 2, 43, 599, 33, 34, 2, 43, 599, 33, 34, 2, 43, 599, 33, 34, 2, 43, 599, 33, 34, 2, 43, 599, 33, 34, 2, 43, 599, 33, 34, 2, 43, 599, 33, 34, 2, 43, 599, 33, 34, 2, 43, 599, 33, 34, 2, 43, 599, 33, 34, 2, 43, 599, 33, 34, 2, 43, 599, 33, 34, 2, 43, 599, 33, 34, 2, 43, 599, 33, 34, 2, 43, 599, 33, 34, 2, 43, 599, 33, 34, 2, 43, 599, 33, 34, 2, 43, 599, 33, 34, 2, 43, 599, 33, 34, 2, 43, 599, 33, 34, 2, 43, 599, 33, 34, 2, 43, 599, 33, 34, 2, 43, 599, 33, 34, 2, 43, 599, 33, 34, 2, 43, 599, 33, 34, 2, 43, 599, 33, 34, 2, 43, 599, 33, 34, 2, 43, 599, 33, 34, 2, 43, 599, 33, 34, 2, 43, 599, 33, 34, 2, 43, 599, 33, 34, 2, 43, 599, 33, 34, 2, 43, 599, 33, 34, 2, 43, 599, 33, 34, 2, 43, 599, 33, 34, 2, 43, 599, 33, 34, 2, 43, 599, 33, 34, 2, 43, 599, 33, 34, 2, 43, 599, 33, 34, 2, 43, 599, 33, 34, 2, 43, 599, 33, 34, 2, 43, 599, 33, 34, 2, 43, 599, 33, 34, 2, 43, 599, 33, 34, 2, 43, 599, 33, 34, 2, 43, 599, 33, 34, 2, 43, 599, 33, 34, 2, 43, 599, 33, 34, 2, 43, 599, 33, 34, 2, 43, 599, 33, 34, 2, 43, 599, 33, 34, 2, 43, 599, 33, 34, 2, 43, 599, 33, 34, 2, 43, 599, 33, 34, 2, 43, 599, 33, 34, 2, 43, 599, 33, 34, 2, 43, 599, 33, 34, 2, 43, 599, 33, 34, 2, 43, 599, 33, 34, 2, 43, 599, 33, 34, 2, 43, 599, 33, 34, 2, 43, 599, 33, 34, 2, 43, 599, 33, 34, 2, 43, 599, 33, 34, 2, 43, 599, 33, 34, 2, 43, 599, 33, 34, 2, 43, 599, 33, 34, 2, 43, 599, 33, 34, 2, 43, 599, 33, 34, 2, 43, 599, 33, 34, 2, 43, 599, 33, 34, 2, 43, 599, 33, 34, 2, 43, 599, 33, 34, 2, 43, 599, 33, 34, 2, 43, 599, 33, 34, 2, 43, 599, 33, 34, 2, 43, 599, 33, 34, 2, 43, 599, 33, 34, 2, 43, 599, 33, 34, 2, 43, 599, 33, 34, 2, 43, 599, 33, 34, 2, 43, 599, 33, 34, 2, 43, 599, 33, 34, 2, 43, 599, 33, 34, 2, 43, 599, 33, 34, 2, 43, 599, 33, 34, 2, 43, 599, 33, 34, 2, 43, 599, 33, 34, 2, 43, 599, 33, 34, 2, 43, 599, 33, 34, 2, 43, 599, 33, 34, 2, 43, 599, 33, 34, 2, 43, 599, 33, 34, 2, 43, 599, 33, 34, 2, 43, 599, 33, 34, 2, 43, 599, 33, 34, 2, 43, 599, 33, 34, 2, 43, 599, 33, 34, 2, 43, 599, 33, 34, 2, 43, 599, 33, 34, 2, 43, 599, 33, 34, 2, 43, 599, 33, 34, 2, 43, 599, 33, 34, 2, 43, 599, 33, 34, 2, 43, 599, 33, 34, 2, 43, 599, 33, 34, 2, 43, 599, 33, 34, 2, 43, 599, 33, 34, 2, 43, 599, 33, 34, 2, 43, 599, 33, 34, 2, 43, 599, 33, 34, 2, 43, 599, 33, 34, 2, 43, 599, 33, 34, 2, 43, 599, 33, 34, 2, 43, 599, 33, 34, 2, 43, 599, 33, 34, 2, 43, 599, 33, 34, 2, 43, 599, 33, 34, 2, 43, 599, 33, 34, 2, 43, 599, 33, 34, 2, 43, 599, 33, 34, 2, 43, 599, 33, 34, 2, 43, 599, 33, 34, 2, 43, 599, 33, 34, 2, 43, 599, 33, 34, 2, 43, 599, 33, 34, 2, 43, 599, 33, 34, 2, 43, 599, 33, 34, 2, 43, 599, 33, 34, 2, 43, 599, 33, 34, 2, 43, 599, 33, 34, 2, 43, 599, 33, 34, 2, 43, 599, 33, 34, 2, 43, 599, 33, 34, 2, 43, 599, 33, 34, 2, 43, 599, 33, 34, 2, 43, 599, 33, 34, 2, 43, 599, 33, 34, 2, 43, 599, 33, 34, 2, 43, 599, 33, 34, 2, 43, 599, 33, 34, 2, 43, 599, 33, 34, 2, 43, 599, 33, 34, 2, 43, 599, 33, 34, 2, 43, 599, 33, 34, 2, 43, 599, 33, 34, 2, 43, 599, 33, 34, 2, 43, 599, 33, 34, 2, 43, 599, 33, 34, 2, 43, 599, 33, 34, 2, 43, 599, 33, 34, 2, 43, 599, 33, 34, 2, 43, 599, 33, 34, 2, 43, 599, 33, 34, 2, 43, 599, 33, 34, 2, 43, 599, 33, 34, 2, 43, 599, 33, 34, 2, 43, 599, 48, 100, 333, 452, 567, 48, 100, 333, 452, 567, 48, 100, 333, 452, 567, 48, 100, 333, 452, 567, 48, 100, 333, 452, 567, 48, 100, 333, 452, 567, 48, 100, 333, 452, 567, 48, 100, 333, 452, 567, 48, 100, 333, 452, 567, 48, 100, 333, 452, 567, 48, 100, 333, 452, 567, 48, 100, 333, 452, 567, 48, 100, 333, 452, 567, 48, 100, 333, 452, 567, 48, 100, 333, 452, 567, 48, 100, 333, 452, 567, 48, 100, 333, 452, 567, 48, 100, 333, 452, 567, 48, 100, 333, 452, 567, 48, 100, 333, 452, 567, 48, 100, 333, 452, 567, 48, 100, 333, 452, 567, 48, 100, 333, 452, 567, 48, 100, 333, 452, 567, 48, 100, 333, 452, 567, 48, 100, 333, 452, 567, 48, 100, 333, 452, 567, 48, 100, 333, 452, 567, 48, 100, 333, 452, 567, 48, 100, 333, 452, 567, 48, 100, 333, 452, 567, 48, 100, 333, 452, 567, 48, 100, 333, 452, 567, 48, 100, 333, 452, 567, 48, 100, 333, 452, 567, 48, 100, 333, 452, 567, 48, 100, 333, 452, 567, 48, 100, 333, 452, 567, 48, 100, 333, 452, 567, 48, 100, 333, 452, 567, 48, 100, 333, 452, 567, 48, 100, 333, 452, 567, 48, 100, 333, 452, 567, 48, 100, 333, 452, 567, 48, 100, 333, 452, 567, 48, 100, 333, 452, 567, 48, 100, 333, 452, 567, 48, 100, 333, 452, 567, 48, 100, 333, 452, 567, 48, 100, 333, 452, 567, 48, 100, 333, 452, 567, 48, 100, 333, 452, 567, 48, 100, 333, 452, 567, 48, 100, 333, 452, 567, 48, 100, 333, 452, 567, 48, 100, 333, 452, 567, 48, 100, 333, 452, 567, 48, 100, 333, 452, 567, 48, 100, 333, 452, 567, 48, 100, 333, 452, 567, 48, 100, 333, 452, 567, 48, 100, 333, 452, 567, 48, 100, 333, 452, 567, 48, 100, 333, 452, 567, 48, 100, 333, 452, 567, 48, 100, 333, 452, 567, 48, 100, 333, 452, 567, 48, 100, 333, 452, 567, 48, 100, 333, 452, 567, 48, 100, 333, 452, 567, 48, 100, 333, 452, 567, 48, 100, 333, 452, 567, 48, 100, 333, 452, 567, 48, 100, 333, 452, 567, 48, 100, 333, 452, 567, 48, 100, 333, 452, 567, 48, 100, 333, 452, 567, 48, 100, 333, 452, 567, 48, 100, 333, 452, 567, 48, 100, 333, 452, 567, 48, 100, 333, 452, 567, 48, 100, 333, 452, 567, 48, 100, 333, 452, 567, 48, 100, 333, 452, 567, 48, 100, 333, 452, 567, 48, 100, 333, 452, 567, 48, 100, 333, 452, 567, 48, 100, 333, 452, 567, 48, 100, 333, 452, 567, 48, 100, 333, 452, 567, 48, 100, 333, 452, 567, 48, 100, 333, 452, 567, 48, 100, 333, 452, 567, 48, 100, 333, 452, 567, 48, 100, 333, 452, 567, 48, 100, 333, 452, 567, 48, 100, 333, 452, 567, 48, 100, 333, 452, 567, 48, 100, 333, 452, 567, 48, 100, 333, 452, 567, 48, 100, 333, 452, 567, 48, 100, 333, 452, 567, 48, 100, 333, 452, 567, 48, 100, 333, 452, 567, 48, 100, 333, 452, 567, 48, 100, 333, 452, 567, 48, 100, 333, 452, 567, 48, 100, 333, 452, 567, 48, 100, 333, 452, 567, 48, 100, 333, 452, 567, 48, 100, 333, 452, 567, 48, 100, 333, 452, 567, 48, 100, 333, 452, 567, 48, 100, 333, 452, 567, 48, 100, 333, 452, 567, 48, 100, 333, 452, 567, 48, 100, 333, 452, 567, 48, 100, 333, 452, 567, 48, 100, 333, 452, 567, 48, 100, 333, 452, 567, 48, 100, 333, 452, 567, 48, 100, 333, 452, 567, 48, 100, 333, 452, 567, 48, 100, 333, 452, 567, 48, 100, 333, 452, 567, 48, 100, 333, 452, 567, 48, 100, 333, 452, 567, 48, 100, 333, 452, 567, 48, 100, 333, 452, 567, 48, 100, 333, 452, 567, 48, 100, 333, 452, 567, 48, 100, 333, 452, 567, 48, 100, 333, 452, 567, 48, 100, 333, 452, 567, 48, 100, 333, 452, 567, 48, 100, 333, 452, 567, 48, 100, 333, 452, 567, 48, 100, 333, 452, 567, 48, 100, 333, 452, 567, 48, 100, 333, 452, 567, 48, 100, 333, 452, 567, 48, 100, 333, 452, 567, 48, 100, 333, 452, 567, 48, 100, 333, 452, 567, 48, 100, 333, 452, 567, 48, 100, 333, 452, 567, 48, 100, 333, 452, 567, 48, 100, 333, 452, 567, 48, 100, 333, 452, 567, 48, 100, 333, 452, 567, 48, 100, 333, 452, 567, 48, 100, 333, 452, 567, 48, 100, 333, 452, 567, 48, 100, 333, 452, 567, 48, 100, 333, 452, 567, 48, 100, 333, 452, 567, 48, 100, 333, 452, 567, 48, 100, 333, 452, 567, 48, 100, 333, 452, 567, 48, 100, 333, 452, 567, 48, 100, 333, 452, 567, 48, 100, 333, 452, 567, 48, 100, 333, 452, 567, 48, 100, 333, 452, 567, 48, 100, 333, 452, 567, 48, 100, 333, 452, 567, 48, 100, 333, 452, 567, 48, 100, 333, 452, 567, 48, 100, 333, 452, 567, 48, 100, 333, 452, 567, 48, 100, 333, 452, 567, 48, 100, 333, 452, 567, 48, 100, 333, 452, 567, 48, 100, 333, 452, 567, 48, 100, 333, 452, 567, 48, 100, 333, 452, 567, 48, 100, 333, 452, 567, 48, 100, 333, 452, 567, 48, 100, 333, 452, 567, 48, 100, 333, 452, 567, 48, 100, 333, 452, 567, 48, 100, 333, 452, 567, 48, 100, 333, 452, 567, 48, 100, 333, 452, 567, 48, 100, 333, 452, 567, 48, 100, 333, 452, 567, 48, 100, 333, 452, 567, 48, 100, 333, 452, 567, 48, 100, 333, 452, 567, 48, 100, 333, 452, 567, 48, 100, 333, 452, 567, 48, 100, 333, 452, 567, 48, 100, 333, 452, 567, 48, 100, 333, 452, 567, 48, 100, 333, 452, 567, 48, 100, 333, 452, 567, 48, 100, 333, 452, 567, 48, 100, 333, 452, 567, 48, 100, 333, 452, 567, 48, 100, 333, 452, 567, 48, 100, 333, 452, 567, 48, 100, 333, 452, 567, 48, 100, 333, 452, 567, 48, 100, 333, 452, 567, 48, 100, 333, 452, 567, 48, 100, 333, 452, 567, 48, 100, 333, 452, 567, 48, 100, 333, 452, 567, 48, 100, 333, 452, 567, 48, 100, 333, 452, 567, 48, 100, 333, 452, 567, 48, 100, 333, 452, 567, 48, 100, 333, 452, 567, 48, 100, 333, 452, 567, 48, 100, 333, 452, 567, 48, 100, 333, 452, 567, 48, 100, 333, 452, 567, 48, 100, 333, 452, 567, 48, 100, 333, 452, 567, 48, 100, 333, 452, 567, 48, 100, 333, 452, 567, 48, 100, 333, 452, 567, 48, 100, 333, 452, 567, 48, 100, 333, 452, 567, 48, 100, 333, 452, 567, 48, 100, 333, 452, 567, 48, 100, 333, 452, 567, 48, 100, 333, 452, 567, 48, 100, 333, 452, 567, 48, 100, 333, 452, 567, 48, 100, 333, 452, 567, 48, 100, 333, 452, 567, 48, 100, 333, 452, 567, 48, 100, 333, 452, 567, 48, 100, 333, 452, 567, 48, 100, 333, 452, 567, 48, 100, 333, 452, 567, 48, 100, 333, 452, 567, 48, 100, 333, 452, 567, 48, 100, 333, 452, 567, 48, 100, 333, 452, 567, 48, 100, 333, 452, 567, 48, 100, 333, 452, 567, 48, 100, 333, 452, 567, 48, 100, 333, 452, 567, 48, 100, 333, 452, 567, 48, 100, 333, 452, 567, 48, 100, 333, 452, 567, 48, 100, 333, 452, 567, 48, 100, 333, 452, 567, 48, 100, 333, 452, 567, 48, 100, 333, 452, 567, 48, 100, 333, 452, 567, 48, 100, 333, 452, 567, 48, 100, 333, 452, 567, 48, 100, 333, 452, 567, 48, 100, 333, 452, 567, 48, 100, 333, 452, 567, 48, 100, 333, 452, 567, 48, 100, 333, 452, 567, 48, 100, 333, 452, 567, 48, 100, 333, 452, 567, 48, 100, 333, 452, 567, 48, 100, 333, 452, 567, 48, 100, 333, 452, 567, 48, 100, 333, 452, 567, 48, 100, 333, 452, 567, 48, 100, 333, 452, 567, 48, 100, 333, 452, 567, 48, 100, 333, 452, 567, 48, 100, 333, 452, 567, 48, 100, 333, 452, 567, 48, 100, 333, 452, 567, 48, 100, 333, 452, 567, 48, 100, 333, 452, 567, 48, 100, 333, 452, 567, 48, 100, 333, 452, 567, 48, 100, 333, 452, 567, 48, 100, 333, 452, 567, 48, 100, 333, 452, 567, 48, 100, 333, 452, 567, 48, 100, 333, 452, 567, 48, 100, 333, 452, 567, 48, 100, 333, 452, 567, 48, 100, 333, 452, 567, 48, 100, 333, 452, 567, 48, 100, 333, 452, 567, 48, 100, 333, 452, 567, 48, 100, 333, 452, 567, 48, 100, 333, 452, 567, 48, 100, 333, 452, 567, 48, 100, 333, 452, 567, 48, 100, 333, 452, 567, 48, 100, 333, 452, 567, 48, 100, 333, 452, 567, 48, 100, 333, 452, 567, 48, 100, 333, 452, 567, 48, 100, 333, 452, 567, 48, 100, 333, 452, 567, 48, 100, 333, 452, 567, 48, 100, 333, 452, 567, 48, 100, 333, 452, 567, 48, 100, 333, 452, 567, 48, 100, 333, 452, 567, 48, 100, 333, 452, 567, 48, 100, 333, 452, 567, 48, 100, 333, 452, 567, 48, 100, 333, 452, 567, 48, 100, 333, 452, 567, 48, 100, 333, 452, 567, 48, 100, 333, 452, 567, 48, 100, 333, 452, 567, 48, 100, 333, 452, 567, 48, 100, 333, 452, 567, 48, 100, 333, 452, 567, 48, 100, 333, 452, 567, 48, 100, 333, 452, 567, 48, 100, 333, 452, 567, 48, 100, 333, 452, 567, 48, 100, 333, 452, 567, 48, 100, 333, 452, 567, 48, 100, 333, 452, 567, 48, 100, 333, 452, 567, 48, 100, 333, 452, 567, 48, 100, 333, 452, 567, 48, 100, 333, 452, 567, 48, 100, 333, 452, 567, 48, 100, 333, 452, 567, 48, 100, 333, 452, 567, 48, 100, 333, 452, 567, 48, 100, 333, 452, 567, 48, 100, 333, 452, 567, 48, 100, 333, 452, 567, 48, 100, 333, 452, 567, 48, 100, 333, 452, 567, 48, 100, 333, 452, 567, 48, 100, 333, 452, 567, 48, 100, 333, 452, 567, 48, 100, 333, 452, 567, 48, 100, 333, 452, 567, 48, 100, 333, 452, 567, 48, 100, 333, 452, 567, 48, 100, 333, 452, 567, 48, 100, 333, 452, 567, 48, 100, 333, 452, 567, 48, 100, 333, 452, 567, 48, 100, 333, 452, 567, 48, 100, 333, 452, 567, 48, 100, 333, 452, 567, 48, 100, 333, 452, 567, 48, 100, 333, 452, 567, 48, 100, 333, 452, 567, 48, 100, 333, 452, 567, 48, 100, 333, 452, 567, 48, 100, 333, 452, 567, 48, 100, 333, 452, 567, 48, 100, 333, 452, 567, 48, 100, 333, 452, 567, 48, 100, 333, 452, 567, 48, 100, 333, 452, 567, 48, 100, 333, 452, 567, 48, 100, 333, 452, 567, 48, 100, 333, 452, 567, 48, 100, 333, 452, 567, 48, 100, 333, 452, 567, 48, 100, 333, 452, 567, 48, 100, 333, 452, 567, 48, 100, 333, 452, 567, 48, 100, 333, 452, 567, 48, 100, 333, 452, 567, 48, 100, 333, 452, 567, 48, 100, 333, 452, 567, 48, 100, 333, 452, 567, 48, 100, 333, 452, 567, 48, 100, 333, 452, 567, 48, 100, 333, 452, 567, 48, 100, 333, 452, 567, 48, 100, 333, 452, 567, 48, 100, 333, 452, 567, 48, 100, 333, 452, 567, 48, 100, 333, 452, 567, 48, 100, 333, 452, 567, 48, 100, 333, 452, 567, 48, 100, 333, 452, 567, 48, 100, 333, 452, 567, 48, 100, 333, 452, 567, 48, 100, 333, 452, 567, 48, 100, 333, 452, 567, 48, 100, 333, 452, 567, 48, 100, 333, 452, 567, 48, 100, 333, 452, 567, 48, 100, 333, 452, 567, 48, 100, 333, 452, 567, 48, 100, 333, 452, 567, 48, 100, 333, 452, 567, 48, 100, 333, 452, 567, 48, 100, 333, 452, 567, 48, 100, 333, 452, 567, 48, 100, 333, 452, 567, 48, 100, 333, 452, 567, 48, 100, 333, 452, 567, 48, 100, 333, 452, 567, 48, 100, 333, 452, 567, 48, 100, 333, 452, 567, 48, 100, 333, 452, 567, 48, 100, 333, 452, 567, 48, 100, 333, 452, 567, 48, 100, 333, 452, 567, 48, 100, 333, 452, 567, 48, 100, 333, 452, 567, 48, 100, 333, 452, 567, 48, 100, 333, 452, 567, 48, 100, 333, 452, 567, 48, 100, 333, 452, 567, 48, 100, 333, 452, 567, 48, 100, 333, 452, 567, 48, 100, 333, 452, 567, 48, 100, 333, 452, 567, 48, 100, 333, 452, 567, 48, 100, 333, 452, 567, 48, 100, 333, 452, 567, 48, 100, 333, 452, 567, 48, 100, 333, 452, 567, 48, 100, 333, 452, 567, 48, 100, 333, 452, 567, 48, 100, 333, 452, 567, 48, 100, 333, 452, 567, 48, 100, 333, 452, 567, 48, 100, 333, 452, 567, 48, 100, 333, 452, 567, 48, 100, 333, 452, 567, 48, 100, 333, 452, 567, 48, 100, 333, 452, 567, 48, 100, 333, 452, 567, 48, 100, 333, 452, 567, 48, 100, 333, 452, 567, 48, 100, 333, 452, 567, 48, 100, 333, 452, 567, 48, 100, 333, 452, 567, 48, 100, 333, 452, 567, 48, 100, 333, 452, 567, 48, 100, 333, 452, 567, 48, 100, 333, 452, 567, 48, 100, 333, 452, 567, 48, 100, 333, 452, 567, 48, 100, 333, 452, 567, 48, 100, 333, 452, 567, 48, 100, 333, 452, 567, 48, 100, 333, 452, 567, 48, 100, 333, 452, 567, 48, 100, 333, 452, 567, 48, 100, 333, 452, 567, 48, 100, 333, 452, 567, 48, 100, 333, 452, 567, 48, 100, 333, 452, 567, 48, 100, 333, 452, 567, 48, 100, 333, 452, 567, 48, 100, 333, 452, 567, 48, 100, 333, 452, 567, 48, 100, 333, 452, 567, 48, 100, 333, 452, 567, 48, 100, 333, 452, 567, 48, 100, 333, 452, 567, 48, 100, 333, 452, 567, 48, 100, 333, 452, 567, 48, 100, 333, 452, 567, 48, 100, 333, 452, 567, 48, 100, 333, 452, 567, 48, 100, 333, 452, 567, 48, 100, 333, 452, 567, 48, 100, 333, 452, 567, 48, 100, 333, 452, 567, 48, 100, 333, 452, 567, 48, 100, 333, 452, 567, 48, 100, 333, 452, 567, 48, 100, 333, 452, 567, 48, 100, 333, 452, 567, 48, 100, 333, 452, 567, 48, 100, 333, 452, 567, 48, 100, 333, 452, 567, 48, 100, 333, 452, 567, 48, 100, 333, 452, 567, 48, 100, 333, 452, 567, 48, 100, 333, 452, 567, 48, 100, 333, 452, 567, 48, 100, 333, 452, 567, 48, 100, 333, 452, 567, 48, 100, 333, 452, 567, 48, 100, 333, 452, 567, 48, 100, 333, 452, 567, 48, 100, 333, 452, 567, 48, 100, 333, 452, 567, 48, 100, 333, 452, 567, 48, 100, 333, 452, 567, 48, 100, 333, 452, 567, 48, 100, 333, 452, 567, 48, 100, 333, 452, 567, 48, 100, 333, 452, 567, 48, 100, 333, 452, 567, 48, 100, 333, 452, 567, 48, 100, 333, 452, 567, 48, 100, 333, 452, 567, 48, 100, 333, 452, 567, 48, 100, 333, 452, 567, 48, 100, 333, 452, 567, 48, 100, 333, 452, 567, 48, 100, 333, 452, 567, 48, 100, 333, 452, 567, 48, 100, 333, 452, 567, 48, 100, 333, 452, 567, 48, 100, 333, 452, 567, 48, 100, 333, 452, 567, 48, 100, 333, 452, 567, 48, 100, 333, 452, 567, 48, 100, 333, 452, 567, 48, 100, 333, 452, 567, 48, 100, 333, 452, 567, 48, 100, 333, 452, 567, 48, 100, 333, 452, 567, 48, 100, 333, 452, 567, 48, 100, 333, 452, 567, 48, 100, 333, 452, 567, 48, 100, 333, 452, 567, 48, 100, 333, 452, 567, 48, 100, 333, 452, 567, 48, 100, 333, 452, 567, 48, 100, 333, 452, 567, 48, 100, 333, 452, 567, 48, 100, 333, 452, 567, 48, 100, 333, 452, 567, 48, 100, 333, 452, 567, 48, 100, 333, 452, 567, 48, 100, 333, 452, 567, 48, 100, 333, 452, 567, 48, 100, 333, 452, 567, 48, 100, 333, 452, 567, 48, 100, 333, 452, 567, 48, 100, 333, 452, 567, 48, 100, 333, 452, 567, 48, 100, 333, 452, 567, 48, 100, 333, 452, 567, 48, 100, 333, 452, 567, 48, 100, 333, 452, 567, 48, 100, 333, 452, 567, 48, 100, 333, 452, 567, 48, 100, 333, 452, 567, 48, 100, 333, 452, 567, 48, 100, 333, 452, 567, 48, 100, 333, 452, 567, 48, 100, 333, 452, 567, 48, 100, 333, 452, 567, 48, 100, 333, 452, 567, 48, 100, 333, 452, 567, 48, 100, 333, 452, 567, 48, 100, 333, 452, 567, 48, 100, 333, 452, 567, 48, 100, 333, 452, 567, 48, 100, 333, 452, 567, 48, 100, 333, 452, 567, 48, 100, 333, 452, 567, 48, 100, 333, 452, 567, 48, 100, 333, 452, 567, 48, 100, 333, 452, 567, 48, 100, 333, 452, 567, 48, 100, 333, 452, 567, 48, 100, 333, 452, 567, 48, 100, 333, 452, 567, 48, 100, 333, 452, 567, 48, 100, 333, 452, 567, 48, 100, 333, 452, 567, 48, 100, 333, 452, 567, 48, 100, 333, 452, 567, 48, 100, 333, 452, 567, 48, 100, 333, 452, 567, 48, 100, 333, 452, 567, 48, 100, 333, 452, 567, 48, 100, 333, 452, 567, 48, 100, 333, 452, 567, 48, 100, 333, 452, 567, 48, 100, 333, 452, 567, 48, 100, 333, 452, 567, 48, 100, 333, 452, 567, 48, 100, 333, 452, 567, 48, 100, 333, 452, 567, 48, 100, 333, 452, 567, 48, 100, 333, 452, 567, 48, 100, 333, 452, 567, 48, 100, 333, 452, 567, 48, 100, 333, 452, 567, 48, 100, 333, 452, 567, 48, 100, 333, 452, 567, 48, 100, 333, 452, 567, 48, 100, 333, 452, 567, 48, 100, 333, 452, 567, 48, 100, 333, 452, 567, 48, 100, 333, 452, 567, 48, 100, 333, 452, 567, 48, 100, 333, 452, 567, 48, 100, 333, 452, 567, 48, 100, 333, 452, 567, 48, 100, 333, 452, 567, 48, 100, 333, 452, 567, 48, 100, 333, 452, 567, 48, 100, 333, 452, 567, 48, 100, 333, 452, 567, 48, 100, 333, 452, 567, 48, 100, 333, 452, 567, 48, 100, 333, 452, 567, 48, 100, 333, 452, 567, 48, 100, 333, 452, 567, 48, 100, 333, 452, 567, 48, 100, 333, 452, 567, 48, 100, 333, 452, 567, 48, 100, 333, 452, 567, 48, 100, 333, 452, 567, 48, 100, 333, 452, 567, 48, 100, 333, 452, 567, 48, 100, 333, 452, 567, 48, 100, 333, 452, 567, 48, 100, 333, 452, 567, 48, 100, 333, 452, 567, 48, 100, 333, 452, 567, 48, 100, 333, 452, 567, 48, 100, 333, 452, 567, 48, 100, 333, 452, 567, 48, 100, 333, 452, 567, 48, 100, 333, 452, 567, 48, 100, 333, 452, 567, 48, 100, 333, 452, 567, 48, 100, 333, 452, 567, 48, 100, 333, 452, 567, 48, 100, 333, 452, 567, 48, 100, 333, 452, 567, 48, 100, 333, 452, 567, 48, 100, 333, 452, 567, 48, 100, 333, 452, 567, 48, 100, 333, 452, 567, 48, 100, 333, 452, 567, 48, 100, 333, 452, 567, 48, 100, 333, 452, 567, 48, 100, 333, 452, 567, 48, 100, 333, 452, 567, 48, 100, 333, 452, 567, 48, 100, 333, 452, 567, 48, 100, 333, 452, 567, 48, 100, 333, 452, 567, 48, 100, 333, 452, 567, 48, 100, 333, 452, 567, 48, 100, 333, 452, 567, 48, 100, 333, 452, 567, 48, 100, 333, 452, 567, 48, 100, 333, 452, 567, 48, 100, 333, 452, 567, 48, 100, 333, 452, 567, 48, 100, 333, 452, 567, 48, 100, 333, 452, 567, 48, 100, 333, 452, 567, 48, 100, 333, 452, 567, 48, 100, 333, 452, 567, 48, 100, 333, 452, 567, 48, 100, 333, 452, 567, 48, 100, 333, 452, 567, 48, 100, 333, 452, 567, 48, 100, 333, 452, 567, 48, 100, 333, 452, 567, 48, 100, 333, 452, 567, 50, 1010, 55, 341, 132, 50, 1010, 55, 341, 132, 50, 1010, 55, 341, 132, 50, 1010, 55, 341, 132, 50, 1010, 55, 341, 132, 50, 1010, 55, 341, 132, 50, 1010, 55, 341, 132, 50, 1010, 55, 341, 132, 50, 1010, 55, 341, 132, 50, 1010, 55, 341, 132, 50, 1010, 55, 341, 132, 50, 1010, 55, 341, 132, 50, 1010, 55, 341, 132, 50, 1010, 55, 341, 132, 50, 1010, 55, 341, 132, 50, 1010, 55, 341, 132, 50, 1010, 55, 341, 132, 50, 1010, 55, 341, 132, 822, 563, 77, 451, 475, 822, 563, 77, 451, 475, 822, 563, 77, 451, 475, 822, 563, 77, 451, 475, 822, 563, 77, 451, 475, 822, 563, 77, 451, 475, 822, 563, 77, 451, 475, 822, 563, 77, 451, 475, 822, 563, 77, 451, 475, 822, 563, 77, 451, 475, 822, 563, 77, 451, 475, 822, 563, 77, 451, 475, 822, 563, 77, 451, 475, 822, 563, 77, 451, 475, 822, 563, 77, 451, 475, 822, 563, 77, 451, 475, 822, 563, 77, 451, 475, 822, 563, 77, 451, 475, 822, 563, 77, 451, 475, 822, 563, 77, 451, 475, 822, 563, 77, 451, 475, 822, 563, 77, 451, 475, 822, 563, 77, 451, 475, 822, 563, 77, 451, 475, 822, 563, 77, 451, 475, 822, 563, 77, 451, 475, 822, 563, 77, 451, 475, 822, 563, 77, 451, 475, 822, 563, 77, 451, 475, 822, 563, 77, 451, 475, 822, 563, 77, 451, 475, 822, 563, 77, 451, 475, 822, 563, 77, 451, 475, 822, 563, 77, 451, 475, 822, 563, 77, 451, 475, 822, 563, 77, 451, 475]),\n",
              "       list([70, 16, 30, 21, 70, 16, 30, 21, 70, 16, 30, 21, 70, 16, 30, 21, 70, 16, 30, 21, 70, 16, 30, 21, 70, 16, 30, 21, 70, 16, 30, 21, 70, 16, 30, 21, 70, 16, 30, 21, 70, 16, 30, 21, 70, 16, 30, 21, 70, 16, 30, 21, 70, 16, 30, 21, 70, 16, 30, 21, 70, 16, 30, 21, 70, 16, 30, 21, 70, 16, 30, 21, 70, 16, 30, 21, 70, 16, 30, 21, 70, 16, 30, 21, 70, 16, 30, 21, 70, 16, 30, 21, 70, 16, 30, 21, 70, 16, 30, 21, 70, 16, 30, 21, 70, 16, 30, 21, 70, 16, 30, 21, 70, 16, 30, 21, 70, 16, 30, 21, 70, 16, 30, 21, 70, 16, 30, 21, 70, 16, 30, 21, 70, 16, 30, 21, 70, 16, 30, 21, 70, 16, 30, 21, 70, 16, 30, 21, 70, 16, 30, 21, 70, 16, 30, 21, 70, 16, 30, 21, 70, 16, 30, 21, 70, 16, 30, 21, 70, 16, 30, 21, 70, 16, 30, 21, 70, 16, 30, 21, 70, 16, 30, 21, 70, 16, 30, 21, 70, 16, 30, 21, 70, 16, 30, 21, 70, 16, 30, 21, 70, 16, 30, 21, 70, 16, 30, 21, 70, 16, 30, 21, 70, 16, 30, 21, 70, 16, 30, 21, 70, 16, 30, 21, 70, 16, 30, 21, 70, 16, 30, 21, 70, 16, 30, 21, 70, 16, 30, 21, 70, 16, 30, 21, 70, 16, 30, 21, 70, 16, 30, 21, 70, 16, 30, 21, 70, 16, 30, 21, 70, 16, 30, 21, 70, 16, 30, 21, 70, 16, 30, 21, 70, 16, 30, 21, 70, 16, 30, 21, 70, 16, 30, 21, 70, 16, 30, 21, 70, 16, 30, 21, 70, 16, 30, 21, 70, 16, 30, 21, 70, 16, 30, 21, 70, 16, 30, 21, 70, 16, 30, 21, 70, 16, 30, 21, 70, 16, 30, 21, 70, 16, 30, 21, 70, 16, 30, 21, 70, 16, 30, 21, 70, 16, 30, 21, 70, 16, 30, 21, 70, 16, 30, 21, 70, 16, 30, 21, 70, 16, 30, 21, 70, 16, 30, 21, 70, 16, 30, 21, 70, 16, 30, 21, 70, 16, 30, 21, 70, 16, 30, 21, 70, 16, 30, 21, 70, 16, 30, 21, 70, 16, 30, 21, 70, 16, 30, 21, 70, 16, 30, 21, 70, 16, 30, 21, 70, 16, 30, 21, 70, 16, 30, 21, 70, 16, 30, 21, 70, 16, 30, 21, 70, 16, 30, 21, 70, 16, 30, 21, 70, 16, 30, 21, 70, 16, 30, 21, 70, 16, 30, 21, 70, 16, 30, 21, 70, 16, 30, 21, 70, 16, 30, 21, 70, 16, 30, 21, 70, 16, 30, 21, 70, 16, 30, 21, 70, 16, 30, 21, 70, 16, 30, 21, 70, 16, 30, 21, 70, 16, 30, 21, 70, 16, 30, 21, 70, 16, 30, 21, 70, 16, 30, 21, 70, 16, 30, 21, 70, 16, 30, 21, 70, 16, 30, 21, 70, 16, 30, 21, 70, 16, 30, 21, 70, 16, 30, 21, 70, 16, 30, 21, 70, 16, 30, 21, 70, 16, 30, 21, 70, 16, 30, 21, 70, 16, 30, 21, 70, 16, 30, 21, 70, 16, 30, 21, 70, 16, 30, 21, 70, 16, 30, 21, 70, 16, 30, 21, 70, 16, 30, 21, 70, 16, 30, 21, 70, 16, 30, 21, 70, 16, 30, 21, 70, 16, 30, 21, 70, 16, 30, 21, 70, 16, 30, 21, 70, 16, 30, 21, 70, 16, 30, 21, 70, 16, 30, 21, 70, 16, 30, 21, 70, 16, 30, 21, 70, 16, 30, 21, 70, 16, 30, 21, 70, 16, 30, 21, 70, 16, 30, 21, 70, 16, 30, 21, 70, 16, 30, 21, 70, 16, 30, 21, 70, 16, 30, 21, 70, 16, 30, 21, 70, 16, 30, 21, 70, 16, 30, 21, 70, 16, 30, 21, 70, 16, 30, 21, 70, 16, 30, 21, 70, 16, 30, 21, 70, 16, 30, 21, 70, 16, 30, 21, 70, 16, 30, 21, 70, 16, 30, 21, 70, 16, 30, 21, 70, 16, 30, 21, 70, 16, 30, 21, 70, 16, 30, 21, 70, 16, 30, 21, 70, 16, 30, 21, 70, 16, 30, 21, 70, 16, 30, 21, 70, 16, 30, 21, 70, 16, 30, 21, 70, 16, 30, 21, 70, 16, 30, 21, 70, 16, 30, 21, 70, 16, 30, 21, 70, 16, 30, 21, 70, 16, 30, 21, 70, 16, 30, 21, 70, 16, 30, 21, 70, 16, 30, 21, 70, 16, 30, 21, 70, 16, 30, 21, 70, 16, 30, 21, 70, 16, 30, 21, 70, 16, 30, 21, 70, 16, 30, 21, 70, 16, 30, 21, 70, 16, 30, 21, 70, 16, 30, 21, 70, 16, 30, 21, 70, 16, 30, 21, 70, 16, 30, 21, 70, 16, 30, 21, 70, 16, 30, 21, 70, 16, 30, 21, 70, 16, 30, 21, 70, 16, 30, 21, 70, 16, 30, 21, 70, 16, 30, 21, 70, 16, 30, 21, 70, 16, 30, 21, 70, 16, 30, 21, 70, 16, 30, 21, 70, 16, 30, 21, 70, 16, 30, 21, 70, 16, 30, 21, 70, 16, 30, 21, 70, 16, 30, 21, 70, 16, 30, 21, 70, 16, 30, 21, 70, 16, 30, 21, 70, 16, 30, 21, 70, 16, 30, 21, 70, 16, 30, 21, 70, 16, 30, 21, 70, 16, 30, 21, 70, 16, 30, 21, 70, 16, 30, 21, 70, 16, 30, 21, 70, 16, 30, 21, 70, 16, 30, 21, 70, 16, 30, 21, 70, 16, 30, 21, 70, 16, 30, 21, 70, 16, 30, 21, 70, 16, 30, 21, 70, 16, 30, 21, 70, 16, 30, 21, 70, 16, 30, 21, 70, 16, 30, 21, 70, 16, 30, 21, 70, 16, 30, 21, 70, 16, 30, 21, 70, 16, 30, 21, 70, 16, 30, 21, 70, 16, 30, 21, 70, 16, 30, 21, 70, 16, 30, 21, 70, 16, 30, 21, 70, 16, 30, 21, 70, 16, 30, 21, 70, 16, 30, 21, 70, 16, 30, 21, 70, 16, 30, 21, 70, 16, 30, 21, 70, 16, 30, 21, 70, 16, 30, 21, 70, 16, 30, 21, 70, 16, 30, 21, 70, 16, 30, 21, 70, 16, 30, 21, 70, 16, 30, 21, 70, 16, 30, 21, 70, 16, 30, 21, 70, 16, 30, 21, 70, 16, 30, 21, 70, 16, 30, 21, 70, 16, 30, 21, 70, 16, 30, 21, 70, 16, 30, 21, 70, 16, 30, 21, 70, 16, 30, 21, 70, 16, 30, 21, 70, 16, 30, 21, 70, 16, 30, 21, 70, 16, 30, 21, 70, 16, 30, 21, 70, 16, 30, 21, 70, 16, 30, 21, 70, 16, 30, 21, 70, 16, 30, 21, 70, 16, 30, 21, 70, 16, 30, 21, 70, 16, 30, 21, 70, 16, 30, 21, 70, 16, 30, 21, 70, 16, 30, 21, 70, 16, 30, 21, 70, 16, 30, 21, 70, 16, 30, 21, 70, 16, 30, 21, 70, 16, 30, 21, 70, 16, 30, 21, 70, 16, 30, 21, 70, 16, 30, 21, 70, 16, 30, 21, 70, 16, 30, 21, 70, 16, 30, 21, 70, 16, 30, 21, 70, 16, 30, 21, 70, 16, 30, 21, 70, 16, 30, 21, 70, 16, 30, 21, 70, 16, 30, 21, 70, 16, 30, 21, 70, 16, 30, 21, 70, 16, 30, 21, 70, 16, 30, 21, 70, 16, 30, 21, 70, 16, 30, 21, 70, 16, 30, 21, 70, 16, 30, 21, 70, 16, 30, 21, 70, 16, 30, 21, 70, 16, 30, 21, 70, 16, 30, 21, 70, 16, 30, 21, 70, 16, 30, 21, 70, 16, 30, 21, 70, 16, 30, 21, 70, 16, 30, 21, 70, 16, 30, 21, 70, 16, 30, 21, 70, 16, 30, 21, 70, 16, 30, 21, 70, 16, 30, 21, 70, 16, 30, 21, 70, 16, 30, 21, 70, 16, 30, 21, 70, 16, 30, 21, 70, 16, 30, 21, 70, 16, 30, 21, 70, 16, 30, 21, 70, 16, 30, 21, 70, 16, 30, 21, 70, 16, 30, 21, 70, 16, 30, 21, 70, 16, 30, 21, 70, 16, 30, 21, 70, 16, 30, 21, 70, 16, 30, 21, 70, 16, 30, 21, 70, 16, 30, 21, 70, 16, 30, 21, 70, 16, 30, 21, 70, 16, 30, 21, 70, 16, 30, 21, 70, 16, 30, 21, 70, 16, 30, 21, 70, 16, 30, 21, 70, 16, 30, 21, 70, 16, 30, 21, 70, 16, 30, 21, 70, 16, 30, 21, 70, 16, 30, 21, 70, 16, 30, 21, 70, 16, 30, 21, 70, 16, 30, 21, 70, 16, 30, 21, 70, 16, 30, 21, 70, 16, 30, 21, 70, 16, 30, 21, 70, 16, 30, 21, 70, 16, 30, 21, 70, 16, 30, 21, 70, 16, 30, 21, 70, 16, 30, 21, 70, 16, 30, 21, 70, 16, 30, 21, 70, 16, 30, 21, 70, 16, 30, 21, 70, 16, 30, 21, 70, 16, 30, 21, 70, 16, 30, 21, 70, 16, 30, 21, 70, 16, 30, 21, 70, 16, 30, 21, 70, 16, 30, 21, 70, 16, 30, 21, 70, 16, 30, 21, 70, 16, 30, 21, 70, 16, 30, 21, 70, 16, 30, 21, 70, 16, 30, 21, 70, 16, 30, 21, 70, 16, 30, 21, 70, 16, 30, 21, 70, 16, 30, 21, 70, 16, 30, 21, 70, 16, 30, 21, 70, 16, 30, 21, 70, 16, 30, 21, 70, 16, 30, 21, 70, 16, 30, 21, 70, 16, 30, 21, 70, 16, 30, 21, 70, 16, 30, 21, 70, 16, 30, 21, 70, 16, 30, 21, 70, 16, 30, 21, 70, 16, 30, 21, 70, 16, 30, 21, 70, 16, 30, 21, 70, 16, 30, 21, 70, 16, 30, 21, 70, 16, 30, 21, 70, 16, 30, 21, 70, 16, 30, 21, 70, 16, 30, 21, 70, 16, 30, 21, 70, 16, 30, 21, 70, 16, 30, 21, 70, 16, 30, 21, 70, 16, 30, 21, 70, 16, 30, 21, 70, 16, 30, 21, 70, 16, 30, 21, 70, 16, 30, 21, 70, 16, 30, 21, 70, 16, 30, 21, 70, 16, 30, 21, 70, 16, 30, 21, 70, 16, 30, 21, 70, 16, 30, 21, 70, 16, 30, 21, 70, 16, 30, 21, 70, 16, 30, 21, 70, 16, 30, 21, 70, 16, 30, 21, 70, 16, 30, 21, 70, 16, 30, 21, 70, 16, 30, 21, 70, 16, 30, 21, 70, 16, 30, 21, 70, 16, 30, 21, 70, 16, 30, 21, 70, 16, 30, 21, 70, 16, 30, 21, 70, 16, 30, 21, 70, 16, 30, 21, 70, 16, 30, 21, 70, 16, 30, 21, 70, 16, 30, 21, 70, 16, 30, 21, 70, 16, 30, 21, 70, 16, 30, 21, 70, 16, 30, 21, 70, 16, 30, 21, 70, 16, 30, 21, 70, 16, 30, 21, 70, 16, 30, 21, 70, 16, 30, 21, 70, 16, 30, 21, 70, 16, 30, 21, 70, 16, 30, 21, 70, 16, 30, 21, 70, 16, 30, 21, 70, 16, 30, 21, 70, 16, 30, 21, 70, 16, 30, 21, 70, 16, 30, 21, 70, 16, 30, 21, 70, 16, 30, 21, 70, 16, 30, 21, 70, 16, 30, 21, 70, 16, 30, 21, 70, 16, 30, 21, 70, 16, 30, 21, 70, 16, 30, 21, 70, 16, 30, 21, 70, 16, 30, 21, 70, 16, 30, 21, 70, 16, 30, 21, 70, 16, 30, 21, 70, 16, 30, 21, 70, 16, 30, 21, 70, 16, 30, 21, 70, 16, 30, 21, 70, 16, 30, 21, 70, 16, 30, 21, 70, 16, 30, 21, 70, 16, 30, 21, 70, 16, 30, 21, 70, 16, 30, 21, 70, 16, 30, 21, 70, 16, 30, 21, 70, 16, 30, 21, 70, 16, 30, 21, 70, 16, 30, 21, 70, 16, 30, 21, 70, 16, 30, 21, 70, 16, 30, 21, 70, 16, 30, 21, 70, 16, 30, 21, 70, 16, 30, 21, 70, 16, 30, 21, 70, 16, 30, 21, 70, 16, 30, 21, 70, 16, 30, 21, 70, 16, 30, 21, 70, 16, 30, 21, 70, 16, 30, 21, 70, 16, 30, 21, 70, 16, 30, 21, 70, 16, 30, 21, 70, 16, 30, 21, 70, 16, 30, 21, 70, 16, 30, 21, 70, 16, 30, 21, 70, 16, 30, 21, 70, 16, 30, 21, 70, 16, 30, 21, 70, 16, 30, 21, 70, 16, 30, 21, 70, 16, 30, 21, 70, 16, 30, 21, 70, 16, 30, 21, 70, 16, 30, 21, 70, 16, 30, 21, 70, 16, 30, 21, 70, 16, 30, 21, 70, 16, 30, 21, 70, 16, 30, 21, 70, 16, 30, 21, 70, 16, 30, 21, 70, 16, 30, 21, 70, 16, 30, 21, 70, 16, 30, 21, 70, 16, 30, 21, 70, 16, 30, 21, 70, 16, 30, 21, 70, 16, 30, 21, 70, 16, 30, 21, 70, 16, 30, 21, 70, 16, 30, 21, 70, 16, 30, 21, 70, 16, 30, 21, 70, 16, 30, 21, 70, 16, 30, 21, 70, 16, 30, 21, 70, 16, 30, 21, 70, 16, 30, 21, 70, 16, 30, 21, 70, 16, 30, 21, 70, 16, 30, 21, 70, 16, 30, 21, 70, 16, 30, 21, 33, 34, 2, 43, 599, 33, 34, 2, 43, 599, 33, 34, 2, 43, 599, 33, 34, 2, 43, 599, 33, 34, 2, 43, 599, 33, 34, 2, 43, 599, 33, 34, 2, 43, 599, 33, 34, 2, 43, 599, 33, 34, 2, 43, 599, 33, 34, 2, 43, 599, 33, 34, 2, 43, 599, 33, 34, 2, 43, 599, 33, 34, 2, 43, 599, 33, 34, 2, 43, 599, 33, 34, 2, 43, 599, 33, 34, 2, 43, 599, 33, 34, 2, 43, 599, 33, 34, 2, 43, 599, 33, 34, 2, 43, 599, 33, 34, 2, 43, 599, 33, 34, 2, 43, 599, 33, 34, 2, 43, 599, 33, 34, 2, 43, 599, 33, 34, 2, 43, 599, 33, 34, 2, 43, 599, 33, 34, 2, 43, 599, 33, 34, 2, 43, 599, 33, 34, 2, 43, 599, 33, 34, 2, 43, 599, 33, 34, 2, 43, 599, 33, 34, 2, 43, 599, 33, 34, 2, 43, 599, 33, 34, 2, 43, 599, 33, 34, 2, 43, 599, 33, 34, 2, 43, 599, 33, 34, 2, 43, 599, 33, 34, 2, 43, 599, 33, 34, 2, 43, 599, 33, 34, 2, 43, 599, 33, 34, 2, 43, 599, 33, 34, 2, 43, 599, 33, 34, 2, 43, 599, 33, 34, 2, 43, 599, 33, 34, 2, 43, 599, 33, 34, 2, 43, 599, 33, 34, 2, 43, 599, 33, 34, 2, 43, 599, 33, 34, 2, 43, 599, 33, 34, 2, 43, 599, 33, 34, 2, 43, 599, 33, 34, 2, 43, 599, 33, 34, 2, 43, 599, 33, 34, 2, 43, 599, 33, 34, 2, 43, 599, 33, 34, 2, 43, 599, 33, 34, 2, 43, 599, 33, 34, 2, 43, 599, 33, 34, 2, 43, 599, 33, 34, 2, 43, 599, 33, 34, 2, 43, 599, 33, 34, 2, 43, 599, 33, 34, 2, 43, 599, 33, 34, 2, 43, 599, 33, 34, 2, 43, 599, 33, 34, 2, 43, 599, 33, 34, 2, 43, 599, 33, 34, 2, 43, 599, 33, 34, 2, 43, 599, 33, 34, 2, 43, 599, 33, 34, 2, 43, 599, 33, 34, 2, 43, 599, 33, 34, 2, 43, 599, 33, 34, 2, 43, 599, 33, 34, 2, 43, 599, 33, 34, 2, 43, 599, 33, 34, 2, 43, 599, 33, 34, 2, 43, 599, 33, 34, 2, 43, 599, 33, 34, 2, 43, 599, 33, 34, 2, 43, 599, 33, 34, 2, 43, 599, 33, 34, 2, 43, 599, 33, 34, 2, 43, 599, 33, 34, 2, 43, 599, 33, 34, 2, 43, 599, 33, 34, 2, 43, 599, 33, 34, 2, 43, 599, 33, 34, 2, 43, 599, 33, 34, 2, 43, 599, 33, 34, 2, 43, 599, 33, 34, 2, 43, 599, 33, 34, 2, 43, 599, 33, 34, 2, 43, 599, 33, 34, 2, 43, 599, 33, 34, 2, 43, 599, 33, 34, 2, 43, 599, 33, 34, 2, 43, 599, 33, 34, 2, 43, 599, 33, 34, 2, 43, 599, 33, 34, 2, 43, 599, 33, 34, 2, 43, 599, 33, 34, 2, 43, 599, 33, 34, 2, 43, 599, 33, 34, 2, 43, 599, 33, 34, 2, 43, 599, 33, 34, 2, 43, 599, 33, 34, 2, 43, 599, 33, 34, 2, 43, 599, 33, 34, 2, 43, 599, 33, 34, 2, 43, 599, 33, 34, 2, 43, 599, 33, 34, 2, 43, 599, 33, 34, 2, 43, 599, 33, 34, 2, 43, 599, 33, 34, 2, 43, 599, 33, 34, 2, 43, 599, 33, 34, 2, 43, 599, 33, 34, 2, 43, 599, 33, 34, 2, 43, 599, 33, 34, 2, 43, 599, 33, 34, 2, 43, 599, 33, 34, 2, 43, 599, 33, 34, 2, 43, 599, 33, 34, 2, 43, 599, 33, 34, 2, 43, 599, 33, 34, 2, 43, 599, 33, 34, 2, 43, 599, 33, 34, 2, 43, 599, 33, 34, 2, 43, 599, 33, 34, 2, 43, 599, 33, 34, 2, 43, 599, 33, 34, 2, 43, 599, 33, 34, 2, 43, 599, 33, 34, 2, 43, 599, 33, 34, 2, 43, 599, 33, 34, 2, 43, 599, 33, 34, 2, 43, 599, 33, 34, 2, 43, 599, 33, 34, 2, 43, 599, 33, 34, 2, 43, 599, 33, 34, 2, 43, 599, 33, 34, 2, 43, 599, 33, 34, 2, 43, 599, 33, 34, 2, 43, 599, 33, 34, 2, 43, 599, 33, 34, 2, 43, 599, 33, 34, 2, 43, 599, 33, 34, 2, 43, 599, 33, 34, 2, 43, 599, 33, 34, 2, 43, 599, 33, 34, 2, 43, 599, 33, 34, 2, 43, 599, 33, 34, 2, 43, 599, 33, 34, 2, 43, 599, 33, 34, 2, 43, 599, 33, 34, 2, 43, 599, 33, 34, 2, 43, 599, 33, 34, 2, 43, 599, 33, 34, 2, 43, 599, 33, 34, 2, 43, 599, 33, 34, 2, 43, 599, 33, 34, 2, 43, 599, 33, 34, 2, 43, 599, 33, 34, 2, 43, 599, 33, 34, 2, 43, 599, 33, 34, 2, 43, 599, 33, 34, 2, 43, 599, 33, 34, 2, 43, 599, 33, 34, 2, 43, 599, 33, 34, 2, 43, 599, 33, 34, 2, 43, 599, 33, 34, 2, 43, 599, 33, 34, 2, 43, 599, 33, 34, 2, 43, 599, 33, 34, 2, 43, 599, 33, 34, 2, 43, 599, 33, 34, 2, 43, 599, 33, 34, 2, 43, 599, 33, 34, 2, 43, 599, 33, 34, 2, 43, 599, 33, 34, 2, 43, 599, 33, 34, 2, 43, 599, 33, 34, 2, 43, 599, 33, 34, 2, 43, 599, 33, 34, 2, 43, 599, 33, 34, 2, 43, 599, 33, 34, 2, 43, 599, 33, 34, 2, 43, 599, 33, 34, 2, 43, 599, 33, 34, 2, 43, 599, 33, 34, 2, 43, 599, 33, 34, 2, 43, 599, 33, 34, 2, 43, 599, 33, 34, 2, 43, 599, 33, 34, 2, 43, 599, 33, 34, 2, 43, 599, 33, 34, 2, 43, 599, 33, 34, 2, 43, 599, 33, 34, 2, 43, 599, 33, 34, 2, 43, 599, 33, 34, 2, 43, 599, 33, 34, 2, 43, 599, 33, 34, 2, 43, 599, 33, 34, 2, 43, 599, 33, 34, 2, 43, 599, 33, 34, 2, 43, 599, 33, 34, 2, 43, 599, 33, 34, 2, 43, 599, 33, 34, 2, 43, 599, 33, 34, 2, 43, 599, 33, 34, 2, 43, 599, 33, 34, 2, 43, 599, 33, 34, 2, 43, 599, 33, 34, 2, 43, 599, 33, 34, 2, 43, 599, 33, 34, 2, 43, 599, 33, 34, 2, 43, 599, 33, 34, 2, 43, 599, 33, 34, 2, 43, 599, 33, 34, 2, 43, 599, 33, 34, 2, 43, 599, 33, 34, 2, 43, 599, 33, 34, 2, 43, 599, 33, 34, 2, 43, 599, 33, 34, 2, 43, 599, 33, 34, 2, 43, 599, 33, 34, 2, 43, 599, 33, 34, 2, 43, 599, 33, 34, 2, 43, 599, 33, 34, 2, 43, 599, 33, 34, 2, 43, 599, 33, 34, 2, 43, 599, 33, 34, 2, 43, 599, 33, 34, 2, 43, 599, 33, 34, 2, 43, 599, 33, 34, 2, 43, 599, 33, 34, 2, 43, 599, 33, 34, 2, 43, 599, 33, 34, 2, 43, 599, 33, 34, 2, 43, 599, 33, 34, 2, 43, 599, 33, 34, 2, 43, 599, 33, 34, 2, 43, 599, 33, 34, 2, 43, 599, 33, 34, 2, 43, 599, 33, 34, 2, 43, 599, 33, 34, 2, 43, 599, 33, 34, 2, 43, 599, 33, 34, 2, 43, 599, 33, 34, 2, 43, 599, 33, 34, 2, 43, 599, 33, 34, 2, 43, 599, 33, 34, 2, 43, 599, 33, 34, 2, 43, 599, 33, 34, 2, 43, 599, 33, 34, 2, 43, 599, 33, 34, 2, 43, 599, 33, 34, 2, 43, 599, 33, 34, 2, 43, 599, 33, 34, 2, 43, 599, 33, 34, 2, 43, 599, 33, 34, 2, 43, 599, 33, 34, 2, 43, 599, 33, 34, 2, 43, 599, 33, 34, 2, 43, 599, 33, 34, 2, 43, 599, 33, 34, 2, 43, 599, 33, 34, 2, 43, 599, 33, 34, 2, 43, 599, 33, 34, 2, 43, 599, 33, 34, 2, 43, 599, 33, 34, 2, 43, 599, 33, 34, 2, 43, 599, 33, 34, 2, 43, 599, 33, 34, 2, 43, 599, 33, 34, 2, 43, 599, 33, 34, 2, 43, 599, 33, 34, 2, 43, 599, 33, 34, 2, 43, 599, 33, 34, 2, 43, 599, 33, 34, 2, 43, 599, 33, 34, 2, 43, 599, 33, 34, 2, 43, 599, 33, 34, 2, 43, 599, 33, 34, 2, 43, 599, 33, 34, 2, 43, 599, 33, 34, 2, 43, 599, 33, 34, 2, 43, 599, 33, 34, 2, 43, 599, 33, 34, 2, 43, 599, 33, 34, 2, 43, 599, 33, 34, 2, 43, 599, 33, 34, 2, 43, 599, 33, 34, 2, 43, 599, 33, 34, 2, 43, 599, 33, 34, 2, 43, 599, 33, 34, 2, 43, 599, 33, 34, 2, 43, 599, 33, 34, 2, 43, 599, 33, 34, 2, 43, 599, 33, 34, 2, 43, 599, 33, 34, 2, 43, 599, 33, 34, 2, 43, 599, 33, 34, 2, 43, 599, 33, 34, 2, 43, 599, 33, 34, 2, 43, 599, 33, 34, 2, 43, 599, 33, 34, 2, 43, 599, 33, 34, 2, 43, 599, 33, 34, 2, 43, 599, 33, 34, 2, 43, 599, 33, 34, 2, 43, 599, 33, 34, 2, 43, 599, 33, 34, 2, 43, 599, 33, 34, 2, 43, 599, 33, 34, 2, 43, 599, 33, 34, 2, 43, 599, 33, 34, 2, 43, 599, 33, 34, 2, 43, 599, 33, 34, 2, 43, 599, 33, 34, 2, 43, 599, 33, 34, 2, 43, 599, 33, 34, 2, 43, 599, 33, 34, 2, 43, 599, 33, 34, 2, 43, 599, 33, 34, 2, 43, 599, 33, 34, 2, 43, 599, 33, 34, 2, 43, 599, 33, 34, 2, 43, 599, 33, 34, 2, 43, 599, 33, 34, 2, 43, 599, 33, 34, 2, 43, 599, 33, 34, 2, 43, 599, 33, 34, 2, 43, 599, 33, 34, 2, 43, 599, 33, 34, 2, 43, 599, 33, 34, 2, 43, 599, 33, 34, 2, 43, 599, 33, 34, 2, 43, 599, 33, 34, 2, 43, 599, 33, 34, 2, 43, 599, 33, 34, 2, 43, 599, 33, 34, 2, 43, 599, 33, 34, 2, 43, 599, 33, 34, 2, 43, 599, 33, 34, 2, 43, 599, 33, 34, 2, 43, 599, 33, 34, 2, 43, 599, 33, 34, 2, 43, 599, 33, 34, 2, 43, 599, 33, 34, 2, 43, 599, 33, 34, 2, 43, 599, 33, 34, 2, 43, 599, 33, 34, 2, 43, 599, 33, 34, 2, 43, 599, 33, 34, 2, 43, 599, 33, 34, 2, 43, 599, 33, 34, 2, 43, 599, 33, 34, 2, 43, 599, 33, 34, 2, 43, 599, 33, 34, 2, 43, 599, 33, 34, 2, 43, 599, 33, 34, 2, 43, 599, 33, 34, 2, 43, 599, 33, 34, 2, 43, 599, 33, 34, 2, 43, 599, 33, 34, 2, 43, 599, 33, 34, 2, 43, 599, 33, 34, 2, 43, 599, 33, 34, 2, 43, 599, 33, 34, 2, 43, 599, 33, 34, 2, 43, 599, 33, 34, 2, 43, 599, 33, 34, 2, 43, 599, 33, 34, 2, 43, 599, 33, 34, 2, 43, 599, 33, 34, 2, 43, 599, 33, 34, 2, 43, 599, 33, 34, 2, 43, 599, 33, 34, 2, 43, 599, 33, 34, 2, 43, 599, 33, 34, 2, 43, 599, 33, 34, 2, 43, 599, 33, 34, 2, 43, 599, 33, 34, 2, 43, 599, 33, 34, 2, 43, 599, 33, 34, 2, 43, 599, 33, 34, 2, 43, 599, 33, 34, 2, 43, 599, 33, 34, 2, 43, 599, 33, 34, 2, 43, 599, 33, 34, 2, 43, 599, 33, 34, 2, 43, 599, 33, 34, 2, 43, 599, 33, 34, 2, 43, 599, 33, 34, 2, 43, 599, 33, 34, 2, 43, 599, 33, 34, 2, 43, 599, 33, 34, 2, 43, 599, 33, 34, 2, 43, 599, 33, 34, 2, 43, 599, 33, 34, 2, 43, 599, 33, 34, 2, 43, 599, 33, 34, 2, 43, 599, 33, 34, 2, 43, 599, 33, 34, 2, 43, 599, 33, 34, 2, 43, 599, 33, 34, 2, 43, 599, 33, 34, 2, 43, 599, 33, 34, 2, 43, 599, 33, 34, 2, 43, 599, 33, 34, 2, 43, 599, 33, 34, 2, 43, 599, 33, 34, 2, 43, 599, 33, 34, 2, 43, 599, 33, 34, 2, 43, 599, 33, 34, 2, 43, 599, 33, 34, 2, 43, 599, 33, 34, 2, 43, 599, 33, 34, 2, 43, 599, 33, 34, 2, 43, 599, 33, 34, 2, 43, 599, 33, 34, 2, 43, 599, 33, 34, 2, 43, 599, 33, 34, 2, 43, 599, 33, 34, 2, 43, 599, 33, 34, 2, 43, 599, 33, 34, 2, 43, 599, 33, 34, 2, 43, 599, 33, 34, 2, 43, 599, 33, 34, 2, 43, 599, 33, 34, 2, 43, 599, 33, 34, 2, 43, 599, 33, 34, 2, 43, 599, 33, 34, 2, 43, 599, 33, 34, 2, 43, 599, 33, 34, 2, 43, 599, 33, 34, 2, 43, 599, 33, 34, 2, 43, 599, 33, 34, 2, 43, 599, 33, 34, 2, 43, 599, 33, 34, 2, 43, 599, 33, 34, 2, 43, 599, 33, 34, 2, 43, 599, 33, 34, 2, 43, 599, 33, 34, 2, 43, 599, 33, 34, 2, 43, 599, 33, 34, 2, 43, 599, 33, 34, 2, 43, 599, 33, 34, 2, 43, 599, 33, 34, 2, 43, 599, 33, 34, 2, 43, 599, 33, 34, 2, 43, 599, 33, 34, 2, 43, 599, 33, 34, 2, 43, 599, 33, 34, 2, 43, 599, 33, 34, 2, 43, 599, 33, 34, 2, 43, 599, 33, 34, 2, 43, 599, 33, 34, 2, 43, 599, 33, 34, 2, 43, 599, 33, 34, 2, 43, 599, 33, 34, 2, 43, 599, 33, 34, 2, 43, 599, 33, 34, 2, 43, 599, 33, 34, 2, 43, 599, 33, 34, 2, 43, 599, 33, 34, 2, 43, 599, 33, 34, 2, 43, 599, 33, 34, 2, 43, 599, 33, 34, 2, 43, 599, 33, 34, 2, 43, 599, 33, 34, 2, 43, 599, 33, 34, 2, 43, 599, 33, 34, 2, 43, 599, 33, 34, 2, 43, 599, 33, 34, 2, 43, 599, 33, 34, 2, 43, 599, 33, 34, 2, 43, 599, 33, 34, 2, 43, 599, 33, 34, 2, 43, 599, 33, 34, 2, 43, 599, 33, 34, 2, 43, 599, 33, 34, 2, 43, 599, 33, 34, 2, 43, 599, 33, 34, 2, 43, 599, 33, 34, 2, 43, 599, 33, 34, 2, 43, 599, 33, 34, 2, 43, 599, 33, 34, 2, 43, 599, 33, 34, 2, 43, 599, 33, 34, 2, 43, 599, 33, 34, 2, 43, 599, 33, 34, 2, 43, 599, 33, 34, 2, 43, 599, 33, 34, 2, 43, 599, 33, 34, 2, 43, 599, 33, 34, 2, 43, 599, 33, 34, 2, 43, 599, 33, 34, 2, 43, 599, 33, 34, 2, 43, 599, 33, 34, 2, 43, 599, 33, 34, 2, 43, 599, 33, 34, 2, 43, 599, 33, 34, 2, 43, 599, 33, 34, 2, 43, 599, 33, 34, 2, 43, 599, 33, 34, 2, 43, 599, 33, 34, 2, 43, 599, 33, 34, 2, 43, 599, 33, 34, 2, 43, 599, 33, 34, 2, 43, 599, 33, 34, 2, 43, 599, 33, 34, 2, 43, 599, 33, 34, 2, 43, 599, 33, 34, 2, 43, 599, 33, 34, 2, 43, 599, 33, 34, 2, 43, 599, 33, 34, 2, 43, 599, 33, 34, 2, 43, 599, 33, 34, 2, 43, 599, 33, 34, 2, 43, 599, 33, 34, 2, 43, 599, 33, 34, 2, 43, 599, 33, 34, 2, 43, 599, 33, 34, 2, 43, 599, 33, 34, 2, 43, 599, 33, 34, 2, 43, 599, 33, 34, 2, 43, 599, 33, 34, 2, 43, 599, 33, 34, 2, 43, 599, 33, 34, 2, 43, 599, 33, 34, 2, 43, 599, 33, 34, 2, 43, 599, 33, 34, 2, 43, 599, 33, 34, 2, 43, 599, 33, 34, 2, 43, 599, 33, 34, 2, 43, 599, 33, 34, 2, 43, 599, 33, 34, 2, 43, 599, 33, 34, 2, 43, 599, 33, 34, 2, 43, 599, 33, 34, 2, 43, 599, 33, 34, 2, 43, 599, 33, 34, 2, 43, 599, 33, 34, 2, 43, 599, 33, 34, 2, 43, 599, 33, 34, 2, 43, 599, 33, 34, 2, 43, 599, 33, 34, 2, 43, 599, 33, 34, 2, 43, 599, 33, 34, 2, 43, 599, 33, 34, 2, 43, 599, 33, 34, 2, 43, 599, 33, 34, 2, 43, 599, 33, 34, 2, 43, 599, 33, 34, 2, 43, 599, 33, 34, 2, 43, 599, 33, 34, 2, 43, 599, 33, 34, 2, 43, 599, 33, 34, 2, 43, 599, 33, 34, 2, 43, 599, 33, 34, 2, 43, 599, 33, 34, 2, 43, 599, 33, 34, 2, 43, 599, 33, 34, 2, 43, 599, 33, 34, 2, 43, 599, 33, 34, 2, 43, 599, 33, 34, 2, 43, 599, 33, 34, 2, 43, 599, 33, 34, 2, 43, 599, 33, 34, 2, 43, 599, 33, 34, 2, 43, 599, 33, 34, 2, 43, 599, 33, 34, 2, 43, 599, 33, 34, 2, 43, 599, 48, 100, 333, 452, 567, 48, 100, 333, 452, 567, 48, 100, 333, 452, 567, 48, 100, 333, 452, 567, 48, 100, 333, 452, 567, 48, 100, 333, 452, 567, 48, 100, 333, 452, 567, 48, 100, 333, 452, 567, 48, 100, 333, 452, 567, 48, 100, 333, 452, 567, 48, 100, 333, 452, 567, 48, 100, 333, 452, 567, 48, 100, 333, 452, 567, 48, 100, 333, 452, 567, 48, 100, 333, 452, 567, 48, 100, 333, 452, 567, 48, 100, 333, 452, 567, 48, 100, 333, 452, 567, 48, 100, 333, 452, 567, 48, 100, 333, 452, 567, 48, 100, 333, 452, 567, 48, 100, 333, 452, 567, 48, 100, 333, 452, 567, 48, 100, 333, 452, 567, 48, 100, 333, 452, 567, 48, 100, 333, 452, 567, 48, 100, 333, 452, 567, 48, 100, 333, 452, 567, 48, 100, 333, 452, 567, 48, 100, 333, 452, 567, 48, 100, 333, 452, 567, 48, 100, 333, 452, 567, 48, 100, 333, 452, 567, 48, 100, 333, 452, 567, 48, 100, 333, 452, 567, 48, 100, 333, 452, 567, 48, 100, 333, 452, 567, 48, 100, 333, 452, 567, 48, 100, 333, 452, 567, 48, 100, 333, 452, 567, 48, 100, 333, 452, 567, 48, 100, 333, 452, 567, 48, 100, 333, 452, 567, 48, 100, 333, 452, 567, 48, 100, 333, 452, 567, 48, 100, 333, 452, 567, 48, 100, 333, 452, 567, 48, 100, 333, 452, 567, 48, 100, 333, 452, 567, 48, 100, 333, 452, 567, 48, 100, 333, 452, 567, 48, 100, 333, 452, 567, 48, 100, 333, 452, 567, 48, 100, 333, 452, 567, 48, 100, 333, 452, 567, 48, 100, 333, 452, 567, 48, 100, 333, 452, 567, 48, 100, 333, 452, 567, 48, 100, 333, 452, 567, 48, 100, 333, 452, 567, 48, 100, 333, 452, 567, 48, 100, 333, 452, 567, 48, 100, 333, 452, 567, 48, 100, 333, 452, 567, 48, 100, 333, 452, 567, 48, 100, 333, 452, 567, 48, 100, 333, 452, 567, 48, 100, 333, 452, 567, 48, 100, 333, 452, 567, 48, 100, 333, 452, 567, 48, 100, 333, 452, 567, 48, 100, 333, 452, 567, 48, 100, 333, 452, 567, 48, 100, 333, 452, 567, 48, 100, 333, 452, 567, 48, 100, 333, 452, 567, 48, 100, 333, 452, 567, 48, 100, 333, 452, 567, 48, 100, 333, 452, 567, 48, 100, 333, 452, 567, 48, 100, 333, 452, 567, 48, 100, 333, 452, 567, 48, 100, 333, 452, 567, 48, 100, 333, 452, 567, 48, 100, 333, 452, 567, 48, 100, 333, 452, 567, 48, 100, 333, 452, 567, 48, 100, 333, 452, 567, 48, 100, 333, 452, 567, 48, 100, 333, 452, 567, 48, 100, 333, 452, 567, 48, 100, 333, 452, 567, 48, 100, 333, 452, 567, 48, 100, 333, 452, 567, 48, 100, 333, 452, 567, 48, 100, 333, 452, 567, 48, 100, 333, 452, 567, 48, 100, 333, 452, 567, 48, 100, 333, 452, 567, 48, 100, 333, 452, 567, 48, 100, 333, 452, 567, 48, 100, 333, 452, 567, 48, 100, 333, 452, 567, 48, 100, 333, 452, 567, 48, 100, 333, 452, 567, 48, 100, 333, 452, 567, 48, 100, 333, 452, 567, 48, 100, 333, 452, 567, 48, 100, 333, 452, 567, 48, 100, 333, 452, 567, 48, 100, 333, 452, 567, 48, 100, 333, 452, 567, 48, 100, 333, 452, 567, 48, 100, 333, 452, 567, 48, 100, 333, 452, 567, 48, 100, 333, 452, 567, 48, 100, 333, 452, 567, 48, 100, 333, 452, 567, 48, 100, 333, 452, 567, 48, 100, 333, 452, 567, 48, 100, 333, 452, 567, 48, 100, 333, 452, 567, 48, 100, 333, 452, 567, 48, 100, 333, 452, 567, 48, 100, 333, 452, 567, 48, 100, 333, 452, 567, 48, 100, 333, 452, 567, 48, 100, 333, 452, 567, 48, 100, 333, 452, 567, 48, 100, 333, 452, 567, 48, 100, 333, 452, 567, 48, 100, 333, 452, 567, 48, 100, 333, 452, 567, 48, 100, 333, 452, 567, 48, 100, 333, 452, 567, 48, 100, 333, 452, 567, 48, 100, 333, 452, 567, 48, 100, 333, 452, 567, 48, 100, 333, 452, 567, 48, 100, 333, 452, 567, 48, 100, 333, 452, 567, 48, 100, 333, 452, 567, 48, 100, 333, 452, 567, 48, 100, 333, 452, 567, 48, 100, 333, 452, 567, 48, 100, 333, 452, 567, 48, 100, 333, 452, 567, 48, 100, 333, 452, 567, 48, 100, 333, 452, 567, 48, 100, 333, 452, 567, 48, 100, 333, 452, 567, 48, 100, 333, 452, 567, 48, 100, 333, 452, 567, 48, 100, 333, 452, 567, 48, 100, 333, 452, 567, 48, 100, 333, 452, 567, 48, 100, 333, 452, 567, 48, 100, 333, 452, 567, 48, 100, 333, 452, 567, 48, 100, 333, 452, 567, 48, 100, 333, 452, 567, 48, 100, 333, 452, 567, 48, 100, 333, 452, 567, 48, 100, 333, 452, 567, 48, 100, 333, 452, 567, 48, 100, 333, 452, 567, 48, 100, 333, 452, 567, 48, 100, 333, 452, 567, 48, 100, 333, 452, 567, 48, 100, 333, 452, 567, 48, 100, 333, 452, 567, 48, 100, 333, 452, 567, 48, 100, 333, 452, 567, 48, 100, 333, 452, 567, 48, 100, 333, 452, 567, 48, 100, 333, 452, 567, 48, 100, 333, 452, 567, 48, 100, 333, 452, 567, 48, 100, 333, 452, 567, 48, 100, 333, 452, 567, 48, 100, 333, 452, 567, 48, 100, 333, 452, 567, 48, 100, 333, 452, 567, 48, 100, 333, 452, 567, 48, 100, 333, 452, 567, 48, 100, 333, 452, 567, 48, 100, 333, 452, 567, 48, 100, 333, 452, 567, 48, 100, 333, 452, 567, 48, 100, 333, 452, 567, 48, 100, 333, 452, 567, 48, 100, 333, 452, 567, 48, 100, 333, 452, 567, 48, 100, 333, 452, 567, 48, 100, 333, 452, 567, 48, 100, 333, 452, 567, 48, 100, 333, 452, 567, 48, 100, 333, 452, 567, 48, 100, 333, 452, 567, 48, 100, 333, 452, 567, 48, 100, 333, 452, 567, 48, 100, 333, 452, 567, 48, 100, 333, 452, 567, 48, 100, 333, 452, 567, 48, 100, 333, 452, 567, 48, 100, 333, 452, 567, 48, 100, 333, 452, 567, 48, 100, 333, 452, 567, 48, 100, 333, 452, 567, 48, 100, 333, 452, 567, 48, 100, 333, 452, 567, 48, 100, 333, 452, 567, 48, 100, 333, 452, 567, 48, 100, 333, 452, 567, 48, 100, 333, 452, 567, 48, 100, 333, 452, 567, 48, 100, 333, 452, 567, 48, 100, 333, 452, 567, 48, 100, 333, 452, 567, 48, 100, 333, 452, 567, 48, 100, 333, 452, 567, 48, 100, 333, 452, 567, 48, 100, 333, 452, 567, 48, 100, 333, 452, 567, 48, 100, 333, 452, 567, 48, 100, 333, 452, 567, 48, 100, 333, 452, 567, 48, 100, 333, 452, 567, 48, 100, 333, 452, 567, 48, 100, 333, 452, 567, 48, 100, 333, 452, 567, 48, 100, 333, 452, 567, 48, 100, 333, 452, 567, 48, 100, 333, 452, 567, 48, 100, 333, 452, 567, 48, 100, 333, 452, 567, 48, 100, 333, 452, 567, 48, 100, 333, 452, 567, 48, 100, 333, 452, 567, 48, 100, 333, 452, 567, 48, 100, 333, 452, 567, 48, 100, 333, 452, 567, 48, 100, 333, 452, 567, 48, 100, 333, 452, 567, 48, 100, 333, 452, 567, 48, 100, 333, 452, 567, 48, 100, 333, 452, 567, 48, 100, 333, 452, 567, 48, 100, 333, 452, 567, 48, 100, 333, 452, 567, 48, 100, 333, 452, 567, 48, 100, 333, 452, 567, 48, 100, 333, 452, 567, 48, 100, 333, 452, 567, 48, 100, 333, 452, 567, 48, 100, 333, 452, 567, 48, 100, 333, 452, 567, 48, 100, 333, 452, 567, 48, 100, 333, 452, 567, 48, 100, 333, 452, 567, 48, 100, 333, 452, 567, 48, 100, 333, 452, 567, 48, 100, 333, 452, 567, 48, 100, 333, 452, 567, 48, 100, 333, 452, 567, 48, 100, 333, 452, 567, 48, 100, 333, 452, 567, 48, 100, 333, 452, 567, 48, 100, 333, 452, 567, 48, 100, 333, 452, 567, 48, 100, 333, 452, 567, 48, 100, 333, 452, 567, 48, 100, 333, 452, 567, 48, 100, 333, 452, 567, 48, 100, 333, 452, 567, 48, 100, 333, 452, 567, 48, 100, 333, 452, 567, 48, 100, 333, 452, 567, 48, 100, 333, 452, 567, 48, 100, 333, 452, 567, 48, 100, 333, 452, 567, 48, 100, 333, 452, 567, 48, 100, 333, 452, 567, 48, 100, 333, 452, 567, 48, 100, 333, 452, 567, 48, 100, 333, 452, 567, 48, 100, 333, 452, 567, 48, 100, 333, 452, 567, 48, 100, 333, 452, 567, 48, 100, 333, 452, 567, 48, 100, 333, 452, 567, 48, 100, 333, 452, 567, 48, 100, 333, 452, 567, 48, 100, 333, 452, 567, 48, 100, 333, 452, 567, 48, 100, 333, 452, 567, 48, 100, 333, 452, 567, 48, 100, 333, 452, 567, 48, 100, 333, 452, 567, 48, 100, 333, 452, 567, 48, 100, 333, 452, 567, 48, 100, 333, 452, 567, 48, 100, 333, 452, 567, 48, 100, 333, 452, 567, 48, 100, 333, 452, 567, 48, 100, 333, 452, 567, 48, 100, 333, 452, 567, 48, 100, 333, 452, 567, 48, 100, 333, 452, 567, 48, 100, 333, 452, 567, 48, 100, 333, 452, 567, 48, 100, 333, 452, 567, 48, 100, 333, 452, 567, 48, 100, 333, 452, 567, 48, 100, 333, 452, 567, 48, 100, 333, 452, 567, 48, 100, 333, 452, 567, 48, 100, 333, 452, 567, 48, 100, 333, 452, 567, 48, 100, 333, 452, 567, 48, 100, 333, 452, 567, 48, 100, 333, 452, 567, 48, 100, 333, 452, 567, 48, 100, 333, 452, 567, 48, 100, 333, 452, 567, 48, 100, 333, 452, 567, 48, 100, 333, 452, 567, 48, 100, 333, 452, 567, 48, 100, 333, 452, 567, 48, 100, 333, 452, 567, 48, 100, 333, 452, 567, 48, 100, 333, 452, 567, 48, 100, 333, 452, 567, 48, 100, 333, 452, 567, 48, 100, 333, 452, 567, 48, 100, 333, 452, 567, 48, 100, 333, 452, 567, 48, 100, 333, 452, 567, 48, 100, 333, 452, 567, 48, 100, 333, 452, 567, 48, 100, 333, 452, 567, 48, 100, 333, 452, 567, 50, 1010, 55, 341, 132, 50, 1010, 55, 341, 132, 50, 1010, 55, 341, 132, 50, 1010, 55, 341, 132, 50, 1010, 55, 341, 132, 50, 1010, 55, 341, 132, 50, 1010, 55, 341, 132, 50, 1010, 55, 341, 132, 50, 1010, 55, 341, 132, 50, 1010, 55, 341, 132, 50, 1010, 55, 341, 132, 50, 1010, 55, 341, 132, 50, 1010, 55, 341, 132, 50, 1010, 55, 341, 132, 50, 1010, 55, 341, 132, 50, 1010, 55, 341, 132, 50, 1010, 55, 341, 132, 50, 1010, 55, 341, 132, 50, 1010, 55, 341, 132, 50, 1010, 55, 341, 132, 50, 1010, 55, 341, 132, 50, 1010, 55, 341, 132, 50, 1010, 55, 341, 132, 50, 1010, 55, 341, 132, 50, 1010, 55, 341, 132, 50, 1010, 55, 341, 132, 50, 1010, 55, 341, 132, 50, 1010, 55, 341, 132, 50, 1010, 55, 341, 132, 50, 1010, 55, 341, 132, 50, 1010, 55, 341, 132, 50, 1010, 55, 341, 132, 50, 1010, 55, 341, 132, 50, 1010, 55, 341, 132, 50, 1010, 55, 341, 132, 50, 1010, 55, 341, 132, 50, 1010, 55, 341, 132, 50, 1010, 55, 341, 132, 50, 1010, 55, 341, 132, 50, 1010, 55, 341, 132, 50, 1010, 55, 341, 132, 50, 1010, 55, 341, 132, 50, 1010, 55, 341, 132, 50, 1010, 55, 341, 132, 50, 1010, 55, 341, 132, 50, 1010, 55, 341, 132, 50, 1010, 55, 341, 132, 50, 1010, 55, 341, 132, 50, 1010, 55, 341, 132, 50, 1010, 55, 341, 132, 50, 1010, 55, 341, 132, 50, 1010, 55, 341, 132, 50, 1010, 55, 341, 132, 50, 1010, 55, 341, 132, 50, 1010, 55, 341, 132, 50, 1010, 55, 341, 132, 50, 1010, 55, 341, 132, 50, 1010, 55, 341, 132, 50, 1010, 55, 341, 132, 50, 1010, 55, 341, 132, 50, 1010, 55, 341, 132, 50, 1010, 55, 341, 132, 50, 1010, 55, 341, 132, 50, 1010, 55, 341, 132, 50, 1010, 55, 341, 132, 50, 1010, 55, 341, 132, 50, 1010, 55, 341, 132, 50, 1010, 55, 341, 132, 50, 1010, 55, 341, 132, 50, 1010, 55, 341, 132, 50, 1010, 55, 341, 132, 50, 1010, 55, 341, 132, 50, 1010, 55, 341, 132, 50, 1010, 55, 341, 132, 50, 1010, 55, 341, 132, 50, 1010, 55, 341, 132, 50, 1010, 55, 341, 132, 50, 1010, 55, 341, 132, 50, 1010, 55, 341, 132, 50, 1010, 55, 341, 132, 50, 1010, 55, 341, 132, 50, 1010, 55, 341, 132, 50, 1010, 55, 341, 132, 50, 1010, 55, 341, 132, 50, 1010, 55, 341, 132, 50, 1010, 55, 341, 132, 50, 1010, 55, 341, 132, 50, 1010, 55, 341, 132, 50, 1010, 55, 341, 132, 50, 1010, 55, 341, 132, 50, 1010, 55, 341, 132, 50, 1010, 55, 341, 132, 50, 1010, 55, 341, 132, 50, 1010, 55, 341, 132, 50, 1010, 55, 341, 132, 50, 1010, 55, 341, 132, 50, 1010, 55, 341, 132, 50, 1010, 55, 341, 132, 50, 1010, 55, 341, 132, 50, 1010, 55, 341, 132, 50, 1010, 55, 341, 132, 50, 1010, 55, 341, 132, 50, 1010, 55, 341, 132, 50, 1010, 55, 341, 132, 50, 1010, 55, 341, 132, 50, 1010, 55, 341, 132, 50, 1010, 55, 341, 132, 50, 1010, 55, 341, 132, 50, 1010, 55, 341, 132, 50, 1010, 55, 341, 132, 50, 1010, 55, 341, 132, 50, 1010, 55, 341, 132, 50, 1010, 55, 341, 132, 50, 1010, 55, 341, 132, 50, 1010, 55, 341, 132, 50, 1010, 55, 341, 132, 50, 1010, 55, 341, 132, 50, 1010, 55, 341, 132, 50, 1010, 55, 341, 132, 50, 1010, 55, 341, 132, 50, 1010, 55, 341, 132, 50, 1010, 55, 341, 132, 50, 1010, 55, 341, 132, 50, 1010, 55, 341, 132, 50, 1010, 55, 341, 132, 50, 1010, 55, 341, 132, 50, 1010, 55, 341, 132, 50, 1010, 55, 341, 132, 50, 1010, 55, 341, 132, 50, 1010, 55, 341, 132, 50, 1010, 55, 341, 132, 50, 1010, 55, 341, 132, 50, 1010, 55, 341, 132, 50, 1010, 55, 341, 132, 50, 1010, 55, 341, 132, 50, 1010, 55, 341, 132, 50, 1010, 55, 341, 132, 50, 1010, 55, 341, 132, 50, 1010, 55, 341, 132, 50, 1010, 55, 341, 132, 50, 1010, 55, 341, 132, 50, 1010, 55, 341, 132, 50, 1010, 55, 341, 132, 50, 1010, 55, 341, 132, 50, 1010, 55, 341, 132, 50, 1010, 55, 341, 132, 50, 1010, 55, 341, 132, 50, 1010, 55, 341, 132, 50, 1010, 55, 341, 132, 50, 1010, 55, 341, 132, 50, 1010, 55, 341, 132, 50, 1010, 55, 341, 132, 50, 1010, 55, 341, 132, 50, 1010, 55, 341, 132, 50, 1010, 55, 341, 132, 50, 1010, 55, 341, 132, 50, 1010, 55, 341, 132, 50, 1010, 55, 341, 132, 50, 1010, 55, 341, 132, 50, 1010, 55, 341, 132, 50, 1010, 55, 341, 132, 50, 1010, 55, 341, 132, 50, 1010, 55, 341, 132, 50, 1010, 55, 341, 132, 50, 1010, 55, 341, 132, 50, 1010, 55, 341, 132, 50, 1010, 55, 341, 132, 50, 1010, 55, 341, 132, 50, 1010, 55, 341, 132, 50, 1010, 55, 341, 132, 50, 1010, 55, 341, 132, 50, 1010, 55, 341, 132, 50, 1010, 55, 341, 132, 50, 1010, 55, 341, 132, 50, 1010, 55, 341, 132, 50, 1010, 55, 341, 132, 50, 1010, 55, 341, 132, 50, 1010, 55, 341, 132, 50, 1010, 55, 341, 132, 50, 1010, 55, 341, 132, 50, 1010, 55, 341, 132, 50, 1010, 55, 341, 132, 50, 1010, 55, 341, 132, 50, 1010, 55, 341, 132, 50, 1010, 55, 341, 132, 50, 1010, 55, 341, 132, 50, 1010, 55, 341, 132, 50, 1010, 55, 341, 132, 50, 1010, 55, 341, 132, 50, 1010, 55, 341, 132, 50, 1010, 55, 341, 132, 50, 1010, 55, 341, 132, 50, 1010, 55, 341, 132, 50, 1010, 55, 341, 132, 50, 1010, 55, 341, 132, 50, 1010, 55, 341, 132, 50, 1010, 55, 341, 132, 50, 1010, 55, 341, 132, 50, 1010, 55, 341, 132, 50, 1010, 55, 341, 132, 50, 1010, 55, 341, 132, 50, 1010, 55, 341, 132, 50, 1010, 55, 341, 132, 50, 1010, 55, 341, 132, 50, 1010, 55, 341, 132, 50, 1010, 55, 341, 132, 50, 1010, 55, 341, 132, 50, 1010, 55, 341, 132, 50, 1010, 55, 341, 132, 50, 1010, 55, 341, 132, 50, 1010, 55, 341, 132, 50, 1010, 55, 341, 132, 50, 1010, 55, 341, 132, 50, 1010, 55, 341, 132, 50, 1010, 55, 341, 132, 50, 1010, 55, 341, 132, 50, 1010, 55, 341, 132, 50, 1010, 55, 341, 132, 50, 1010, 55, 341, 132, 50, 1010, 55, 341, 132, 50, 1010, 55, 341, 132, 50, 1010, 55, 341, 132, 50, 1010, 55, 341, 132, 50, 1010, 55, 341, 132, 50, 1010, 55, 341, 132, 50, 1010, 55, 341, 132, 50, 1010, 55, 341, 132, 50, 1010, 55, 341, 132, 50, 1010, 55, 341, 132, 50, 1010, 55, 341, 132, 50, 1010, 55, 341, 132, 50, 1010, 55, 341, 132, 50, 1010, 55, 341, 132, 50, 1010, 55, 341, 132, 50, 1010, 55, 341, 132, 50, 1010, 55, 341, 132, 50, 1010, 55, 341, 132, 50, 1010, 55, 341, 132, 50, 1010, 55, 341, 132, 50, 1010, 55, 341, 132, 50, 1010, 55, 341, 132, 50, 1010, 55, 341, 132, 50, 1010, 55, 341, 132, 50, 1010, 55, 341, 132, 50, 1010, 55, 341, 132, 50, 1010, 55, 341, 132, 50, 1010, 55, 341, 132, 50, 1010, 55, 341, 132, 50, 1010, 55, 341, 132, 50, 1010, 55, 341, 132, 50, 1010, 55, 341, 132, 50, 1010, 55, 341, 132, 50, 1010, 55, 341, 132, 50, 1010, 55, 341, 132, 50, 1010, 55, 341, 132, 50, 1010, 55, 341, 132, 50, 1010, 55, 341, 132, 50, 1010, 55, 341, 132, 50, 1010, 55, 341, 132, 50, 1010, 55, 341, 132, 50, 1010, 55, 341, 132, 50, 1010, 55, 341, 132, 50, 1010, 55, 341, 132, 50, 1010, 55, 341, 132, 50, 1010, 55, 341, 132, 50, 1010, 55, 341, 132, 50, 1010, 55, 341, 132, 50, 1010, 55, 341, 132, 50, 1010, 55, 341, 132, 50, 1010, 55, 341, 132, 50, 1010, 55, 341, 132, 50, 1010, 55, 341, 132, 50, 1010, 55, 341, 132, 50, 1010, 55, 341, 132, 50, 1010, 55, 341, 132, 50, 1010, 55, 341, 132, 50, 1010, 55, 341, 132, 50, 1010, 55, 341, 132, 50, 1010, 55, 341, 132, 50, 1010, 55, 341, 132, 50, 1010, 55, 341, 132, 50, 1010, 55, 341, 132, 50, 1010, 55, 341, 132, 50, 1010, 55, 341, 132, 50, 1010, 55, 341, 132, 50, 1010, 55, 341, 132, 50, 1010, 55, 341, 132, 50, 1010, 55, 341, 132, 50, 1010, 55, 341, 132, 50, 1010, 55, 341, 132, 50, 1010, 55, 341, 132, 50, 1010, 55, 341, 132, 50, 1010, 55, 341, 132, 50, 1010, 55, 341, 132, 50, 1010, 55, 341, 132, 50, 1010, 55, 341, 132, 50, 1010, 55, 341, 132, 50, 1010, 55, 341, 132, 50, 1010, 55, 341, 132, 50, 1010, 55, 341, 132, 50, 1010, 55, 341, 132, 50, 1010, 55, 341, 132, 50, 1010, 55, 341, 132, 50, 1010, 55, 341, 132, 50, 1010, 55, 341, 132, 50, 1010, 55, 341, 132, 50, 1010, 55, 341, 132, 50, 1010, 55, 341, 132, 50, 1010, 55, 341, 132, 50, 1010, 55, 341, 132, 50, 1010, 55, 341, 132, 50, 1010, 55, 341, 132, 50, 1010, 55, 341, 132, 50, 1010, 55, 341, 132, 50, 1010, 55, 341, 132, 50, 1010, 55, 341, 132, 50, 1010, 55, 341, 132, 50, 1010, 55, 341, 132, 50, 1010, 55, 341, 132, 50, 1010, 55, 341, 132, 50, 1010, 55, 341, 132, 50, 1010, 55, 341, 132, 822, 563, 77, 451, 475, 822, 563, 77, 451, 475, 822, 563, 77, 451, 475, 822, 563, 77, 451, 475, 822, 563, 77, 451, 475, 822, 563, 77, 451, 475, 822, 563, 77, 451, 475, 822, 563, 77, 451, 475, 822, 563, 77, 451, 475, 822, 563, 77, 451, 475, 822, 563, 77, 451, 475, 822, 563, 77, 451, 475, 822, 563, 77, 451, 475, 822, 563, 77, 451, 475, 822, 563, 77, 451, 475, 822, 563, 77, 451, 475, 822, 563, 77, 451, 475, 822, 563, 77, 451, 475, 822, 563, 77, 451, 475, 822, 563, 77, 451, 475, 822, 563, 77, 451, 475, 822, 563, 77, 451, 475, 822, 563, 77, 451, 475, 822, 563, 77, 451, 475, 822, 563, 77, 451, 475, 822, 563, 77, 451, 475, 822, 563, 77, 451, 475, 822, 563, 77, 451, 475, 822, 563, 77, 451, 475, 822, 563, 77, 451, 475, 822, 563, 77, 451, 475, 822, 563, 77, 451, 475, 822, 563, 77, 451, 475, 822, 563, 77, 451, 475, 822, 563, 77, 451, 475, 822, 563, 77, 451, 475, 822, 563, 77, 451, 475, 822, 563, 77, 451, 475, 822, 563, 77, 451, 475, 822, 563, 77, 451, 475, 822, 563, 77, 451, 475, 822, 563, 77, 451, 475, 822, 563, 77, 451, 475, 822, 563, 77, 451, 475, 822, 563, 77, 451, 475, 822, 563, 77, 451, 475, 822, 563, 77, 451, 475, 822, 563, 77, 451, 475, 822, 563, 77, 451, 475, 822, 563, 77, 451, 475, 822, 563, 77, 451, 475, 822, 563, 77, 451, 475, 822, 563, 77, 451, 475, 822, 563, 77, 451, 475, 822, 563, 77, 451, 475, 822, 563, 77, 451, 475, 822, 563, 77, 451, 475, 822, 563, 77, 451, 475, 822, 563, 77, 451, 475, 822, 563, 77, 451, 475, 822, 563, 77, 451, 475, 822, 563, 77, 451, 475, 822, 563, 77, 451, 475, 822, 563, 77, 451, 475, 822, 563, 77, 451, 475, 822, 563, 77, 451, 475, 822, 563, 77, 451, 475, 822, 563, 77, 451, 475, 822, 563, 77, 451, 475, 822, 563, 77, 451, 475, 822, 563, 77, 451, 475, 822, 563, 77, 451, 475, 822, 563, 77, 451, 475, 822, 563, 77, 451, 475, 822, 563, 77, 451, 475, 822, 563, 77, 451, 475]),\n",
              "       list([70, 16, 30, 21, 70, 16, 30, 21, 70, 16, 30, 21, 70, 16, 30, 21, 70, 16, 30, 21, 70, 16, 30, 21, 70, 16, 30, 21, 70, 16, 30, 21, 70, 16, 30, 21, 70, 16, 30, 21, 70, 16, 30, 21, 70, 16, 30, 21, 70, 16, 30, 21, 70, 16, 30, 21, 70, 16, 30, 21, 70, 16, 30, 21, 70, 16, 30, 21, 70, 16, 30, 21, 70, 16, 30, 21, 70, 16, 30, 21, 70, 16, 30, 21, 70, 16, 30, 21, 70, 16, 30, 21, 70, 16, 30, 21, 70, 16, 30, 21, 70, 16, 30, 21, 70, 16, 30, 21, 70, 16, 30, 21, 70, 16, 30, 21, 70, 16, 30, 21, 70, 16, 30, 21, 70, 16, 30, 21, 70, 16, 30, 21, 70, 16, 30, 21, 70, 16, 30, 21, 70, 16, 30, 21, 70, 16, 30, 21, 70, 16, 30, 21, 70, 16, 30, 21, 70, 16, 30, 21, 70, 16, 30, 21, 70, 16, 30, 21, 70, 16, 30, 21, 70, 16, 30, 21, 70, 16, 30, 21, 70, 16, 30, 21, 70, 16, 30, 21, 70, 16, 30, 21, 70, 16, 30, 21, 70, 16, 30, 21, 70, 16, 30, 21, 70, 16, 30, 21, 70, 16, 30, 21, 70, 16, 30, 21, 70, 16, 30, 21, 70, 16, 30, 21, 70, 16, 30, 21, 70, 16, 30, 21, 70, 16, 30, 21, 70, 16, 30, 21, 70, 16, 30, 21, 70, 16, 30, 21, 70, 16, 30, 21, 70, 16, 30, 21, 70, 16, 30, 21, 70, 16, 30, 21, 70, 16, 30, 21, 70, 16, 30, 21, 70, 16, 30, 21, 70, 16, 30, 21, 70, 16, 30, 21, 70, 16, 30, 21, 70, 16, 30, 21, 70, 16, 30, 21, 70, 16, 30, 21, 70, 16, 30, 21, 70, 16, 30, 21, 70, 16, 30, 21, 70, 16, 30, 21, 70, 16, 30, 21, 70, 16, 30, 21, 70, 16, 30, 21, 70, 16, 30, 21, 70, 16, 30, 21, 70, 16, 30, 21, 70, 16, 30, 21, 70, 16, 30, 21, 70, 16, 30, 21, 70, 16, 30, 21, 70, 16, 30, 21, 70, 16, 30, 21, 70, 16, 30, 21, 70, 16, 30, 21, 70, 16, 30, 21, 70, 16, 30, 21, 70, 16, 30, 21, 70, 16, 30, 21, 70, 16, 30, 21, 70, 16, 30, 21, 70, 16, 30, 21, 70, 16, 30, 21, 70, 16, 30, 21, 70, 16, 30, 21, 70, 16, 30, 21, 70, 16, 30, 21, 70, 16, 30, 21, 70, 16, 30, 21, 70, 16, 30, 21, 70, 16, 30, 21, 70, 16, 30, 21, 70, 16, 30, 21, 70, 16, 30, 21, 70, 16, 30, 21, 70, 16, 30, 21, 70, 16, 30, 21, 70, 16, 30, 21, 70, 16, 30, 21, 70, 16, 30, 21, 70, 16, 30, 21, 70, 16, 30, 21, 70, 16, 30, 21, 70, 16, 30, 21, 70, 16, 30, 21, 70, 16, 30, 21, 70, 16, 30, 21, 70, 16, 30, 21, 70, 16, 30, 21, 70, 16, 30, 21, 70, 16, 30, 21, 70, 16, 30, 21, 70, 16, 30, 21, 70, 16, 30, 21, 70, 16, 30, 21, 70, 16, 30, 21, 70, 16, 30, 21, 70, 16, 30, 21, 70, 16, 30, 21, 70, 16, 30, 21, 70, 16, 30, 21, 70, 16, 30, 21, 70, 16, 30, 21, 70, 16, 30, 21, 70, 16, 30, 21, 70, 16, 30, 21, 70, 16, 30, 21, 70, 16, 30, 21, 70, 16, 30, 21, 70, 16, 30, 21, 70, 16, 30, 21, 70, 16, 30, 21, 70, 16, 30, 21, 70, 16, 30, 21, 70, 16, 30, 21, 70, 16, 30, 21, 70, 16, 30, 21, 70, 16, 30, 21, 70, 16, 30, 21, 70, 16, 30, 21, 70, 16, 30, 21, 70, 16, 30, 21, 70, 16, 30, 21, 70, 16, 30, 21, 70, 16, 30, 21, 70, 16, 30, 21, 70, 16, 30, 21, 70, 16, 30, 21, 70, 16, 30, 21, 70, 16, 30, 21, 70, 16, 30, 21, 70, 16, 30, 21, 70, 16, 30, 21, 70, 16, 30, 21, 70, 16, 30, 21, 70, 16, 30, 21, 70, 16, 30, 21, 70, 16, 30, 21, 70, 16, 30, 21, 70, 16, 30, 21, 70, 16, 30, 21, 70, 16, 30, 21, 70, 16, 30, 21, 70, 16, 30, 21, 70, 16, 30, 21, 70, 16, 30, 21, 70, 16, 30, 21, 70, 16, 30, 21, 70, 16, 30, 21, 70, 16, 30, 21, 70, 16, 30, 21, 70, 16, 30, 21, 70, 16, 30, 21, 70, 16, 30, 21, 70, 16, 30, 21, 70, 16, 30, 21, 70, 16, 30, 21, 70, 16, 30, 21, 70, 16, 30, 21, 70, 16, 30, 21, 70, 16, 30, 21, 70, 16, 30, 21, 70, 16, 30, 21, 70, 16, 30, 21, 70, 16, 30, 21, 70, 16, 30, 21, 70, 16, 30, 21, 70, 16, 30, 21, 70, 16, 30, 21, 70, 16, 30, 21, 70, 16, 30, 21, 70, 16, 30, 21, 70, 16, 30, 21, 70, 16, 30, 21, 70, 16, 30, 21, 70, 16, 30, 21, 70, 16, 30, 21, 70, 16, 30, 21, 70, 16, 30, 21, 70, 16, 30, 21, 70, 16, 30, 21, 70, 16, 30, 21, 70, 16, 30, 21, 70, 16, 30, 21, 70, 16, 30, 21, 70, 16, 30, 21, 70, 16, 30, 21, 70, 16, 30, 21, 70, 16, 30, 21, 70, 16, 30, 21, 70, 16, 30, 21, 70, 16, 30, 21, 70, 16, 30, 21, 70, 16, 30, 21, 70, 16, 30, 21, 70, 16, 30, 21, 70, 16, 30, 21, 70, 16, 30, 21, 70, 16, 30, 21, 70, 16, 30, 21, 70, 16, 30, 21, 70, 16, 30, 21, 70, 16, 30, 21, 70, 16, 30, 21, 70, 16, 30, 21, 70, 16, 30, 21, 70, 16, 30, 21, 70, 16, 30, 21, 70, 16, 30, 21, 70, 16, 30, 21, 70, 16, 30, 21, 70, 16, 30, 21, 70, 16, 30, 21, 70, 16, 30, 21, 70, 16, 30, 21, 70, 16, 30, 21, 70, 16, 30, 21, 70, 16, 30, 21, 70, 16, 30, 21, 70, 16, 30, 21, 70, 16, 30, 21, 70, 16, 30, 21, 70, 16, 30, 21, 70, 16, 30, 21, 70, 16, 30, 21, 70, 16, 30, 21, 70, 16, 30, 21, 70, 16, 30, 21, 70, 16, 30, 21, 70, 16, 30, 21, 70, 16, 30, 21, 70, 16, 30, 21, 70, 16, 30, 21, 70, 16, 30, 21, 70, 16, 30, 21, 70, 16, 30, 21, 70, 16, 30, 21, 70, 16, 30, 21, 70, 16, 30, 21, 70, 16, 30, 21, 70, 16, 30, 21, 70, 16, 30, 21, 70, 16, 30, 21, 70, 16, 30, 21, 70, 16, 30, 21, 70, 16, 30, 21, 70, 16, 30, 21, 70, 16, 30, 21, 70, 16, 30, 21, 70, 16, 30, 21, 70, 16, 30, 21, 70, 16, 30, 21, 70, 16, 30, 21, 70, 16, 30, 21, 70, 16, 30, 21, 70, 16, 30, 21, 70, 16, 30, 21, 70, 16, 30, 21, 70, 16, 30, 21, 70, 16, 30, 21, 70, 16, 30, 21, 70, 16, 30, 21, 70, 16, 30, 21, 70, 16, 30, 21, 70, 16, 30, 21, 70, 16, 30, 21, 70, 16, 30, 21, 70, 16, 30, 21, 70, 16, 30, 21, 70, 16, 30, 21, 70, 16, 30, 21, 70, 16, 30, 21, 70, 16, 30, 21, 70, 16, 30, 21, 70, 16, 30, 21, 70, 16, 30, 21, 70, 16, 30, 21, 70, 16, 30, 21, 70, 16, 30, 21, 70, 16, 30, 21, 70, 16, 30, 21, 70, 16, 30, 21, 70, 16, 30, 21, 70, 16, 30, 21, 70, 16, 30, 21, 70, 16, 30, 21, 70, 16, 30, 21, 70, 16, 30, 21, 70, 16, 30, 21, 70, 16, 30, 21, 70, 16, 30, 21, 70, 16, 30, 21, 70, 16, 30, 21, 70, 16, 30, 21, 70, 16, 30, 21, 70, 16, 30, 21, 70, 16, 30, 21, 70, 16, 30, 21, 70, 16, 30, 21, 70, 16, 30, 21, 70, 16, 30, 21, 70, 16, 30, 21, 70, 16, 30, 21, 70, 16, 30, 21, 70, 16, 30, 21, 70, 16, 30, 21, 70, 16, 30, 21, 70, 16, 30, 21, 70, 16, 30, 21, 70, 16, 30, 21, 70, 16, 30, 21, 70, 16, 30, 21, 70, 16, 30, 21, 70, 16, 30, 21, 70, 16, 30, 21, 70, 16, 30, 21, 70, 16, 30, 21, 70, 16, 30, 21, 70, 16, 30, 21, 70, 16, 30, 21, 70, 16, 30, 21, 70, 16, 30, 21, 70, 16, 30, 21, 70, 16, 30, 21, 70, 16, 30, 21, 70, 16, 30, 21, 70, 16, 30, 21, 70, 16, 30, 21, 70, 16, 30, 21, 70, 16, 30, 21, 70, 16, 30, 21, 70, 16, 30, 21, 70, 16, 30, 21, 70, 16, 30, 21, 70, 16, 30, 21, 70, 16, 30, 21, 70, 16, 30, 21, 70, 16, 30, 21, 70, 16, 30, 21, 70, 16, 30, 21, 70, 16, 30, 21, 70, 16, 30, 21, 70, 16, 30, 21, 70, 16, 30, 21, 70, 16, 30, 21, 70, 16, 30, 21, 70, 16, 30, 21, 70, 16, 30, 21, 70, 16, 30, 21, 70, 16, 30, 21, 70, 16, 30, 21, 70, 16, 30, 21, 70, 16, 30, 21, 70, 16, 30, 21, 70, 16, 30, 21, 70, 16, 30, 21, 70, 16, 30, 21, 70, 16, 30, 21, 70, 16, 30, 21, 70, 16, 30, 21, 70, 16, 30, 21, 70, 16, 30, 21, 70, 16, 30, 21, 70, 16, 30, 21, 70, 16, 30, 21, 70, 16, 30, 21, 70, 16, 30, 21, 70, 16, 30, 21, 70, 16, 30, 21, 70, 16, 30, 21, 70, 16, 30, 21, 70, 16, 30, 21, 70, 16, 30, 21, 70, 16, 30, 21, 70, 16, 30, 21, 70, 16, 30, 21, 70, 16, 30, 21, 70, 16, 30, 21, 70, 16, 30, 21, 70, 16, 30, 21, 70, 16, 30, 21, 70, 16, 30, 21, 70, 16, 30, 21, 70, 16, 30, 21, 70, 16, 30, 21, 70, 16, 30, 21, 70, 16, 30, 21, 70, 16, 30, 21, 70, 16, 30, 21, 70, 16, 30, 21, 70, 16, 30, 21, 70, 16, 30, 21, 70, 16, 30, 21, 70, 16, 30, 21, 70, 16, 30, 21, 70, 16, 30, 21, 70, 16, 30, 21, 70, 16, 30, 21, 70, 16, 30, 21, 70, 16, 30, 21, 70, 16, 30, 21, 70, 16, 30, 21, 70, 16, 30, 21, 70, 16, 30, 21, 70, 16, 30, 21, 70, 16, 30, 21, 70, 16, 30, 21, 70, 16, 30, 21, 70, 16, 30, 21, 70, 16, 30, 21, 70, 16, 30, 21, 70, 16, 30, 21, 70, 16, 30, 21, 70, 16, 30, 21, 70, 16, 30, 21, 70, 16, 30, 21, 70, 16, 30, 21, 70, 16, 30, 21, 70, 16, 30, 21, 70, 16, 30, 21, 70, 16, 30, 21, 70, 16, 30, 21, 70, 16, 30, 21, 70, 16, 30, 21, 70, 16, 30, 21, 70, 16, 30, 21, 70, 16, 30, 21, 70, 16, 30, 21, 70, 16, 30, 21, 70, 16, 30, 21, 70, 16, 30, 21, 70, 16, 30, 21, 70, 16, 30, 21, 70, 16, 30, 21, 70, 16, 30, 21, 70, 16, 30, 21, 70, 16, 30, 21, 70, 16, 30, 21, 70, 16, 30, 21, 70, 16, 30, 21, 70, 16, 30, 21, 70, 16, 30, 21, 70, 16, 30, 21, 70, 16, 30, 21, 70, 16, 30, 21, 70, 16, 30, 21, 70, 16, 30, 21, 70, 16, 30, 21, 70, 16, 30, 21, 70, 16, 30, 21, 70, 16, 30, 21, 70, 16, 30, 21, 70, 16, 30, 21, 70, 16, 30, 21, 70, 16, 30, 21, 70, 16, 30, 21, 70, 16, 30, 21, 70, 16, 30, 21, 70, 16, 30, 21, 70, 16, 30, 21, 70, 16, 30, 21, 70, 16, 30, 21, 70, 16, 30, 21, 70, 16, 30, 21, 70, 16, 30, 21, 70, 16, 30, 21, 70, 16, 30, 21, 70, 16, 30, 21, 70, 16, 30, 21, 70, 16, 30, 21, 70, 16, 30, 21, 70, 16, 30, 21, 70, 16, 30, 21, 70, 16, 30, 21, 70, 16, 30, 21, 70, 16, 30, 21, 70, 16, 30, 21, 70, 16, 30, 21, 70, 16, 30, 21, 70, 16, 30, 21, 70, 16, 30, 21, 70, 16, 30, 21, 70, 16, 30, 21, 70, 16, 30, 21, 70, 16, 30, 21, 70, 16, 30, 21, 70, 16, 30, 21, 70, 16, 30, 21, 70, 16, 30, 21, 70, 16, 30, 21, 70, 16, 30, 21, 70, 16, 30, 21, 70, 16, 30, 21, 70, 16, 30, 21, 70, 16, 30, 21, 70, 16, 30, 21, 70, 16, 30, 21, 70, 16, 30, 21, 70, 16, 30, 21, 70, 16, 30, 21, 70, 16, 30, 21, 70, 16, 30, 21, 70, 16, 30, 21, 70, 16, 30, 21, 70, 16, 30, 21, 70, 16, 30, 21, 70, 16, 30, 21, 70, 16, 30, 21, 70, 16, 30, 21, 70, 16, 30, 21, 70, 16, 30, 21, 70, 16, 30, 21, 70, 16, 30, 21, 70, 16, 30, 21, 70, 16, 30, 21, 70, 16, 30, 21, 70, 16, 30, 21, 70, 16, 30, 21, 70, 16, 30, 21, 70, 16, 30, 21, 70, 16, 30, 21, 70, 16, 30, 21, 70, 16, 30, 21, 70, 16, 30, 21, 70, 16, 30, 21, 70, 16, 30, 21, 70, 16, 30, 21, 70, 16, 30, 21, 70, 16, 30, 21, 70, 16, 30, 21, 70, 16, 30, 21, 70, 16, 30, 21, 70, 16, 30, 21, 70, 16, 30, 21, 70, 16, 30, 21, 70, 16, 30, 21, 70, 16, 30, 21, 70, 16, 30, 21, 70, 16, 30, 21, 70, 16, 30, 21, 70, 16, 30, 21, 70, 16, 30, 21, 70, 16, 30, 21, 70, 16, 30, 21, 70, 16, 30, 21, 70, 16, 30, 21, 70, 16, 30, 21, 70, 16, 30, 21, 70, 16, 30, 21, 70, 16, 30, 21, 70, 16, 30, 21, 70, 16, 30, 21, 70, 16, 30, 21, 70, 16, 30, 21, 70, 16, 30, 21, 70, 16, 30, 21, 70, 16, 30, 21, 70, 16, 30, 21, 70, 16, 30, 21, 70, 16, 30, 21, 70, 16, 30, 21, 70, 16, 30, 21, 70, 16, 30, 21, 70, 16, 30, 21, 70, 16, 30, 21, 70, 16, 30, 21, 70, 16, 30, 21, 70, 16, 30, 21, 70, 16, 30, 21, 70, 16, 30, 21, 70, 16, 30, 21, 70, 16, 30, 21, 70, 16, 30, 21, 70, 16, 30, 21, 70, 16, 30, 21, 70, 16, 30, 21, 70, 16, 30, 21, 70, 16, 30, 21, 70, 16, 30, 21, 70, 16, 30, 21, 70, 16, 30, 21, 70, 16, 30, 21, 70, 16, 30, 21, 70, 16, 30, 21, 70, 16, 30, 21, 70, 16, 30, 21, 70, 16, 30, 21, 70, 16, 30, 21, 70, 16, 30, 21, 70, 16, 30, 21, 70, 16, 30, 21, 70, 16, 30, 21, 70, 16, 30, 21, 70, 16, 30, 21, 70, 16, 30, 21, 70, 16, 30, 21, 70, 16, 30, 21, 70, 16, 30, 21, 70, 16, 30, 21, 70, 16, 30, 21, 70, 16, 30, 21, 70, 16, 30, 21, 70, 16, 30, 21, 70, 16, 30, 21, 70, 16, 30, 21, 70, 16, 30, 21, 70, 16, 30, 21, 70, 16, 30, 21, 70, 16, 30, 21, 70, 16, 30, 21, 70, 16, 30, 21, 70, 16, 30, 21, 70, 16, 30, 21, 70, 16, 30, 21, 70, 16, 30, 21, 70, 16, 30, 21, 70, 16, 30, 21, 70, 16, 30, 21, 70, 16, 30, 21, 70, 16, 30, 21, 70, 16, 30, 21, 70, 16, 30, 21, 70, 16, 30, 21, 70, 16, 30, 21, 70, 16, 30, 21, 70, 16, 30, 21, 70, 16, 30, 21, 70, 16, 30, 21, 70, 16, 30, 21, 70, 16, 30, 21, 70, 16, 30, 21, 70, 16, 30, 21, 70, 16, 30, 21, 70, 16, 30, 21, 70, 16, 30, 21, 70, 16, 30, 21, 70, 16, 30, 21, 70, 16, 30, 21, 70, 16, 30, 21, 70, 16, 30, 21, 70, 16, 30, 21, 70, 16, 30, 21, 70, 16, 30, 21, 70, 16, 30, 21, 70, 16, 30, 21, 70, 16, 30, 21, 70, 16, 30, 21, 70, 16, 30, 21, 70, 16, 30, 21, 70, 16, 30, 21, 70, 16, 30, 21, 70, 16, 30, 21, 70, 16, 30, 21, 70, 16, 30, 21, 70, 16, 30, 21, 70, 16, 30, 21, 70, 16, 30, 21, 70, 16, 30, 21, 70, 16, 30, 21, 70, 16, 30, 21, 70, 16, 30, 21, 70, 16, 30, 21, 70, 16, 30, 21, 70, 16, 30, 21, 70, 16, 30, 21, 70, 16, 30, 21, 70, 16, 30, 21, 70, 16, 30, 21, 70, 16, 30, 21, 70, 16, 30, 21, 70, 16, 30, 21, 70, 16, 30, 21, 70, 16, 30, 21, 70, 16, 30, 21, 70, 16, 30, 21, 70, 16, 30, 21, 70, 16, 30, 21, 70, 16, 30, 21, 70, 16, 30, 21, 70, 16, 30, 21, 70, 16, 30, 21, 70, 16, 30, 21, 70, 16, 30, 21, 70, 16, 30, 21, 70, 16, 30, 21, 70, 16, 30, 21, 70, 16, 30, 21, 70, 16, 30, 21, 70, 16, 30, 21, 70, 16, 30, 21, 70, 16, 30, 21, 70, 16, 30, 21, 70, 16, 30, 21, 70, 16, 30, 21, 70, 16, 30, 21, 70, 16, 30, 21, 70, 16, 30, 21, 70, 16, 30, 21, 70, 16, 30, 21, 70, 16, 30, 21, 70, 16, 30, 21, 70, 16, 30, 21, 70, 16, 30, 21, 70, 16, 30, 21, 70, 16, 30, 21, 70, 16, 30, 21, 70, 16, 30, 21, 70, 16, 30, 21, 70, 16, 30, 21, 70, 16, 30, 21, 70, 16, 30, 21, 70, 16, 30, 21, 70, 16, 30, 21, 70, 16, 30, 21, 70, 16, 30, 21, 70, 16, 30, 21, 70, 16, 30, 21, 70, 16, 30, 21, 70, 16, 30, 21, 70, 16, 30, 21, 70, 16, 30, 21, 70, 16, 30, 21, 70, 16, 30, 21, 70, 16, 30, 21, 70, 16, 30, 21, 70, 16, 30, 21, 70, 16, 30, 21, 70, 16, 30, 21, 70, 16, 30, 21, 70, 16, 30, 21, 70, 16, 30, 21, 70, 16, 30, 21, 70, 16, 30, 21, 70, 16, 30, 21, 70, 16, 30, 21, 70, 16, 30, 21, 70, 16, 30, 21, 70, 16, 30, 21, 70, 16, 30, 21, 33, 34, 2, 43, 599, 33, 34, 2, 43, 599, 33, 34, 2, 43, 599, 33, 34, 2, 43, 599, 33, 34, 2, 43, 599, 33, 34, 2, 43, 599, 33, 34, 2, 43, 599, 33, 34, 2, 43, 599, 33, 34, 2, 43, 599, 33, 34, 2, 43, 599, 33, 34, 2, 43, 599, 33, 34, 2, 43, 599, 33, 34, 2, 43, 599, 33, 34, 2, 43, 599, 33, 34, 2, 43, 599, 33, 34, 2, 43, 599, 33, 34, 2, 43, 599, 33, 34, 2, 43, 599, 33, 34, 2, 43, 599, 33, 34, 2, 43, 599, 33, 34, 2, 43, 599, 33, 34, 2, 43, 599, 33, 34, 2, 43, 599, 33, 34, 2, 43, 599, 33, 34, 2, 43, 599, 33, 34, 2, 43, 599, 33, 34, 2, 43, 599, 33, 34, 2, 43, 599, 33, 34, 2, 43, 599, 33, 34, 2, 43, 599, 33, 34, 2, 43, 599, 33, 34, 2, 43, 599, 33, 34, 2, 43, 599, 33, 34, 2, 43, 599, 33, 34, 2, 43, 599, 33, 34, 2, 43, 599, 33, 34, 2, 43, 599, 33, 34, 2, 43, 599, 33, 34, 2, 43, 599, 33, 34, 2, 43, 599, 33, 34, 2, 43, 599, 33, 34, 2, 43, 599, 33, 34, 2, 43, 599, 33, 34, 2, 43, 599, 33, 34, 2, 43, 599, 33, 34, 2, 43, 599, 33, 34, 2, 43, 599, 33, 34, 2, 43, 599, 33, 34, 2, 43, 599, 33, 34, 2, 43, 599, 33, 34, 2, 43, 599, 33, 34, 2, 43, 599, 33, 34, 2, 43, 599, 33, 34, 2, 43, 599, 33, 34, 2, 43, 599, 33, 34, 2, 43, 599, 33, 34, 2, 43, 599, 33, 34, 2, 43, 599, 33, 34, 2, 43, 599, 33, 34, 2, 43, 599, 33, 34, 2, 43, 599, 33, 34, 2, 43, 599, 33, 34, 2, 43, 599, 33, 34, 2, 43, 599, 33, 34, 2, 43, 599, 33, 34, 2, 43, 599, 33, 34, 2, 43, 599, 33, 34, 2, 43, 599, 33, 34, 2, 43, 599, 33, 34, 2, 43, 599, 33, 34, 2, 43, 599, 33, 34, 2, 43, 599, 33, 34, 2, 43, 599, 33, 34, 2, 43, 599, 33, 34, 2, 43, 599, 33, 34, 2, 43, 599, 33, 34, 2, 43, 599, 33, 34, 2, 43, 599, 33, 34, 2, 43, 599, 33, 34, 2, 43, 599, 33, 34, 2, 43, 599, 33, 34, 2, 43, 599, 33, 34, 2, 43, 599, 33, 34, 2, 43, 599, 33, 34, 2, 43, 599, 33, 34, 2, 43, 599, 33, 34, 2, 43, 599, 33, 34, 2, 43, 599, 33, 34, 2, 43, 599, 33, 34, 2, 43, 599, 33, 34, 2, 43, 599, 33, 34, 2, 43, 599, 33, 34, 2, 43, 599, 33, 34, 2, 43, 599, 33, 34, 2, 43, 599, 33, 34, 2, 43, 599, 33, 34, 2, 43, 599, 33, 34, 2, 43, 599, 33, 34, 2, 43, 599, 33, 34, 2, 43, 599, 33, 34, 2, 43, 599, 33, 34, 2, 43, 599, 33, 34, 2, 43, 599, 33, 34, 2, 43, 599, 33, 34, 2, 43, 599, 33, 34, 2, 43, 599, 33, 34, 2, 43, 599, 33, 34, 2, 43, 599, 33, 34, 2, 43, 599, 33, 34, 2, 43, 599, 33, 34, 2, 43, 599, 33, 34, 2, 43, 599, 33, 34, 2, 43, 599, 33, 34, 2, 43, 599, 33, 34, 2, 43, 599, 33, 34, 2, 43, 599, 33, 34, 2, 43, 599, 33, 34, 2, 43, 599, 33, 34, 2, 43, 599, 33, 34, 2, 43, 599, 33, 34, 2, 43, 599, 33, 34, 2, 43, 599, 33, 34, 2, 43, 599, 33, 34, 2, 43, 599, 33, 34, 2, 43, 599, 33, 34, 2, 43, 599, 33, 34, 2, 43, 599, 33, 34, 2, 43, 599, 33, 34, 2, 43, 599, 33, 34, 2, 43, 599, 33, 34, 2, 43, 599, 33, 34, 2, 43, 599, 33, 34, 2, 43, 599, 33, 34, 2, 43, 599, 33, 34, 2, 43, 599, 33, 34, 2, 43, 599, 33, 34, 2, 43, 599, 33, 34, 2, 43, 599, 33, 34, 2, 43, 599, 33, 34, 2, 43, 599, 33, 34, 2, 43, 599, 33, 34, 2, 43, 599, 33, 34, 2, 43, 599, 33, 34, 2, 43, 599, 33, 34, 2, 43, 599, 33, 34, 2, 43, 599, 33, 34, 2, 43, 599, 33, 34, 2, 43, 599, 33, 34, 2, 43, 599, 33, 34, 2, 43, 599, 33, 34, 2, 43, 599, 33, 34, 2, 43, 599, 33, 34, 2, 43, 599, 33, 34, 2, 43, 599, 33, 34, 2, 43, 599, 33, 34, 2, 43, 599, 33, 34, 2, 43, 599, 33, 34, 2, 43, 599, 33, 34, 2, 43, 599, 33, 34, 2, 43, 599, 33, 34, 2, 43, 599, 33, 34, 2, 43, 599, 33, 34, 2, 43, 599, 33, 34, 2, 43, 599, 33, 34, 2, 43, 599, 33, 34, 2, 43, 599, 33, 34, 2, 43, 599, 33, 34, 2, 43, 599, 33, 34, 2, 43, 599, 33, 34, 2, 43, 599, 33, 34, 2, 43, 599, 33, 34, 2, 43, 599, 33, 34, 2, 43, 599, 33, 34, 2, 43, 599, 33, 34, 2, 43, 599, 33, 34, 2, 43, 599, 33, 34, 2, 43, 599, 33, 34, 2, 43, 599, 33, 34, 2, 43, 599, 33, 34, 2, 43, 599, 33, 34, 2, 43, 599, 33, 34, 2, 43, 599, 33, 34, 2, 43, 599, 33, 34, 2, 43, 599, 33, 34, 2, 43, 599, 33, 34, 2, 43, 599, 33, 34, 2, 43, 599, 33, 34, 2, 43, 599, 33, 34, 2, 43, 599, 33, 34, 2, 43, 599, 33, 34, 2, 43, 599, 33, 34, 2, 43, 599, 33, 34, 2, 43, 599, 33, 34, 2, 43, 599, 33, 34, 2, 43, 599, 33, 34, 2, 43, 599, 33, 34, 2, 43, 599, 33, 34, 2, 43, 599, 33, 34, 2, 43, 599, 33, 34, 2, 43, 599, 33, 34, 2, 43, 599, 33, 34, 2, 43, 599, 33, 34, 2, 43, 599, 33, 34, 2, 43, 599, 33, 34, 2, 43, 599, 33, 34, 2, 43, 599, 33, 34, 2, 43, 599, 33, 34, 2, 43, 599, 33, 34, 2, 43, 599, 33, 34, 2, 43, 599, 33, 34, 2, 43, 599, 33, 34, 2, 43, 599, 33, 34, 2, 43, 599, 33, 34, 2, 43, 599, 33, 34, 2, 43, 599, 33, 34, 2, 43, 599, 33, 34, 2, 43, 599, 33, 34, 2, 43, 599, 33, 34, 2, 43, 599, 33, 34, 2, 43, 599, 33, 34, 2, 43, 599, 33, 34, 2, 43, 599, 33, 34, 2, 43, 599, 33, 34, 2, 43, 599, 33, 34, 2, 43, 599, 33, 34, 2, 43, 599, 33, 34, 2, 43, 599, 33, 34, 2, 43, 599, 33, 34, 2, 43, 599, 33, 34, 2, 43, 599, 33, 34, 2, 43, 599, 33, 34, 2, 43, 599, 33, 34, 2, 43, 599, 33, 34, 2, 43, 599, 33, 34, 2, 43, 599, 33, 34, 2, 43, 599, 33, 34, 2, 43, 599, 33, 34, 2, 43, 599, 33, 34, 2, 43, 599, 33, 34, 2, 43, 599, 33, 34, 2, 43, 599, 33, 34, 2, 43, 599, 33, 34, 2, 43, 599, 33, 34, 2, 43, 599, 33, 34, 2, 43, 599, 33, 34, 2, 43, 599, 33, 34, 2, 43, 599, 33, 34, 2, 43, 599, 33, 34, 2, 43, 599, 33, 34, 2, 43, 599, 33, 34, 2, 43, 599, 33, 34, 2, 43, 599, 33, 34, 2, 43, 599, 33, 34, 2, 43, 599, 33, 34, 2, 43, 599, 33, 34, 2, 43, 599, 33, 34, 2, 43, 599, 33, 34, 2, 43, 599, 33, 34, 2, 43, 599, 33, 34, 2, 43, 599, 33, 34, 2, 43, 599, 33, 34, 2, 43, 599, 33, 34, 2, 43, 599, 33, 34, 2, 43, 599, 33, 34, 2, 43, 599, 33, 34, 2, 43, 599, 33, 34, 2, 43, 599, 33, 34, 2, 43, 599, 33, 34, 2, 43, 599, 33, 34, 2, 43, 599, 33, 34, 2, 43, 599, 33, 34, 2, 43, 599, 33, 34, 2, 43, 599, 33, 34, 2, 43, 599, 33, 34, 2, 43, 599, 33, 34, 2, 43, 599, 33, 34, 2, 43, 599, 33, 34, 2, 43, 599, 33, 34, 2, 43, 599, 33, 34, 2, 43, 599, 33, 34, 2, 43, 599, 33, 34, 2, 43, 599, 33, 34, 2, 43, 599, 33, 34, 2, 43, 599, 33, 34, 2, 43, 599, 33, 34, 2, 43, 599, 33, 34, 2, 43, 599, 33, 34, 2, 43, 599, 33, 34, 2, 43, 599, 33, 34, 2, 43, 599, 33, 34, 2, 43, 599, 33, 34, 2, 43, 599, 33, 34, 2, 43, 599, 33, 34, 2, 43, 599, 33, 34, 2, 43, 599, 33, 34, 2, 43, 599, 33, 34, 2, 43, 599, 33, 34, 2, 43, 599, 33, 34, 2, 43, 599, 33, 34, 2, 43, 599, 33, 34, 2, 43, 599, 33, 34, 2, 43, 599, 33, 34, 2, 43, 599, 33, 34, 2, 43, 599, 33, 34, 2, 43, 599, 33, 34, 2, 43, 599, 33, 34, 2, 43, 599, 33, 34, 2, 43, 599, 33, 34, 2, 43, 599, 33, 34, 2, 43, 599, 33, 34, 2, 43, 599, 33, 34, 2, 43, 599, 33, 34, 2, 43, 599, 33, 34, 2, 43, 599, 33, 34, 2, 43, 599, 33, 34, 2, 43, 599, 33, 34, 2, 43, 599, 33, 34, 2, 43, 599, 33, 34, 2, 43, 599, 33, 34, 2, 43, 599, 33, 34, 2, 43, 599, 33, 34, 2, 43, 599, 33, 34, 2, 43, 599, 33, 34, 2, 43, 599, 33, 34, 2, 43, 599, 33, 34, 2, 43, 599, 33, 34, 2, 43, 599, 33, 34, 2, 43, 599, 33, 34, 2, 43, 599, 33, 34, 2, 43, 599, 33, 34, 2, 43, 599, 33, 34, 2, 43, 599, 33, 34, 2, 43, 599, 33, 34, 2, 43, 599, 33, 34, 2, 43, 599, 33, 34, 2, 43, 599, 33, 34, 2, 43, 599, 33, 34, 2, 43, 599, 33, 34, 2, 43, 599, 33, 34, 2, 43, 599, 33, 34, 2, 43, 599, 33, 34, 2, 43, 599, 33, 34, 2, 43, 599, 33, 34, 2, 43, 599, 33, 34, 2, 43, 599, 33, 34, 2, 43, 599, 33, 34, 2, 43, 599, 33, 34, 2, 43, 599, 33, 34, 2, 43, 599, 33, 34, 2, 43, 599, 33, 34, 2, 43, 599, 33, 34, 2, 43, 599, 33, 34, 2, 43, 599, 33, 34, 2, 43, 599, 33, 34, 2, 43, 599, 33, 34, 2, 43, 599, 33, 34, 2, 43, 599, 33, 34, 2, 43, 599, 33, 34, 2, 43, 599, 33, 34, 2, 43, 599, 33, 34, 2, 43, 599, 33, 34, 2, 43, 599, 33, 34, 2, 43, 599, 33, 34, 2, 43, 599, 33, 34, 2, 43, 599, 33, 34, 2, 43, 599, 33, 34, 2, 43, 599, 33, 34, 2, 43, 599, 33, 34, 2, 43, 599, 33, 34, 2, 43, 599, 33, 34, 2, 43, 599, 33, 34, 2, 43, 599, 33, 34, 2, 43, 599, 33, 34, 2, 43, 599, 33, 34, 2, 43, 599, 33, 34, 2, 43, 599, 33, 34, 2, 43, 599, 33, 34, 2, 43, 599, 33, 34, 2, 43, 599, 33, 34, 2, 43, 599, 33, 34, 2, 43, 599, 33, 34, 2, 43, 599, 33, 34, 2, 43, 599, 33, 34, 2, 43, 599, 33, 34, 2, 43, 599, 33, 34, 2, 43, 599, 33, 34, 2, 43, 599, 33, 34, 2, 43, 599, 33, 34, 2, 43, 599, 33, 34, 2, 43, 599, 33, 34, 2, 43, 599, 33, 34, 2, 43, 599, 33, 34, 2, 43, 599, 33, 34, 2, 43, 599, 33, 34, 2, 43, 599, 33, 34, 2, 43, 599, 33, 34, 2, 43, 599, 33, 34, 2, 43, 599, 33, 34, 2, 43, 599, 33, 34, 2, 43, 599, 33, 34, 2, 43, 599, 33, 34, 2, 43, 599, 33, 34, 2, 43, 599, 33, 34, 2, 43, 599, 33, 34, 2, 43, 599, 33, 34, 2, 43, 599, 33, 34, 2, 43, 599, 33, 34, 2, 43, 599, 33, 34, 2, 43, 599, 33, 34, 2, 43, 599, 33, 34, 2, 43, 599, 33, 34, 2, 43, 599, 33, 34, 2, 43, 599, 33, 34, 2, 43, 599, 33, 34, 2, 43, 599, 33, 34, 2, 43, 599, 33, 34, 2, 43, 599, 33, 34, 2, 43, 599, 33, 34, 2, 43, 599, 33, 34, 2, 43, 599, 33, 34, 2, 43, 599, 33, 34, 2, 43, 599, 33, 34, 2, 43, 599, 33, 34, 2, 43, 599, 33, 34, 2, 43, 599, 33, 34, 2, 43, 599, 33, 34, 2, 43, 599, 33, 34, 2, 43, 599, 33, 34, 2, 43, 599, 33, 34, 2, 43, 599, 33, 34, 2, 43, 599, 33, 34, 2, 43, 599, 33, 34, 2, 43, 599, 33, 34, 2, 43, 599, 33, 34, 2, 43, 599, 33, 34, 2, 43, 599, 33, 34, 2, 43, 599, 33, 34, 2, 43, 599, 33, 34, 2, 43, 599, 33, 34, 2, 43, 599, 33, 34, 2, 43, 599, 33, 34, 2, 43, 599, 33, 34, 2, 43, 599, 33, 34, 2, 43, 599, 33, 34, 2, 43, 599, 33, 34, 2, 43, 599, 33, 34, 2, 43, 599, 33, 34, 2, 43, 599, 33, 34, 2, 43, 599, 33, 34, 2, 43, 599, 33, 34, 2, 43, 599, 33, 34, 2, 43, 599, 33, 34, 2, 43, 599, 33, 34, 2, 43, 599, 33, 34, 2, 43, 599, 33, 34, 2, 43, 599, 33, 34, 2, 43, 599, 33, 34, 2, 43, 599, 33, 34, 2, 43, 599, 33, 34, 2, 43, 599, 33, 34, 2, 43, 599, 33, 34, 2, 43, 599, 33, 34, 2, 43, 599, 33, 34, 2, 43, 599, 33, 34, 2, 43, 599, 33, 34, 2, 43, 599, 33, 34, 2, 43, 599, 33, 34, 2, 43, 599, 33, 34, 2, 43, 599, 33, 34, 2, 43, 599, 33, 34, 2, 43, 599, 33, 34, 2, 43, 599, 33, 34, 2, 43, 599, 33, 34, 2, 43, 599, 33, 34, 2, 43, 599, 33, 34, 2, 43, 599, 33, 34, 2, 43, 599, 33, 34, 2, 43, 599, 33, 34, 2, 43, 599, 33, 34, 2, 43, 599, 33, 34, 2, 43, 599, 33, 34, 2, 43, 599, 33, 34, 2, 43, 599, 33, 34, 2, 43, 599, 33, 34, 2, 43, 599, 33, 34, 2, 43, 599, 33, 34, 2, 43, 599, 33, 34, 2, 43, 599, 33, 34, 2, 43, 599, 33, 34, 2, 43, 599, 33, 34, 2, 43, 599, 33, 34, 2, 43, 599, 33, 34, 2, 43, 599, 33, 34, 2, 43, 599, 33, 34, 2, 43, 599, 33, 34, 2, 43, 599, 48, 100, 333, 452, 567, 48, 100, 333, 452, 567, 48, 100, 333, 452, 567, 48, 100, 333, 452, 567, 48, 100, 333, 452, 567, 48, 100, 333, 452, 567, 48, 100, 333, 452, 567, 48, 100, 333, 452, 567, 48, 100, 333, 452, 567, 48, 100, 333, 452, 567, 48, 100, 333, 452, 567, 48, 100, 333, 452, 567, 48, 100, 333, 452, 567, 48, 100, 333, 452, 567, 48, 100, 333, 452, 567, 48, 100, 333, 452, 567, 48, 100, 333, 452, 567, 48, 100, 333, 452, 567, 48, 100, 333, 452, 567, 48, 100, 333, 452, 567, 48, 100, 333, 452, 567, 48, 100, 333, 452, 567, 48, 100, 333, 452, 567, 48, 100, 333, 452, 567, 48, 100, 333, 452, 567, 48, 100, 333, 452, 567, 48, 100, 333, 452, 567, 48, 100, 333, 452, 567, 48, 100, 333, 452, 567, 48, 100, 333, 452, 567, 48, 100, 333, 452, 567, 48, 100, 333, 452, 567, 48, 100, 333, 452, 567, 48, 100, 333, 452, 567, 48, 100, 333, 452, 567, 48, 100, 333, 452, 567, 48, 100, 333, 452, 567, 48, 100, 333, 452, 567, 48, 100, 333, 452, 567, 48, 100, 333, 452, 567, 48, 100, 333, 452, 567, 48, 100, 333, 452, 567, 48, 100, 333, 452, 567, 48, 100, 333, 452, 567, 48, 100, 333, 452, 567, 48, 100, 333, 452, 567, 48, 100, 333, 452, 567, 48, 100, 333, 452, 567, 48, 100, 333, 452, 567, 48, 100, 333, 452, 567, 48, 100, 333, 452, 567, 48, 100, 333, 452, 567, 48, 100, 333, 452, 567, 48, 100, 333, 452, 567, 48, 100, 333, 452, 567, 48, 100, 333, 452, 567, 48, 100, 333, 452, 567, 48, 100, 333, 452, 567, 48, 100, 333, 452, 567, 48, 100, 333, 452, 567, 48, 100, 333, 452, 567, 48, 100, 333, 452, 567, 48, 100, 333, 452, 567, 48, 100, 333, 452, 567, 48, 100, 333, 452, 567, 48, 100, 333, 452, 567, 48, 100, 333, 452, 567, 48, 100, 333, 452, 567, 48, 100, 333, 452, 567, 48, 100, 333, 452, 567, 48, 100, 333, 452, 567, 48, 100, 333, 452, 567, 48, 100, 333, 452, 567, 48, 100, 333, 452, 567, 48, 100, 333, 452, 567, 48, 100, 333, 452, 567, 48, 100, 333, 452, 567, 48, 100, 333, 452, 567, 48, 100, 333, 452, 567, 48, 100, 333, 452, 567, 48, 100, 333, 452, 567, 48, 100, 333, 452, 567, 48, 100, 333, 452, 567, 48, 100, 333, 452, 567, 48, 100, 333, 452, 567, 48, 100, 333, 452, 567, 48, 100, 333, 452, 567, 48, 100, 333, 452, 567, 48, 100, 333, 452, 567, 48, 100, 333, 452, 567, 48, 100, 333, 452, 567, 48, 100, 333, 452, 567, 48, 100, 333, 452, 567, 48, 100, 333, 452, 567, 48, 100, 333, 452, 567, 48, 100, 333, 452, 567, 48, 100, 333, 452, 567, 48, 100, 333, 452, 567, 48, 100, 333, 452, 567, 48, 100, 333, 452, 567, 48, 100, 333, 452, 567, 48, 100, 333, 452, 567, 48, 100, 333, 452, 567, 48, 100, 333, 452, 567, 48, 100, 333, 452, 567, 48, 100, 333, 452, 567, 48, 100, 333, 452, 567, 48, 100, 333, 452, 567, 48, 100, 333, 452, 567, 48, 100, 333, 452, 567, 48, 100, 333, 452, 567, 48, 100, 333, 452, 567, 48, 100, 333, 452, 567, 48, 100, 333, 452, 567, 48, 100, 333, 452, 567, 48, 100, 333, 452, 567, 48, 100, 333, 452, 567, 48, 100, 333, 452, 567, 48, 100, 333, 452, 567, 48, 100, 333, 452, 567, 48, 100, 333, 452, 567, 48, 100, 333, 452, 567, 48, 100, 333, 452, 567, 48, 100, 333, 452, 567, 48, 100, 333, 452, 567, 48, 100, 333, 452, 567, 48, 100, 333, 452, 567, 48, 100, 333, 452, 567, 48, 100, 333, 452, 567, 48, 100, 333, 452, 567, 48, 100, 333, 452, 567, 48, 100, 333, 452, 567, 48, 100, 333, 452, 567, 48, 100, 333, 452, 567, 48, 100, 333, 452, 567, 48, 100, 333, 452, 567, 48, 100, 333, 452, 567, 48, 100, 333, 452, 567, 48, 100, 333, 452, 567, 48, 100, 333, 452, 567, 48, 100, 333, 452, 567, 48, 100, 333, 452, 567, 48, 100, 333, 452, 567, 48, 100, 333, 452, 567, 48, 100, 333, 452, 567, 48, 100, 333, 452, 567, 48, 100, 333, 452, 567, 48, 100, 333, 452, 567, 48, 100, 333, 452, 567, 48, 100, 333, 452, 567, 48, 100, 333, 452, 567, 48, 100, 333, 452, 567, 48, 100, 333, 452, 567, 48, 100, 333, 452, 567, 48, 100, 333, 452, 567, 48, 100, 333, 452, 567, 48, 100, 333, 452, 567, 48, 100, 333, 452, 567, 48, 100, 333, 452, 567, 48, 100, 333, 452, 567, 48, 100, 333, 452, 567, 48, 100, 333, 452, 567, 48, 100, 333, 452, 567, 48, 100, 333, 452, 567, 48, 100, 333, 452, 567, 48, 100, 333, 452, 567, 48, 100, 333, 452, 567, 48, 100, 333, 452, 567, 48, 100, 333, 452, 567, 48, 100, 333, 452, 567, 48, 100, 333, 452, 567, 48, 100, 333, 452, 567, 48, 100, 333, 452, 567, 48, 100, 333, 452, 567, 48, 100, 333, 452, 567, 48, 100, 333, 452, 567, 48, 100, 333, 452, 567, 48, 100, 333, 452, 567, 48, 100, 333, 452, 567, 48, 100, 333, 452, 567, 48, 100, 333, 452, 567, 48, 100, 333, 452, 567, 48, 100, 333, 452, 567, 48, 100, 333, 452, 567, 48, 100, 333, 452, 567, 48, 100, 333, 452, 567, 48, 100, 333, 452, 567, 48, 100, 333, 452, 567, 48, 100, 333, 452, 567, 48, 100, 333, 452, 567, 48, 100, 333, 452, 567, 48, 100, 333, 452, 567, 48, 100, 333, 452, 567, 48, 100, 333, 452, 567, 48, 100, 333, 452, 567, 48, 100, 333, 452, 567, 48, 100, 333, 452, 567, 48, 100, 333, 452, 567, 48, 100, 333, 452, 567, 48, 100, 333, 452, 567, 48, 100, 333, 452, 567, 48, 100, 333, 452, 567, 48, 100, 333, 452, 567, 48, 100, 333, 452, 567, 48, 100, 333, 452, 567, 48, 100, 333, 452, 567, 48, 100, 333, 452, 567, 48, 100, 333, 452, 567, 48, 100, 333, 452, 567, 48, 100, 333, 452, 567, 48, 100, 333, 452, 567, 48, 100, 333, 452, 567, 48, 100, 333, 452, 567, 48, 100, 333, 452, 567, 48, 100, 333, 452, 567, 48, 100, 333, 452, 567, 48, 100, 333, 452, 567, 48, 100, 333, 452, 567, 48, 100, 333, 452, 567, 48, 100, 333, 452, 567, 48, 100, 333, 452, 567, 48, 100, 333, 452, 567, 48, 100, 333, 452, 567, 48, 100, 333, 452, 567, 48, 100, 333, 452, 567, 48, 100, 333, 452, 567, 48, 100, 333, 452, 567, 48, 100, 333, 452, 567, 48, 100, 333, 452, 567, 48, 100, 333, 452, 567, 48, 100, 333, 452, 567, 48, 100, 333, 452, 567, 48, 100, 333, 452, 567, 48, 100, 333, 452, 567, 48, 100, 333, 452, 567, 48, 100, 333, 452, 567, 48, 100, 333, 452, 567, 48, 100, 333, 452, 567, 48, 100, 333, 452, 567, 48, 100, 333, 452, 567, 48, 100, 333, 452, 567, 48, 100, 333, 452, 567, 48, 100, 333, 452, 567, 48, 100, 333, 452, 567, 48, 100, 333, 452, 567, 48, 100, 333, 452, 567, 48, 100, 333, 452, 567, 48, 100, 333, 452, 567, 48, 100, 333, 452, 567, 48, 100, 333, 452, 567, 48, 100, 333, 452, 567, 48, 100, 333, 452, 567, 48, 100, 333, 452, 567, 48, 100, 333, 452, 567, 48, 100, 333, 452, 567, 48, 100, 333, 452, 567, 48, 100, 333, 452, 567, 48, 100, 333, 452, 567, 48, 100, 333, 452, 567, 48, 100, 333, 452, 567, 48, 100, 333, 452, 567, 48, 100, 333, 452, 567, 48, 100, 333, 452, 567, 48, 100, 333, 452, 567, 48, 100, 333, 452, 567, 48, 100, 333, 452, 567, 48, 100, 333, 452, 567, 48, 100, 333, 452, 567, 48, 100, 333, 452, 567, 48, 100, 333, 452, 567, 48, 100, 333, 452, 567, 48, 100, 333, 452, 567, 48, 100, 333, 452, 567, 48, 100, 333, 452, 567, 48, 100, 333, 452, 567, 48, 100, 333, 452, 567, 48, 100, 333, 452, 567, 48, 100, 333, 452, 567, 48, 100, 333, 452, 567, 48, 100, 333, 452, 567, 48, 100, 333, 452, 567, 48, 100, 333, 452, 567, 48, 100, 333, 452, 567, 48, 100, 333, 452, 567, 48, 100, 333, 452, 567, 48, 100, 333, 452, 567, 48, 100, 333, 452, 567, 48, 100, 333, 452, 567, 48, 100, 333, 452, 567, 48, 100, 333, 452, 567, 48, 100, 333, 452, 567, 48, 100, 333, 452, 567, 48, 100, 333, 452, 567, 48, 100, 333, 452, 567, 48, 100, 333, 452, 567, 48, 100, 333, 452, 567, 48, 100, 333, 452, 567, 48, 100, 333, 452, 567, 48, 100, 333, 452, 567, 48, 100, 333, 452, 567, 48, 100, 333, 452, 567, 48, 100, 333, 452, 567, 48, 100, 333, 452, 567, 48, 100, 333, 452, 567, 48, 100, 333, 452, 567, 48, 100, 333, 452, 567, 48, 100, 333, 452, 567, 48, 100, 333, 452, 567, 48, 100, 333, 452, 567, 48, 100, 333, 452, 567, 48, 100, 333, 452, 567, 48, 100, 333, 452, 567, 48, 100, 333, 452, 567, 48, 100, 333, 452, 567, 48, 100, 333, 452, 567, 48, 100, 333, 452, 567, 48, 100, 333, 452, 567, 48, 100, 333, 452, 567, 48, 100, 333, 452, 567, 48, 100, 333, 452, 567, 48, 100, 333, 452, 567, 48, 100, 333, 452, 567, 48, 100, 333, 452, 567, 48, 100, 333, 452, 567, 48, 100, 333, 452, 567, 48, 100, 333, 452, 567, 48, 100, 333, 452, 567, 48, 100, 333, 452, 567, 48, 100, 333, 452, 567, 48, 100, 333, 452, 567, 48, 100, 333, 452, 567, 48, 100, 333, 452, 567, 48, 100, 333, 452, 567, 48, 100, 333, 452, 567, 48, 100, 333, 452, 567, 48, 100, 333, 452, 567, 48, 100, 333, 452, 567, 48, 100, 333, 452, 567, 48, 100, 333, 452, 567, 48, 100, 333, 452, 567, 48, 100, 333, 452, 567, 48, 100, 333, 452, 567, 48, 100, 333, 452, 567, 48, 100, 333, 452, 567, 48, 100, 333, 452, 567, 48, 100, 333, 452, 567, 48, 100, 333, 452, 567, 48, 100, 333, 452, 567, 48, 100, 333, 452, 567, 48, 100, 333, 452, 567, 48, 100, 333, 452, 567, 48, 100, 333, 452, 567, 48, 100, 333, 452, 567, 48, 100, 333, 452, 567, 48, 100, 333, 452, 567, 48, 100, 333, 452, 567, 48, 100, 333, 452, 567, 48, 100, 333, 452, 567, 48, 100, 333, 452, 567, 48, 100, 333, 452, 567, 48, 100, 333, 452, 567, 48, 100, 333, 452, 567, 48, 100, 333, 452, 567, 48, 100, 333, 452, 567, 48, 100, 333, 452, 567, 48, 100, 333, 452, 567, 48, 100, 333, 452, 567, 48, 100, 333, 452, 567, 48, 100, 333, 452, 567, 48, 100, 333, 452, 567, 48, 100, 333, 452, 567, 48, 100, 333, 452, 567, 48, 100, 333, 452, 567, 48, 100, 333, 452, 567, 48, 100, 333, 452, 567, 48, 100, 333, 452, 567, 48, 100, 333, 452, 567, 48, 100, 333, 452, 567, 48, 100, 333, 452, 567, 48, 100, 333, 452, 567, 48, 100, 333, 452, 567, 48, 100, 333, 452, 567, 48, 100, 333, 452, 567, 48, 100, 333, 452, 567, 48, 100, 333, 452, 567, 48, 100, 333, 452, 567, 48, 100, 333, 452, 567, 48, 100, 333, 452, 567, 48, 100, 333, 452, 567, 48, 100, 333, 452, 567, 48, 100, 333, 452, 567, 48, 100, 333, 452, 567, 48, 100, 333, 452, 567, 48, 100, 333, 452, 567, 48, 100, 333, 452, 567, 48, 100, 333, 452, 567, 48, 100, 333, 452, 567, 48, 100, 333, 452, 567, 48, 100, 333, 452, 567, 48, 100, 333, 452, 567, 48, 100, 333, 452, 567, 48, 100, 333, 452, 567, 48, 100, 333, 452, 567, 48, 100, 333, 452, 567, 48, 100, 333, 452, 567, 48, 100, 333, 452, 567, 48, 100, 333, 452, 567, 48, 100, 333, 452, 567, 48, 100, 333, 452, 567, 48, 100, 333, 452, 567, 48, 100, 333, 452, 567, 48, 100, 333, 452, 567, 48, 100, 333, 452, 567, 48, 100, 333, 452, 567, 48, 100, 333, 452, 567, 48, 100, 333, 452, 567, 48, 100, 333, 452, 567, 48, 100, 333, 452, 567, 48, 100, 333, 452, 567, 48, 100, 333, 452, 567, 48, 100, 333, 452, 567, 48, 100, 333, 452, 567, 48, 100, 333, 452, 567, 48, 100, 333, 452, 567, 48, 100, 333, 452, 567, 48, 100, 333, 452, 567, 48, 100, 333, 452, 567, 48, 100, 333, 452, 567, 48, 100, 333, 452, 567, 48, 100, 333, 452, 567, 48, 100, 333, 452, 567, 48, 100, 333, 452, 567, 48, 100, 333, 452, 567, 48, 100, 333, 452, 567, 48, 100, 333, 452, 567, 48, 100, 333, 452, 567, 48, 100, 333, 452, 567, 48, 100, 333, 452, 567, 48, 100, 333, 452, 567, 48, 100, 333, 452, 567, 48, 100, 333, 452, 567, 48, 100, 333, 452, 567, 48, 100, 333, 452, 567, 48, 100, 333, 452, 567, 48, 100, 333, 452, 567, 48, 100, 333, 452, 567, 48, 100, 333, 452, 567, 48, 100, 333, 452, 567, 48, 100, 333, 452, 567, 48, 100, 333, 452, 567, 48, 100, 333, 452, 567, 48, 100, 333, 452, 567, 48, 100, 333, 452, 567, 48, 100, 333, 452, 567, 48, 100, 333, 452, 567, 48, 100, 333, 452, 567, 48, 100, 333, 452, 567, 48, 100, 333, 452, 567, 48, 100, 333, 452, 567, 48, 100, 333, 452, 567, 48, 100, 333, 452, 567, 48, 100, 333, 452, 567, 48, 100, 333, 452, 567, 48, 100, 333, 452, 567, 48, 100, 333, 452, 567, 48, 100, 333, 452, 567, 48, 100, 333, 452, 567, 48, 100, 333, 452, 567, 48, 100, 333, 452, 567, 48, 100, 333, 452, 567, 48, 100, 333, 452, 567, 48, 100, 333, 452, 567, 48, 100, 333, 452, 567, 48, 100, 333, 452, 567, 48, 100, 333, 452, 567, 48, 100, 333, 452, 567, 48, 100, 333, 452, 567, 48, 100, 333, 452, 567, 48, 100, 333, 452, 567, 48, 100, 333, 452, 567, 48, 100, 333, 452, 567, 48, 100, 333, 452, 567, 48, 100, 333, 452, 567, 48, 100, 333, 452, 567, 48, 100, 333, 452, 567, 48, 100, 333, 452, 567, 48, 100, 333, 452, 567, 48, 100, 333, 452, 567, 48, 100, 333, 452, 567, 48, 100, 333, 452, 567, 48, 100, 333, 452, 567, 48, 100, 333, 452, 567, 48, 100, 333, 452, 567, 48, 100, 333, 452, 567, 48, 100, 333, 452, 567, 48, 100, 333, 452, 567, 48, 100, 333, 452, 567, 48, 100, 333, 452, 567, 48, 100, 333, 452, 567, 48, 100, 333, 452, 567, 48, 100, 333, 452, 567, 48, 100, 333, 452, 567, 48, 100, 333, 452, 567, 48, 100, 333, 452, 567, 48, 100, 333, 452, 567, 48, 100, 333, 452, 567, 48, 100, 333, 452, 567, 48, 100, 333, 452, 567, 48, 100, 333, 452, 567, 48, 100, 333, 452, 567, 48, 100, 333, 452, 567, 48, 100, 333, 452, 567, 48, 100, 333, 452, 567, 48, 100, 333, 452, 567, 48, 100, 333, 452, 567, 48, 100, 333, 452, 567, 48, 100, 333, 452, 567, 48, 100, 333, 452, 567, 48, 100, 333, 452, 567, 48, 100, 333, 452, 567, 48, 100, 333, 452, 567, 48, 100, 333, 452, 567, 48, 100, 333, 452, 567, 48, 100, 333, 452, 567, 48, 100, 333, 452, 567, 48, 100, 333, 452, 567, 48, 100, 333, 452, 567, 48, 100, 333, 452, 567, 48, 100, 333, 452, 567, 48, 100, 333, 452, 567, 48, 100, 333, 452, 567, 48, 100, 333, 452, 567, 48, 100, 333, 452, 567, 48, 100, 333, 452, 567, 48, 100, 333, 452, 567, 48, 100, 333, 452, 567, 48, 100, 333, 452, 567, 48, 100, 333, 452, 567, 48, 100, 333, 452, 567, 48, 100, 333, 452, 567, 48, 100, 333, 452, 567, 50, 1010, 55, 341, 132, 50, 1010, 55, 341, 132, 50, 1010, 55, 341, 132, 50, 1010, 55, 341, 132, 50, 1010, 55, 341, 132, 50, 1010, 55, 341, 132, 50, 1010, 55, 341, 132, 50, 1010, 55, 341, 132, 50, 1010, 55, 341, 132, 50, 1010, 55, 341, 132, 50, 1010, 55, 341, 132, 50, 1010, 55, 341, 132, 50, 1010, 55, 341, 132, 50, 1010, 55, 341, 132, 50, 1010, 55, 341, 132, 50, 1010, 55, 341, 132, 50, 1010, 55, 341, 132, 50, 1010, 55, 341, 132, 50, 1010, 55, 341, 132, 50, 1010, 55, 341, 132, 50, 1010, 55, 341, 132, 50, 1010, 55, 341, 132, 50, 1010, 55, 341, 132, 50, 1010, 55, 341, 132, 50, 1010, 55, 341, 132, 50, 1010, 55, 341, 132, 50, 1010, 55, 341, 132, 50, 1010, 55, 341, 132, 50, 1010, 55, 341, 132, 50, 1010, 55, 341, 132, 50, 1010, 55, 341, 132, 50, 1010, 55, 341, 132, 50, 1010, 55, 341, 132, 50, 1010, 55, 341, 132, 50, 1010, 55, 341, 132, 50, 1010, 55, 341, 132, 50, 1010, 55, 341, 132, 50, 1010, 55, 341, 132, 50, 1010, 55, 341, 132, 50, 1010, 55, 341, 132, 50, 1010, 55, 341, 132, 50, 1010, 55, 341, 132, 50, 1010, 55, 341, 132, 50, 1010, 55, 341, 132, 50, 1010, 55, 341, 132, 50, 1010, 55, 341, 132, 50, 1010, 55, 341, 132, 50, 1010, 55, 341, 132, 50, 1010, 55, 341, 132, 50, 1010, 55, 341, 132, 50, 1010, 55, 341, 132, 50, 1010, 55, 341, 132, 50, 1010, 55, 341, 132, 50, 1010, 55, 341, 132, 50, 1010, 55, 341, 132, 50, 1010, 55, 341, 132, 50, 1010, 55, 341, 132, 50, 1010, 55, 341, 132, 50, 1010, 55, 341, 132, 50, 1010, 55, 341, 132, 50, 1010, 55, 341, 132, 50, 1010, 55, 341, 132, 50, 1010, 55, 341, 132, 50, 1010, 55, 341, 132, 50, 1010, 55, 341, 132, 50, 1010, 55, 341, 132, 50, 1010, 55, 341, 132, 50, 1010, 55, 341, 132, 50, 1010, 55, 341, 132, 50, 1010, 55, 341, 132, 50, 1010, 55, 341, 132, 50, 1010, 55, 341, 132, 50, 1010, 55, 341, 132, 50, 1010, 55, 341, 132, 50, 1010, 55, 341, 132, 50, 1010, 55, 341, 132, 50, 1010, 55, 341, 132, 50, 1010, 55, 341, 132, 50, 1010, 55, 341, 132, 50, 1010, 55, 341, 132, 50, 1010, 55, 341, 132, 50, 1010, 55, 341, 132, 50, 1010, 55, 341, 132, 50, 1010, 55, 341, 132, 50, 1010, 55, 341, 132, 50, 1010, 55, 341, 132, 50, 1010, 55, 341, 132, 50, 1010, 55, 341, 132, 50, 1010, 55, 341, 132, 50, 1010, 55, 341, 132, 50, 1010, 55, 341, 132, 50, 1010, 55, 341, 132, 50, 1010, 55, 341, 132, 50, 1010, 55, 341, 132, 50, 1010, 55, 341, 132, 50, 1010, 55, 341, 132, 50, 1010, 55, 341, 132, 50, 1010, 55, 341, 132, 50, 1010, 55, 341, 132, 822, 563, 77, 451, 475, 822, 563, 77, 451, 475, 822, 563, 77, 451, 475, 822, 563, 77, 451, 475, 822, 563, 77, 451, 475, 822, 563, 77, 451, 475, 822, 563, 77, 451, 475, 822, 563, 77, 451, 475, 822, 563, 77, 451, 475, 822, 563, 77, 451, 475, 822, 563, 77, 451, 475, 822, 563, 77, 451, 475, 822, 563, 77, 451, 475, 822, 563, 77, 451, 475, 822, 563, 77, 451, 475, 822, 563, 77, 451, 475, 822, 563, 77, 451, 475, 822, 563, 77, 451, 475, 822, 563, 77, 451, 475, 822, 563, 77, 451, 475, 822, 563, 77, 451, 475, 822, 563, 77, 451, 475, 822, 563, 77, 451, 475, 822, 563, 77, 451, 475, 822, 563, 77, 451, 475, 822, 563, 77, 451, 475, 822, 563, 77, 451, 475, 822, 563, 77, 451, 475, 822, 563, 77, 451, 475, 822, 563, 77, 451, 475, 822, 563, 77, 451, 475, 822, 563, 77, 451, 475, 822, 563, 77, 451, 475, 822, 563, 77, 451, 475, 822, 563, 77, 451, 475, 822, 563, 77, 451, 475, 822, 563, 77, 451, 475, 822, 563, 77, 451, 475, 822, 563, 77, 451, 475, 822, 563, 77, 451, 475, 822, 563, 77, 451, 475, 822, 563, 77, 451, 475, 822, 563, 77, 451, 475, 822, 563, 77, 451, 475, 822, 563, 77, 451, 475, 822, 563, 77, 451, 475, 822, 563, 77, 451, 475, 822, 563, 77, 451, 475, 822, 563, 77, 451, 475, 822, 563, 77, 451, 475, 822, 563, 77, 451, 475, 822, 563, 77, 451, 475, 822, 563, 77, 451, 475, 822, 563, 77, 451, 475, 822, 563, 77, 451, 475, 822, 563, 77, 451, 475, 822, 563, 77, 451, 475, 822, 563, 77, 451, 475, 822, 563, 77, 451, 475, 822, 563, 77, 451, 475, 822, 563, 77, 451, 475, 822, 563, 77, 451, 475, 822, 563, 77, 451, 475, 822, 563, 77, 451, 475, 822, 563, 77, 451, 475, 822, 563, 77, 451, 475, 822, 563, 77, 451, 475, 822, 563, 77, 451, 475, 822, 563, 77, 451, 475, 822, 563, 77, 451, 475, 822, 563, 77, 451, 475, 822, 563, 77, 451, 475, 822, 563, 77, 451, 475, 822, 563, 77, 451, 475, 822, 563, 77, 451, 475, 822, 563, 77, 451, 475, 822, 563, 77, 451, 475, 822, 563, 77, 451, 475, 822, 563, 77, 451, 475, 822, 563, 77, 451, 475, 822, 563, 77, 451, 475, 822, 563, 77, 451, 475, 822, 563, 77, 451, 475, 822, 563, 77, 451, 475, 822, 563, 77, 451, 475, 822, 563, 77, 451, 475, 822, 563, 77, 451, 475, 822, 563, 77, 451, 475, 822, 563, 77, 451, 475, 822, 563, 77, 451, 475, 822, 563, 77, 451, 475, 822, 563, 77, 451, 475, 822, 563, 77, 451, 475, 822, 563, 77, 451, 475, 822, 563, 77, 451, 475, 822, 563, 77, 451, 475, 822, 563, 77, 451, 475, 822, 563, 77, 451, 475, 822, 563, 77, 451, 475, 822, 563, 77, 451, 475, 822, 563, 77, 451, 475, 822, 563, 77, 451, 475, 822, 563, 77, 451, 475, 822, 563, 77, 451, 475, 822, 563, 77, 451, 475, 822, 563, 77, 451, 475, 822, 563, 77, 451, 475, 822, 563, 77, 451, 475, 822, 563, 77, 451, 475, 822, 563, 77, 451, 475, 822, 563, 77, 451, 475, 822, 563, 77, 451, 475, 822, 563, 77, 451, 475, 822, 563, 77, 451, 475, 822, 563, 77, 451, 475, 822, 563, 77, 451, 475, 822, 563, 77, 451, 475, 822, 563, 77, 451, 475, 822, 563, 77, 451, 475, 822, 563, 77, 451, 475, 822, 563, 77, 451, 475, 822, 563, 77, 451, 475, 822, 563, 77, 451, 475, 822, 563, 77, 451, 475, 822, 563, 77, 451, 475, 822, 563, 77, 451, 475, 822, 563, 77, 451, 475, 822, 563, 77, 451, 475, 822, 563, 77, 451, 475, 822, 563, 77, 451, 475, 822, 563, 77, 451, 475, 822, 563, 77, 451, 475, 822, 563, 77, 451, 475, 822, 563, 77, 451, 475, 822, 563, 77, 451, 475, 822, 563, 77, 451, 475, 822, 563, 77, 451, 475, 822, 563, 77, 451, 475, 822, 563, 77, 451, 475, 822, 563, 77, 451, 475, 822, 563, 77, 451, 475, 822, 563, 77, 451, 475, 822, 563, 77, 451, 475]),\n",
              "       list([70, 16, 30, 21, 70, 16, 30, 21, 70, 16, 30, 21, 70, 16, 30, 21, 70, 16, 30, 21, 70, 16, 30, 21, 70, 16, 30, 21, 70, 16, 30, 21, 70, 16, 30, 21, 70, 16, 30, 21, 70, 16, 30, 21, 70, 16, 30, 21, 70, 16, 30, 21, 70, 16, 30, 21, 70, 16, 30, 21, 70, 16, 30, 21, 70, 16, 30, 21, 70, 16, 30, 21, 70, 16, 30, 21, 70, 16, 30, 21, 70, 16, 30, 21, 70, 16, 30, 21, 70, 16, 30, 21, 70, 16, 30, 21, 70, 16, 30, 21, 70, 16, 30, 21, 70, 16, 30, 21, 70, 16, 30, 21, 70, 16, 30, 21, 70, 16, 30, 21, 70, 16, 30, 21, 70, 16, 30, 21, 70, 16, 30, 21, 70, 16, 30, 21, 70, 16, 30, 21, 70, 16, 30, 21, 70, 16, 30, 21, 70, 16, 30, 21, 70, 16, 30, 21, 70, 16, 30, 21, 70, 16, 30, 21, 70, 16, 30, 21, 70, 16, 30, 21, 70, 16, 30, 21, 70, 16, 30, 21, 70, 16, 30, 21, 70, 16, 30, 21, 70, 16, 30, 21, 70, 16, 30, 21, 70, 16, 30, 21, 70, 16, 30, 21, 70, 16, 30, 21, 70, 16, 30, 21, 70, 16, 30, 21, 70, 16, 30, 21, 70, 16, 30, 21, 70, 16, 30, 21, 70, 16, 30, 21, 70, 16, 30, 21, 70, 16, 30, 21, 70, 16, 30, 21, 70, 16, 30, 21, 70, 16, 30, 21, 70, 16, 30, 21, 70, 16, 30, 21, 70, 16, 30, 21, 70, 16, 30, 21, 70, 16, 30, 21, 70, 16, 30, 21, 70, 16, 30, 21, 70, 16, 30, 21, 70, 16, 30, 21, 70, 16, 30, 21, 70, 16, 30, 21, 70, 16, 30, 21, 70, 16, 30, 21, 70, 16, 30, 21, 70, 16, 30, 21, 70, 16, 30, 21, 70, 16, 30, 21, 70, 16, 30, 21, 70, 16, 30, 21, 70, 16, 30, 21, 70, 16, 30, 21, 70, 16, 30, 21, 70, 16, 30, 21, 70, 16, 30, 21, 70, 16, 30, 21, 70, 16, 30, 21, 70, 16, 30, 21, 70, 16, 30, 21, 70, 16, 30, 21, 70, 16, 30, 21, 70, 16, 30, 21, 70, 16, 30, 21, 70, 16, 30, 21, 70, 16, 30, 21, 70, 16, 30, 21, 70, 16, 30, 21, 70, 16, 30, 21, 70, 16, 30, 21, 70, 16, 30, 21, 70, 16, 30, 21, 70, 16, 30, 21, 70, 16, 30, 21, 70, 16, 30, 21, 70, 16, 30, 21, 70, 16, 30, 21, 70, 16, 30, 21, 70, 16, 30, 21, 70, 16, 30, 21, 70, 16, 30, 21, 70, 16, 30, 21, 70, 16, 30, 21, 70, 16, 30, 21, 70, 16, 30, 21, 70, 16, 30, 21, 70, 16, 30, 21, 70, 16, 30, 21, 70, 16, 30, 21, 70, 16, 30, 21, 70, 16, 30, 21, 70, 16, 30, 21, 70, 16, 30, 21, 70, 16, 30, 21, 70, 16, 30, 21, 70, 16, 30, 21, 70, 16, 30, 21, 70, 16, 30, 21, 70, 16, 30, 21, 70, 16, 30, 21, 70, 16, 30, 21, 70, 16, 30, 21, 70, 16, 30, 21, 70, 16, 30, 21, 70, 16, 30, 21, 70, 16, 30, 21, 70, 16, 30, 21, 70, 16, 30, 21, 70, 16, 30, 21, 70, 16, 30, 21, 70, 16, 30, 21, 70, 16, 30, 21, 70, 16, 30, 21, 70, 16, 30, 21, 70, 16, 30, 21, 70, 16, 30, 21, 70, 16, 30, 21, 70, 16, 30, 21, 70, 16, 30, 21, 70, 16, 30, 21, 70, 16, 30, 21, 70, 16, 30, 21, 70, 16, 30, 21, 70, 16, 30, 21, 70, 16, 30, 21, 70, 16, 30, 21, 70, 16, 30, 21, 70, 16, 30, 21, 70, 16, 30, 21, 70, 16, 30, 21, 70, 16, 30, 21, 70, 16, 30, 21, 70, 16, 30, 21, 70, 16, 30, 21, 70, 16, 30, 21, 70, 16, 30, 21, 70, 16, 30, 21, 70, 16, 30, 21, 70, 16, 30, 21, 70, 16, 30, 21, 70, 16, 30, 21, 70, 16, 30, 21, 70, 16, 30, 21, 70, 16, 30, 21, 70, 16, 30, 21, 70, 16, 30, 21, 70, 16, 30, 21, 70, 16, 30, 21, 70, 16, 30, 21, 70, 16, 30, 21, 70, 16, 30, 21, 70, 16, 30, 21, 70, 16, 30, 21, 70, 16, 30, 21, 70, 16, 30, 21, 70, 16, 30, 21, 70, 16, 30, 21, 70, 16, 30, 21, 70, 16, 30, 21, 70, 16, 30, 21, 70, 16, 30, 21, 70, 16, 30, 21, 70, 16, 30, 21, 70, 16, 30, 21, 70, 16, 30, 21, 70, 16, 30, 21, 70, 16, 30, 21, 70, 16, 30, 21, 70, 16, 30, 21, 70, 16, 30, 21, 70, 16, 30, 21, 70, 16, 30, 21, 70, 16, 30, 21, 70, 16, 30, 21, 70, 16, 30, 21, 70, 16, 30, 21, 70, 16, 30, 21, 70, 16, 30, 21, 70, 16, 30, 21, 70, 16, 30, 21, 70, 16, 30, 21, 70, 16, 30, 21, 70, 16, 30, 21, 70, 16, 30, 21, 70, 16, 30, 21, 70, 16, 30, 21, 70, 16, 30, 21, 70, 16, 30, 21, 70, 16, 30, 21, 70, 16, 30, 21, 70, 16, 30, 21, 70, 16, 30, 21, 70, 16, 30, 21, 70, 16, 30, 21, 70, 16, 30, 21, 70, 16, 30, 21, 70, 16, 30, 21, 70, 16, 30, 21, 70, 16, 30, 21, 70, 16, 30, 21, 70, 16, 30, 21, 70, 16, 30, 21, 70, 16, 30, 21, 70, 16, 30, 21, 70, 16, 30, 21, 70, 16, 30, 21, 70, 16, 30, 21, 70, 16, 30, 21, 70, 16, 30, 21, 70, 16, 30, 21, 70, 16, 30, 21, 70, 16, 30, 21, 70, 16, 30, 21, 70, 16, 30, 21, 70, 16, 30, 21, 70, 16, 30, 21, 70, 16, 30, 21, 70, 16, 30, 21, 70, 16, 30, 21, 70, 16, 30, 21, 70, 16, 30, 21, 70, 16, 30, 21, 70, 16, 30, 21, 70, 16, 30, 21, 70, 16, 30, 21, 70, 16, 30, 21, 70, 16, 30, 21, 70, 16, 30, 21, 70, 16, 30, 21, 70, 16, 30, 21, 70, 16, 30, 21, 70, 16, 30, 21, 70, 16, 30, 21, 70, 16, 30, 21, 70, 16, 30, 21, 70, 16, 30, 21, 70, 16, 30, 21, 70, 16, 30, 21, 70, 16, 30, 21, 70, 16, 30, 21, 70, 16, 30, 21, 70, 16, 30, 21, 70, 16, 30, 21, 70, 16, 30, 21, 70, 16, 30, 21, 70, 16, 30, 21, 70, 16, 30, 21, 70, 16, 30, 21, 70, 16, 30, 21, 70, 16, 30, 21, 70, 16, 30, 21, 70, 16, 30, 21, 70, 16, 30, 21, 70, 16, 30, 21, 70, 16, 30, 21, 70, 16, 30, 21, 70, 16, 30, 21, 70, 16, 30, 21, 70, 16, 30, 21, 70, 16, 30, 21, 70, 16, 30, 21, 70, 16, 30, 21, 70, 16, 30, 21, 70, 16, 30, 21, 70, 16, 30, 21, 70, 16, 30, 21, 70, 16, 30, 21, 70, 16, 30, 21, 70, 16, 30, 21, 70, 16, 30, 21, 70, 16, 30, 21, 70, 16, 30, 21, 70, 16, 30, 21, 70, 16, 30, 21, 70, 16, 30, 21, 70, 16, 30, 21, 70, 16, 30, 21, 70, 16, 30, 21, 70, 16, 30, 21, 70, 16, 30, 21, 70, 16, 30, 21, 70, 16, 30, 21, 70, 16, 30, 21, 70, 16, 30, 21, 70, 16, 30, 21, 70, 16, 30, 21, 70, 16, 30, 21, 70, 16, 30, 21, 70, 16, 30, 21, 70, 16, 30, 21, 70, 16, 30, 21, 70, 16, 30, 21, 70, 16, 30, 21, 70, 16, 30, 21, 70, 16, 30, 21, 70, 16, 30, 21, 70, 16, 30, 21, 70, 16, 30, 21, 70, 16, 30, 21, 70, 16, 30, 21, 70, 16, 30, 21, 70, 16, 30, 21, 70, 16, 30, 21, 70, 16, 30, 21, 70, 16, 30, 21, 70, 16, 30, 21, 70, 16, 30, 21, 70, 16, 30, 21, 70, 16, 30, 21, 70, 16, 30, 21, 70, 16, 30, 21, 70, 16, 30, 21, 70, 16, 30, 21, 70, 16, 30, 21, 70, 16, 30, 21, 70, 16, 30, 21, 70, 16, 30, 21, 70, 16, 30, 21, 70, 16, 30, 21, 70, 16, 30, 21, 70, 16, 30, 21, 70, 16, 30, 21, 70, 16, 30, 21, 70, 16, 30, 21, 70, 16, 30, 21, 70, 16, 30, 21, 70, 16, 30, 21, 70, 16, 30, 21, 70, 16, 30, 21, 70, 16, 30, 21, 70, 16, 30, 21, 70, 16, 30, 21, 70, 16, 30, 21, 70, 16, 30, 21, 70, 16, 30, 21, 70, 16, 30, 21, 70, 16, 30, 21, 70, 16, 30, 21, 70, 16, 30, 21, 70, 16, 30, 21, 70, 16, 30, 21, 70, 16, 30, 21, 70, 16, 30, 21, 70, 16, 30, 21, 70, 16, 30, 21, 70, 16, 30, 21, 70, 16, 30, 21, 70, 16, 30, 21, 70, 16, 30, 21, 70, 16, 30, 21, 70, 16, 30, 21, 70, 16, 30, 21, 70, 16, 30, 21, 70, 16, 30, 21, 70, 16, 30, 21, 70, 16, 30, 21, 70, 16, 30, 21, 70, 16, 30, 21, 70, 16, 30, 21, 70, 16, 30, 21, 70, 16, 30, 21, 70, 16, 30, 21, 70, 16, 30, 21, 70, 16, 30, 21, 70, 16, 30, 21, 70, 16, 30, 21, 70, 16, 30, 21, 70, 16, 30, 21, 70, 16, 30, 21, 70, 16, 30, 21, 70, 16, 30, 21, 70, 16, 30, 21, 70, 16, 30, 21, 70, 16, 30, 21, 70, 16, 30, 21, 70, 16, 30, 21, 70, 16, 30, 21, 70, 16, 30, 21, 70, 16, 30, 21, 70, 16, 30, 21, 70, 16, 30, 21, 70, 16, 30, 21, 70, 16, 30, 21, 70, 16, 30, 21, 70, 16, 30, 21, 70, 16, 30, 21, 70, 16, 30, 21, 70, 16, 30, 21, 70, 16, 30, 21, 70, 16, 30, 21, 70, 16, 30, 21, 70, 16, 30, 21, 70, 16, 30, 21, 70, 16, 30, 21, 70, 16, 30, 21, 70, 16, 30, 21, 70, 16, 30, 21, 70, 16, 30, 21, 70, 16, 30, 21, 70, 16, 30, 21, 70, 16, 30, 21, 70, 16, 30, 21, 70, 16, 30, 21, 70, 16, 30, 21, 70, 16, 30, 21, 70, 16, 30, 21, 70, 16, 30, 21, 70, 16, 30, 21, 70, 16, 30, 21, 70, 16, 30, 21, 70, 16, 30, 21, 70, 16, 30, 21, 70, 16, 30, 21, 70, 16, 30, 21, 70, 16, 30, 21, 70, 16, 30, 21, 70, 16, 30, 21, 70, 16, 30, 21, 70, 16, 30, 21, 70, 16, 30, 21, 70, 16, 30, 21, 70, 16, 30, 21, 70, 16, 30, 21, 70, 16, 30, 21, 70, 16, 30, 21, 70, 16, 30, 21, 70, 16, 30, 21, 70, 16, 30, 21, 70, 16, 30, 21, 70, 16, 30, 21, 70, 16, 30, 21, 70, 16, 30, 21, 70, 16, 30, 21, 70, 16, 30, 21, 70, 16, 30, 21, 70, 16, 30, 21, 70, 16, 30, 21, 70, 16, 30, 21, 70, 16, 30, 21, 70, 16, 30, 21, 70, 16, 30, 21, 70, 16, 30, 21, 70, 16, 30, 21, 70, 16, 30, 21, 70, 16, 30, 21, 70, 16, 30, 21, 70, 16, 30, 21, 70, 16, 30, 21, 70, 16, 30, 21, 70, 16, 30, 21, 70, 16, 30, 21, 70, 16, 30, 21, 70, 16, 30, 21, 70, 16, 30, 21, 70, 16, 30, 21, 70, 16, 30, 21, 70, 16, 30, 21, 70, 16, 30, 21, 70, 16, 30, 21, 70, 16, 30, 21, 70, 16, 30, 21, 70, 16, 30, 21, 70, 16, 30, 21, 70, 16, 30, 21, 70, 16, 30, 21, 70, 16, 30, 21, 70, 16, 30, 21, 70, 16, 30, 21, 70, 16, 30, 21, 70, 16, 30, 21, 70, 16, 30, 21, 70, 16, 30, 21, 70, 16, 30, 21, 70, 16, 30, 21, 70, 16, 30, 21, 70, 16, 30, 21, 70, 16, 30, 21, 70, 16, 30, 21, 70, 16, 30, 21, 70, 16, 30, 21, 70, 16, 30, 21, 70, 16, 30, 21, 70, 16, 30, 21, 70, 16, 30, 21, 70, 16, 30, 21, 70, 16, 30, 21, 70, 16, 30, 21, 70, 16, 30, 21, 70, 16, 30, 21, 70, 16, 30, 21, 70, 16, 30, 21, 70, 16, 30, 21, 70, 16, 30, 21, 70, 16, 30, 21, 70, 16, 30, 21, 70, 16, 30, 21, 70, 16, 30, 21, 70, 16, 30, 21, 70, 16, 30, 21, 70, 16, 30, 21, 70, 16, 30, 21, 70, 16, 30, 21, 70, 16, 30, 21, 70, 16, 30, 21, 70, 16, 30, 21, 70, 16, 30, 21, 70, 16, 30, 21, 70, 16, 30, 21, 70, 16, 30, 21, 70, 16, 30, 21, 70, 16, 30, 21, 70, 16, 30, 21, 70, 16, 30, 21, 70, 16, 30, 21, 70, 16, 30, 21, 70, 16, 30, 21, 70, 16, 30, 21, 70, 16, 30, 21, 70, 16, 30, 21, 70, 16, 30, 21, 70, 16, 30, 21, 70, 16, 30, 21, 70, 16, 30, 21, 70, 16, 30, 21, 70, 16, 30, 21, 70, 16, 30, 21, 70, 16, 30, 21, 70, 16, 30, 21, 70, 16, 30, 21, 70, 16, 30, 21, 70, 16, 30, 21, 70, 16, 30, 21, 70, 16, 30, 21, 70, 16, 30, 21, 70, 16, 30, 21, 70, 16, 30, 21, 70, 16, 30, 21, 70, 16, 30, 21, 70, 16, 30, 21, 70, 16, 30, 21, 70, 16, 30, 21, 70, 16, 30, 21, 70, 16, 30, 21, 70, 16, 30, 21, 70, 16, 30, 21, 70, 16, 30, 21, 70, 16, 30, 21, 70, 16, 30, 21, 70, 16, 30, 21, 70, 16, 30, 21, 70, 16, 30, 21, 70, 16, 30, 21, 70, 16, 30, 21, 70, 16, 30, 21, 70, 16, 30, 21, 70, 16, 30, 21, 70, 16, 30, 21, 70, 16, 30, 21, 70, 16, 30, 21, 70, 16, 30, 21, 70, 16, 30, 21, 70, 16, 30, 21, 70, 16, 30, 21, 70, 16, 30, 21, 70, 16, 30, 21, 70, 16, 30, 21, 70, 16, 30, 21, 70, 16, 30, 21, 70, 16, 30, 21, 70, 16, 30, 21, 70, 16, 30, 21, 70, 16, 30, 21, 70, 16, 30, 21, 70, 16, 30, 21, 70, 16, 30, 21, 70, 16, 30, 21, 70, 16, 30, 21, 70, 16, 30, 21, 70, 16, 30, 21, 70, 16, 30, 21, 70, 16, 30, 21, 70, 16, 30, 21, 70, 16, 30, 21, 70, 16, 30, 21, 70, 16, 30, 21, 70, 16, 30, 21, 70, 16, 30, 21, 70, 16, 30, 21, 70, 16, 30, 21, 70, 16, 30, 21, 70, 16, 30, 21, 70, 16, 30, 21, 70, 16, 30, 21, 70, 16, 30, 21, 70, 16, 30, 21, 70, 16, 30, 21, 70, 16, 30, 21, 70, 16, 30, 21, 70, 16, 30, 21, 70, 16, 30, 21, 70, 16, 30, 21, 70, 16, 30, 21, 70, 16, 30, 21, 70, 16, 30, 21, 70, 16, 30, 21, 70, 16, 30, 21, 70, 16, 30, 21, 70, 16, 30, 21, 70, 16, 30, 21, 70, 16, 30, 21, 70, 16, 30, 21, 70, 16, 30, 21, 70, 16, 30, 21, 70, 16, 30, 21, 70, 16, 30, 21, 70, 16, 30, 21, 70, 16, 30, 21, 70, 16, 30, 21, 70, 16, 30, 21, 70, 16, 30, 21, 70, 16, 30, 21, 70, 16, 30, 21, 70, 16, 30, 21, 70, 16, 30, 21, 70, 16, 30, 21, 70, 16, 30, 21, 70, 16, 30, 21, 70, 16, 30, 21, 70, 16, 30, 21, 70, 16, 30, 21, 70, 16, 30, 21, 70, 16, 30, 21, 70, 16, 30, 21, 70, 16, 30, 21, 70, 16, 30, 21, 70, 16, 30, 21, 70, 16, 30, 21, 70, 16, 30, 21, 70, 16, 30, 21, 70, 16, 30, 21, 70, 16, 30, 21, 70, 16, 30, 21, 70, 16, 30, 21, 70, 16, 30, 21, 70, 16, 30, 21, 70, 16, 30, 21, 70, 16, 30, 21, 70, 16, 30, 21, 70, 16, 30, 21, 70, 16, 30, 21, 70, 16, 30, 21, 70, 16, 30, 21, 70, 16, 30, 21, 70, 16, 30, 21, 70, 16, 30, 21, 70, 16, 30, 21, 70, 16, 30, 21, 70, 16, 30, 21, 70, 16, 30, 21, 70, 16, 30, 21, 70, 16, 30, 21, 70, 16, 30, 21, 70, 16, 30, 21, 70, 16, 30, 21, 70, 16, 30, 21, 70, 16, 30, 21, 70, 16, 30, 21, 70, 16, 30, 21, 70, 16, 30, 21, 70, 16, 30, 21, 70, 16, 30, 21, 70, 16, 30, 21, 70, 16, 30, 21, 70, 16, 30, 21, 70, 16, 30, 21, 70, 16, 30, 21, 70, 16, 30, 21, 70, 16, 30, 21, 70, 16, 30, 21, 70, 16, 30, 21, 70, 16, 30, 21, 70, 16, 30, 21, 70, 16, 30, 21, 70, 16, 30, 21, 70, 16, 30, 21, 70, 16, 30, 21, 70, 16, 30, 21, 70, 16, 30, 21, 70, 16, 30, 21, 70, 16, 30, 21, 70, 16, 30, 21, 70, 16, 30, 21, 70, 16, 30, 21, 70, 16, 30, 21, 70, 16, 30, 21, 70, 16, 30, 21, 70, 16, 30, 21, 70, 16, 30, 21, 70, 16, 30, 21, 70, 16, 30, 21, 70, 16, 30, 21, 70, 16, 30, 21, 70, 16, 30, 21, 70, 16, 30, 21, 70, 16, 30, 21, 70, 16, 30, 21, 70, 16, 30, 21, 70, 16, 30, 21, 70, 16, 30, 21, 70, 16, 30, 21, 70, 16, 30, 21, 70, 16, 30, 21, 70, 16, 30, 21, 70, 16, 30, 21, 70, 16, 30, 21, 70, 16, 30, 21, 70, 16, 30, 21, 70, 16, 30, 21, 70, 16, 30, 21, 70, 16, 30, 21, 70, 16, 30, 21, 70, 16, 30, 21, 70, 16, 30, 21, 70, 16, 30, 21, 70, 16, 30, 21, 70, 16, 30, 21, 70, 16, 30, 21, 70, 16, 30, 21, 70, 16, 30, 21, 70, 16, 30, 21, 70, 16, 30, 21, 70, 16, 30, 21, 70, 16, 30, 21, 70, 16, 30, 21, 70, 16, 30, 21, 70, 16, 30, 21, 70, 16, 30, 21, 70, 16, 30, 21, 70, 16, 30, 21, 70, 16, 30, 21, 70, 16, 30, 21, 70, 16, 30, 21, 70, 16, 30, 21, 70, 16, 30, 21, 70, 16, 30, 21, 70, 16, 30, 21, 70, 16, 30, 21, 70, 16, 30, 21, 70, 16, 30, 21, 70, 16, 30, 21, 70, 16, 30, 21, 70, 16, 30, 21, 70, 16, 30, 21, 70, 16, 30, 21, 70, 16, 30, 21, 70, 16, 30, 21, 70, 16, 30, 21, 70, 16, 30, 21, 70, 16, 30, 21, 70, 16, 30, 21, 70, 16, 30, 21, 70, 16, 30, 21, 70, 16, 30, 21, 70, 16, 30, 21, 70, 16, 30, 21, 70, 16, 30, 21, 70, 16, 30, 21, 70, 16, 30, 21, 70, 16, 30, 21, 70, 16, 30, 21, 70, 16, 30, 21, 70, 16, 30, 21, 70, 16, 30, 21, 70, 16, 30, 21, 70, 16, 30, 21, 70, 16, 30, 21, 70, 16, 30, 21, 70, 16, 30, 21, 70, 16, 30, 21, 70, 16, 30, 21, 70, 16, 30, 21, 70, 16, 30, 21, 70, 16, 30, 21, 70, 16, 30, 21, 70, 16, 30, 21, 70, 16, 30, 21, 70, 16, 30, 21, 70, 16, 30, 21, 70, 16, 30, 21, 70, 16, 30, 21, 70, 16, 30, 21, 70, 16, 30, 21, 70, 16, 30, 21, 70, 16, 30, 21, 70, 16, 30, 21, 70, 16, 30, 21, 70, 16, 30, 21, 70, 16, 30, 21, 70, 16, 30, 21, 70, 16, 30, 21, 70, 16, 30, 21, 70, 16, 30, 21, 70, 16, 30, 21, 70, 16, 30, 21, 70, 16, 30, 21, 70, 16, 30, 21, 70, 16, 30, 21, 70, 16, 30, 21, 70, 16, 30, 21, 70, 16, 30, 21, 70, 16, 30, 21, 70, 16, 30, 21, 70, 16, 30, 21, 70, 16, 30, 21, 70, 16, 30, 21, 70, 16, 30, 21, 70, 16, 30, 21, 70, 16, 30, 21, 70, 16, 30, 21, 70, 16, 30, 21, 70, 16, 30, 21, 70, 16, 30, 21, 70, 16, 30, 21, 70, 16, 30, 21, 70, 16, 30, 21, 70, 16, 30, 21, 70, 16, 30, 21, 70, 16, 30, 21, 70, 16, 30, 21, 70, 16, 30, 21, 70, 16, 30, 21, 70, 16, 30, 21, 70, 16, 30, 21, 70, 16, 30, 21, 70, 16, 30, 21, 70, 16, 30, 21, 70, 16, 30, 21, 70, 16, 30, 21, 70, 16, 30, 21, 70, 16, 30, 21, 70, 16, 30, 21, 70, 16, 30, 21, 70, 16, 30, 21, 70, 16, 30, 21, 70, 16, 30, 21, 70, 16, 30, 21, 70, 16, 30, 21, 70, 16, 30, 21, 70, 16, 30, 21, 70, 16, 30, 21, 70, 16, 30, 21, 70, 16, 30, 21, 70, 16, 30, 21, 70, 16, 30, 21, 70, 16, 30, 21, 70, 16, 30, 21, 70, 16, 30, 21, 70, 16, 30, 21, 70, 16, 30, 21, 70, 16, 30, 21, 70, 16, 30, 21, 70, 16, 30, 21, 70, 16, 30, 21, 70, 16, 30, 21, 70, 16, 30, 21, 70, 16, 30, 21, 33, 34, 2, 43, 599, 33, 34, 2, 43, 599, 33, 34, 2, 43, 599, 33, 34, 2, 43, 599, 33, 34, 2, 43, 599, 33, 34, 2, 43, 599, 33, 34, 2, 43, 599, 33, 34, 2, 43, 599, 33, 34, 2, 43, 599, 33, 34, 2, 43, 599, 33, 34, 2, 43, 599, 33, 34, 2, 43, 599, 33, 34, 2, 43, 599, 33, 34, 2, 43, 599, 33, 34, 2, 43, 599, 48, 100, 333, 452, 567, 48, 100, 333, 452, 567, 48, 100, 333, 452, 567, 48, 100, 333, 452, 567, 48, 100, 333, 452, 567, 48, 100, 333, 452, 567, 48, 100, 333, 452, 567, 48, 100, 333, 452, 567, 48, 100, 333, 452, 567, 48, 100, 333, 452, 567, 48, 100, 333, 452, 567, 48, 100, 333, 452, 567, 48, 100, 333, 452, 567, 48, 100, 333, 452, 567, 48, 100, 333, 452, 567, 48, 100, 333, 452, 567, 48, 100, 333, 452, 567, 48, 100, 333, 452, 567, 48, 100, 333, 452, 567, 48, 100, 333, 452, 567, 48, 100, 333, 452, 567, 48, 100, 333, 452, 567, 48, 100, 333, 452, 567, 48, 100, 333, 452, 567, 48, 100, 333, 452, 567, 48, 100, 333, 452, 567, 48, 100, 333, 452, 567, 48, 100, 333, 452, 567, 48, 100, 333, 452, 567, 48, 100, 333, 452, 567, 48, 100, 333, 452, 567, 48, 100, 333, 452, 567, 48, 100, 333, 452, 567, 48, 100, 333, 452, 567, 48, 100, 333, 452, 567, 48, 100, 333, 452, 567, 48, 100, 333, 452, 567, 48, 100, 333, 452, 567, 48, 100, 333, 452, 567, 48, 100, 333, 452, 567, 48, 100, 333, 452, 567, 48, 100, 333, 452, 567, 48, 100, 333, 452, 567, 48, 100, 333, 452, 567, 48, 100, 333, 452, 567, 48, 100, 333, 452, 567, 48, 100, 333, 452, 567, 48, 100, 333, 452, 567, 48, 100, 333, 452, 567, 48, 100, 333, 452, 567, 48, 100, 333, 452, 567, 48, 100, 333, 452, 567, 48, 100, 333, 452, 567, 48, 100, 333, 452, 567, 48, 100, 333, 452, 567, 48, 100, 333, 452, 567, 48, 100, 333, 452, 567, 48, 100, 333, 452, 567, 48, 100, 333, 452, 567, 48, 100, 333, 452, 567, 48, 100, 333, 452, 567, 48, 100, 333, 452, 567, 48, 100, 333, 452, 567, 48, 100, 333, 452, 567, 48, 100, 333, 452, 567, 48, 100, 333, 452, 567, 48, 100, 333, 452, 567, 48, 100, 333, 452, 567, 48, 100, 333, 452, 567, 48, 100, 333, 452, 567, 50, 1010, 55, 341, 132, 50, 1010, 55, 341, 132, 50, 1010, 55, 341, 132, 50, 1010, 55, 341, 132, 50, 1010, 55, 341, 132, 50, 1010, 55, 341, 132, 50, 1010, 55, 341, 132, 50, 1010, 55, 341, 132, 50, 1010, 55, 341, 132, 50, 1010, 55, 341, 132, 50, 1010, 55, 341, 132, 50, 1010, 55, 341, 132, 50, 1010, 55, 341, 132, 50, 1010, 55, 341, 132, 50, 1010, 55, 341, 132, 50, 1010, 55, 341, 132, 50, 1010, 55, 341, 132, 50, 1010, 55, 341, 132, 50, 1010, 55, 341, 132, 50, 1010, 55, 341, 132, 50, 1010, 55, 341, 132, 50, 1010, 55, 341, 132, 50, 1010, 55, 341, 132, 50, 1010, 55, 341, 132, 50, 1010, 55, 341, 132, 50, 1010, 55, 341, 132, 50, 1010, 55, 341, 132, 50, 1010, 55, 341, 132, 50, 1010, 55, 341, 132, 50, 1010, 55, 341, 132, 50, 1010, 55, 341, 132, 50, 1010, 55, 341, 132, 50, 1010, 55, 341, 132, 50, 1010, 55, 341, 132, 50, 1010, 55, 341, 132, 50, 1010, 55, 341, 132, 50, 1010, 55, 341, 132, 50, 1010, 55, 341, 132, 50, 1010, 55, 341, 132, 50, 1010, 55, 341, 132, 50, 1010, 55, 341, 132, 50, 1010, 55, 341, 132, 50, 1010, 55, 341, 132, 50, 1010, 55, 341, 132, 50, 1010, 55, 341, 132, 50, 1010, 55, 341, 132, 50, 1010, 55, 341, 132, 50, 1010, 55, 341, 132, 50, 1010, 55, 341, 132, 50, 1010, 55, 341, 132, 50, 1010, 55, 341, 132, 50, 1010, 55, 341, 132, 50, 1010, 55, 341, 132, 50, 1010, 55, 341, 132, 50, 1010, 55, 341, 132, 50, 1010, 55, 341, 132, 50, 1010, 55, 341, 132, 50, 1010, 55, 341, 132, 50, 1010, 55, 341, 132, 50, 1010, 55, 341, 132, 50, 1010, 55, 341, 132, 50, 1010, 55, 341, 132, 50, 1010, 55, 341, 132, 50, 1010, 55, 341, 132, 50, 1010, 55, 341, 132, 50, 1010, 55, 341, 132, 50, 1010, 55, 341, 132, 50, 1010, 55, 341, 132, 50, 1010, 55, 341, 132, 50, 1010, 55, 341, 132, 50, 1010, 55, 341, 132, 50, 1010, 55, 341, 132, 50, 1010, 55, 341, 132, 50, 1010, 55, 341, 132, 50, 1010, 55, 341, 132, 50, 1010, 55, 341, 132, 50, 1010, 55, 341, 132, 50, 1010, 55, 341, 132, 50, 1010, 55, 341, 132, 50, 1010, 55, 341, 132, 50, 1010, 55, 341, 132, 50, 1010, 55, 341, 132, 50, 1010, 55, 341, 132, 50, 1010, 55, 341, 132, 50, 1010, 55, 341, 132, 50, 1010, 55, 341, 132, 50, 1010, 55, 341, 132, 50, 1010, 55, 341, 132, 50, 1010, 55, 341, 132, 50, 1010, 55, 341, 132, 50, 1010, 55, 341, 132, 50, 1010, 55, 341, 132, 50, 1010, 55, 341, 132, 50, 1010, 55, 341, 132, 50, 1010, 55, 341, 132, 50, 1010, 55, 341, 132, 50, 1010, 55, 341, 132, 50, 1010, 55, 341, 132, 50, 1010, 55, 341, 132, 50, 1010, 55, 341, 132, 50, 1010, 55, 341, 132, 50, 1010, 55, 341, 132, 50, 1010, 55, 341, 132, 50, 1010, 55, 341, 132, 50, 1010, 55, 341, 132, 50, 1010, 55, 341, 132, 50, 1010, 55, 341, 132, 50, 1010, 55, 341, 132, 50, 1010, 55, 341, 132, 50, 1010, 55, 341, 132, 50, 1010, 55, 341, 132, 50, 1010, 55, 341, 132, 50, 1010, 55, 341, 132, 50, 1010, 55, 341, 132, 50, 1010, 55, 341, 132, 50, 1010, 55, 341, 132, 50, 1010, 55, 341, 132, 50, 1010, 55, 341, 132, 50, 1010, 55, 341, 132, 50, 1010, 55, 341, 132, 50, 1010, 55, 341, 132, 50, 1010, 55, 341, 132, 50, 1010, 55, 341, 132, 50, 1010, 55, 341, 132, 50, 1010, 55, 341, 132, 50, 1010, 55, 341, 132, 50, 1010, 55, 341, 132, 50, 1010, 55, 341, 132, 50, 1010, 55, 341, 132, 50, 1010, 55, 341, 132, 50, 1010, 55, 341, 132, 50, 1010, 55, 341, 132, 50, 1010, 55, 341, 132, 50, 1010, 55, 341, 132, 50, 1010, 55, 341, 132, 50, 1010, 55, 341, 132, 50, 1010, 55, 341, 132, 50, 1010, 55, 341, 132, 50, 1010, 55, 341, 132, 50, 1010, 55, 341, 132, 50, 1010, 55, 341, 132, 50, 1010, 55, 341, 132, 50, 1010, 55, 341, 132, 50, 1010, 55, 341, 132, 50, 1010, 55, 341, 132, 50, 1010, 55, 341, 132, 50, 1010, 55, 341, 132, 50, 1010, 55, 341, 132, 50, 1010, 55, 341, 132, 50, 1010, 55, 341, 132, 50, 1010, 55, 341, 132, 50, 1010, 55, 341, 132, 50, 1010, 55, 341, 132, 50, 1010, 55, 341, 132, 50, 1010, 55, 341, 132, 50, 1010, 55, 341, 132, 50, 1010, 55, 341, 132, 50, 1010, 55, 341, 132, 50, 1010, 55, 341, 132, 50, 1010, 55, 341, 132, 50, 1010, 55, 341, 132, 50, 1010, 55, 341, 132, 50, 1010, 55, 341, 132, 50, 1010, 55, 341, 132, 50, 1010, 55, 341, 132, 50, 1010, 55, 341, 132, 50, 1010, 55, 341, 132, 50, 1010, 55, 341, 132, 50, 1010, 55, 341, 132, 50, 1010, 55, 341, 132, 50, 1010, 55, 341, 132, 50, 1010, 55, 341, 132, 50, 1010, 55, 341, 132, 50, 1010, 55, 341, 132, 50, 1010, 55, 341, 132, 50, 1010, 55, 341, 132, 50, 1010, 55, 341, 132, 50, 1010, 55, 341, 132, 50, 1010, 55, 341, 132, 50, 1010, 55, 341, 132, 50, 1010, 55, 341, 132, 50, 1010, 55, 341, 132, 50, 1010, 55, 341, 132, 50, 1010, 55, 341, 132, 50, 1010, 55, 341, 132, 50, 1010, 55, 341, 132, 50, 1010, 55, 341, 132, 50, 1010, 55, 341, 132, 50, 1010, 55, 341, 132, 50, 1010, 55, 341, 132, 50, 1010, 55, 341, 132, 50, 1010, 55, 341, 132, 50, 1010, 55, 341, 132, 50, 1010, 55, 341, 132, 50, 1010, 55, 341, 132, 50, 1010, 55, 341, 132, 50, 1010, 55, 341, 132, 50, 1010, 55, 341, 132, 50, 1010, 55, 341, 132, 50, 1010, 55, 341, 132, 50, 1010, 55, 341, 132, 50, 1010, 55, 341, 132, 50, 1010, 55, 341, 132, 50, 1010, 55, 341, 132, 50, 1010, 55, 341, 132, 50, 1010, 55, 341, 132, 50, 1010, 55, 341, 132, 50, 1010, 55, 341, 132, 50, 1010, 55, 341, 132, 50, 1010, 55, 341, 132, 50, 1010, 55, 341, 132, 50, 1010, 55, 341, 132, 50, 1010, 55, 341, 132, 50, 1010, 55, 341, 132, 50, 1010, 55, 341, 132, 50, 1010, 55, 341, 132, 50, 1010, 55, 341, 132, 50, 1010, 55, 341, 132, 50, 1010, 55, 341, 132, 50, 1010, 55, 341, 132, 50, 1010, 55, 341, 132, 50, 1010, 55, 341, 132, 50, 1010, 55, 341, 132, 50, 1010, 55, 341, 132, 50, 1010, 55, 341, 132, 50, 1010, 55, 341, 132, 50, 1010, 55, 341, 132, 50, 1010, 55, 341, 132, 50, 1010, 55, 341, 132, 50, 1010, 55, 341, 132, 50, 1010, 55, 341, 132, 50, 1010, 55, 341, 132, 50, 1010, 55, 341, 132, 50, 1010, 55, 341, 132, 50, 1010, 55, 341, 132, 50, 1010, 55, 341, 132, 50, 1010, 55, 341, 132, 50, 1010, 55, 341, 132, 50, 1010, 55, 341, 132, 50, 1010, 55, 341, 132, 50, 1010, 55, 341, 132, 50, 1010, 55, 341, 132, 50, 1010, 55, 341, 132, 50, 1010, 55, 341, 132, 50, 1010, 55, 341, 132, 50, 1010, 55, 341, 132, 50, 1010, 55, 341, 132, 50, 1010, 55, 341, 132, 50, 1010, 55, 341, 132, 50, 1010, 55, 341, 132, 50, 1010, 55, 341, 132, 50, 1010, 55, 341, 132, 50, 1010, 55, 341, 132, 50, 1010, 55, 341, 132, 50, 1010, 55, 341, 132, 50, 1010, 55, 341, 132, 50, 1010, 55, 341, 132, 50, 1010, 55, 341, 132, 50, 1010, 55, 341, 132, 50, 1010, 55, 341, 132, 50, 1010, 55, 341, 132, 50, 1010, 55, 341, 132, 50, 1010, 55, 341, 132, 50, 1010, 55, 341, 132, 50, 1010, 55, 341, 132, 50, 1010, 55, 341, 132, 50, 1010, 55, 341, 132, 50, 1010, 55, 341, 132, 50, 1010, 55, 341, 132, 50, 1010, 55, 341, 132, 50, 1010, 55, 341, 132, 50, 1010, 55, 341, 132, 50, 1010, 55, 341, 132, 50, 1010, 55, 341, 132, 50, 1010, 55, 341, 132, 50, 1010, 55, 341, 132, 50, 1010, 55, 341, 132, 50, 1010, 55, 341, 132, 50, 1010, 55, 341, 132, 50, 1010, 55, 341, 132, 50, 1010, 55, 341, 132, 50, 1010, 55, 341, 132, 50, 1010, 55, 341, 132, 50, 1010, 55, 341, 132, 50, 1010, 55, 341, 132, 50, 1010, 55, 341, 132, 50, 1010, 55, 341, 132, 50, 1010, 55, 341, 132, 50, 1010, 55, 341, 132, 50, 1010, 55, 341, 132, 50, 1010, 55, 341, 132, 50, 1010, 55, 341, 132, 50, 1010, 55, 341, 132, 50, 1010, 55, 341, 132, 50, 1010, 55, 341, 132, 50, 1010, 55, 341, 132, 50, 1010, 55, 341, 132, 50, 1010, 55, 341, 132, 50, 1010, 55, 341, 132, 50, 1010, 55, 341, 132, 50, 1010, 55, 341, 132, 50, 1010, 55, 341, 132, 50, 1010, 55, 341, 132, 50, 1010, 55, 341, 132, 50, 1010, 55, 341, 132, 50, 1010, 55, 341, 132, 50, 1010, 55, 341, 132, 50, 1010, 55, 341, 132, 50, 1010, 55, 341, 132, 50, 1010, 55, 341, 132, 50, 1010, 55, 341, 132, 50, 1010, 55, 341, 132, 50, 1010, 55, 341, 132, 50, 1010, 55, 341, 132, 50, 1010, 55, 341, 132, 50, 1010, 55, 341, 132, 50, 1010, 55, 341, 132, 50, 1010, 55, 341, 132, 50, 1010, 55, 341, 132, 50, 1010, 55, 341, 132, 50, 1010, 55, 341, 132, 50, 1010, 55, 341, 132, 50, 1010, 55, 341, 132, 50, 1010, 55, 341, 132, 50, 1010, 55, 341, 132, 50, 1010, 55, 341, 132, 50, 1010, 55, 341, 132, 50, 1010, 55, 341, 132, 50, 1010, 55, 341, 132, 50, 1010, 55, 341, 132, 50, 1010, 55, 341, 132, 50, 1010, 55, 341, 132, 50, 1010, 55, 341, 132, 50, 1010, 55, 341, 132, 50, 1010, 55, 341, 132, 50, 1010, 55, 341, 132, 50, 1010, 55, 341, 132, 50, 1010, 55, 341, 132, 50, 1010, 55, 341, 132, 50, 1010, 55, 341, 132, 50, 1010, 55, 341, 132, 50, 1010, 55, 341, 132, 50, 1010, 55, 341, 132, 50, 1010, 55, 341, 132, 50, 1010, 55, 341, 132, 50, 1010, 55, 341, 132, 50, 1010, 55, 341, 132, 50, 1010, 55, 341, 132, 50, 1010, 55, 341, 132, 50, 1010, 55, 341, 132, 50, 1010, 55, 341, 132, 50, 1010, 55, 341, 132, 50, 1010, 55, 341, 132, 50, 1010, 55, 341, 132, 50, 1010, 55, 341, 132, 50, 1010, 55, 341, 132, 50, 1010, 55, 341, 132, 50, 1010, 55, 341, 132, 50, 1010, 55, 341, 132, 50, 1010, 55, 341, 132, 50, 1010, 55, 341, 132, 50, 1010, 55, 341, 132, 50, 1010, 55, 341, 132, 50, 1010, 55, 341, 132, 50, 1010, 55, 341, 132, 50, 1010, 55, 341, 132, 50, 1010, 55, 341, 132, 50, 1010, 55, 341, 132, 50, 1010, 55, 341, 132, 50, 1010, 55, 341, 132, 50, 1010, 55, 341, 132, 50, 1010, 55, 341, 132, 50, 1010, 55, 341, 132, 50, 1010, 55, 341, 132, 50, 1010, 55, 341, 132, 50, 1010, 55, 341, 132, 50, 1010, 55, 341, 132, 50, 1010, 55, 341, 132, 50, 1010, 55, 341, 132, 50, 1010, 55, 341, 132, 50, 1010, 55, 341, 132, 50, 1010, 55, 341, 132, 50, 1010, 55, 341, 132, 50, 1010, 55, 341, 132, 50, 1010, 55, 341, 132, 50, 1010, 55, 341, 132, 50, 1010, 55, 341, 132, 50, 1010, 55, 341, 132, 50, 1010, 55, 341, 132, 50, 1010, 55, 341, 132, 50, 1010, 55, 341, 132, 50, 1010, 55, 341, 132, 50, 1010, 55, 341, 132, 50, 1010, 55, 341, 132, 50, 1010, 55, 341, 132, 50, 1010, 55, 341, 132, 50, 1010, 55, 341, 132, 50, 1010, 55, 341, 132, 50, 1010, 55, 341, 132, 50, 1010, 55, 341, 132, 50, 1010, 55, 341, 132, 50, 1010, 55, 341, 132, 50, 1010, 55, 341, 132, 50, 1010, 55, 341, 132, 50, 1010, 55, 341, 132, 50, 1010, 55, 341, 132, 50, 1010, 55, 341, 132, 50, 1010, 55, 341, 132, 50, 1010, 55, 341, 132, 50, 1010, 55, 341, 132, 50, 1010, 55, 341, 132, 50, 1010, 55, 341, 132, 50, 1010, 55, 341, 132, 50, 1010, 55, 341, 132, 50, 1010, 55, 341, 132, 50, 1010, 55, 341, 132, 50, 1010, 55, 341, 132, 50, 1010, 55, 341, 132, 50, 1010, 55, 341, 132, 50, 1010, 55, 341, 132, 50, 1010, 55, 341, 132, 50, 1010, 55, 341, 132, 50, 1010, 55, 341, 132, 50, 1010, 55, 341, 132, 50, 1010, 55, 341, 132, 50, 1010, 55, 341, 132, 50, 1010, 55, 341, 132, 50, 1010, 55, 341, 132, 50, 1010, 55, 341, 132, 50, 1010, 55, 341, 132, 50, 1010, 55, 341, 132, 50, 1010, 55, 341, 132, 50, 1010, 55, 341, 132, 50, 1010, 55, 341, 132, 50, 1010, 55, 341, 132, 50, 1010, 55, 341, 132, 50, 1010, 55, 341, 132, 50, 1010, 55, 341, 132, 50, 1010, 55, 341, 132, 50, 1010, 55, 341, 132, 50, 1010, 55, 341, 132, 50, 1010, 55, 341, 132, 50, 1010, 55, 341, 132, 50, 1010, 55, 341, 132, 50, 1010, 55, 341, 132, 50, 1010, 55, 341, 132, 50, 1010, 55, 341, 132, 50, 1010, 55, 341, 132, 50, 1010, 55, 341, 132, 50, 1010, 55, 341, 132, 50, 1010, 55, 341, 132, 50, 1010, 55, 341, 132, 50, 1010, 55, 341, 132, 50, 1010, 55, 341, 132, 50, 1010, 55, 341, 132, 50, 1010, 55, 341, 132, 50, 1010, 55, 341, 132, 50, 1010, 55, 341, 132, 50, 1010, 55, 341, 132, 50, 1010, 55, 341, 132, 50, 1010, 55, 341, 132, 50, 1010, 55, 341, 132, 50, 1010, 55, 341, 132, 50, 1010, 55, 341, 132, 50, 1010, 55, 341, 132, 50, 1010, 55, 341, 132, 50, 1010, 55, 341, 132, 50, 1010, 55, 341, 132, 50, 1010, 55, 341, 132, 50, 1010, 55, 341, 132, 50, 1010, 55, 341, 132, 50, 1010, 55, 341, 132, 50, 1010, 55, 341, 132, 50, 1010, 55, 341, 132, 50, 1010, 55, 341, 132, 50, 1010, 55, 341, 132, 50, 1010, 55, 341, 132, 50, 1010, 55, 341, 132, 50, 1010, 55, 341, 132, 50, 1010, 55, 341, 132, 50, 1010, 55, 341, 132, 50, 1010, 55, 341, 132, 50, 1010, 55, 341, 132, 50, 1010, 55, 341, 132, 50, 1010, 55, 341, 132, 50, 1010, 55, 341, 132, 50, 1010, 55, 341, 132, 50, 1010, 55, 341, 132, 50, 1010, 55, 341, 132, 50, 1010, 55, 341, 132, 50, 1010, 55, 341, 132, 50, 1010, 55, 341, 132, 50, 1010, 55, 341, 132, 50, 1010, 55, 341, 132, 50, 1010, 55, 341, 132, 50, 1010, 55, 341, 132, 50, 1010, 55, 341, 132, 50, 1010, 55, 341, 132, 50, 1010, 55, 341, 132, 50, 1010, 55, 341, 132, 50, 1010, 55, 341, 132, 50, 1010, 55, 341, 132, 50, 1010, 55, 341, 132, 50, 1010, 55, 341, 132, 50, 1010, 55, 341, 132, 50, 1010, 55, 341, 132, 50, 1010, 55, 341, 132, 50, 1010, 55, 341, 132, 50, 1010, 55, 341, 132, 50, 1010, 55, 341, 132, 50, 1010, 55, 341, 132, 50, 1010, 55, 341, 132, 50, 1010, 55, 341, 132, 50, 1010, 55, 341, 132, 50, 1010, 55, 341, 132, 50, 1010, 55, 341, 132, 50, 1010, 55, 341, 132, 50, 1010, 55, 341, 132, 50, 1010, 55, 341, 132, 50, 1010, 55, 341, 132, 50, 1010, 55, 341, 132, 50, 1010, 55, 341, 132, 50, 1010, 55, 341, 132, 50, 1010, 55, 341, 132, 50, 1010, 55, 341, 132, 50, 1010, 55, 341, 132, 50, 1010, 55, 341, 132, 50, 1010, 55, 341, 132, 50, 1010, 55, 341, 132, 50, 1010, 55, 341, 132, 50, 1010, 55, 341, 132, 50, 1010, 55, 341, 132, 50, 1010, 55, 341, 132, 50, 1010, 55, 341, 132, 50, 1010, 55, 341, 132, 50, 1010, 55, 341, 132, 50, 1010, 55, 341, 132, 50, 1010, 55, 341, 132, 50, 1010, 55, 341, 132, 50, 1010, 55, 341, 132, 50, 1010, 55, 341, 132, 50, 1010, 55, 341, 132, 50, 1010, 55, 341, 132, 50, 1010, 55, 341, 132, 50, 1010, 55, 341, 132, 50, 1010, 55, 341, 132, 50, 1010, 55, 341, 132, 50, 1010, 55, 341, 132, 50, 1010, 55, 341, 132, 50, 1010, 55, 341, 132, 50, 1010, 55, 341, 132, 50, 1010, 55, 341, 132, 50, 1010, 55, 341, 132, 50, 1010, 55, 341, 132, 50, 1010, 55, 341, 132, 50, 1010, 55, 341, 132, 50, 1010, 55, 341, 132, 50, 1010, 55, 341, 132, 50, 1010, 55, 341, 132, 50, 1010, 55, 341, 132, 50, 1010, 55, 341, 132, 50, 1010, 55, 341, 132, 50, 1010, 55, 341, 132, 50, 1010, 55, 341, 132, 50, 1010, 55, 341, 132, 50, 1010, 55, 341, 132, 50, 1010, 55, 341, 132, 50, 1010, 55, 341, 132, 50, 1010, 55, 341, 132, 50, 1010, 55, 341, 132, 50, 1010, 55, 341, 132, 50, 1010, 55, 341, 132, 50, 1010, 55, 341, 132, 50, 1010, 55, 341, 132, 50, 1010, 55, 341, 132, 50, 1010, 55, 341, 132, 50, 1010, 55, 341, 132, 50, 1010, 55, 341, 132, 50, 1010, 55, 341, 132, 50, 1010, 55, 341, 132, 50, 1010, 55, 341, 132, 50, 1010, 55, 341, 132, 50, 1010, 55, 341, 132, 50, 1010, 55, 341, 132, 50, 1010, 55, 341, 132, 50, 1010, 55, 341, 132, 50, 1010, 55, 341, 132, 50, 1010, 55, 341, 132, 50, 1010, 55, 341, 132, 50, 1010, 55, 341, 132, 50, 1010, 55, 341, 132, 50, 1010, 55, 341, 132, 50, 1010, 55, 341, 132, 50, 1010, 55, 341, 132, 50, 1010, 55, 341, 132, 50, 1010, 55, 341, 132, 50, 1010, 55, 341, 132, 50, 1010, 55, 341, 132, 50, 1010, 55, 341, 132, 50, 1010, 55, 341, 132, 50, 1010, 55, 341, 132, 50, 1010, 55, 341, 132, 50, 1010, 55, 341, 132, 50, 1010, 55, 341, 132, 50, 1010, 55, 341, 132, 50, 1010, 55, 341, 132, 50, 1010, 55, 341, 132, 50, 1010, 55, 341, 132, 50, 1010, 55, 341, 132, 50, 1010, 55, 341, 132, 50, 1010, 55, 341, 132, 50, 1010, 55, 341, 132, 50, 1010, 55, 341, 132, 50, 1010, 55, 341, 132, 50, 1010, 55, 341, 132, 50, 1010, 55, 341, 132, 50, 1010, 55, 341, 132, 50, 1010, 55, 341, 132, 50, 1010, 55, 341, 132, 50, 1010, 55, 341, 132, 50, 1010, 55, 341, 132, 50, 1010, 55, 341, 132, 50, 1010, 55, 341, 132, 50, 1010, 55, 341, 132, 50, 1010, 55, 341, 132, 50, 1010, 55, 341, 132, 50, 1010, 55, 341, 132, 50, 1010, 55, 341, 132, 50, 1010, 55, 341, 132, 50, 1010, 55, 341, 132, 50, 1010, 55, 341, 132, 50, 1010, 55, 341, 132, 50, 1010, 55, 341, 132, 50, 1010, 55, 341, 132, 50, 1010, 55, 341, 132, 50, 1010, 55, 341, 132, 50, 1010, 55, 341, 132, 50, 1010, 55, 341, 132, 50, 1010, 55, 341, 132, 50, 1010, 55, 341, 132, 50, 1010, 55, 341, 132, 50, 1010, 55, 341, 132, 50, 1010, 55, 341, 132, 50, 1010, 55, 341, 132, 50, 1010, 55, 341, 132, 50, 1010, 55, 341, 132, 50, 1010, 55, 341, 132, 50, 1010, 55, 341, 132, 50, 1010, 55, 341, 132, 50, 1010, 55, 341, 132, 50, 1010, 55, 341, 132, 50, 1010, 55, 341, 132, 50, 1010, 55, 341, 132, 50, 1010, 55, 341, 132, 50, 1010, 55, 341, 132, 50, 1010, 55, 341, 132, 50, 1010, 55, 341, 132, 50, 1010, 55, 341, 132, 50, 1010, 55, 341, 132, 50, 1010, 55, 341, 132, 50, 1010, 55, 341, 132, 50, 1010, 55, 341, 132, 50, 1010, 55, 341, 132, 50, 1010, 55, 341, 132, 50, 1010, 55, 341, 132, 50, 1010, 55, 341, 132, 50, 1010, 55, 341, 132, 50, 1010, 55, 341, 132, 50, 1010, 55, 341, 132, 50, 1010, 55, 341, 132, 50, 1010, 55, 341, 132, 50, 1010, 55, 341, 132, 50, 1010, 55, 341, 132, 50, 1010, 55, 341, 132, 50, 1010, 55, 341, 132, 50, 1010, 55, 341, 132, 50, 1010, 55, 341, 132, 50, 1010, 55, 341, 132, 50, 1010, 55, 341, 132, 50, 1010, 55, 341, 132, 50, 1010, 55, 341, 132, 50, 1010, 55, 341, 132, 50, 1010, 55, 341, 132, 50, 1010, 55, 341, 132, 50, 1010, 55, 341, 132, 50, 1010, 55, 341, 132, 50, 1010, 55, 341, 132, 50, 1010, 55, 341, 132, 50, 1010, 55, 341, 132, 50, 1010, 55, 341, 132, 50, 1010, 55, 341, 132, 50, 1010, 55, 341, 132, 50, 1010, 55, 341, 132, 50, 1010, 55, 341, 132, 50, 1010, 55, 341, 132, 50, 1010, 55, 341, 132, 50, 1010, 55, 341, 132, 50, 1010, 55, 341, 132, 50, 1010, 55, 341, 132, 50, 1010, 55, 341, 132, 50, 1010, 55, 341, 132, 50, 1010, 55, 341, 132, 50, 1010, 55, 341, 132, 50, 1010, 55, 341, 132, 50, 1010, 55, 341, 132, 50, 1010, 55, 341, 132, 50, 1010, 55, 341, 132, 50, 1010, 55, 341, 132, 50, 1010, 55, 341, 132, 50, 1010, 55, 341, 132, 50, 1010, 55, 341, 132, 50, 1010, 55, 341, 132, 50, 1010, 55, 341, 132, 50, 1010, 55, 341, 132, 50, 1010, 55, 341, 132, 50, 1010, 55, 341, 132, 50, 1010, 55, 341, 132, 50, 1010, 55, 341, 132, 50, 1010, 55, 341, 132, 50, 1010, 55, 341, 132, 50, 1010, 55, 341, 132, 50, 1010, 55, 341, 132, 50, 1010, 55, 341, 132, 50, 1010, 55, 341, 132, 50, 1010, 55, 341, 132, 50, 1010, 55, 341, 132, 50, 1010, 55, 341, 132, 50, 1010, 55, 341, 132, 50, 1010, 55, 341, 132, 50, 1010, 55, 341, 132, 50, 1010, 55, 341, 132, 50, 1010, 55, 341, 132, 50, 1010, 55, 341, 132, 50, 1010, 55, 341, 132, 50, 1010, 55, 341, 132, 50, 1010, 55, 341, 132, 50, 1010, 55, 341, 132, 50, 1010, 55, 341, 132, 50, 1010, 55, 341, 132, 50, 1010, 55, 341, 132, 50, 1010, 55, 341, 132, 50, 1010, 55, 341, 132, 50, 1010, 55, 341, 132, 50, 1010, 55, 341, 132, 50, 1010, 55, 341, 132, 50, 1010, 55, 341, 132, 50, 1010, 55, 341, 132, 50, 1010, 55, 341, 132, 50, 1010, 55, 341, 132, 50, 1010, 55, 341, 132, 50, 1010, 55, 341, 132, 50, 1010, 55, 341, 132, 50, 1010, 55, 341, 132, 50, 1010, 55, 341, 132, 822, 563, 77, 451, 475, 822, 563, 77, 451, 475, 822, 563, 77, 451, 475, 822, 563, 77, 451, 475, 822, 563, 77, 451, 475, 822, 563, 77, 451, 475, 822, 563, 77, 451, 475, 822, 563, 77, 451, 475, 822, 563, 77, 451, 475, 822, 563, 77, 451, 475, 822, 563, 77, 451, 475, 822, 563, 77, 451, 475, 822, 563, 77, 451, 475, 822, 563, 77, 451, 475, 822, 563, 77, 451, 475, 822, 563, 77, 451, 475, 822, 563, 77, 451, 475, 822, 563, 77, 451, 475, 822, 563, 77, 451, 475, 822, 563, 77, 451, 475, 822, 563, 77, 451, 475, 822, 563, 77, 451, 475, 822, 563, 77, 451, 475, 822, 563, 77, 451, 475, 822, 563, 77, 451, 475, 822, 563, 77, 451, 475, 822, 563, 77, 451, 475, 822, 563, 77, 451, 475, 822, 563, 77, 451, 475, 822, 563, 77, 451, 475, 822, 563, 77, 451, 475, 822, 563, 77, 451, 475, 822, 563, 77, 451, 475, 822, 563, 77, 451, 475, 822, 563, 77, 451, 475, 822, 563, 77, 451, 475, 822, 563, 77, 451, 475, 822, 563, 77, 451, 475, 822, 563, 77, 451, 475, 822, 563, 77, 451, 475, 822, 563, 77, 451, 475, 822, 563, 77, 451, 475, 822, 563, 77, 451, 475, 822, 563, 77, 451, 475, 822, 563, 77, 451, 475, 822, 563, 77, 451, 475, 822, 563, 77, 451, 475, 822, 563, 77, 451, 475, 822, 563, 77, 451, 475, 822, 563, 77, 451, 475, 822, 563, 77, 451, 475, 822, 563, 77, 451, 475, 822, 563, 77, 451, 475, 822, 563, 77, 451, 475, 822, 563, 77, 451, 475, 822, 563, 77, 451, 475, 822, 563, 77, 451, 475, 822, 563, 77, 451, 475, 822, 563, 77, 451, 475, 822, 563, 77, 451, 475, 822, 563, 77, 451, 475, 822, 563, 77, 451, 475, 822, 563, 77, 451, 475, 822, 563, 77, 451, 475, 822, 563, 77, 451, 475, 822, 563, 77, 451, 475, 822, 563, 77, 451, 475, 822, 563, 77, 451, 475, 822, 563, 77, 451, 475, 822, 563, 77, 451, 475, 822, 563, 77, 451, 475, 822, 563, 77, 451, 475, 822, 563, 77, 451, 475, 822, 563, 77, 451, 475, 822, 563, 77, 451, 475, 822, 563, 77, 451, 475, 822, 563, 77, 451, 475, 822, 563, 77, 451, 475, 822, 563, 77, 451, 475, 822, 563, 77, 451, 475, 822, 563, 77, 451, 475, 822, 563, 77, 451, 475, 822, 563, 77, 451, 475, 822, 563, 77, 451, 475, 822, 563, 77, 451, 475, 822, 563, 77, 451, 475, 822, 563, 77, 451, 475, 822, 563, 77, 451, 475, 822, 563, 77, 451, 475, 822, 563, 77, 451, 475, 822, 563, 77, 451, 475, 822, 563, 77, 451, 475, 822, 563, 77, 451, 475, 822, 563, 77, 451, 475, 822, 563, 77, 451, 475, 822, 563, 77, 451, 475, 822, 563, 77, 451, 475, 822, 563, 77, 451, 475, 822, 563, 77, 451, 475, 822, 563, 77, 451, 475, 822, 563, 77, 451, 475, 822, 563, 77, 451, 475, 822, 563, 77, 451, 475, 822, 563, 77, 451, 475, 822, 563, 77, 451, 475, 822, 563, 77, 451, 475, 822, 563, 77, 451, 475, 822, 563, 77, 451, 475, 822, 563, 77, 451, 475, 822, 563, 77, 451, 475, 822, 563, 77, 451, 475, 822, 563, 77, 451, 475, 822, 563, 77, 451, 475, 822, 563, 77, 451, 475, 822, 563, 77, 451, 475, 822, 563, 77, 451, 475, 822, 563, 77, 451, 475, 822, 563, 77, 451, 475, 822, 563, 77, 451, 475, 822, 563, 77, 451, 475, 822, 563, 77, 451, 475, 822, 563, 77, 451, 475, 822, 563, 77, 451, 475, 822, 563, 77, 451, 475, 822, 563, 77, 451, 475, 822, 563, 77, 451, 475, 822, 563, 77, 451, 475, 822, 563, 77, 451, 475, 822, 563, 77, 451, 475, 822, 563, 77, 451, 475, 822, 563, 77, 451, 475, 822, 563, 77, 451, 475, 822, 563, 77, 451, 475, 822, 563, 77, 451, 475, 822, 563, 77, 451, 475, 822, 563, 77, 451, 475, 822, 563, 77, 451, 475, 822, 563, 77, 451, 475, 822, 563, 77, 451, 475, 822, 563, 77, 451, 475, 822, 563, 77, 451, 475, 822, 563, 77, 451, 475, 822, 563, 77, 451, 475, 822, 563, 77, 451, 475, 822, 563, 77, 451, 475, 822, 563, 77, 451, 475, 822, 563, 77, 451, 475, 822, 563, 77, 451, 475, 822, 563, 77, 451, 475, 822, 563, 77, 451, 475, 822, 563, 77, 451, 475, 822, 563, 77, 451, 475, 822, 563, 77, 451, 475, 822, 563, 77, 451, 475, 822, 563, 77, 451, 475, 822, 563, 77, 451, 475, 822, 563, 77, 451, 475, 822, 563, 77, 451, 475, 822, 563, 77, 451, 475, 822, 563, 77, 451, 475, 822, 563, 77, 451, 475, 822, 563, 77, 451, 475, 822, 563, 77, 451, 475, 822, 563, 77, 451, 475, 822, 563, 77, 451, 475, 822, 563, 77, 451, 475, 822, 563, 77, 451, 475, 822, 563, 77, 451, 475, 822, 563, 77, 451, 475, 822, 563, 77, 451, 475, 822, 563, 77, 451, 475, 822, 563, 77, 451, 475, 822, 563, 77, 451, 475, 822, 563, 77, 451, 475, 822, 563, 77, 451, 475, 822, 563, 77, 451, 475, 822, 563, 77, 451, 475, 822, 563, 77, 451, 475, 822, 563, 77, 451, 475, 822, 563, 77, 451, 475, 822, 563, 77, 451, 475, 822, 563, 77, 451, 475, 822, 563, 77, 451, 475, 822, 563, 77, 451, 475, 822, 563, 77, 451, 475, 822, 563, 77, 451, 475, 822, 563, 77, 451, 475, 822, 563, 77, 451, 475, 822, 563, 77, 451, 475, 822, 563, 77, 451, 475, 822, 563, 77, 451, 475, 822, 563, 77, 451, 475, 822, 563, 77, 451, 475, 822, 563, 77, 451, 475, 822, 563, 77, 451, 475, 822, 563, 77, 451, 475, 822, 563, 77, 451, 475, 822, 563, 77, 451, 475, 822, 563, 77, 451, 475, 822, 563, 77, 451, 475, 822, 563, 77, 451, 475, 822, 563, 77, 451, 475, 822, 563, 77, 451, 475, 822, 563, 77, 451, 475, 822, 563, 77, 451, 475, 822, 563, 77, 451, 475, 822, 563, 77, 451, 475, 822, 563, 77, 451, 475, 822, 563, 77, 451, 475, 822, 563, 77, 451, 475, 822, 563, 77, 451, 475, 822, 563, 77, 451, 475, 822, 563, 77, 451, 475, 822, 563, 77, 451, 475, 822, 563, 77, 451, 475, 822, 563, 77, 451, 475, 822, 563, 77, 451, 475, 822, 563, 77, 451, 475, 822, 563, 77, 451, 475, 822, 563, 77, 451, 475, 822, 563, 77, 451, 475, 822, 563, 77, 451, 475, 822, 563, 77, 451, 475, 822, 563, 77, 451, 475, 822, 563, 77, 451, 475, 822, 563, 77, 451, 475, 822, 563, 77, 451, 475, 822, 563, 77, 451, 475, 822, 563, 77, 451, 475, 822, 563, 77, 451, 475, 822, 563, 77, 451, 475, 822, 563, 77, 451, 475, 822, 563, 77, 451, 475, 822, 563, 77, 451, 475, 822, 563, 77, 451, 475, 822, 563, 77, 451, 475, 822, 563, 77, 451, 475, 822, 563, 77, 451, 475, 822, 563, 77, 451, 475, 822, 563, 77, 451, 475, 822, 563, 77, 451, 475, 822, 563, 77, 451, 475, 822, 563, 77, 451, 475, 822, 563, 77, 451, 475, 822, 563, 77, 451, 475, 822, 563, 77, 451, 475, 822, 563, 77, 451, 475, 822, 563, 77, 451, 475, 822, 563, 77, 451, 475, 822, 563, 77, 451, 475, 822, 563, 77, 451, 475, 822, 563, 77, 451, 475, 822, 563, 77, 451, 475, 822, 563, 77, 451, 475, 822, 563, 77, 451, 475, 822, 563, 77, 451, 475, 822, 563, 77, 451, 475, 822, 563, 77, 451, 475, 822, 563, 77, 451, 475, 822, 563, 77, 451, 475, 822, 563, 77, 451, 475, 822, 563, 77, 451, 475, 822, 563, 77, 451, 475, 822, 563, 77, 451, 475, 822, 563, 77, 451, 475, 822, 563, 77, 451, 475, 822, 563, 77, 451, 475, 822, 563, 77, 451, 475, 822, 563, 77, 451, 475, 822, 563, 77, 451, 475, 822, 563, 77, 451, 475, 822, 563, 77, 451, 475, 822, 563, 77, 451, 475, 822, 563, 77, 451, 475, 822, 563, 77, 451, 475, 822, 563, 77, 451, 475, 822, 563, 77, 451, 475, 822, 563, 77, 451, 475, 822, 563, 77, 451, 475, 822, 563, 77, 451, 475, 822, 563, 77, 451, 475, 822, 563, 77, 451, 475, 822, 563, 77, 451, 475, 822, 563, 77, 451, 475, 822, 563, 77, 451, 475, 822, 563, 77, 451, 475, 822, 563, 77, 451, 475, 822, 563, 77, 451, 475, 822, 563, 77, 451, 475, 822, 563, 77, 451, 475, 822, 563, 77, 451, 475, 822, 563, 77, 451, 475, 822, 563, 77, 451, 475, 822, 563, 77, 451, 475, 822, 563, 77, 451, 475, 822, 563, 77, 451, 475, 822, 563, 77, 451, 475, 822, 563, 77, 451, 475, 822, 563, 77, 451, 475, 822, 563, 77, 451, 475, 822, 563, 77, 451, 475, 822, 563, 77, 451, 475, 822, 563, 77, 451, 475, 822, 563, 77, 451, 475, 822, 563, 77, 451, 475, 822, 563, 77, 451, 475, 822, 563, 77, 451, 475, 822, 563, 77, 451, 475, 822, 563, 77, 451, 475, 822, 563, 77, 451, 475, 822, 563, 77, 451, 475, 822, 563, 77, 451, 475, 822, 563, 77, 451, 475, 822, 563, 77, 451, 475, 822, 563, 77, 451, 475, 822, 563, 77, 451, 475, 822, 563, 77, 451, 475, 822, 563, 77, 451, 475, 822, 563, 77, 451, 475, 822, 563, 77, 451, 475, 822, 563, 77, 451, 475, 822, 563, 77, 451, 475, 822, 563, 77, 451, 475, 822, 563, 77, 451, 475, 822, 563, 77, 451, 475, 822, 563, 77, 451, 475, 822, 563, 77, 451, 475, 822, 563, 77, 451, 475, 822, 563, 77, 451, 475, 822, 563, 77, 451, 475, 822, 563, 77, 451, 475, 822, 563, 77, 451, 475, 822, 563, 77, 451, 475, 822, 563, 77, 451, 475, 822, 563, 77, 451, 475, 822, 563, 77, 451, 475, 822, 563, 77, 451, 475, 822, 563, 77, 451, 475, 822, 563, 77, 451, 475, 822, 563, 77, 451, 475, 822, 563, 77, 451, 475, 822, 563, 77, 451, 475, 822, 563, 77, 451, 475, 822, 563, 77, 451, 475, 822, 563, 77, 451, 475, 822, 563, 77, 451, 475, 822, 563, 77, 451, 475, 822, 563, 77, 451, 475, 822, 563, 77, 451, 475, 822, 563, 77, 451, 475, 822, 563, 77, 451, 475, 822, 563, 77, 451, 475, 822, 563, 77, 451, 475, 822, 563, 77, 451, 475, 822, 563, 77, 451, 475, 822, 563, 77, 451, 475, 822, 563, 77, 451, 475, 822, 563, 77, 451, 475, 822, 563, 77, 451, 475, 822, 563, 77, 451, 475, 822, 563, 77, 451, 475, 822, 563, 77, 451, 475, 822, 563, 77, 451, 475, 822, 563, 77, 451, 475, 822, 563, 77, 451, 475, 822, 563, 77, 451, 475, 822, 563, 77, 451, 475, 822, 563, 77, 451, 475, 822, 563, 77, 451, 475, 822, 563, 77, 451, 475, 822, 563, 77, 451, 475, 822, 563, 77, 451, 475, 822, 563, 77, 451, 475, 822, 563, 77, 451, 475, 822, 563, 77, 451, 475, 822, 563, 77, 451, 475, 822, 563, 77, 451, 475, 822, 563, 77, 451, 475, 822, 563, 77, 451, 475, 822, 563, 77, 451, 475, 822, 563, 77, 451, 475, 822, 563, 77, 451, 475, 822, 563, 77, 451, 475, 822, 563, 77, 451, 475, 822, 563, 77, 451, 475, 822, 563, 77, 451, 475, 822, 563, 77, 451, 475, 822, 563, 77, 451, 475, 822, 563, 77, 451, 475, 822, 563, 77, 451, 475, 822, 563, 77, 451, 475, 822, 563, 77, 451, 475, 822, 563, 77, 451, 475, 822, 563, 77, 451, 475, 822, 563, 77, 451, 475, 822, 563, 77, 451, 475, 822, 563, 77, 451, 475, 822, 563, 77, 451, 475, 822, 563, 77, 451, 475, 822, 563, 77, 451, 475, 822, 563, 77, 451, 475, 822, 563, 77, 451, 475, 822, 563, 77, 451, 475, 822, 563, 77, 451, 475, 822, 563, 77, 451, 475, 822, 563, 77, 451, 475, 822, 563, 77, 451, 475, 822, 563, 77, 451, 475, 822, 563, 77, 451, 475, 822, 563, 77, 451, 475, 822, 563, 77, 451, 475, 822, 563, 77, 451, 475, 822, 563, 77, 451, 475])],\n",
              "      dtype=object)"
            ]
          },
          "metadata": {},
          "execution_count": 82
        }
      ]
    },
    {
      "cell_type": "code",
      "source": [
        "np.dot(RK,MA)"
      ],
      "metadata": {
        "id": "PlH44eFpLVSU",
        "outputId": "b96a4821-7d46-47ec-e5ea-55dc3e7560d6",
        "colab": {
          "base_uri": "https://localhost:8080/"
        }
      },
      "execution_count": null,
      "outputs": [
        {
          "output_type": "execute_result",
          "data": {
            "text/plain": [
              "array([list([70, 16, 30, 21, 70, 16, 30, 21, 70, 16, 30, 21, 70, 16, 30, 21, 70, 16, 30, 21, 70, 16, 30, 21, 70, 16, 30, 21, 70, 16, 30, 21, 70, 16, 30, 21, 70, 16, 30, 21, 70, 16, 30, 21, 70, 16, 30, 21, 70, 16, 30, 21, 70, 16, 30, 21, 70, 16, 30, 21, 70, 16, 30, 21, 70, 16, 30, 21, 70, 16, 30, 21, 70, 16, 30, 21, 70, 16, 30, 21, 70, 16, 30, 21, 70, 16, 30, 21, 70, 16, 30, 21, 70, 16, 30, 21, 70, 16, 30, 21, 70, 16, 30, 21, 70, 16, 30, 21, 70, 16, 30, 21, 70, 16, 30, 21, 70, 16, 30, 21, 70, 16, 30, 21, 70, 16, 30, 21, 70, 16, 30, 21, 70, 16, 30, 21, 70, 16, 30, 21, 70, 16, 30, 21, 70, 16, 30, 21, 70, 16, 30, 21, 70, 16, 30, 21, 70, 16, 30, 21, 70, 16, 30, 21, 70, 16, 30, 21, 70, 16, 30, 21, 70, 16, 30, 21, 70, 16, 30, 21, 70, 16, 30, 21, 70, 16, 30, 21, 70, 16, 30, 21, 70, 16, 30, 21, 70, 16, 30, 21, 70, 16, 30, 21, 70, 16, 30, 21, 70, 16, 30, 21, 70, 16, 30, 21, 70, 16, 30, 21, 70, 16, 30, 21, 70, 16, 30, 21, 70, 16, 30, 21, 70, 16, 30, 21, 70, 16, 30, 21, 70, 16, 30, 21, 70, 16, 30, 21, 70, 16, 30, 21, 70, 16, 30, 21, 70, 16, 30, 21, 70, 16, 30, 21, 70, 16, 30, 21, 70, 16, 30, 21, 70, 16, 30, 21, 70, 16, 30, 21, 70, 16, 30, 21, 70, 16, 30, 21, 70, 16, 30, 21, 70, 16, 30, 21, 70, 16, 30, 21, 70, 16, 30, 21, 70, 16, 30, 21, 70, 16, 30, 21, 70, 16, 30, 21, 70, 16, 30, 21, 70, 16, 30, 21, 70, 16, 30, 21, 70, 16, 30, 21, 70, 16, 30, 21, 70, 16, 30, 21, 70, 16, 30, 21, 70, 16, 30, 21, 70, 16, 30, 21, 70, 16, 30, 21, 70, 16, 30, 21, 70, 16, 30, 21, 70, 16, 30, 21, 70, 16, 30, 21, 70, 16, 30, 21, 70, 16, 30, 21, 70, 16, 30, 21, 70, 16, 30, 21, 70, 16, 30, 21, 70, 16, 30, 21, 70, 16, 30, 21, 70, 16, 30, 21, 70, 16, 30, 21, 70, 16, 30, 21, 70, 16, 30, 21, 70, 16, 30, 21, 70, 16, 30, 21, 70, 16, 30, 21, 70, 16, 30, 21, 70, 16, 30, 21, 70, 16, 30, 21, 70, 16, 30, 21, 70, 16, 30, 21, 70, 16, 30, 21, 70, 16, 30, 21, 70, 16, 30, 21, 70, 16, 30, 21, 70, 16, 30, 21, 70, 16, 30, 21, 70, 16, 30, 21, 70, 16, 30, 21, 70, 16, 30, 21, 70, 16, 30, 21, 70, 16, 30, 21, 70, 16, 30, 21, 70, 16, 30, 21, 70, 16, 30, 21, 70, 16, 30, 21, 70, 16, 30, 21, 70, 16, 30, 21, 70, 16, 30, 21, 70, 16, 30, 21, 70, 16, 30, 21, 70, 16, 30, 21, 70, 16, 30, 21, 70, 16, 30, 21, 70, 16, 30, 21, 70, 16, 30, 21, 70, 16, 30, 21, 70, 16, 30, 21, 70, 16, 30, 21, 70, 16, 30, 21, 70, 16, 30, 21, 70, 16, 30, 21, 70, 16, 30, 21, 70, 16, 30, 21, 70, 16, 30, 21, 70, 16, 30, 21, 70, 16, 30, 21, 70, 16, 30, 21, 70, 16, 30, 21, 70, 16, 30, 21, 70, 16, 30, 21, 70, 16, 30, 21, 70, 16, 30, 21, 70, 16, 30, 21, 70, 16, 30, 21, 70, 16, 30, 21, 70, 16, 30, 21, 70, 16, 30, 21, 70, 16, 30, 21, 70, 16, 30, 21, 70, 16, 30, 21, 70, 16, 30, 21, 70, 16, 30, 21, 70, 16, 30, 21, 70, 16, 30, 21, 70, 16, 30, 21, 70, 16, 30, 21, 70, 16, 30, 21, 70, 16, 30, 21, 70, 16, 30, 21, 70, 16, 30, 21, 70, 16, 30, 21, 70, 16, 30, 21, 70, 16, 30, 21, 70, 16, 30, 21, 70, 16, 30, 21, 70, 16, 30, 21, 70, 16, 30, 21, 70, 16, 30, 21, 70, 16, 30, 21, 70, 16, 30, 21, 70, 16, 30, 21, 70, 16, 30, 21, 70, 16, 30, 21, 70, 16, 30, 21, 70, 16, 30, 21, 70, 16, 30, 21, 70, 16, 30, 21, 70, 16, 30, 21, 70, 16, 30, 21, 70, 16, 30, 21, 70, 16, 30, 21, 70, 16, 30, 21, 70, 16, 30, 21, 70, 16, 30, 21, 70, 16, 30, 21, 70, 16, 30, 21, 70, 16, 30, 21, 70, 16, 30, 21, 70, 16, 30, 21, 70, 16, 30, 21, 70, 16, 30, 21, 70, 16, 30, 21, 70, 16, 30, 21, 70, 16, 30, 21, 70, 16, 30, 21, 70, 16, 30, 21, 70, 16, 30, 21, 70, 16, 30, 21, 70, 16, 30, 21, 70, 16, 30, 21, 70, 16, 30, 21, 70, 16, 30, 21, 70, 16, 30, 21, 70, 16, 30, 21, 70, 16, 30, 21, 70, 16, 30, 21, 70, 16, 30, 21, 70, 16, 30, 21, 70, 16, 30, 21, 70, 16, 30, 21, 70, 16, 30, 21, 70, 16, 30, 21, 70, 16, 30, 21, 70, 16, 30, 21, 70, 16, 30, 21, 70, 16, 30, 21, 70, 16, 30, 21, 70, 16, 30, 21, 70, 16, 30, 21, 70, 16, 30, 21, 70, 16, 30, 21, 70, 16, 30, 21, 70, 16, 30, 21, 70, 16, 30, 21, 70, 16, 30, 21, 70, 16, 30, 21, 70, 16, 30, 21, 70, 16, 30, 21, 70, 16, 30, 21, 70, 16, 30, 21, 70, 16, 30, 21, 70, 16, 30, 21, 70, 16, 30, 21, 70, 16, 30, 21, 70, 16, 30, 21, 70, 16, 30, 21, 70, 16, 30, 21, 70, 16, 30, 21, 70, 16, 30, 21, 70, 16, 30, 21, 70, 16, 30, 21, 70, 16, 30, 21, 70, 16, 30, 21, 70, 16, 30, 21, 70, 16, 30, 21, 70, 16, 30, 21, 70, 16, 30, 21, 70, 16, 30, 21, 70, 16, 30, 21, 70, 16, 30, 21, 70, 16, 30, 21, 70, 16, 30, 21, 70, 16, 30, 21, 70, 16, 30, 21, 70, 16, 30, 21, 70, 16, 30, 21, 70, 16, 30, 21, 70, 16, 30, 21, 70, 16, 30, 21, 70, 16, 30, 21, 70, 16, 30, 21, 70, 16, 30, 21, 70, 16, 30, 21, 70, 16, 30, 21, 70, 16, 30, 21, 70, 16, 30, 21, 70, 16, 30, 21, 70, 16, 30, 21, 70, 16, 30, 21, 70, 16, 30, 21, 70, 16, 30, 21, 70, 16, 30, 21, 70, 16, 30, 21, 70, 16, 30, 21, 70, 16, 30, 21, 70, 16, 30, 21, 70, 16, 30, 21, 70, 16, 30, 21, 70, 16, 30, 21, 70, 16, 30, 21, 70, 16, 30, 21, 70, 16, 30, 21, 70, 16, 30, 21, 70, 16, 30, 21, 70, 16, 30, 21, 70, 16, 30, 21, 70, 16, 30, 21, 70, 16, 30, 21, 70, 16, 30, 21, 70, 16, 30, 21, 70, 16, 30, 21, 70, 16, 30, 21, 70, 16, 30, 21, 70, 16, 30, 21, 70, 16, 30, 21, 70, 16, 30, 21, 70, 16, 30, 21, 70, 16, 30, 21, 70, 16, 30, 21, 70, 16, 30, 21, 70, 16, 30, 21, 70, 16, 30, 21, 70, 16, 30, 21, 70, 16, 30, 21, 70, 16, 30, 21, 70, 16, 30, 21, 70, 16, 30, 21, 70, 16, 30, 21, 70, 16, 30, 21, 70, 16, 30, 21, 70, 16, 30, 21, 70, 16, 30, 21, 70, 16, 30, 21, 70, 16, 30, 21, 70, 16, 30, 21, 70, 16, 30, 21, 70, 16, 30, 21, 70, 16, 30, 21, 70, 16, 30, 21, 70, 16, 30, 21, 70, 16, 30, 21, 70, 16, 30, 21, 70, 16, 30, 21, 70, 16, 30, 21, 70, 16, 30, 21, 70, 16, 30, 21, 70, 16, 30, 21, 70, 16, 30, 21, 70, 16, 30, 21, 70, 16, 30, 21, 70, 16, 30, 21, 70, 16, 30, 21, 70, 16, 30, 21, 70, 16, 30, 21, 70, 16, 30, 21, 70, 16, 30, 21, 70, 16, 30, 21, 70, 16, 30, 21, 70, 16, 30, 21, 70, 16, 30, 21, 70, 16, 30, 21, 70, 16, 30, 21, 70, 16, 30, 21, 70, 16, 30, 21, 70, 16, 30, 21, 70, 16, 30, 21, 70, 16, 30, 21, 70, 16, 30, 21, 70, 16, 30, 21, 70, 16, 30, 21, 70, 16, 30, 21, 70, 16, 30, 21, 70, 16, 30, 21, 70, 16, 30, 21, 70, 16, 30, 21, 70, 16, 30, 21, 70, 16, 30, 21, 70, 16, 30, 21, 70, 16, 30, 21, 70, 16, 30, 21, 70, 16, 30, 21, 70, 16, 30, 21, 70, 16, 30, 21, 70, 16, 30, 21, 70, 16, 30, 21, 70, 16, 30, 21, 70, 16, 30, 21, 70, 16, 30, 21, 70, 16, 30, 21, 70, 16, 30, 21, 70, 16, 30, 21, 70, 16, 30, 21, 70, 16, 30, 21, 70, 16, 30, 21, 70, 16, 30, 21, 70, 16, 30, 21, 70, 16, 30, 21, 70, 16, 30, 21, 70, 16, 30, 21, 70, 16, 30, 21, 70, 16, 30, 21, 70, 16, 30, 21, 70, 16, 30, 21, 70, 16, 30, 21, 70, 16, 30, 21, 70, 16, 30, 21, 70, 16, 30, 21, 70, 16, 30, 21, 70, 16, 30, 21, 70, 16, 30, 21, 70, 16, 30, 21, 70, 16, 30, 21, 70, 16, 30, 21, 70, 16, 30, 21, 70, 16, 30, 21, 70, 16, 30, 21, 70, 16, 30, 21, 70, 16, 30, 21, 70, 16, 30, 21, 33, 34, 2, 43, 599, 33, 34, 2, 43, 599, 33, 34, 2, 43, 599, 33, 34, 2, 43, 599, 33, 34, 2, 43, 599, 33, 34, 2, 43, 599, 33, 34, 2, 43, 599, 33, 34, 2, 43, 599, 33, 34, 2, 43, 599, 33, 34, 2, 43, 599, 33, 34, 2, 43, 599, 33, 34, 2, 43, 599, 33, 34, 2, 43, 599, 33, 34, 2, 43, 599, 33, 34, 2, 43, 599, 33, 34, 2, 43, 599, 33, 34, 2, 43, 599, 33, 34, 2, 43, 599, 33, 34, 2, 43, 599, 33, 34, 2, 43, 599, 33, 34, 2, 43, 599, 33, 34, 2, 43, 599, 33, 34, 2, 43, 599, 33, 34, 2, 43, 599, 33, 34, 2, 43, 599, 33, 34, 2, 43, 599, 33, 34, 2, 43, 599, 33, 34, 2, 43, 599, 33, 34, 2, 43, 599, 33, 34, 2, 43, 599, 33, 34, 2, 43, 599, 33, 34, 2, 43, 599, 33, 34, 2, 43, 599, 48, 100, 333, 452, 567, 48, 100, 333, 452, 567, 48, 100, 333, 452, 567, 48, 100, 333, 452, 567, 48, 100, 333, 452, 567, 48, 100, 333, 452, 567, 48, 100, 333, 452, 567, 48, 100, 333, 452, 567, 48, 100, 333, 452, 567, 48, 100, 333, 452, 567, 48, 100, 333, 452, 567, 48, 100, 333, 452, 567, 48, 100, 333, 452, 567, 48, 100, 333, 452, 567, 48, 100, 333, 452, 567, 48, 100, 333, 452, 567, 48, 100, 333, 452, 567, 48, 100, 333, 452, 567, 48, 100, 333, 452, 567, 48, 100, 333, 452, 567, 48, 100, 333, 452, 567, 48, 100, 333, 452, 567, 48, 100, 333, 452, 567, 48, 100, 333, 452, 567, 48, 100, 333, 452, 567, 48, 100, 333, 452, 567, 48, 100, 333, 452, 567, 48, 100, 333, 452, 567, 48, 100, 333, 452, 567, 48, 100, 333, 452, 567, 48, 100, 333, 452, 567, 48, 100, 333, 452, 567, 48, 100, 333, 452, 567, 48, 100, 333, 452, 567, 48, 100, 333, 452, 567, 48, 100, 333, 452, 567, 48, 100, 333, 452, 567, 48, 100, 333, 452, 567, 48, 100, 333, 452, 567, 48, 100, 333, 452, 567, 48, 100, 333, 452, 567, 48, 100, 333, 452, 567, 48, 100, 333, 452, 567, 48, 100, 333, 452, 567, 48, 100, 333, 452, 567, 48, 100, 333, 452, 567, 48, 100, 333, 452, 567, 48, 100, 333, 452, 567, 48, 100, 333, 452, 567, 48, 100, 333, 452, 567, 48, 100, 333, 452, 567, 48, 100, 333, 452, 567, 48, 100, 333, 452, 567, 48, 100, 333, 452, 567, 48, 100, 333, 452, 567, 48, 100, 333, 452, 567, 48, 100, 333, 452, 567, 48, 100, 333, 452, 567, 48, 100, 333, 452, 567, 48, 100, 333, 452, 567, 48, 100, 333, 452, 567, 48, 100, 333, 452, 567, 48, 100, 333, 452, 567, 48, 100, 333, 452, 567, 48, 100, 333, 452, 567, 48, 100, 333, 452, 567, 48, 100, 333, 452, 567, 48, 100, 333, 452, 567, 48, 100, 333, 452, 567, 48, 100, 333, 452, 567, 48, 100, 333, 452, 567, 48, 100, 333, 452, 567, 48, 100, 333, 452, 567, 48, 100, 333, 452, 567, 48, 100, 333, 452, 567, 48, 100, 333, 452, 567, 48, 100, 333, 452, 567, 48, 100, 333, 452, 567, 48, 100, 333, 452, 567, 48, 100, 333, 452, 567, 48, 100, 333, 452, 567, 48, 100, 333, 452, 567, 48, 100, 333, 452, 567, 48, 100, 333, 452, 567, 48, 100, 333, 452, 567, 48, 100, 333, 452, 567, 48, 100, 333, 452, 567, 48, 100, 333, 452, 567, 48, 100, 333, 452, 567, 48, 100, 333, 452, 567, 48, 100, 333, 452, 567, 48, 100, 333, 452, 567, 48, 100, 333, 452, 567, 48, 100, 333, 452, 567, 48, 100, 333, 452, 567, 48, 100, 333, 452, 567, 48, 100, 333, 452, 567, 48, 100, 333, 452, 567, 48, 100, 333, 452, 567, 48, 100, 333, 452, 567, 48, 100, 333, 452, 567, 48, 100, 333, 452, 567, 48, 100, 333, 452, 567, 48, 100, 333, 452, 567, 48, 100, 333, 452, 567, 48, 100, 333, 452, 567, 48, 100, 333, 452, 567, 48, 100, 333, 452, 567, 48, 100, 333, 452, 567, 48, 100, 333, 452, 567, 48, 100, 333, 452, 567, 48, 100, 333, 452, 567, 48, 100, 333, 452, 567, 48, 100, 333, 452, 567, 48, 100, 333, 452, 567, 48, 100, 333, 452, 567, 48, 100, 333, 452, 567, 48, 100, 333, 452, 567, 48, 100, 333, 452, 567, 48, 100, 333, 452, 567, 48, 100, 333, 452, 567, 48, 100, 333, 452, 567, 48, 100, 333, 452, 567, 48, 100, 333, 452, 567, 48, 100, 333, 452, 567, 48, 100, 333, 452, 567, 48, 100, 333, 452, 567, 48, 100, 333, 452, 567, 48, 100, 333, 452, 567, 48, 100, 333, 452, 567, 48, 100, 333, 452, 567, 48, 100, 333, 452, 567, 48, 100, 333, 452, 567, 48, 100, 333, 452, 567, 48, 100, 333, 452, 567, 48, 100, 333, 452, 567, 48, 100, 333, 452, 567, 48, 100, 333, 452, 567, 48, 100, 333, 452, 567, 48, 100, 333, 452, 567, 48, 100, 333, 452, 567, 48, 100, 333, 452, 567, 48, 100, 333, 452, 567, 48, 100, 333, 452, 567, 48, 100, 333, 452, 567, 48, 100, 333, 452, 567, 48, 100, 333, 452, 567, 48, 100, 333, 452, 567, 48, 100, 333, 452, 567, 48, 100, 333, 452, 567, 48, 100, 333, 452, 567, 48, 100, 333, 452, 567, 48, 100, 333, 452, 567, 48, 100, 333, 452, 567, 48, 100, 333, 452, 567, 48, 100, 333, 452, 567, 48, 100, 333, 452, 567, 48, 100, 333, 452, 567, 48, 100, 333, 452, 567, 48, 100, 333, 452, 567, 48, 100, 333, 452, 567, 48, 100, 333, 452, 567, 48, 100, 333, 452, 567, 48, 100, 333, 452, 567, 48, 100, 333, 452, 567, 48, 100, 333, 452, 567, 48, 100, 333, 452, 567, 48, 100, 333, 452, 567, 48, 100, 333, 452, 567, 48, 100, 333, 452, 567, 48, 100, 333, 452, 567, 48, 100, 333, 452, 567, 48, 100, 333, 452, 567, 48, 100, 333, 452, 567, 48, 100, 333, 452, 567, 48, 100, 333, 452, 567, 48, 100, 333, 452, 567, 48, 100, 333, 452, 567, 48, 100, 333, 452, 567, 48, 100, 333, 452, 567, 48, 100, 333, 452, 567, 48, 100, 333, 452, 567, 48, 100, 333, 452, 567, 48, 100, 333, 452, 567, 48, 100, 333, 452, 567, 48, 100, 333, 452, 567, 48, 100, 333, 452, 567, 48, 100, 333, 452, 567, 48, 100, 333, 452, 567, 48, 100, 333, 452, 567, 48, 100, 333, 452, 567, 48, 100, 333, 452, 567, 48, 100, 333, 452, 567, 48, 100, 333, 452, 567, 48, 100, 333, 452, 567, 48, 100, 333, 452, 567, 48, 100, 333, 452, 567, 48, 100, 333, 452, 567, 48, 100, 333, 452, 567, 48, 100, 333, 452, 567, 48, 100, 333, 452, 567, 48, 100, 333, 452, 567, 48, 100, 333, 452, 567, 48, 100, 333, 452, 567, 48, 100, 333, 452, 567, 48, 100, 333, 452, 567, 48, 100, 333, 452, 567, 48, 100, 333, 452, 567, 48, 100, 333, 452, 567, 48, 100, 333, 452, 567, 48, 100, 333, 452, 567, 48, 100, 333, 452, 567, 48, 100, 333, 452, 567, 48, 100, 333, 452, 567, 48, 100, 333, 452, 567, 48, 100, 333, 452, 567, 48, 100, 333, 452, 567, 48, 100, 333, 452, 567, 48, 100, 333, 452, 567, 48, 100, 333, 452, 567, 48, 100, 333, 452, 567, 48, 100, 333, 452, 567, 48, 100, 333, 452, 567, 48, 100, 333, 452, 567, 48, 100, 333, 452, 567, 48, 100, 333, 452, 567, 48, 100, 333, 452, 567, 48, 100, 333, 452, 567, 48, 100, 333, 452, 567, 48, 100, 333, 452, 567, 48, 100, 333, 452, 567, 48, 100, 333, 452, 567, 48, 100, 333, 452, 567, 48, 100, 333, 452, 567, 48, 100, 333, 452, 567, 48, 100, 333, 452, 567, 48, 100, 333, 452, 567, 48, 100, 333, 452, 567, 48, 100, 333, 452, 567, 48, 100, 333, 452, 567, 48, 100, 333, 452, 567, 48, 100, 333, 452, 567, 48, 100, 333, 452, 567, 48, 100, 333, 452, 567, 48, 100, 333, 452, 567, 48, 100, 333, 452, 567, 48, 100, 333, 452, 567, 48, 100, 333, 452, 567, 48, 100, 333, 452, 567, 48, 100, 333, 452, 567, 48, 100, 333, 452, 567, 48, 100, 333, 452, 567, 48, 100, 333, 452, 567, 48, 100, 333, 452, 567, 48, 100, 333, 452, 567, 48, 100, 333, 452, 567, 48, 100, 333, 452, 567, 48, 100, 333, 452, 567, 48, 100, 333, 452, 567, 48, 100, 333, 452, 567, 48, 100, 333, 452, 567, 48, 100, 333, 452, 567, 48, 100, 333, 452, 567, 48, 100, 333, 452, 567, 48, 100, 333, 452, 567, 48, 100, 333, 452, 567, 48, 100, 333, 452, 567, 48, 100, 333, 452, 567, 48, 100, 333, 452, 567, 48, 100, 333, 452, 567, 48, 100, 333, 452, 567, 48, 100, 333, 452, 567, 48, 100, 333, 452, 567, 48, 100, 333, 452, 567, 48, 100, 333, 452, 567, 48, 100, 333, 452, 567, 48, 100, 333, 452, 567, 48, 100, 333, 452, 567, 48, 100, 333, 452, 567, 48, 100, 333, 452, 567, 48, 100, 333, 452, 567, 48, 100, 333, 452, 567, 48, 100, 333, 452, 567, 48, 100, 333, 452, 567, 48, 100, 333, 452, 567, 48, 100, 333, 452, 567, 48, 100, 333, 452, 567, 48, 100, 333, 452, 567, 48, 100, 333, 452, 567, 48, 100, 333, 452, 567, 48, 100, 333, 452, 567, 48, 100, 333, 452, 567, 48, 100, 333, 452, 567, 48, 100, 333, 452, 567, 48, 100, 333, 452, 567, 48, 100, 333, 452, 567, 48, 100, 333, 452, 567, 48, 100, 333, 452, 567, 48, 100, 333, 452, 567, 48, 100, 333, 452, 567, 48, 100, 333, 452, 567, 48, 100, 333, 452, 567, 48, 100, 333, 452, 567, 48, 100, 333, 452, 567, 48, 100, 333, 452, 567, 48, 100, 333, 452, 567, 48, 100, 333, 452, 567, 48, 100, 333, 452, 567, 48, 100, 333, 452, 567, 48, 100, 333, 452, 567, 48, 100, 333, 452, 567, 48, 100, 333, 452, 567, 48, 100, 333, 452, 567, 48, 100, 333, 452, 567, 48, 100, 333, 452, 567, 48, 100, 333, 452, 567, 48, 100, 333, 452, 567, 48, 100, 333, 452, 567, 48, 100, 333, 452, 567, 48, 100, 333, 452, 567, 48, 100, 333, 452, 567, 48, 100, 333, 452, 567, 48, 100, 333, 452, 567, 48, 100, 333, 452, 567, 48, 100, 333, 452, 567, 48, 100, 333, 452, 567, 48, 100, 333, 452, 567, 48, 100, 333, 452, 567, 48, 100, 333, 452, 567, 48, 100, 333, 452, 567, 48, 100, 333, 452, 567, 48, 100, 333, 452, 567, 48, 100, 333, 452, 567, 48, 100, 333, 452, 567, 48, 100, 333, 452, 567, 48, 100, 333, 452, 567, 48, 100, 333, 452, 567, 48, 100, 333, 452, 567, 48, 100, 333, 452, 567, 48, 100, 333, 452, 567, 48, 100, 333, 452, 567, 48, 100, 333, 452, 567, 48, 100, 333, 452, 567, 48, 100, 333, 452, 567, 48, 100, 333, 452, 567, 48, 100, 333, 452, 567, 48, 100, 333, 452, 567, 48, 100, 333, 452, 567, 48, 100, 333, 452, 567, 48, 100, 333, 452, 567, 48, 100, 333, 452, 567, 48, 100, 333, 452, 567, 48, 100, 333, 452, 567, 48, 100, 333, 452, 567, 48, 100, 333, 452, 567, 48, 100, 333, 452, 567, 48, 100, 333, 452, 567, 48, 100, 333, 452, 567, 48, 100, 333, 452, 567, 48, 100, 333, 452, 567, 48, 100, 333, 452, 567, 48, 100, 333, 452, 567, 48, 100, 333, 452, 567, 48, 100, 333, 452, 567, 48, 100, 333, 452, 567, 48, 100, 333, 452, 567, 48, 100, 333, 452, 567, 48, 100, 333, 452, 567, 48, 100, 333, 452, 567, 48, 100, 333, 452, 567, 48, 100, 333, 452, 567, 48, 100, 333, 452, 567, 48, 100, 333, 452, 567, 48, 100, 333, 452, 567, 48, 100, 333, 452, 567, 48, 100, 333, 452, 567, 48, 100, 333, 452, 567, 48, 100, 333, 452, 567, 48, 100, 333, 452, 567, 48, 100, 333, 452, 567, 48, 100, 333, 452, 567, 48, 100, 333, 452, 567, 48, 100, 333, 452, 567, 48, 100, 333, 452, 567, 48, 100, 333, 452, 567, 48, 100, 333, 452, 567, 48, 100, 333, 452, 567, 48, 100, 333, 452, 567, 48, 100, 333, 452, 567, 48, 100, 333, 452, 567, 48, 100, 333, 452, 567, 48, 100, 333, 452, 567, 48, 100, 333, 452, 567, 48, 100, 333, 452, 567, 48, 100, 333, 452, 567, 48, 100, 333, 452, 567, 48, 100, 333, 452, 567, 48, 100, 333, 452, 567, 48, 100, 333, 452, 567, 48, 100, 333, 452, 567, 48, 100, 333, 452, 567, 48, 100, 333, 452, 567, 48, 100, 333, 452, 567, 48, 100, 333, 452, 567, 48, 100, 333, 452, 567, 48, 100, 333, 452, 567, 48, 100, 333, 452, 567, 48, 100, 333, 452, 567, 48, 100, 333, 452, 567, 48, 100, 333, 452, 567, 48, 100, 333, 452, 567, 48, 100, 333, 452, 567, 48, 100, 333, 452, 567, 48, 100, 333, 452, 567, 48, 100, 333, 452, 567, 48, 100, 333, 452, 567, 48, 100, 333, 452, 567, 48, 100, 333, 452, 567, 48, 100, 333, 452, 567, 48, 100, 333, 452, 567, 48, 100, 333, 452, 567, 48, 100, 333, 452, 567, 48, 100, 333, 452, 567, 48, 100, 333, 452, 567, 48, 100, 333, 452, 567, 48, 100, 333, 452, 567, 48, 100, 333, 452, 567, 48, 100, 333, 452, 567, 48, 100, 333, 452, 567, 48, 100, 333, 452, 567, 48, 100, 333, 452, 567, 48, 100, 333, 452, 567, 48, 100, 333, 452, 567, 48, 100, 333, 452, 567, 48, 100, 333, 452, 567, 48, 100, 333, 452, 567, 48, 100, 333, 452, 567, 48, 100, 333, 452, 567, 48, 100, 333, 452, 567, 48, 100, 333, 452, 567, 48, 100, 333, 452, 567, 48, 100, 333, 452, 567, 48, 100, 333, 452, 567, 48, 100, 333, 452, 567, 48, 100, 333, 452, 567, 48, 100, 333, 452, 567, 48, 100, 333, 452, 567, 48, 100, 333, 452, 567, 48, 100, 333, 452, 567, 48, 100, 333, 452, 567, 48, 100, 333, 452, 567, 48, 100, 333, 452, 567, 48, 100, 333, 452, 567, 48, 100, 333, 452, 567, 48, 100, 333, 452, 567, 48, 100, 333, 452, 567, 48, 100, 333, 452, 567, 48, 100, 333, 452, 567, 48, 100, 333, 452, 567, 48, 100, 333, 452, 567, 48, 100, 333, 452, 567, 48, 100, 333, 452, 567, 48, 100, 333, 452, 567, 48, 100, 333, 452, 567, 48, 100, 333, 452, 567, 48, 100, 333, 452, 567, 48, 100, 333, 452, 567, 48, 100, 333, 452, 567, 48, 100, 333, 452, 567, 48, 100, 333, 452, 567, 48, 100, 333, 452, 567, 48, 100, 333, 452, 567, 48, 100, 333, 452, 567, 48, 100, 333, 452, 567, 48, 100, 333, 452, 567, 48, 100, 333, 452, 567, 48, 100, 333, 452, 567, 48, 100, 333, 452, 567, 48, 100, 333, 452, 567, 48, 100, 333, 452, 567, 48, 100, 333, 452, 567, 48, 100, 333, 452, 567, 48, 100, 333, 452, 567, 48, 100, 333, 452, 567, 48, 100, 333, 452, 567, 48, 100, 333, 452, 567, 48, 100, 333, 452, 567, 48, 100, 333, 452, 567, 48, 100, 333, 452, 567, 48, 100, 333, 452, 567, 48, 100, 333, 452, 567, 48, 100, 333, 452, 567, 48, 100, 333, 452, 567, 48, 100, 333, 452, 567, 48, 100, 333, 452, 567, 48, 100, 333, 452, 567, 48, 100, 333, 452, 567, 48, 100, 333, 452, 567, 48, 100, 333, 452, 567, 48, 100, 333, 452, 567, 48, 100, 333, 452, 567, 48, 100, 333, 452, 567, 48, 100, 333, 452, 567, 48, 100, 333, 452, 567, 48, 100, 333, 452, 567, 48, 100, 333, 452, 567, 48, 100, 333, 452, 567, 48, 100, 333, 452, 567, 48, 100, 333, 452, 567, 48, 100, 333, 452, 567, 48, 100, 333, 452, 567, 48, 100, 333, 452, 567, 48, 100, 333, 452, 567, 48, 100, 333, 452, 567, 48, 100, 333, 452, 567, 48, 100, 333, 452, 567, 48, 100, 333, 452, 567, 48, 100, 333, 452, 567, 48, 100, 333, 452, 567, 48, 100, 333, 452, 567, 48, 100, 333, 452, 567, 48, 100, 333, 452, 567, 48, 100, 333, 452, 567, 48, 100, 333, 452, 567, 48, 100, 333, 452, 567, 48, 100, 333, 452, 567, 48, 100, 333, 452, 567, 48, 100, 333, 452, 567, 48, 100, 333, 452, 567, 48, 100, 333, 452, 567, 48, 100, 333, 452, 567, 48, 100, 333, 452, 567, 48, 100, 333, 452, 567, 48, 100, 333, 452, 567, 48, 100, 333, 452, 567, 48, 100, 333, 452, 567, 48, 100, 333, 452, 567, 48, 100, 333, 452, 567, 48, 100, 333, 452, 567, 48, 100, 333, 452, 567, 48, 100, 333, 452, 567, 48, 100, 333, 452, 567, 48, 100, 333, 452, 567, 48, 100, 333, 452, 567, 50, 1010, 55, 341, 132, 50, 1010, 55, 341, 132, 50, 1010, 55, 341, 132, 50, 1010, 55, 341, 132, 50, 1010, 55, 341, 132, 50, 1010, 55, 341, 132, 50, 1010, 55, 341, 132, 50, 1010, 55, 341, 132, 50, 1010, 55, 341, 132, 50, 1010, 55, 341, 132, 50, 1010, 55, 341, 132, 50, 1010, 55, 341, 132, 50, 1010, 55, 341, 132, 50, 1010, 55, 341, 132, 50, 1010, 55, 341, 132, 50, 1010, 55, 341, 132, 50, 1010, 55, 341, 132, 50, 1010, 55, 341, 132, 50, 1010, 55, 341, 132, 50, 1010, 55, 341, 132, 50, 1010, 55, 341, 132, 50, 1010, 55, 341, 132, 50, 1010, 55, 341, 132, 50, 1010, 55, 341, 132, 50, 1010, 55, 341, 132, 50, 1010, 55, 341, 132, 50, 1010, 55, 341, 132, 50, 1010, 55, 341, 132, 50, 1010, 55, 341, 132, 50, 1010, 55, 341, 132, 50, 1010, 55, 341, 132, 50, 1010, 55, 341, 132, 50, 1010, 55, 341, 132, 50, 1010, 55, 341, 132, 50, 1010, 55, 341, 132, 50, 1010, 55, 341, 132, 50, 1010, 55, 341, 132, 50, 1010, 55, 341, 132, 50, 1010, 55, 341, 132, 50, 1010, 55, 341, 132, 50, 1010, 55, 341, 132, 50, 1010, 55, 341, 132, 50, 1010, 55, 341, 132, 50, 1010, 55, 341, 132, 50, 1010, 55, 341, 132, 50, 1010, 55, 341, 132, 50, 1010, 55, 341, 132, 50, 1010, 55, 341, 132, 50, 1010, 55, 341, 132, 50, 1010, 55, 341, 132, 50, 1010, 55, 341, 132, 50, 1010, 55, 341, 132, 50, 1010, 55, 341, 132, 50, 1010, 55, 341, 132, 50, 1010, 55, 341, 132, 50, 1010, 55, 341, 132, 50, 1010, 55, 341, 132, 50, 1010, 55, 341, 132, 50, 1010, 55, 341, 132, 50, 1010, 55, 341, 132, 50, 1010, 55, 341, 132, 50, 1010, 55, 341, 132, 50, 1010, 55, 341, 132, 50, 1010, 55, 341, 132, 50, 1010, 55, 341, 132, 50, 1010, 55, 341, 132, 50, 1010, 55, 341, 132, 50, 1010, 55, 341, 132, 50, 1010, 55, 341, 132, 50, 1010, 55, 341, 132, 50, 1010, 55, 341, 132, 50, 1010, 55, 341, 132, 50, 1010, 55, 341, 132, 50, 1010, 55, 341, 132, 50, 1010, 55, 341, 132, 50, 1010, 55, 341, 132, 50, 1010, 55, 341, 132, 50, 1010, 55, 341, 132, 50, 1010, 55, 341, 132, 50, 1010, 55, 341, 132, 50, 1010, 55, 341, 132, 50, 1010, 55, 341, 132, 50, 1010, 55, 341, 132, 50, 1010, 55, 341, 132, 50, 1010, 55, 341, 132, 50, 1010, 55, 341, 132, 50, 1010, 55, 341, 132, 50, 1010, 55, 341, 132, 50, 1010, 55, 341, 132, 50, 1010, 55, 341, 132, 50, 1010, 55, 341, 132, 50, 1010, 55, 341, 132, 50, 1010, 55, 341, 132, 50, 1010, 55, 341, 132, 50, 1010, 55, 341, 132, 50, 1010, 55, 341, 132, 50, 1010, 55, 341, 132, 50, 1010, 55, 341, 132, 50, 1010, 55, 341, 132, 50, 1010, 55, 341, 132, 50, 1010, 55, 341, 132, 50, 1010, 55, 341, 132, 50, 1010, 55, 341, 132, 50, 1010, 55, 341, 132, 50, 1010, 55, 341, 132, 50, 1010, 55, 341, 132, 50, 1010, 55, 341, 132, 50, 1010, 55, 341, 132, 50, 1010, 55, 341, 132, 50, 1010, 55, 341, 132, 50, 1010, 55, 341, 132, 50, 1010, 55, 341, 132, 50, 1010, 55, 341, 132, 50, 1010, 55, 341, 132, 50, 1010, 55, 341, 132, 50, 1010, 55, 341, 132, 50, 1010, 55, 341, 132, 50, 1010, 55, 341, 132, 50, 1010, 55, 341, 132, 50, 1010, 55, 341, 132, 50, 1010, 55, 341, 132, 50, 1010, 55, 341, 132, 50, 1010, 55, 341, 132, 50, 1010, 55, 341, 132, 50, 1010, 55, 341, 132, 50, 1010, 55, 341, 132, 50, 1010, 55, 341, 132, 50, 1010, 55, 341, 132, 50, 1010, 55, 341, 132, 50, 1010, 55, 341, 132, 50, 1010, 55, 341, 132, 50, 1010, 55, 341, 132, 50, 1010, 55, 341, 132, 50, 1010, 55, 341, 132, 50, 1010, 55, 341, 132, 50, 1010, 55, 341, 132, 50, 1010, 55, 341, 132, 50, 1010, 55, 341, 132, 50, 1010, 55, 341, 132, 50, 1010, 55, 341, 132, 50, 1010, 55, 341, 132, 50, 1010, 55, 341, 132, 50, 1010, 55, 341, 132, 50, 1010, 55, 341, 132, 50, 1010, 55, 341, 132, 50, 1010, 55, 341, 132, 50, 1010, 55, 341, 132, 50, 1010, 55, 341, 132, 50, 1010, 55, 341, 132, 50, 1010, 55, 341, 132, 50, 1010, 55, 341, 132, 50, 1010, 55, 341, 132, 50, 1010, 55, 341, 132, 50, 1010, 55, 341, 132, 50, 1010, 55, 341, 132, 50, 1010, 55, 341, 132, 50, 1010, 55, 341, 132, 50, 1010, 55, 341, 132, 50, 1010, 55, 341, 132, 50, 1010, 55, 341, 132, 50, 1010, 55, 341, 132, 50, 1010, 55, 341, 132, 50, 1010, 55, 341, 132, 50, 1010, 55, 341, 132, 50, 1010, 55, 341, 132, 50, 1010, 55, 341, 132, 50, 1010, 55, 341, 132, 50, 1010, 55, 341, 132, 50, 1010, 55, 341, 132, 50, 1010, 55, 341, 132, 50, 1010, 55, 341, 132, 50, 1010, 55, 341, 132, 50, 1010, 55, 341, 132, 50, 1010, 55, 341, 132, 50, 1010, 55, 341, 132, 50, 1010, 55, 341, 132, 50, 1010, 55, 341, 132, 50, 1010, 55, 341, 132, 50, 1010, 55, 341, 132, 50, 1010, 55, 341, 132, 50, 1010, 55, 341, 132, 50, 1010, 55, 341, 132, 50, 1010, 55, 341, 132, 50, 1010, 55, 341, 132, 50, 1010, 55, 341, 132, 50, 1010, 55, 341, 132, 50, 1010, 55, 341, 132, 50, 1010, 55, 341, 132, 50, 1010, 55, 341, 132, 50, 1010, 55, 341, 132, 50, 1010, 55, 341, 132, 50, 1010, 55, 341, 132, 50, 1010, 55, 341, 132, 50, 1010, 55, 341, 132, 50, 1010, 55, 341, 132, 50, 1010, 55, 341, 132, 50, 1010, 55, 341, 132, 50, 1010, 55, 341, 132, 50, 1010, 55, 341, 132, 50, 1010, 55, 341, 132, 50, 1010, 55, 341, 132, 50, 1010, 55, 341, 132, 50, 1010, 55, 341, 132, 50, 1010, 55, 341, 132, 50, 1010, 55, 341, 132, 50, 1010, 55, 341, 132, 50, 1010, 55, 341, 132, 50, 1010, 55, 341, 132, 50, 1010, 55, 341, 132, 50, 1010, 55, 341, 132, 50, 1010, 55, 341, 132, 50, 1010, 55, 341, 132, 50, 1010, 55, 341, 132, 50, 1010, 55, 341, 132, 50, 1010, 55, 341, 132, 50, 1010, 55, 341, 132, 50, 1010, 55, 341, 132, 50, 1010, 55, 341, 132, 50, 1010, 55, 341, 132, 50, 1010, 55, 341, 132, 50, 1010, 55, 341, 132, 50, 1010, 55, 341, 132, 50, 1010, 55, 341, 132, 50, 1010, 55, 341, 132, 50, 1010, 55, 341, 132, 50, 1010, 55, 341, 132, 50, 1010, 55, 341, 132, 50, 1010, 55, 341, 132, 50, 1010, 55, 341, 132, 50, 1010, 55, 341, 132, 50, 1010, 55, 341, 132, 50, 1010, 55, 341, 132, 50, 1010, 55, 341, 132, 50, 1010, 55, 341, 132, 50, 1010, 55, 341, 132, 50, 1010, 55, 341, 132, 50, 1010, 55, 341, 132, 50, 1010, 55, 341, 132, 50, 1010, 55, 341, 132, 50, 1010, 55, 341, 132, 50, 1010, 55, 341, 132, 50, 1010, 55, 341, 132, 50, 1010, 55, 341, 132, 50, 1010, 55, 341, 132, 50, 1010, 55, 341, 132, 50, 1010, 55, 341, 132, 50, 1010, 55, 341, 132, 50, 1010, 55, 341, 132, 50, 1010, 55, 341, 132, 50, 1010, 55, 341, 132, 50, 1010, 55, 341, 132, 50, 1010, 55, 341, 132, 50, 1010, 55, 341, 132, 50, 1010, 55, 341, 132, 50, 1010, 55, 341, 132, 50, 1010, 55, 341, 132, 50, 1010, 55, 341, 132, 50, 1010, 55, 341, 132, 50, 1010, 55, 341, 132, 50, 1010, 55, 341, 132, 50, 1010, 55, 341, 132, 50, 1010, 55, 341, 132, 50, 1010, 55, 341, 132, 50, 1010, 55, 341, 132, 50, 1010, 55, 341, 132, 50, 1010, 55, 341, 132, 50, 1010, 55, 341, 132, 50, 1010, 55, 341, 132, 50, 1010, 55, 341, 132, 50, 1010, 55, 341, 132, 50, 1010, 55, 341, 132, 50, 1010, 55, 341, 132, 50, 1010, 55, 341, 132, 50, 1010, 55, 341, 132, 50, 1010, 55, 341, 132, 50, 1010, 55, 341, 132, 50, 1010, 55, 341, 132, 50, 1010, 55, 341, 132, 50, 1010, 55, 341, 132, 50, 1010, 55, 341, 132, 50, 1010, 55, 341, 132, 50, 1010, 55, 341, 132, 50, 1010, 55, 341, 132, 50, 1010, 55, 341, 132, 50, 1010, 55, 341, 132, 50, 1010, 55, 341, 132, 50, 1010, 55, 341, 132, 50, 1010, 55, 341, 132, 50, 1010, 55, 341, 132, 50, 1010, 55, 341, 132, 50, 1010, 55, 341, 132, 50, 1010, 55, 341, 132, 50, 1010, 55, 341, 132, 50, 1010, 55, 341, 132, 50, 1010, 55, 341, 132, 50, 1010, 55, 341, 132, 50, 1010, 55, 341, 132, 50, 1010, 55, 341, 132, 50, 1010, 55, 341, 132, 50, 1010, 55, 341, 132, 50, 1010, 55, 341, 132, 50, 1010, 55, 341, 132, 50, 1010, 55, 341, 132, 50, 1010, 55, 341, 132, 50, 1010, 55, 341, 132, 50, 1010, 55, 341, 132, 50, 1010, 55, 341, 132, 50, 1010, 55, 341, 132, 50, 1010, 55, 341, 132, 50, 1010, 55, 341, 132, 50, 1010, 55, 341, 132, 50, 1010, 55, 341, 132, 50, 1010, 55, 341, 132, 50, 1010, 55, 341, 132, 50, 1010, 55, 341, 132, 50, 1010, 55, 341, 132, 50, 1010, 55, 341, 132, 50, 1010, 55, 341, 132, 50, 1010, 55, 341, 132, 50, 1010, 55, 341, 132, 50, 1010, 55, 341, 132, 50, 1010, 55, 341, 132, 50, 1010, 55, 341, 132, 50, 1010, 55, 341, 132, 50, 1010, 55, 341, 132, 50, 1010, 55, 341, 132, 50, 1010, 55, 341, 132, 50, 1010, 55, 341, 132, 50, 1010, 55, 341, 132, 50, 1010, 55, 341, 132, 50, 1010, 55, 341, 132, 50, 1010, 55, 341, 132, 50, 1010, 55, 341, 132, 50, 1010, 55, 341, 132, 50, 1010, 55, 341, 132, 50, 1010, 55, 341, 132, 50, 1010, 55, 341, 132, 50, 1010, 55, 341, 132, 50, 1010, 55, 341, 132, 50, 1010, 55, 341, 132, 50, 1010, 55, 341, 132, 50, 1010, 55, 341, 132, 50, 1010, 55, 341, 132, 50, 1010, 55, 341, 132, 50, 1010, 55, 341, 132, 50, 1010, 55, 341, 132, 50, 1010, 55, 341, 132, 50, 1010, 55, 341, 132, 50, 1010, 55, 341, 132, 50, 1010, 55, 341, 132, 50, 1010, 55, 341, 132, 50, 1010, 55, 341, 132, 50, 1010, 55, 341, 132, 50, 1010, 55, 341, 132, 50, 1010, 55, 341, 132, 50, 1010, 55, 341, 132, 50, 1010, 55, 341, 132, 50, 1010, 55, 341, 132, 50, 1010, 55, 341, 132, 50, 1010, 55, 341, 132, 50, 1010, 55, 341, 132, 50, 1010, 55, 341, 132, 50, 1010, 55, 341, 132, 50, 1010, 55, 341, 132, 50, 1010, 55, 341, 132, 50, 1010, 55, 341, 132, 50, 1010, 55, 341, 132, 50, 1010, 55, 341, 132, 50, 1010, 55, 341, 132, 50, 1010, 55, 341, 132, 50, 1010, 55, 341, 132, 50, 1010, 55, 341, 132, 50, 1010, 55, 341, 132, 50, 1010, 55, 341, 132, 50, 1010, 55, 341, 132, 50, 1010, 55, 341, 132, 50, 1010, 55, 341, 132, 50, 1010, 55, 341, 132, 50, 1010, 55, 341, 132, 50, 1010, 55, 341, 132, 50, 1010, 55, 341, 132, 50, 1010, 55, 341, 132, 50, 1010, 55, 341, 132, 50, 1010, 55, 341, 132, 50, 1010, 55, 341, 132, 50, 1010, 55, 341, 132, 50, 1010, 55, 341, 132, 50, 1010, 55, 341, 132, 50, 1010, 55, 341, 132, 50, 1010, 55, 341, 132, 50, 1010, 55, 341, 132, 50, 1010, 55, 341, 132, 50, 1010, 55, 341, 132, 50, 1010, 55, 341, 132, 50, 1010, 55, 341, 132, 50, 1010, 55, 341, 132, 50, 1010, 55, 341, 132, 50, 1010, 55, 341, 132, 50, 1010, 55, 341, 132, 50, 1010, 55, 341, 132, 50, 1010, 55, 341, 132, 50, 1010, 55, 341, 132, 50, 1010, 55, 341, 132, 50, 1010, 55, 341, 132, 50, 1010, 55, 341, 132, 50, 1010, 55, 341, 132, 50, 1010, 55, 341, 132, 50, 1010, 55, 341, 132, 50, 1010, 55, 341, 132, 50, 1010, 55, 341, 132, 50, 1010, 55, 341, 132, 50, 1010, 55, 341, 132, 50, 1010, 55, 341, 132, 50, 1010, 55, 341, 132, 50, 1010, 55, 341, 132, 50, 1010, 55, 341, 132, 50, 1010, 55, 341, 132, 50, 1010, 55, 341, 132, 50, 1010, 55, 341, 132, 50, 1010, 55, 341, 132, 50, 1010, 55, 341, 132, 50, 1010, 55, 341, 132, 50, 1010, 55, 341, 132, 50, 1010, 55, 341, 132, 50, 1010, 55, 341, 132, 50, 1010, 55, 341, 132, 50, 1010, 55, 341, 132, 50, 1010, 55, 341, 132, 50, 1010, 55, 341, 132, 50, 1010, 55, 341, 132, 50, 1010, 55, 341, 132, 50, 1010, 55, 341, 132, 50, 1010, 55, 341, 132, 50, 1010, 55, 341, 132, 50, 1010, 55, 341, 132, 50, 1010, 55, 341, 132, 50, 1010, 55, 341, 132, 50, 1010, 55, 341, 132, 50, 1010, 55, 341, 132, 50, 1010, 55, 341, 132, 50, 1010, 55, 341, 132, 50, 1010, 55, 341, 132, 50, 1010, 55, 341, 132, 50, 1010, 55, 341, 132, 50, 1010, 55, 341, 132, 50, 1010, 55, 341, 132, 50, 1010, 55, 341, 132, 50, 1010, 55, 341, 132, 50, 1010, 55, 341, 132, 50, 1010, 55, 341, 132, 50, 1010, 55, 341, 132, 50, 1010, 55, 341, 132, 50, 1010, 55, 341, 132, 50, 1010, 55, 341, 132, 50, 1010, 55, 341, 132, 50, 1010, 55, 341, 132, 50, 1010, 55, 341, 132, 50, 1010, 55, 341, 132, 50, 1010, 55, 341, 132, 50, 1010, 55, 341, 132, 50, 1010, 55, 341, 132, 50, 1010, 55, 341, 132, 50, 1010, 55, 341, 132, 50, 1010, 55, 341, 132, 50, 1010, 55, 341, 132, 50, 1010, 55, 341, 132, 50, 1010, 55, 341, 132, 50, 1010, 55, 341, 132, 50, 1010, 55, 341, 132, 50, 1010, 55, 341, 132, 50, 1010, 55, 341, 132, 50, 1010, 55, 341, 132, 50, 1010, 55, 341, 132, 50, 1010, 55, 341, 132, 50, 1010, 55, 341, 132, 50, 1010, 55, 341, 132, 50, 1010, 55, 341, 132, 50, 1010, 55, 341, 132, 50, 1010, 55, 341, 132, 50, 1010, 55, 341, 132, 50, 1010, 55, 341, 132, 50, 1010, 55, 341, 132, 50, 1010, 55, 341, 132, 50, 1010, 55, 341, 132, 50, 1010, 55, 341, 132, 50, 1010, 55, 341, 132, 50, 1010, 55, 341, 132, 50, 1010, 55, 341, 132, 50, 1010, 55, 341, 132, 50, 1010, 55, 341, 132, 50, 1010, 55, 341, 132, 50, 1010, 55, 341, 132, 50, 1010, 55, 341, 132, 50, 1010, 55, 341, 132, 50, 1010, 55, 341, 132, 50, 1010, 55, 341, 132, 50, 1010, 55, 341, 132, 50, 1010, 55, 341, 132, 50, 1010, 55, 341, 132, 50, 1010, 55, 341, 132, 50, 1010, 55, 341, 132, 50, 1010, 55, 341, 132, 50, 1010, 55, 341, 132, 50, 1010, 55, 341, 132, 50, 1010, 55, 341, 132, 50, 1010, 55, 341, 132, 50, 1010, 55, 341, 132, 50, 1010, 55, 341, 132, 50, 1010, 55, 341, 132, 50, 1010, 55, 341, 132, 50, 1010, 55, 341, 132, 50, 1010, 55, 341, 132, 50, 1010, 55, 341, 132, 50, 1010, 55, 341, 132, 50, 1010, 55, 341, 132, 50, 1010, 55, 341, 132, 50, 1010, 55, 341, 132, 50, 1010, 55, 341, 132, 50, 1010, 55, 341, 132, 50, 1010, 55, 341, 132, 50, 1010, 55, 341, 132, 50, 1010, 55, 341, 132, 50, 1010, 55, 341, 132, 50, 1010, 55, 341, 132, 50, 1010, 55, 341, 132, 50, 1010, 55, 341, 132, 50, 1010, 55, 341, 132, 50, 1010, 55, 341, 132, 50, 1010, 55, 341, 132, 50, 1010, 55, 341, 132, 50, 1010, 55, 341, 132, 50, 1010, 55, 341, 132, 50, 1010, 55, 341, 132, 50, 1010, 55, 341, 132, 50, 1010, 55, 341, 132, 50, 1010, 55, 341, 132, 50, 1010, 55, 341, 132, 50, 1010, 55, 341, 132, 50, 1010, 55, 341, 132, 50, 1010, 55, 341, 132, 50, 1010, 55, 341, 132, 50, 1010, 55, 341, 132, 50, 1010, 55, 341, 132, 50, 1010, 55, 341, 132, 50, 1010, 55, 341, 132, 50, 1010, 55, 341, 132, 50, 1010, 55, 341, 132, 50, 1010, 55, 341, 132, 50, 1010, 55, 341, 132, 50, 1010, 55, 341, 132, 50, 1010, 55, 341, 132, 50, 1010, 55, 341, 132, 50, 1010, 55, 341, 132, 50, 1010, 55, 341, 132, 50, 1010, 55, 341, 132, 50, 1010, 55, 341, 132, 50, 1010, 55, 341, 132, 50, 1010, 55, 341, 132, 50, 1010, 55, 341, 132, 50, 1010, 55, 341, 132, 50, 1010, 55, 341, 132, 50, 1010, 55, 341, 132, 50, 1010, 55, 341, 132, 50, 1010, 55, 341, 132, 50, 1010, 55, 341, 132, 50, 1010, 55, 341, 132, 50, 1010, 55, 341, 132, 50, 1010, 55, 341, 132, 50, 1010, 55, 341, 132, 50, 1010, 55, 341, 132, 50, 1010, 55, 341, 132, 50, 1010, 55, 341, 132, 50, 1010, 55, 341, 132, 50, 1010, 55, 341, 132, 50, 1010, 55, 341, 132, 50, 1010, 55, 341, 132, 50, 1010, 55, 341, 132, 50, 1010, 55, 341, 132, 50, 1010, 55, 341, 132, 50, 1010, 55, 341, 132, 50, 1010, 55, 341, 132, 50, 1010, 55, 341, 132, 50, 1010, 55, 341, 132, 50, 1010, 55, 341, 132, 50, 1010, 55, 341, 132, 50, 1010, 55, 341, 132, 50, 1010, 55, 341, 132, 50, 1010, 55, 341, 132, 50, 1010, 55, 341, 132, 50, 1010, 55, 341, 132, 50, 1010, 55, 341, 132, 50, 1010, 55, 341, 132, 50, 1010, 55, 341, 132, 50, 1010, 55, 341, 132, 50, 1010, 55, 341, 132, 50, 1010, 55, 341, 132, 50, 1010, 55, 341, 132, 50, 1010, 55, 341, 132, 50, 1010, 55, 341, 132, 50, 1010, 55, 341, 132, 50, 1010, 55, 341, 132, 50, 1010, 55, 341, 132, 50, 1010, 55, 341, 132, 50, 1010, 55, 341, 132, 50, 1010, 55, 341, 132, 50, 1010, 55, 341, 132, 50, 1010, 55, 341, 132, 50, 1010, 55, 341, 132, 50, 1010, 55, 341, 132, 50, 1010, 55, 341, 132, 50, 1010, 55, 341, 132, 50, 1010, 55, 341, 132, 50, 1010, 55, 341, 132, 50, 1010, 55, 341, 132, 50, 1010, 55, 341, 132, 50, 1010, 55, 341, 132, 50, 1010, 55, 341, 132, 50, 1010, 55, 341, 132, 50, 1010, 55, 341, 132, 50, 1010, 55, 341, 132, 50, 1010, 55, 341, 132, 50, 1010, 55, 341, 132, 50, 1010, 55, 341, 132, 50, 1010, 55, 341, 132, 50, 1010, 55, 341, 132, 50, 1010, 55, 341, 132, 50, 1010, 55, 341, 132, 50, 1010, 55, 341, 132, 50, 1010, 55, 341, 132, 50, 1010, 55, 341, 132, 50, 1010, 55, 341, 132, 50, 1010, 55, 341, 132, 50, 1010, 55, 341, 132, 50, 1010, 55, 341, 132, 50, 1010, 55, 341, 132, 50, 1010, 55, 341, 132, 50, 1010, 55, 341, 132, 50, 1010, 55, 341, 132, 50, 1010, 55, 341, 132, 50, 1010, 55, 341, 132, 50, 1010, 55, 341, 132, 50, 1010, 55, 341, 132, 50, 1010, 55, 341, 132, 50, 1010, 55, 341, 132, 50, 1010, 55, 341, 132, 50, 1010, 55, 341, 132, 50, 1010, 55, 341, 132, 50, 1010, 55, 341, 132, 50, 1010, 55, 341, 132, 50, 1010, 55, 341, 132, 50, 1010, 55, 341, 132, 50, 1010, 55, 341, 132, 50, 1010, 55, 341, 132, 50, 1010, 55, 341, 132, 50, 1010, 55, 341, 132, 50, 1010, 55, 341, 132, 50, 1010, 55, 341, 132, 50, 1010, 55, 341, 132, 50, 1010, 55, 341, 132, 50, 1010, 55, 341, 132, 50, 1010, 55, 341, 132, 50, 1010, 55, 341, 132, 50, 1010, 55, 341, 132, 50, 1010, 55, 341, 132, 50, 1010, 55, 341, 132, 50, 1010, 55, 341, 132, 50, 1010, 55, 341, 132, 50, 1010, 55, 341, 132, 50, 1010, 55, 341, 132, 50, 1010, 55, 341, 132, 50, 1010, 55, 341, 132, 50, 1010, 55, 341, 132, 50, 1010, 55, 341, 132, 50, 1010, 55, 341, 132, 50, 1010, 55, 341, 132, 50, 1010, 55, 341, 132, 50, 1010, 55, 341, 132, 50, 1010, 55, 341, 132, 50, 1010, 55, 341, 132, 50, 1010, 55, 341, 132, 50, 1010, 55, 341, 132, 50, 1010, 55, 341, 132, 50, 1010, 55, 341, 132, 50, 1010, 55, 341, 132, 50, 1010, 55, 341, 132, 50, 1010, 55, 341, 132, 50, 1010, 55, 341, 132, 50, 1010, 55, 341, 132, 50, 1010, 55, 341, 132, 50, 1010, 55, 341, 132, 50, 1010, 55, 341, 132, 50, 1010, 55, 341, 132, 50, 1010, 55, 341, 132, 50, 1010, 55, 341, 132, 50, 1010, 55, 341, 132, 50, 1010, 55, 341, 132, 50, 1010, 55, 341, 132, 50, 1010, 55, 341, 132, 50, 1010, 55, 341, 132, 50, 1010, 55, 341, 132, 50, 1010, 55, 341, 132, 50, 1010, 55, 341, 132, 50, 1010, 55, 341, 132, 50, 1010, 55, 341, 132, 50, 1010, 55, 341, 132, 50, 1010, 55, 341, 132, 50, 1010, 55, 341, 132, 50, 1010, 55, 341, 132, 50, 1010, 55, 341, 132, 50, 1010, 55, 341, 132, 50, 1010, 55, 341, 132, 50, 1010, 55, 341, 132, 50, 1010, 55, 341, 132, 50, 1010, 55, 341, 132, 50, 1010, 55, 341, 132, 50, 1010, 55, 341, 132, 50, 1010, 55, 341, 132, 50, 1010, 55, 341, 132, 50, 1010, 55, 341, 132, 50, 1010, 55, 341, 132, 50, 1010, 55, 341, 132, 50, 1010, 55, 341, 132, 50, 1010, 55, 341, 132, 50, 1010, 55, 341, 132, 50, 1010, 55, 341, 132, 50, 1010, 55, 341, 132, 50, 1010, 55, 341, 132, 50, 1010, 55, 341, 132, 50, 1010, 55, 341, 132, 50, 1010, 55, 341, 132, 50, 1010, 55, 341, 132, 50, 1010, 55, 341, 132, 50, 1010, 55, 341, 132, 50, 1010, 55, 341, 132, 50, 1010, 55, 341, 132, 50, 1010, 55, 341, 132, 50, 1010, 55, 341, 132, 50, 1010, 55, 341, 132, 50, 1010, 55, 341, 132, 50, 1010, 55, 341, 132, 50, 1010, 55, 341, 132, 50, 1010, 55, 341, 132, 50, 1010, 55, 341, 132, 50, 1010, 55, 341, 132, 50, 1010, 55, 341, 132, 50, 1010, 55, 341, 132, 50, 1010, 55, 341, 132, 50, 1010, 55, 341, 132, 50, 1010, 55, 341, 132, 50, 1010, 55, 341, 132, 50, 1010, 55, 341, 132, 50, 1010, 55, 341, 132, 50, 1010, 55, 341, 132, 50, 1010, 55, 341, 132, 50, 1010, 55, 341, 132, 50, 1010, 55, 341, 132, 50, 1010, 55, 341, 132, 50, 1010, 55, 341, 132, 50, 1010, 55, 341, 132, 50, 1010, 55, 341, 132, 50, 1010, 55, 341, 132, 50, 1010, 55, 341, 132, 50, 1010, 55, 341, 132, 50, 1010, 55, 341, 132, 50, 1010, 55, 341, 132, 50, 1010, 55, 341, 132, 50, 1010, 55, 341, 132, 50, 1010, 55, 341, 132, 50, 1010, 55, 341, 132, 50, 1010, 55, 341, 132, 50, 1010, 55, 341, 132, 50, 1010, 55, 341, 132, 50, 1010, 55, 341, 132, 50, 1010, 55, 341, 132, 50, 1010, 55, 341, 132, 50, 1010, 55, 341, 132, 50, 1010, 55, 341, 132, 822, 563, 77, 451, 475, 822, 563, 77, 451, 475, 822, 563, 77, 451, 475, 822, 563, 77, 451, 475, 822, 563, 77, 451, 475, 822, 563, 77, 451, 475, 822, 563, 77, 451, 475, 822, 563, 77, 451, 475, 822, 563, 77, 451, 475, 822, 563, 77, 451, 475, 822, 563, 77, 451, 475, 822, 563, 77, 451, 475, 822, 563, 77, 451, 475, 822, 563, 77, 451, 475, 822, 563, 77, 451, 475, 822, 563, 77, 451, 475, 822, 563, 77, 451, 475, 822, 563, 77, 451, 475, 822, 563, 77, 451, 475, 822, 563, 77, 451, 475, 822, 563, 77, 451, 475, 822, 563, 77, 451, 475, 822, 563, 77, 451, 475, 822, 563, 77, 451, 475, 822, 563, 77, 451, 475, 822, 563, 77, 451, 475, 822, 563, 77, 451, 475, 822, 563, 77, 451, 475, 822, 563, 77, 451, 475, 822, 563, 77, 451, 475, 822, 563, 77, 451, 475, 822, 563, 77, 451, 475, 822, 563, 77, 451, 475, 822, 563, 77, 451, 475, 822, 563, 77, 451, 475, 822, 563, 77, 451, 475, 822, 563, 77, 451, 475, 822, 563, 77, 451, 475, 822, 563, 77, 451, 475, 822, 563, 77, 451, 475, 822, 563, 77, 451, 475, 822, 563, 77, 451, 475, 822, 563, 77, 451, 475, 822, 563, 77, 451, 475, 822, 563, 77, 451, 475, 822, 563, 77, 451, 475, 822, 563, 77, 451, 475, 822, 563, 77, 451, 475, 822, 563, 77, 451, 475, 822, 563, 77, 451, 475, 822, 563, 77, 451, 475, 822, 563, 77, 451, 475, 822, 563, 77, 451, 475, 822, 563, 77, 451, 475, 822, 563, 77, 451, 475, 822, 563, 77, 451, 475, 822, 563, 77, 451, 475, 822, 563, 77, 451, 475, 822, 563, 77, 451, 475, 822, 563, 77, 451, 475, 822, 563, 77, 451, 475, 822, 563, 77, 451, 475, 822, 563, 77, 451, 475, 822, 563, 77, 451, 475, 822, 563, 77, 451, 475, 822, 563, 77, 451, 475, 822, 563, 77, 451, 475, 822, 563, 77, 451, 475, 822, 563, 77, 451, 475, 822, 563, 77, 451, 475, 822, 563, 77, 451, 475, 822, 563, 77, 451, 475, 822, 563, 77, 451, 475, 822, 563, 77, 451, 475, 822, 563, 77, 451, 475, 822, 563, 77, 451, 475, 822, 563, 77, 451, 475, 822, 563, 77, 451, 475, 822, 563, 77, 451, 475, 822, 563, 77, 451, 475, 822, 563, 77, 451, 475, 822, 563, 77, 451, 475, 822, 563, 77, 451, 475, 822, 563, 77, 451, 475, 822, 563, 77, 451, 475, 822, 563, 77, 451, 475, 822, 563, 77, 451, 475, 822, 563, 77, 451, 475, 822, 563, 77, 451, 475, 822, 563, 77, 451, 475, 822, 563, 77, 451, 475, 822, 563, 77, 451, 475, 822, 563, 77, 451, 475, 822, 563, 77, 451, 475, 822, 563, 77, 451, 475, 822, 563, 77, 451, 475, 822, 563, 77, 451, 475, 822, 563, 77, 451, 475, 822, 563, 77, 451, 475, 822, 563, 77, 451, 475, 822, 563, 77, 451, 475, 822, 563, 77, 451, 475, 822, 563, 77, 451, 475, 822, 563, 77, 451, 475, 822, 563, 77, 451, 475, 822, 563, 77, 451, 475, 822, 563, 77, 451, 475, 822, 563, 77, 451, 475, 822, 563, 77, 451, 475, 822, 563, 77, 451, 475, 822, 563, 77, 451, 475, 822, 563, 77, 451, 475, 822, 563, 77, 451, 475, 822, 563, 77, 451, 475, 822, 563, 77, 451, 475, 822, 563, 77, 451, 475, 822, 563, 77, 451, 475, 822, 563, 77, 451, 475, 822, 563, 77, 451, 475, 822, 563, 77, 451, 475, 822, 563, 77, 451, 475, 822, 563, 77, 451, 475, 822, 563, 77, 451, 475, 822, 563, 77, 451, 475, 822, 563, 77, 451, 475, 822, 563, 77, 451, 475, 822, 563, 77, 451, 475, 822, 563, 77, 451, 475, 822, 563, 77, 451, 475, 822, 563, 77, 451, 475, 822, 563, 77, 451, 475, 822, 563, 77, 451, 475, 822, 563, 77, 451, 475, 822, 563, 77, 451, 475, 822, 563, 77, 451, 475, 822, 563, 77, 451, 475, 822, 563, 77, 451, 475, 822, 563, 77, 451, 475, 822, 563, 77, 451, 475, 822, 563, 77, 451, 475, 822, 563, 77, 451, 475, 822, 563, 77, 451, 475, 822, 563, 77, 451, 475, 822, 563, 77, 451, 475, 822, 563, 77, 451, 475, 822, 563, 77, 451, 475, 822, 563, 77, 451, 475, 822, 563, 77, 451, 475, 822, 563, 77, 451, 475, 822, 563, 77, 451, 475, 822, 563, 77, 451, 475, 822, 563, 77, 451, 475, 822, 563, 77, 451, 475, 822, 563, 77, 451, 475, 822, 563, 77, 451, 475, 822, 563, 77, 451, 475, 822, 563, 77, 451, 475, 822, 563, 77, 451, 475, 822, 563, 77, 451, 475, 822, 563, 77, 451, 475, 822, 563, 77, 451, 475, 822, 563, 77, 451, 475, 822, 563, 77, 451, 475, 822, 563, 77, 451, 475, 822, 563, 77, 451, 475, 822, 563, 77, 451, 475, 822, 563, 77, 451, 475, 822, 563, 77, 451, 475, 822, 563, 77, 451, 475, 822, 563, 77, 451, 475, 822, 563, 77, 451, 475, 822, 563, 77, 451, 475, 822, 563, 77, 451, 475, 822, 563, 77, 451, 475, 822, 563, 77, 451, 475, 822, 563, 77, 451, 475, 822, 563, 77, 451, 475, 822, 563, 77, 451, 475, 822, 563, 77, 451, 475, 822, 563, 77, 451, 475, 822, 563, 77, 451, 475, 822, 563, 77, 451, 475, 822, 563, 77, 451, 475, 822, 563, 77, 451, 475, 822, 563, 77, 451, 475, 822, 563, 77, 451, 475, 822, 563, 77, 451, 475, 822, 563, 77, 451, 475, 822, 563, 77, 451, 475, 822, 563, 77, 451, 475, 822, 563, 77, 451, 475, 822, 563, 77, 451, 475, 822, 563, 77, 451, 475, 822, 563, 77, 451, 475, 822, 563, 77, 451, 475, 822, 563, 77, 451, 475, 822, 563, 77, 451, 475, 822, 563, 77, 451, 475, 822, 563, 77, 451, 475, 822, 563, 77, 451, 475, 822, 563, 77, 451, 475, 822, 563, 77, 451, 475, 822, 563, 77, 451, 475, 822, 563, 77, 451, 475, 822, 563, 77, 451, 475, 822, 563, 77, 451, 475, 822, 563, 77, 451, 475, 822, 563, 77, 451, 475, 822, 563, 77, 451, 475, 822, 563, 77, 451, 475, 822, 563, 77, 451, 475, 822, 563, 77, 451, 475, 822, 563, 77, 451, 475, 822, 563, 77, 451, 475, 822, 563, 77, 451, 475, 822, 563, 77, 451, 475, 822, 563, 77, 451, 475, 822, 563, 77, 451, 475, 822, 563, 77, 451, 475, 822, 563, 77, 451, 475, 822, 563, 77, 451, 475, 822, 563, 77, 451, 475, 822, 563, 77, 451, 475, 822, 563, 77, 451, 475, 822, 563, 77, 451, 475, 822, 563, 77, 451, 475, 822, 563, 77, 451, 475, 822, 563, 77, 451, 475, 822, 563, 77, 451, 475, 822, 563, 77, 451, 475, 822, 563, 77, 451, 475, 822, 563, 77, 451, 475, 822, 563, 77, 451, 475, 822, 563, 77, 451, 475, 822, 563, 77, 451, 475, 822, 563, 77, 451, 475, 822, 563, 77, 451, 475, 822, 563, 77, 451, 475, 822, 563, 77, 451, 475, 822, 563, 77, 451, 475, 822, 563, 77, 451, 475, 822, 563, 77, 451, 475, 822, 563, 77, 451, 475, 822, 563, 77, 451, 475, 822, 563, 77, 451, 475, 822, 563, 77, 451, 475, 822, 563, 77, 451, 475, 822, 563, 77, 451, 475, 822, 563, 77, 451, 475, 822, 563, 77, 451, 475, 822, 563, 77, 451, 475, 822, 563, 77, 451, 475, 822, 563, 77, 451, 475, 822, 563, 77, 451, 475, 822, 563, 77, 451, 475, 822, 563, 77, 451, 475, 822, 563, 77, 451, 475, 822, 563, 77, 451, 475, 822, 563, 77, 451, 475, 822, 563, 77, 451, 475, 822, 563, 77, 451, 475, 822, 563, 77, 451, 475, 822, 563, 77, 451, 475, 822, 563, 77, 451, 475, 822, 563, 77, 451, 475, 822, 563, 77, 451, 475, 822, 563, 77, 451, 475, 822, 563, 77, 451, 475, 822, 563, 77, 451, 475, 822, 563, 77, 451, 475, 822, 563, 77, 451, 475, 822, 563, 77, 451, 475, 822, 563, 77, 451, 475, 822, 563, 77, 451, 475, 822, 563, 77, 451, 475, 822, 563, 77, 451, 475, 822, 563, 77, 451, 475, 822, 563, 77, 451, 475, 822, 563, 77, 451, 475, 822, 563, 77, 451, 475, 822, 563, 77, 451, 475, 822, 563, 77, 451, 475, 822, 563, 77, 451, 475, 822, 563, 77, 451, 475, 822, 563, 77, 451, 475, 822, 563, 77, 451, 475, 822, 563, 77, 451, 475, 822, 563, 77, 451, 475, 822, 563, 77, 451, 475, 822, 563, 77, 451, 475, 822, 563, 77, 451, 475, 822, 563, 77, 451, 475, 822, 563, 77, 451, 475, 822, 563, 77, 451, 475, 822, 563, 77, 451, 475, 822, 563, 77, 451, 475, 822, 563, 77, 451, 475, 822, 563, 77, 451, 475, 822, 563, 77, 451, 475, 822, 563, 77, 451, 475, 822, 563, 77, 451, 475, 822, 563, 77, 451, 475, 822, 563, 77, 451, 475, 822, 563, 77, 451, 475, 822, 563, 77, 451, 475, 822, 563, 77, 451, 475, 822, 563, 77, 451, 475, 822, 563, 77, 451, 475, 822, 563, 77, 451, 475, 822, 563, 77, 451, 475, 822, 563, 77, 451, 475, 822, 563, 77, 451, 475, 822, 563, 77, 451, 475, 822, 563, 77, 451, 475, 822, 563, 77, 451, 475, 822, 563, 77, 451, 475, 822, 563, 77, 451, 475, 822, 563, 77, 451, 475, 822, 563, 77, 451, 475, 822, 563, 77, 451, 475, 822, 563, 77, 451, 475, 822, 563, 77, 451, 475, 822, 563, 77, 451, 475, 822, 563, 77, 451, 475, 822, 563, 77, 451, 475, 822, 563, 77, 451, 475, 822, 563, 77, 451, 475, 822, 563, 77, 451, 475, 822, 563, 77, 451, 475, 822, 563, 77, 451, 475, 822, 563, 77, 451, 475, 822, 563, 77, 451, 475, 822, 563, 77, 451, 475, 822, 563, 77, 451, 475, 822, 563, 77, 451, 475, 822, 563, 77, 451, 475, 822, 563, 77, 451, 475, 822, 563, 77, 451, 475, 822, 563, 77, 451, 475, 822, 563, 77, 451, 475, 822, 563, 77, 451, 475, 822, 563, 77, 451, 475, 822, 563, 77, 451, 475, 822, 563, 77, 451, 475, 822, 563, 77, 451, 475, 822, 563, 77, 451, 475, 822, 563, 77, 451, 475, 822, 563, 77, 451, 475, 822, 563, 77, 451, 475, 822, 563, 77, 451, 475, 822, 563, 77, 451, 475, 822, 563, 77, 451, 475, 822, 563, 77, 451, 475, 822, 563, 77, 451, 475, 822, 563, 77, 451, 475, 822, 563, 77, 451, 475, 822, 563, 77, 451, 475, 822, 563, 77, 451, 475, 822, 563, 77, 451, 475, 822, 563, 77, 451, 475, 822, 563, 77, 451, 475, 822, 563, 77, 451, 475, 822, 563, 77, 451, 475, 822, 563, 77, 451, 475, 822, 563, 77, 451, 475, 822, 563, 77, 451, 475, 822, 563, 77, 451, 475, 822, 563, 77, 451, 475, 822, 563, 77, 451, 475, 822, 563, 77, 451, 475, 822, 563, 77, 451, 475, 822, 563, 77, 451, 475, 822, 563, 77, 451, 475, 822, 563, 77, 451, 475, 822, 563, 77, 451, 475, 822, 563, 77, 451, 475, 822, 563, 77, 451, 475, 822, 563, 77, 451, 475, 822, 563, 77, 451, 475, 822, 563, 77, 451, 475, 822, 563, 77, 451, 475, 822, 563, 77, 451, 475, 822, 563, 77, 451, 475, 822, 563, 77, 451, 475, 822, 563, 77, 451, 475, 822, 563, 77, 451, 475, 822, 563, 77, 451, 475, 822, 563, 77, 451, 475, 822, 563, 77, 451, 475, 822, 563, 77, 451, 475, 822, 563, 77, 451, 475, 822, 563, 77, 451, 475, 822, 563, 77, 451, 475, 822, 563, 77, 451, 475, 822, 563, 77, 451, 475, 822, 563, 77, 451, 475, 822, 563, 77, 451, 475, 822, 563, 77, 451, 475, 822, 563, 77, 451, 475, 822, 563, 77, 451, 475, 822, 563, 77, 451, 475, 822, 563, 77, 451, 475, 822, 563, 77, 451, 475, 822, 563, 77, 451, 475, 822, 563, 77, 451, 475, 822, 563, 77, 451, 475, 822, 563, 77, 451, 475, 822, 563, 77, 451, 475, 822, 563, 77, 451, 475, 822, 563, 77, 451, 475, 822, 563, 77, 451, 475, 822, 563, 77, 451, 475, 822, 563, 77, 451, 475, 822, 563, 77, 451, 475, 822, 563, 77, 451, 475, 822, 563, 77, 451, 475, 822, 563, 77, 451, 475, 822, 563, 77, 451, 475, 822, 563, 77, 451, 475, 822, 563, 77, 451, 475, 822, 563, 77, 451, 475, 822, 563, 77, 451, 475, 822, 563, 77, 451, 475, 822, 563, 77, 451, 475, 822, 563, 77, 451, 475, 822, 563, 77, 451, 475, 822, 563, 77, 451, 475, 822, 563, 77, 451, 475, 822, 563, 77, 451, 475, 822, 563, 77, 451, 475, 822, 563, 77, 451, 475, 822, 563, 77, 451, 475, 822, 563, 77, 451, 475, 822, 563, 77, 451, 475, 822, 563, 77, 451, 475, 822, 563, 77, 451, 475, 822, 563, 77, 451, 475, 822, 563, 77, 451, 475, 822, 563, 77, 451, 475, 822, 563, 77, 451, 475, 822, 563, 77, 451, 475, 822, 563, 77, 451, 475, 822, 563, 77, 451, 475, 822, 563, 77, 451, 475, 822, 563, 77, 451, 475, 822, 563, 77, 451, 475, 822, 563, 77, 451, 475, 822, 563, 77, 451, 475, 822, 563, 77, 451, 475, 822, 563, 77, 451, 475, 822, 563, 77, 451, 475, 822, 563, 77, 451, 475, 822, 563, 77, 451, 475, 822, 563, 77, 451, 475, 822, 563, 77, 451, 475, 822, 563, 77, 451, 475, 822, 563, 77, 451, 475, 822, 563, 77, 451, 475, 822, 563, 77, 451, 475, 822, 563, 77, 451, 475, 822, 563, 77, 451, 475, 822, 563, 77, 451, 475, 822, 563, 77, 451, 475, 822, 563, 77, 451, 475, 822, 563, 77, 451, 475, 822, 563, 77, 451, 475, 822, 563, 77, 451, 475, 822, 563, 77, 451, 475, 822, 563, 77, 451, 475, 822, 563, 77, 451, 475, 822, 563, 77, 451, 475, 822, 563, 77, 451, 475, 822, 563, 77, 451, 475, 822, 563, 77, 451, 475, 822, 563, 77, 451, 475, 822, 563, 77, 451, 475, 822, 563, 77, 451, 475, 822, 563, 77, 451, 475, 822, 563, 77, 451, 475, 822, 563, 77, 451, 475, 822, 563, 77, 451, 475, 822, 563, 77, 451, 475, 822, 563, 77, 451, 475, 822, 563, 77, 451, 475, 822, 563, 77, 451, 475, 822, 563, 77, 451, 475, 822, 563, 77, 451, 475, 822, 563, 77, 451, 475, 822, 563, 77, 451, 475, 822, 563, 77, 451, 475, 822, 563, 77, 451, 475, 822, 563, 77, 451, 475, 822, 563, 77, 451, 475, 822, 563, 77, 451, 475, 822, 563, 77, 451, 475, 822, 563, 77, 451, 475, 822, 563, 77, 451, 475, 822, 563, 77, 451, 475, 822, 563, 77, 451, 475, 822, 563, 77, 451, 475, 822, 563, 77, 451, 475, 822, 563, 77, 451, 475, 822, 563, 77, 451, 475, 822, 563, 77, 451, 475, 822, 563, 77, 451, 475, 822, 563, 77, 451, 475, 822, 563, 77, 451, 475, 822, 563, 77, 451, 475, 822, 563, 77, 451, 475, 822, 563, 77, 451, 475, 822, 563, 77, 451, 475, 822, 563, 77, 451, 475, 822, 563, 77, 451, 475, 822, 563, 77, 451, 475, 822, 563, 77, 451, 475, 822, 563, 77, 451, 475, 822, 563, 77, 451, 475, 822, 563, 77, 451, 475, 822, 563, 77, 451, 475, 822, 563, 77, 451, 475, 822, 563, 77, 451, 475, 822, 563, 77, 451, 475, 822, 563, 77, 451, 475, 822, 563, 77, 451, 475, 822, 563, 77, 451, 475, 822, 563, 77, 451, 475, 822, 563, 77, 451, 475, 822, 563, 77, 451, 475, 822, 563, 77, 451, 475, 822, 563, 77, 451, 475, 822, 563, 77, 451, 475, 822, 563, 77, 451, 475, 822, 563, 77, 451, 475, 822, 563, 77, 451, 475, 822, 563, 77, 451, 475, 822, 563, 77, 451, 475, 822, 563, 77, 451, 475, 822, 563, 77, 451, 475, 822, 563, 77, 451, 475, 822, 563, 77, 451, 475, 822, 563, 77, 451, 475, 822, 563, 77, 451, 475, 822, 563, 77, 451, 475, 822, 563, 77, 451, 475, 822, 563, 77, 451, 475, 822, 563, 77, 451, 475, 822, 563, 77, 451, 475, 822, 563, 77, 451, 475, 822, 563, 77, 451, 475, 822, 563, 77, 451, 475, 822, 563, 77, 451, 475, 822, 563, 77, 451, 475, 822, 563, 77, 451, 475, 822, 563, 77, 451, 475, 822, 563, 77, 451, 475, 822, 563, 77, 451, 475, 822, 563, 77, 451, 475, 822, 563, 77, 451, 475, 822, 563, 77, 451, 475, 822, 563, 77, 451, 475, 822, 563, 77, 451, 475, 822, 563, 77, 451, 475, 822, 563, 77, 451, 475, 822, 563, 77, 451, 475, 822, 563, 77, 451, 475, 822, 563, 77, 451, 475, 822, 563, 77, 451, 475, 822, 563, 77, 451, 475, 822, 563, 77, 451, 475, 822, 563, 77, 451, 475, 822, 563, 77, 451, 475, 822, 563, 77, 451, 475, 822, 563, 77, 451, 475, 822, 563, 77, 451, 475, 822, 563, 77, 451, 475, 822, 563, 77, 451, 475, 822, 563, 77, 451, 475, 822, 563, 77, 451, 475, 822, 563, 77, 451, 475, 822, 563, 77, 451, 475, 822, 563, 77, 451, 475, 822, 563, 77, 451, 475, 822, 563, 77, 451, 475, 822, 563, 77, 451, 475, 822, 563, 77, 451, 475, 822, 563, 77, 451, 475, 822, 563, 77, 451, 475, 822, 563, 77, 451, 475, 822, 563, 77, 451, 475, 822, 563, 77, 451, 475, 822, 563, 77, 451, 475, 822, 563, 77, 451, 475, 822, 563, 77, 451, 475, 822, 563, 77, 451, 475, 822, 563, 77, 451, 475, 822, 563, 77, 451, 475, 822, 563, 77, 451, 475, 822, 563, 77, 451, 475, 822, 563, 77, 451, 475, 822, 563, 77, 451, 475, 822, 563, 77, 451, 475, 822, 563, 77, 451, 475, 822, 563, 77, 451, 475, 822, 563, 77, 451, 475, 822, 563, 77, 451, 475, 822, 563, 77, 451, 475, 822, 563, 77, 451, 475, 822, 563, 77, 451, 475, 822, 563, 77, 451, 475, 822, 563, 77, 451, 475, 822, 563, 77, 451, 475, 822, 563, 77, 451, 475, 822, 563, 77, 451, 475, 822, 563, 77, 451, 475, 822, 563, 77, 451, 475, 822, 563, 77, 451, 475, 822, 563, 77, 451, 475, 822, 563, 77, 451, 475, 822, 563, 77, 451, 475, 822, 563, 77, 451, 475, 822, 563, 77, 451, 475, 822, 563, 77, 451, 475, 822, 563, 77, 451, 475, 822, 563, 77, 451, 475, 822, 563, 77, 451, 475, 822, 563, 77, 451, 475, 822, 563, 77, 451, 475, 822, 563, 77, 451, 475, 822, 563, 77, 451, 475, 822, 563, 77, 451, 475, 822, 563, 77, 451, 475, 822, 563, 77, 451, 475, 822, 563, 77, 451, 475, 822, 563, 77, 451, 475, 822, 563, 77, 451, 475, 822, 563, 77, 451, 475, 822, 563, 77, 451, 475, 822, 563, 77, 451, 475, 822, 563, 77, 451, 475, 822, 563, 77, 451, 475, 822, 563, 77, 451, 475, 822, 563, 77, 451, 475, 822, 563, 77, 451, 475, 822, 563, 77, 451, 475, 822, 563, 77, 451, 475, 822, 563, 77, 451, 475, 822, 563, 77, 451, 475, 822, 563, 77, 451, 475, 822, 563, 77, 451, 475, 822, 563, 77, 451, 475, 822, 563, 77, 451, 475, 822, 563, 77, 451, 475, 822, 563, 77, 451, 475, 822, 563, 77, 451, 475, 822, 563, 77, 451, 475, 822, 563, 77, 451, 475, 822, 563, 77, 451, 475, 822, 563, 77, 451, 475, 822, 563, 77, 451, 475, 822, 563, 77, 451, 475, 822, 563, 77, 451, 475, 822, 563, 77, 451, 475, 822, 563, 77, 451, 475, 822, 563, 77, 451, 475, 822, 563, 77, 451, 475, 822, 563, 77, 451, 475, 822, 563, 77, 451, 475, 822, 563, 77, 451, 475, 822, 563, 77, 451, 475, 822, 563, 77, 451, 475, 822, 563, 77, 451, 475, 822, 563, 77, 451, 475, 822, 563, 77, 451, 475, 822, 563, 77, 451, 475, 822, 563, 77, 451, 475, 822, 563, 77, 451, 475, 822, 563, 77, 451, 475, 822, 563, 77, 451, 475, 822, 563, 77, 451, 475, 822, 563, 77, 451, 475, 822, 563, 77, 451, 475, 822, 563, 77, 451, 475, 822, 563, 77, 451, 475, 822, 563, 77, 451, 475, 822, 563, 77, 451, 475, 822, 563, 77, 451, 475, 822, 563, 77, 451, 475, 822, 563, 77, 451, 475, 822, 563, 77, 451, 475, 822, 563, 77, 451, 475, 822, 563, 77, 451, 475, 822, 563, 77, 451, 475, 822, 563, 77, 451, 475, 822, 563, 77, 451, 475, 822, 563, 77, 451, 475, 822, 563, 77, 451, 475, 822, 563, 77, 451, 475, 822, 563, 77, 451, 475, 822, 563, 77, 451, 475, 822, 563, 77, 451, 475, 822, 563, 77, 451, 475, 822, 563, 77, 451, 475, 822, 563, 77, 451, 475, 822, 563, 77, 451, 475, 822, 563, 77, 451, 475, 822, 563, 77, 451, 475, 822, 563, 77, 451, 475, 822, 563, 77, 451, 475, 822, 563, 77, 451, 475, 822, 563, 77, 451, 475, 822, 563, 77, 451, 475, 822, 563, 77, 451, 475, 822, 563, 77, 451, 475, 822, 563, 77, 451, 475, 822, 563, 77, 451, 475, 822, 563, 77, 451, 475, 822, 563, 77, 451, 475, 822, 563, 77, 451, 475, 822, 563, 77, 451, 475, 822, 563, 77, 451, 475, 822, 563, 77, 451, 475, 822, 563, 77, 451, 475, 822, 563, 77, 451, 475, 822, 563, 77, 451, 475, 822, 563, 77, 451, 475, 822, 563, 77, 451, 475, 822, 563, 77, 451, 475, 822, 563, 77, 451, 475, 822, 563, 77, 451, 475, 822, 563, 77, 451, 475, 822, 563, 77, 451, 475, 822, 563, 77, 451, 475, 822, 563, 77, 451, 475, 822, 563, 77, 451, 475, 822, 563, 77, 451, 475, 822, 563, 77, 451, 475, 822, 563, 77, 451, 475, 822, 563, 77, 451, 475, 822, 563, 77, 451, 475, 822, 563, 77, 451, 475, 822, 563, 77, 451, 475, 822, 563, 77, 451, 475, 822, 563, 77, 451, 475, 822, 563, 77, 451, 475, 822, 563, 77, 451, 475, 822, 563, 77, 451, 475, 822, 563, 77, 451, 475, 822, 563, 77, 451, 475, 822, 563, 77, 451, 475, 822, 563, 77, 451, 475, 822, 563, 77, 451, 475, 822, 563, 77, 451, 475, 822, 563, 77, 451, 475, 822, 563, 77, 451, 475, 822, 563, 77, 451, 475, 822, 563, 77, 451, 475, 822, 563, 77, 451, 475, 822, 563, 77, 451, 475, 822, 563, 77, 451, 475, 822, 563, 77, 451, 475, 822, 563, 77, 451, 475, 822, 563, 77, 451, 475, 822, 563, 77, 451, 475, 822, 563, 77, 451, 475, 822, 563, 77, 451, 475, 822, 563, 77, 451, 475, 822, 563, 77, 451, 475, 822, 563, 77, 451, 475, 822, 563, 77, 451, 475, 822, 563, 77, 451, 475, 822, 563, 77, 451, 475, 822, 563, 77, 451, 475, 822, 563, 77, 451, 475, 822, 563, 77, 451, 475, 822, 563, 77, 451, 475, 822, 563, 77, 451, 475, 822, 563, 77, 451, 475, 822, 563, 77, 451, 475, 822, 563, 77, 451, 475, 822, 563, 77, 451, 475, 822, 563, 77, 451, 475, 822, 563, 77, 451, 475, 822, 563, 77, 451, 475, 822, 563, 77, 451, 475, 822, 563, 77, 451, 475, 822, 563, 77, 451, 475, 822, 563, 77, 451, 475, 822, 563, 77, 451, 475, 822, 563, 77, 451, 475, 822, 563, 77, 451, 475, 822, 563, 77, 451, 475, 822, 563, 77, 451, 475, 822, 563, 77, 451, 475, 822, 563, 77, 451, 475, 822, 563, 77, 451, 475, 822, 563, 77, 451, 475, 822, 563, 77, 451, 475, 822, 563, 77, 451, 475, 822, 563, 77, 451, 475, 822, 563, 77, 451, 475, 822, 563, 77, 451, 475, 822, 563, 77, 451, 475, 822, 563, 77, 451, 475, 822, 563, 77, 451, 475, 822, 563, 77, 451, 475, 822, 563, 77, 451, 475, 822, 563, 77, 451, 475, 822, 563, 77, 451, 475, 822, 563, 77, 451, 475, 822, 563, 77, 451, 475, 822, 563, 77, 451, 475, 822, 563, 77, 451, 475, 822, 563, 77, 451, 475, 822, 563, 77, 451, 475, 822, 563, 77, 451, 475, 822, 563, 77, 451, 475, 822, 563, 77, 451, 475, 822, 563, 77, 451, 475, 822, 563, 77, 451, 475, 822, 563, 77, 451, 475, 822, 563, 77, 451, 475, 822, 563, 77, 451, 475, 822, 563, 77, 451, 475, 822, 563, 77, 451, 475, 822, 563, 77, 451, 475, 822, 563, 77, 451, 475, 822, 563, 77, 451, 475, 822, 563, 77, 451, 475, 822, 563, 77, 451, 475, 822, 563, 77, 451, 475, 822, 563, 77, 451, 475, 822, 563, 77, 451, 475, 822, 563, 77, 451, 475, 822, 563, 77, 451, 475, 822, 563, 77, 451, 475, 822, 563, 77, 451, 475, 822, 563, 77, 451, 475, 822, 563, 77, 451, 475, 822, 563, 77, 451, 475, 822, 563, 77, 451, 475, 822, 563, 77, 451, 475, 822, 563, 77, 451, 475, 822, 563, 77, 451, 475, 822, 563, 77, 451, 475, 822, 563, 77, 451, 475, 822, 563, 77, 451, 475, 822, 563, 77, 451, 475, 822, 563, 77, 451, 475, 822, 563, 77, 451, 475, 822, 563, 77, 451, 475, 822, 563, 77, 451, 475, 822, 563, 77, 451, 475, 822, 563, 77, 451, 475, 822, 563, 77, 451, 475, 822, 563, 77, 451, 475, 822, 563, 77, 451, 475, 822, 563, 77, 451, 475, 822, 563, 77, 451, 475, 822, 563, 77, 451, 475, 822, 563, 77, 451, 475, 822, 563, 77, 451, 475, 822, 563, 77, 451, 475, 822, 563, 77, 451, 475, 822, 563, 77, 451, 475, 822, 563, 77, 451, 475, 822, 563, 77, 451, 475, 822, 563, 77, 451, 475, 822, 563, 77, 451, 475, 822, 563, 77, 451, 475, 822, 563, 77, 451, 475, 822, 563, 77, 451, 475, 822, 563, 77, 451, 475, 822, 563, 77, 451, 475, 822, 563, 77, 451, 475, 822, 563, 77, 451, 475, 822, 563, 77, 451, 475, 822, 563, 77, 451, 475, 822, 563, 77, 451, 475, 822, 563, 77, 451, 475, 822, 563, 77, 451, 475, 822, 563, 77, 451, 475, 822, 563, 77, 451, 475, 822, 563, 77, 451, 475, 822, 563, 77, 451, 475, 822, 563, 77, 451, 475, 822, 563, 77, 451, 475, 822, 563, 77, 451, 475, 822, 563, 77, 451, 475, 822, 563, 77, 451, 475, 822, 563, 77, 451, 475, 822, 563, 77, 451, 475, 822, 563, 77, 451, 475, 822, 563, 77, 451, 475, 822, 563, 77, 451, 475, 822, 563, 77, 451, 475, 822, 563, 77, 451, 475, 822, 563, 77, 451, 475]),\n",
              "       list([70, 16, 30, 21, 70, 16, 30, 21, 70, 16, 30, 21, 70, 16, 30, 21, 70, 16, 30, 21, 70, 16, 30, 21, 70, 16, 30, 21, 70, 16, 30, 21, 70, 16, 30, 21, 70, 16, 30, 21, 70, 16, 30, 21, 70, 16, 30, 21, 70, 16, 30, 21, 70, 16, 30, 21, 70, 16, 30, 21, 70, 16, 30, 21, 70, 16, 30, 21, 70, 16, 30, 21, 70, 16, 30, 21, 70, 16, 30, 21, 70, 16, 30, 21, 70, 16, 30, 21, 70, 16, 30, 21, 70, 16, 30, 21, 70, 16, 30, 21, 70, 16, 30, 21, 70, 16, 30, 21, 70, 16, 30, 21, 70, 16, 30, 21, 70, 16, 30, 21, 70, 16, 30, 21, 70, 16, 30, 21, 70, 16, 30, 21, 70, 16, 30, 21, 70, 16, 30, 21, 70, 16, 30, 21, 70, 16, 30, 21, 70, 16, 30, 21, 70, 16, 30, 21, 70, 16, 30, 21, 70, 16, 30, 21, 70, 16, 30, 21, 70, 16, 30, 21, 70, 16, 30, 21, 70, 16, 30, 21, 70, 16, 30, 21, 70, 16, 30, 21, 70, 16, 30, 21, 70, 16, 30, 21, 70, 16, 30, 21, 70, 16, 30, 21, 70, 16, 30, 21, 33, 34, 2, 43, 599, 33, 34, 2, 43, 599, 33, 34, 2, 43, 599, 33, 34, 2, 43, 599, 33, 34, 2, 43, 599, 33, 34, 2, 43, 599, 33, 34, 2, 43, 599, 33, 34, 2, 43, 599, 33, 34, 2, 43, 599, 33, 34, 2, 43, 599, 33, 34, 2, 43, 599, 33, 34, 2, 43, 599, 33, 34, 2, 43, 599, 33, 34, 2, 43, 599, 33, 34, 2, 43, 599, 33, 34, 2, 43, 599, 33, 34, 2, 43, 599, 33, 34, 2, 43, 599, 33, 34, 2, 43, 599, 33, 34, 2, 43, 599, 33, 34, 2, 43, 599, 33, 34, 2, 43, 599, 33, 34, 2, 43, 599, 33, 34, 2, 43, 599, 33, 34, 2, 43, 599, 33, 34, 2, 43, 599, 33, 34, 2, 43, 599, 33, 34, 2, 43, 599, 33, 34, 2, 43, 599, 33, 34, 2, 43, 599, 33, 34, 2, 43, 599, 33, 34, 2, 43, 599, 33, 34, 2, 43, 599, 33, 34, 2, 43, 599, 33, 34, 2, 43, 599, 33, 34, 2, 43, 599, 33, 34, 2, 43, 599, 33, 34, 2, 43, 599, 33, 34, 2, 43, 599, 33, 34, 2, 43, 599, 33, 34, 2, 43, 599, 33, 34, 2, 43, 599, 33, 34, 2, 43, 599, 33, 34, 2, 43, 599, 33, 34, 2, 43, 599, 33, 34, 2, 43, 599, 33, 34, 2, 43, 599, 33, 34, 2, 43, 599, 33, 34, 2, 43, 599, 33, 34, 2, 43, 599, 33, 34, 2, 43, 599, 33, 34, 2, 43, 599, 33, 34, 2, 43, 599, 33, 34, 2, 43, 599, 33, 34, 2, 43, 599, 33, 34, 2, 43, 599, 33, 34, 2, 43, 599, 33, 34, 2, 43, 599, 33, 34, 2, 43, 599, 33, 34, 2, 43, 599, 33, 34, 2, 43, 599, 33, 34, 2, 43, 599, 33, 34, 2, 43, 599, 33, 34, 2, 43, 599, 33, 34, 2, 43, 599, 33, 34, 2, 43, 599, 33, 34, 2, 43, 599, 33, 34, 2, 43, 599, 33, 34, 2, 43, 599, 33, 34, 2, 43, 599, 33, 34, 2, 43, 599, 33, 34, 2, 43, 599, 33, 34, 2, 43, 599, 33, 34, 2, 43, 599, 33, 34, 2, 43, 599, 33, 34, 2, 43, 599, 33, 34, 2, 43, 599, 33, 34, 2, 43, 599, 33, 34, 2, 43, 599, 33, 34, 2, 43, 599, 33, 34, 2, 43, 599, 33, 34, 2, 43, 599, 33, 34, 2, 43, 599, 33, 34, 2, 43, 599, 33, 34, 2, 43, 599, 33, 34, 2, 43, 599, 33, 34, 2, 43, 599, 33, 34, 2, 43, 599, 33, 34, 2, 43, 599, 33, 34, 2, 43, 599, 33, 34, 2, 43, 599, 33, 34, 2, 43, 599, 33, 34, 2, 43, 599, 33, 34, 2, 43, 599, 33, 34, 2, 43, 599, 33, 34, 2, 43, 599, 33, 34, 2, 43, 599, 33, 34, 2, 43, 599, 33, 34, 2, 43, 599, 33, 34, 2, 43, 599, 33, 34, 2, 43, 599, 33, 34, 2, 43, 599, 33, 34, 2, 43, 599, 33, 34, 2, 43, 599, 33, 34, 2, 43, 599, 33, 34, 2, 43, 599, 33, 34, 2, 43, 599, 33, 34, 2, 43, 599, 33, 34, 2, 43, 599, 33, 34, 2, 43, 599, 33, 34, 2, 43, 599, 33, 34, 2, 43, 599, 33, 34, 2, 43, 599, 33, 34, 2, 43, 599, 33, 34, 2, 43, 599, 33, 34, 2, 43, 599, 33, 34, 2, 43, 599, 33, 34, 2, 43, 599, 33, 34, 2, 43, 599, 33, 34, 2, 43, 599, 33, 34, 2, 43, 599, 33, 34, 2, 43, 599, 33, 34, 2, 43, 599, 33, 34, 2, 43, 599, 33, 34, 2, 43, 599, 33, 34, 2, 43, 599, 33, 34, 2, 43, 599, 33, 34, 2, 43, 599, 33, 34, 2, 43, 599, 33, 34, 2, 43, 599, 33, 34, 2, 43, 599, 33, 34, 2, 43, 599, 33, 34, 2, 43, 599, 33, 34, 2, 43, 599, 33, 34, 2, 43, 599, 33, 34, 2, 43, 599, 33, 34, 2, 43, 599, 33, 34, 2, 43, 599, 33, 34, 2, 43, 599, 33, 34, 2, 43, 599, 33, 34, 2, 43, 599, 33, 34, 2, 43, 599, 33, 34, 2, 43, 599, 33, 34, 2, 43, 599, 33, 34, 2, 43, 599, 33, 34, 2, 43, 599, 33, 34, 2, 43, 599, 33, 34, 2, 43, 599, 33, 34, 2, 43, 599, 33, 34, 2, 43, 599, 33, 34, 2, 43, 599, 33, 34, 2, 43, 599, 33, 34, 2, 43, 599, 33, 34, 2, 43, 599, 33, 34, 2, 43, 599, 33, 34, 2, 43, 599, 33, 34, 2, 43, 599, 33, 34, 2, 43, 599, 33, 34, 2, 43, 599, 33, 34, 2, 43, 599, 33, 34, 2, 43, 599, 33, 34, 2, 43, 599, 33, 34, 2, 43, 599, 33, 34, 2, 43, 599, 33, 34, 2, 43, 599, 33, 34, 2, 43, 599, 33, 34, 2, 43, 599, 33, 34, 2, 43, 599, 33, 34, 2, 43, 599, 33, 34, 2, 43, 599, 33, 34, 2, 43, 599, 33, 34, 2, 43, 599, 33, 34, 2, 43, 599, 33, 34, 2, 43, 599, 33, 34, 2, 43, 599, 33, 34, 2, 43, 599, 33, 34, 2, 43, 599, 33, 34, 2, 43, 599, 33, 34, 2, 43, 599, 33, 34, 2, 43, 599, 33, 34, 2, 43, 599, 33, 34, 2, 43, 599, 33, 34, 2, 43, 599, 33, 34, 2, 43, 599, 33, 34, 2, 43, 599, 33, 34, 2, 43, 599, 33, 34, 2, 43, 599, 33, 34, 2, 43, 599, 33, 34, 2, 43, 599, 33, 34, 2, 43, 599, 33, 34, 2, 43, 599, 33, 34, 2, 43, 599, 33, 34, 2, 43, 599, 33, 34, 2, 43, 599, 33, 34, 2, 43, 599, 33, 34, 2, 43, 599, 33, 34, 2, 43, 599, 33, 34, 2, 43, 599, 33, 34, 2, 43, 599, 33, 34, 2, 43, 599, 33, 34, 2, 43, 599, 33, 34, 2, 43, 599, 33, 34, 2, 43, 599, 33, 34, 2, 43, 599, 33, 34, 2, 43, 599, 33, 34, 2, 43, 599, 33, 34, 2, 43, 599, 33, 34, 2, 43, 599, 33, 34, 2, 43, 599, 33, 34, 2, 43, 599, 33, 34, 2, 43, 599, 33, 34, 2, 43, 599, 33, 34, 2, 43, 599, 33, 34, 2, 43, 599, 33, 34, 2, 43, 599, 33, 34, 2, 43, 599, 33, 34, 2, 43, 599, 33, 34, 2, 43, 599, 33, 34, 2, 43, 599, 33, 34, 2, 43, 599, 33, 34, 2, 43, 599, 33, 34, 2, 43, 599, 33, 34, 2, 43, 599, 33, 34, 2, 43, 599, 33, 34, 2, 43, 599, 33, 34, 2, 43, 599, 33, 34, 2, 43, 599, 33, 34, 2, 43, 599, 33, 34, 2, 43, 599, 33, 34, 2, 43, 599, 33, 34, 2, 43, 599, 33, 34, 2, 43, 599, 33, 34, 2, 43, 599, 33, 34, 2, 43, 599, 33, 34, 2, 43, 599, 33, 34, 2, 43, 599, 33, 34, 2, 43, 599, 33, 34, 2, 43, 599, 33, 34, 2, 43, 599, 33, 34, 2, 43, 599, 33, 34, 2, 43, 599, 33, 34, 2, 43, 599, 33, 34, 2, 43, 599, 33, 34, 2, 43, 599, 33, 34, 2, 43, 599, 33, 34, 2, 43, 599, 33, 34, 2, 43, 599, 33, 34, 2, 43, 599, 33, 34, 2, 43, 599, 33, 34, 2, 43, 599, 33, 34, 2, 43, 599, 33, 34, 2, 43, 599, 33, 34, 2, 43, 599, 33, 34, 2, 43, 599, 33, 34, 2, 43, 599, 33, 34, 2, 43, 599, 33, 34, 2, 43, 599, 33, 34, 2, 43, 599, 33, 34, 2, 43, 599, 33, 34, 2, 43, 599, 33, 34, 2, 43, 599, 33, 34, 2, 43, 599, 33, 34, 2, 43, 599, 33, 34, 2, 43, 599, 33, 34, 2, 43, 599, 33, 34, 2, 43, 599, 33, 34, 2, 43, 599, 33, 34, 2, 43, 599, 33, 34, 2, 43, 599, 33, 34, 2, 43, 599, 33, 34, 2, 43, 599, 33, 34, 2, 43, 599, 33, 34, 2, 43, 599, 33, 34, 2, 43, 599, 33, 34, 2, 43, 599, 33, 34, 2, 43, 599, 33, 34, 2, 43, 599, 33, 34, 2, 43, 599, 33, 34, 2, 43, 599, 33, 34, 2, 43, 599, 33, 34, 2, 43, 599, 33, 34, 2, 43, 599, 33, 34, 2, 43, 599, 33, 34, 2, 43, 599, 33, 34, 2, 43, 599, 33, 34, 2, 43, 599, 33, 34, 2, 43, 599, 33, 34, 2, 43, 599, 33, 34, 2, 43, 599, 33, 34, 2, 43, 599, 33, 34, 2, 43, 599, 33, 34, 2, 43, 599, 33, 34, 2, 43, 599, 33, 34, 2, 43, 599, 33, 34, 2, 43, 599, 33, 34, 2, 43, 599, 33, 34, 2, 43, 599, 33, 34, 2, 43, 599, 33, 34, 2, 43, 599, 33, 34, 2, 43, 599, 33, 34, 2, 43, 599, 33, 34, 2, 43, 599, 33, 34, 2, 43, 599, 33, 34, 2, 43, 599, 33, 34, 2, 43, 599, 33, 34, 2, 43, 599, 33, 34, 2, 43, 599, 33, 34, 2, 43, 599, 33, 34, 2, 43, 599, 33, 34, 2, 43, 599, 33, 34, 2, 43, 599, 33, 34, 2, 43, 599, 33, 34, 2, 43, 599, 33, 34, 2, 43, 599, 33, 34, 2, 43, 599, 33, 34, 2, 43, 599, 33, 34, 2, 43, 599, 33, 34, 2, 43, 599, 33, 34, 2, 43, 599, 33, 34, 2, 43, 599, 33, 34, 2, 43, 599, 33, 34, 2, 43, 599, 33, 34, 2, 43, 599, 33, 34, 2, 43, 599, 33, 34, 2, 43, 599, 33, 34, 2, 43, 599, 33, 34, 2, 43, 599, 33, 34, 2, 43, 599, 33, 34, 2, 43, 599, 33, 34, 2, 43, 599, 33, 34, 2, 43, 599, 33, 34, 2, 43, 599, 33, 34, 2, 43, 599, 33, 34, 2, 43, 599, 33, 34, 2, 43, 599, 33, 34, 2, 43, 599, 33, 34, 2, 43, 599, 33, 34, 2, 43, 599, 33, 34, 2, 43, 599, 33, 34, 2, 43, 599, 33, 34, 2, 43, 599, 33, 34, 2, 43, 599, 33, 34, 2, 43, 599, 33, 34, 2, 43, 599, 33, 34, 2, 43, 599, 33, 34, 2, 43, 599, 33, 34, 2, 43, 599, 33, 34, 2, 43, 599, 33, 34, 2, 43, 599, 33, 34, 2, 43, 599, 33, 34, 2, 43, 599, 33, 34, 2, 43, 599, 33, 34, 2, 43, 599, 33, 34, 2, 43, 599, 33, 34, 2, 43, 599, 33, 34, 2, 43, 599, 33, 34, 2, 43, 599, 33, 34, 2, 43, 599, 33, 34, 2, 43, 599, 33, 34, 2, 43, 599, 33, 34, 2, 43, 599, 33, 34, 2, 43, 599, 33, 34, 2, 43, 599, 33, 34, 2, 43, 599, 33, 34, 2, 43, 599, 33, 34, 2, 43, 599, 33, 34, 2, 43, 599, 33, 34, 2, 43, 599, 33, 34, 2, 43, 599, 33, 34, 2, 43, 599, 33, 34, 2, 43, 599, 33, 34, 2, 43, 599, 33, 34, 2, 43, 599, 33, 34, 2, 43, 599, 33, 34, 2, 43, 599, 33, 34, 2, 43, 599, 33, 34, 2, 43, 599, 33, 34, 2, 43, 599, 33, 34, 2, 43, 599, 33, 34, 2, 43, 599, 33, 34, 2, 43, 599, 33, 34, 2, 43, 599, 33, 34, 2, 43, 599, 33, 34, 2, 43, 599, 33, 34, 2, 43, 599, 33, 34, 2, 43, 599, 33, 34, 2, 43, 599, 33, 34, 2, 43, 599, 33, 34, 2, 43, 599, 33, 34, 2, 43, 599, 33, 34, 2, 43, 599, 33, 34, 2, 43, 599, 33, 34, 2, 43, 599, 33, 34, 2, 43, 599, 33, 34, 2, 43, 599, 33, 34, 2, 43, 599, 33, 34, 2, 43, 599, 33, 34, 2, 43, 599, 33, 34, 2, 43, 599, 33, 34, 2, 43, 599, 33, 34, 2, 43, 599, 33, 34, 2, 43, 599, 33, 34, 2, 43, 599, 33, 34, 2, 43, 599, 33, 34, 2, 43, 599, 33, 34, 2, 43, 599, 33, 34, 2, 43, 599, 33, 34, 2, 43, 599, 33, 34, 2, 43, 599, 33, 34, 2, 43, 599, 33, 34, 2, 43, 599, 33, 34, 2, 43, 599, 33, 34, 2, 43, 599, 33, 34, 2, 43, 599, 33, 34, 2, 43, 599, 33, 34, 2, 43, 599, 33, 34, 2, 43, 599, 33, 34, 2, 43, 599, 33, 34, 2, 43, 599, 33, 34, 2, 43, 599, 33, 34, 2, 43, 599, 33, 34, 2, 43, 599, 33, 34, 2, 43, 599, 33, 34, 2, 43, 599, 33, 34, 2, 43, 599, 33, 34, 2, 43, 599, 33, 34, 2, 43, 599, 33, 34, 2, 43, 599, 33, 34, 2, 43, 599, 33, 34, 2, 43, 599, 33, 34, 2, 43, 599, 33, 34, 2, 43, 599, 48, 100, 333, 452, 567, 48, 100, 333, 452, 567, 48, 100, 333, 452, 567, 48, 100, 333, 452, 567, 48, 100, 333, 452, 567, 48, 100, 333, 452, 567, 48, 100, 333, 452, 567, 48, 100, 333, 452, 567, 48, 100, 333, 452, 567, 48, 100, 333, 452, 567, 48, 100, 333, 452, 567, 48, 100, 333, 452, 567, 48, 100, 333, 452, 567, 48, 100, 333, 452, 567, 48, 100, 333, 452, 567, 48, 100, 333, 452, 567, 48, 100, 333, 452, 567, 48, 100, 333, 452, 567, 48, 100, 333, 452, 567, 48, 100, 333, 452, 567, 48, 100, 333, 452, 567, 48, 100, 333, 452, 567, 48, 100, 333, 452, 567, 48, 100, 333, 452, 567, 48, 100, 333, 452, 567, 48, 100, 333, 452, 567, 48, 100, 333, 452, 567, 48, 100, 333, 452, 567, 48, 100, 333, 452, 567, 48, 100, 333, 452, 567, 48, 100, 333, 452, 567, 48, 100, 333, 452, 567, 48, 100, 333, 452, 567, 48, 100, 333, 452, 567, 48, 100, 333, 452, 567, 48, 100, 333, 452, 567, 48, 100, 333, 452, 567, 48, 100, 333, 452, 567, 48, 100, 333, 452, 567, 48, 100, 333, 452, 567, 48, 100, 333, 452, 567, 48, 100, 333, 452, 567, 48, 100, 333, 452, 567, 48, 100, 333, 452, 567, 48, 100, 333, 452, 567, 48, 100, 333, 452, 567, 48, 100, 333, 452, 567, 48, 100, 333, 452, 567, 48, 100, 333, 452, 567, 48, 100, 333, 452, 567, 48, 100, 333, 452, 567, 48, 100, 333, 452, 567, 48, 100, 333, 452, 567, 48, 100, 333, 452, 567, 48, 100, 333, 452, 567, 48, 100, 333, 452, 567, 48, 100, 333, 452, 567, 48, 100, 333, 452, 567, 48, 100, 333, 452, 567, 48, 100, 333, 452, 567, 48, 100, 333, 452, 567, 48, 100, 333, 452, 567, 48, 100, 333, 452, 567, 48, 100, 333, 452, 567, 48, 100, 333, 452, 567, 48, 100, 333, 452, 567, 48, 100, 333, 452, 567, 48, 100, 333, 452, 567, 48, 100, 333, 452, 567, 48, 100, 333, 452, 567, 48, 100, 333, 452, 567, 48, 100, 333, 452, 567, 48, 100, 333, 452, 567, 48, 100, 333, 452, 567, 48, 100, 333, 452, 567, 48, 100, 333, 452, 567, 48, 100, 333, 452, 567, 48, 100, 333, 452, 567, 48, 100, 333, 452, 567, 48, 100, 333, 452, 567, 48, 100, 333, 452, 567, 48, 100, 333, 452, 567, 48, 100, 333, 452, 567, 48, 100, 333, 452, 567, 48, 100, 333, 452, 567, 48, 100, 333, 452, 567, 48, 100, 333, 452, 567, 48, 100, 333, 452, 567, 48, 100, 333, 452, 567, 48, 100, 333, 452, 567, 48, 100, 333, 452, 567, 48, 100, 333, 452, 567, 48, 100, 333, 452, 567, 48, 100, 333, 452, 567, 48, 100, 333, 452, 567, 48, 100, 333, 452, 567, 48, 100, 333, 452, 567, 48, 100, 333, 452, 567, 48, 100, 333, 452, 567, 48, 100, 333, 452, 567, 48, 100, 333, 452, 567, 48, 100, 333, 452, 567, 48, 100, 333, 452, 567, 48, 100, 333, 452, 567, 48, 100, 333, 452, 567, 48, 100, 333, 452, 567, 48, 100, 333, 452, 567, 48, 100, 333, 452, 567, 48, 100, 333, 452, 567, 48, 100, 333, 452, 567, 48, 100, 333, 452, 567, 48, 100, 333, 452, 567, 48, 100, 333, 452, 567, 48, 100, 333, 452, 567, 48, 100, 333, 452, 567, 48, 100, 333, 452, 567, 48, 100, 333, 452, 567, 48, 100, 333, 452, 567, 48, 100, 333, 452, 567, 48, 100, 333, 452, 567, 48, 100, 333, 452, 567, 48, 100, 333, 452, 567, 48, 100, 333, 452, 567, 48, 100, 333, 452, 567, 48, 100, 333, 452, 567, 48, 100, 333, 452, 567, 48, 100, 333, 452, 567, 48, 100, 333, 452, 567, 48, 100, 333, 452, 567, 48, 100, 333, 452, 567, 48, 100, 333, 452, 567, 48, 100, 333, 452, 567, 48, 100, 333, 452, 567, 48, 100, 333, 452, 567, 48, 100, 333, 452, 567, 48, 100, 333, 452, 567, 48, 100, 333, 452, 567, 48, 100, 333, 452, 567, 48, 100, 333, 452, 567, 48, 100, 333, 452, 567, 48, 100, 333, 452, 567, 48, 100, 333, 452, 567, 48, 100, 333, 452, 567, 48, 100, 333, 452, 567, 48, 100, 333, 452, 567, 48, 100, 333, 452, 567, 48, 100, 333, 452, 567, 48, 100, 333, 452, 567, 48, 100, 333, 452, 567, 48, 100, 333, 452, 567, 48, 100, 333, 452, 567, 48, 100, 333, 452, 567, 48, 100, 333, 452, 567, 48, 100, 333, 452, 567, 48, 100, 333, 452, 567, 48, 100, 333, 452, 567, 48, 100, 333, 452, 567, 48, 100, 333, 452, 567, 48, 100, 333, 452, 567, 48, 100, 333, 452, 567, 48, 100, 333, 452, 567, 48, 100, 333, 452, 567, 48, 100, 333, 452, 567, 48, 100, 333, 452, 567, 48, 100, 333, 452, 567, 48, 100, 333, 452, 567, 48, 100, 333, 452, 567, 48, 100, 333, 452, 567, 48, 100, 333, 452, 567, 48, 100, 333, 452, 567, 48, 100, 333, 452, 567, 48, 100, 333, 452, 567, 48, 100, 333, 452, 567, 48, 100, 333, 452, 567, 48, 100, 333, 452, 567, 48, 100, 333, 452, 567, 48, 100, 333, 452, 567, 48, 100, 333, 452, 567, 48, 100, 333, 452, 567, 48, 100, 333, 452, 567, 48, 100, 333, 452, 567, 48, 100, 333, 452, 567, 48, 100, 333, 452, 567, 48, 100, 333, 452, 567, 48, 100, 333, 452, 567, 48, 100, 333, 452, 567, 48, 100, 333, 452, 567, 48, 100, 333, 452, 567, 48, 100, 333, 452, 567, 48, 100, 333, 452, 567, 48, 100, 333, 452, 567, 48, 100, 333, 452, 567, 48, 100, 333, 452, 567, 48, 100, 333, 452, 567, 48, 100, 333, 452, 567, 48, 100, 333, 452, 567, 48, 100, 333, 452, 567, 48, 100, 333, 452, 567, 48, 100, 333, 452, 567, 48, 100, 333, 452, 567, 48, 100, 333, 452, 567, 48, 100, 333, 452, 567, 48, 100, 333, 452, 567, 48, 100, 333, 452, 567, 48, 100, 333, 452, 567, 48, 100, 333, 452, 567, 48, 100, 333, 452, 567, 48, 100, 333, 452, 567, 48, 100, 333, 452, 567, 48, 100, 333, 452, 567, 48, 100, 333, 452, 567, 48, 100, 333, 452, 567, 48, 100, 333, 452, 567, 48, 100, 333, 452, 567, 48, 100, 333, 452, 567, 48, 100, 333, 452, 567, 48, 100, 333, 452, 567, 48, 100, 333, 452, 567, 48, 100, 333, 452, 567, 48, 100, 333, 452, 567, 48, 100, 333, 452, 567, 48, 100, 333, 452, 567, 48, 100, 333, 452, 567, 48, 100, 333, 452, 567, 48, 100, 333, 452, 567, 48, 100, 333, 452, 567, 48, 100, 333, 452, 567, 48, 100, 333, 452, 567, 48, 100, 333, 452, 567, 48, 100, 333, 452, 567, 48, 100, 333, 452, 567, 48, 100, 333, 452, 567, 48, 100, 333, 452, 567, 48, 100, 333, 452, 567, 48, 100, 333, 452, 567, 48, 100, 333, 452, 567, 48, 100, 333, 452, 567, 48, 100, 333, 452, 567, 48, 100, 333, 452, 567, 48, 100, 333, 452, 567, 48, 100, 333, 452, 567, 48, 100, 333, 452, 567, 48, 100, 333, 452, 567, 48, 100, 333, 452, 567, 48, 100, 333, 452, 567, 48, 100, 333, 452, 567, 48, 100, 333, 452, 567, 48, 100, 333, 452, 567, 48, 100, 333, 452, 567, 48, 100, 333, 452, 567, 48, 100, 333, 452, 567, 48, 100, 333, 452, 567, 48, 100, 333, 452, 567, 48, 100, 333, 452, 567, 48, 100, 333, 452, 567, 48, 100, 333, 452, 567, 48, 100, 333, 452, 567, 48, 100, 333, 452, 567, 48, 100, 333, 452, 567, 48, 100, 333, 452, 567, 48, 100, 333, 452, 567, 48, 100, 333, 452, 567, 48, 100, 333, 452, 567, 48, 100, 333, 452, 567, 48, 100, 333, 452, 567, 48, 100, 333, 452, 567, 48, 100, 333, 452, 567, 48, 100, 333, 452, 567, 48, 100, 333, 452, 567, 48, 100, 333, 452, 567, 48, 100, 333, 452, 567, 48, 100, 333, 452, 567, 48, 100, 333, 452, 567, 48, 100, 333, 452, 567, 48, 100, 333, 452, 567, 48, 100, 333, 452, 567, 48, 100, 333, 452, 567, 48, 100, 333, 452, 567, 48, 100, 333, 452, 567, 48, 100, 333, 452, 567, 48, 100, 333, 452, 567, 48, 100, 333, 452, 567, 48, 100, 333, 452, 567, 48, 100, 333, 452, 567, 48, 100, 333, 452, 567, 48, 100, 333, 452, 567, 48, 100, 333, 452, 567, 48, 100, 333, 452, 567, 48, 100, 333, 452, 567, 48, 100, 333, 452, 567, 48, 100, 333, 452, 567, 48, 100, 333, 452, 567, 48, 100, 333, 452, 567, 48, 100, 333, 452, 567, 48, 100, 333, 452, 567, 48, 100, 333, 452, 567, 48, 100, 333, 452, 567, 48, 100, 333, 452, 567, 48, 100, 333, 452, 567, 48, 100, 333, 452, 567, 48, 100, 333, 452, 567, 48, 100, 333, 452, 567, 48, 100, 333, 452, 567, 48, 100, 333, 452, 567, 48, 100, 333, 452, 567, 48, 100, 333, 452, 567, 48, 100, 333, 452, 567, 48, 100, 333, 452, 567, 48, 100, 333, 452, 567, 48, 100, 333, 452, 567, 48, 100, 333, 452, 567, 48, 100, 333, 452, 567, 48, 100, 333, 452, 567, 48, 100, 333, 452, 567, 48, 100, 333, 452, 567, 48, 100, 333, 452, 567, 48, 100, 333, 452, 567, 48, 100, 333, 452, 567, 48, 100, 333, 452, 567, 48, 100, 333, 452, 567, 48, 100, 333, 452, 567, 48, 100, 333, 452, 567, 48, 100, 333, 452, 567, 48, 100, 333, 452, 567, 48, 100, 333, 452, 567, 48, 100, 333, 452, 567, 48, 100, 333, 452, 567, 48, 100, 333, 452, 567, 48, 100, 333, 452, 567, 48, 100, 333, 452, 567, 48, 100, 333, 452, 567, 48, 100, 333, 452, 567, 48, 100, 333, 452, 567, 48, 100, 333, 452, 567, 48, 100, 333, 452, 567, 48, 100, 333, 452, 567, 48, 100, 333, 452, 567, 48, 100, 333, 452, 567, 48, 100, 333, 452, 567, 48, 100, 333, 452, 567, 48, 100, 333, 452, 567, 48, 100, 333, 452, 567, 48, 100, 333, 452, 567, 48, 100, 333, 452, 567, 48, 100, 333, 452, 567, 48, 100, 333, 452, 567, 48, 100, 333, 452, 567, 48, 100, 333, 452, 567, 48, 100, 333, 452, 567, 48, 100, 333, 452, 567, 48, 100, 333, 452, 567, 48, 100, 333, 452, 567, 48, 100, 333, 452, 567, 48, 100, 333, 452, 567, 48, 100, 333, 452, 567, 48, 100, 333, 452, 567, 48, 100, 333, 452, 567, 48, 100, 333, 452, 567, 48, 100, 333, 452, 567, 48, 100, 333, 452, 567, 48, 100, 333, 452, 567, 48, 100, 333, 452, 567, 48, 100, 333, 452, 567, 48, 100, 333, 452, 567, 48, 100, 333, 452, 567, 48, 100, 333, 452, 567, 48, 100, 333, 452, 567, 48, 100, 333, 452, 567, 48, 100, 333, 452, 567, 48, 100, 333, 452, 567, 48, 100, 333, 452, 567, 48, 100, 333, 452, 567, 48, 100, 333, 452, 567, 48, 100, 333, 452, 567, 48, 100, 333, 452, 567, 48, 100, 333, 452, 567, 48, 100, 333, 452, 567, 48, 100, 333, 452, 567, 48, 100, 333, 452, 567, 48, 100, 333, 452, 567, 48, 100, 333, 452, 567, 48, 100, 333, 452, 567, 48, 100, 333, 452, 567, 48, 100, 333, 452, 567, 48, 100, 333, 452, 567, 48, 100, 333, 452, 567, 48, 100, 333, 452, 567, 48, 100, 333, 452, 567, 48, 100, 333, 452, 567, 48, 100, 333, 452, 567, 48, 100, 333, 452, 567, 48, 100, 333, 452, 567, 48, 100, 333, 452, 567, 48, 100, 333, 452, 567, 48, 100, 333, 452, 567, 48, 100, 333, 452, 567, 48, 100, 333, 452, 567, 48, 100, 333, 452, 567, 48, 100, 333, 452, 567, 48, 100, 333, 452, 567, 48, 100, 333, 452, 567, 48, 100, 333, 452, 567, 48, 100, 333, 452, 567, 48, 100, 333, 452, 567, 48, 100, 333, 452, 567, 48, 100, 333, 452, 567, 48, 100, 333, 452, 567, 48, 100, 333, 452, 567, 48, 100, 333, 452, 567, 48, 100, 333, 452, 567, 48, 100, 333, 452, 567, 48, 100, 333, 452, 567, 48, 100, 333, 452, 567, 48, 100, 333, 452, 567, 48, 100, 333, 452, 567, 48, 100, 333, 452, 567, 48, 100, 333, 452, 567, 48, 100, 333, 452, 567, 48, 100, 333, 452, 567, 48, 100, 333, 452, 567, 48, 100, 333, 452, 567, 48, 100, 333, 452, 567, 48, 100, 333, 452, 567, 48, 100, 333, 452, 567, 48, 100, 333, 452, 567, 48, 100, 333, 452, 567, 48, 100, 333, 452, 567, 48, 100, 333, 452, 567, 48, 100, 333, 452, 567, 48, 100, 333, 452, 567, 48, 100, 333, 452, 567, 48, 100, 333, 452, 567, 48, 100, 333, 452, 567, 48, 100, 333, 452, 567, 48, 100, 333, 452, 567, 48, 100, 333, 452, 567, 48, 100, 333, 452, 567, 48, 100, 333, 452, 567, 48, 100, 333, 452, 567, 48, 100, 333, 452, 567, 48, 100, 333, 452, 567, 48, 100, 333, 452, 567, 48, 100, 333, 452, 567, 48, 100, 333, 452, 567, 48, 100, 333, 452, 567, 48, 100, 333, 452, 567, 48, 100, 333, 452, 567, 48, 100, 333, 452, 567, 48, 100, 333, 452, 567, 48, 100, 333, 452, 567, 48, 100, 333, 452, 567, 48, 100, 333, 452, 567, 48, 100, 333, 452, 567, 48, 100, 333, 452, 567, 48, 100, 333, 452, 567, 48, 100, 333, 452, 567, 48, 100, 333, 452, 567, 48, 100, 333, 452, 567, 48, 100, 333, 452, 567, 48, 100, 333, 452, 567, 48, 100, 333, 452, 567, 48, 100, 333, 452, 567, 48, 100, 333, 452, 567, 48, 100, 333, 452, 567, 48, 100, 333, 452, 567, 48, 100, 333, 452, 567, 48, 100, 333, 452, 567, 48, 100, 333, 452, 567, 48, 100, 333, 452, 567, 48, 100, 333, 452, 567, 48, 100, 333, 452, 567, 48, 100, 333, 452, 567, 48, 100, 333, 452, 567, 48, 100, 333, 452, 567, 48, 100, 333, 452, 567, 48, 100, 333, 452, 567, 48, 100, 333, 452, 567, 48, 100, 333, 452, 567, 48, 100, 333, 452, 567, 48, 100, 333, 452, 567, 48, 100, 333, 452, 567, 48, 100, 333, 452, 567, 48, 100, 333, 452, 567, 48, 100, 333, 452, 567, 48, 100, 333, 452, 567, 48, 100, 333, 452, 567, 48, 100, 333, 452, 567, 48, 100, 333, 452, 567, 48, 100, 333, 452, 567, 48, 100, 333, 452, 567, 48, 100, 333, 452, 567, 48, 100, 333, 452, 567, 48, 100, 333, 452, 567, 48, 100, 333, 452, 567, 48, 100, 333, 452, 567, 48, 100, 333, 452, 567, 48, 100, 333, 452, 567, 48, 100, 333, 452, 567, 48, 100, 333, 452, 567, 48, 100, 333, 452, 567, 48, 100, 333, 452, 567, 48, 100, 333, 452, 567, 48, 100, 333, 452, 567, 48, 100, 333, 452, 567, 48, 100, 333, 452, 567, 48, 100, 333, 452, 567, 48, 100, 333, 452, 567, 48, 100, 333, 452, 567, 48, 100, 333, 452, 567, 48, 100, 333, 452, 567, 48, 100, 333, 452, 567, 48, 100, 333, 452, 567, 48, 100, 333, 452, 567, 48, 100, 333, 452, 567, 48, 100, 333, 452, 567, 48, 100, 333, 452, 567, 48, 100, 333, 452, 567, 48, 100, 333, 452, 567, 48, 100, 333, 452, 567, 48, 100, 333, 452, 567, 48, 100, 333, 452, 567, 48, 100, 333, 452, 567, 48, 100, 333, 452, 567, 48, 100, 333, 452, 567, 48, 100, 333, 452, 567, 48, 100, 333, 452, 567, 48, 100, 333, 452, 567, 48, 100, 333, 452, 567, 48, 100, 333, 452, 567, 48, 100, 333, 452, 567, 48, 100, 333, 452, 567, 48, 100, 333, 452, 567, 48, 100, 333, 452, 567, 48, 100, 333, 452, 567, 48, 100, 333, 452, 567, 48, 100, 333, 452, 567, 48, 100, 333, 452, 567, 48, 100, 333, 452, 567, 48, 100, 333, 452, 567, 48, 100, 333, 452, 567, 48, 100, 333, 452, 567, 48, 100, 333, 452, 567, 48, 100, 333, 452, 567, 48, 100, 333, 452, 567, 48, 100, 333, 452, 567, 48, 100, 333, 452, 567, 48, 100, 333, 452, 567, 48, 100, 333, 452, 567, 48, 100, 333, 452, 567, 48, 100, 333, 452, 567, 48, 100, 333, 452, 567, 48, 100, 333, 452, 567, 48, 100, 333, 452, 567, 48, 100, 333, 452, 567, 48, 100, 333, 452, 567, 48, 100, 333, 452, 567, 48, 100, 333, 452, 567, 48, 100, 333, 452, 567, 48, 100, 333, 452, 567, 48, 100, 333, 452, 567, 48, 100, 333, 452, 567, 48, 100, 333, 452, 567, 48, 100, 333, 452, 567, 48, 100, 333, 452, 567, 48, 100, 333, 452, 567, 48, 100, 333, 452, 567, 48, 100, 333, 452, 567, 48, 100, 333, 452, 567, 48, 100, 333, 452, 567, 48, 100, 333, 452, 567, 48, 100, 333, 452, 567, 48, 100, 333, 452, 567, 48, 100, 333, 452, 567, 48, 100, 333, 452, 567, 48, 100, 333, 452, 567, 48, 100, 333, 452, 567, 50, 1010, 55, 341, 132, 50, 1010, 55, 341, 132, 50, 1010, 55, 341, 132, 50, 1010, 55, 341, 132, 50, 1010, 55, 341, 132, 50, 1010, 55, 341, 132, 50, 1010, 55, 341, 132, 50, 1010, 55, 341, 132, 50, 1010, 55, 341, 132, 50, 1010, 55, 341, 132, 50, 1010, 55, 341, 132, 50, 1010, 55, 341, 132, 50, 1010, 55, 341, 132, 50, 1010, 55, 341, 132, 50, 1010, 55, 341, 132, 50, 1010, 55, 341, 132, 50, 1010, 55, 341, 132, 50, 1010, 55, 341, 132, 50, 1010, 55, 341, 132, 50, 1010, 55, 341, 132, 50, 1010, 55, 341, 132, 50, 1010, 55, 341, 132, 50, 1010, 55, 341, 132, 50, 1010, 55, 341, 132, 50, 1010, 55, 341, 132, 50, 1010, 55, 341, 132, 50, 1010, 55, 341, 132, 50, 1010, 55, 341, 132, 50, 1010, 55, 341, 132, 50, 1010, 55, 341, 132, 50, 1010, 55, 341, 132, 50, 1010, 55, 341, 132, 50, 1010, 55, 341, 132, 50, 1010, 55, 341, 132, 50, 1010, 55, 341, 132, 50, 1010, 55, 341, 132, 50, 1010, 55, 341, 132, 50, 1010, 55, 341, 132, 50, 1010, 55, 341, 132, 50, 1010, 55, 341, 132, 50, 1010, 55, 341, 132, 50, 1010, 55, 341, 132, 50, 1010, 55, 341, 132, 50, 1010, 55, 341, 132, 50, 1010, 55, 341, 132, 50, 1010, 55, 341, 132, 50, 1010, 55, 341, 132, 50, 1010, 55, 341, 132, 50, 1010, 55, 341, 132, 50, 1010, 55, 341, 132, 50, 1010, 55, 341, 132, 50, 1010, 55, 341, 132, 50, 1010, 55, 341, 132, 50, 1010, 55, 341, 132, 50, 1010, 55, 341, 132, 50, 1010, 55, 341, 132, 50, 1010, 55, 341, 132, 50, 1010, 55, 341, 132, 50, 1010, 55, 341, 132, 50, 1010, 55, 341, 132, 50, 1010, 55, 341, 132, 50, 1010, 55, 341, 132, 50, 1010, 55, 341, 132, 50, 1010, 55, 341, 132, 50, 1010, 55, 341, 132, 50, 1010, 55, 341, 132, 50, 1010, 55, 341, 132, 50, 1010, 55, 341, 132, 50, 1010, 55, 341, 132, 50, 1010, 55, 341, 132, 50, 1010, 55, 341, 132, 50, 1010, 55, 341, 132, 50, 1010, 55, 341, 132, 50, 1010, 55, 341, 132, 50, 1010, 55, 341, 132, 50, 1010, 55, 341, 132, 50, 1010, 55, 341, 132, 50, 1010, 55, 341, 132, 50, 1010, 55, 341, 132, 50, 1010, 55, 341, 132, 50, 1010, 55, 341, 132, 50, 1010, 55, 341, 132, 50, 1010, 55, 341, 132, 50, 1010, 55, 341, 132, 50, 1010, 55, 341, 132, 50, 1010, 55, 341, 132, 50, 1010, 55, 341, 132, 50, 1010, 55, 341, 132, 50, 1010, 55, 341, 132, 50, 1010, 55, 341, 132, 50, 1010, 55, 341, 132, 50, 1010, 55, 341, 132, 50, 1010, 55, 341, 132, 50, 1010, 55, 341, 132, 50, 1010, 55, 341, 132, 50, 1010, 55, 341, 132, 50, 1010, 55, 341, 132, 50, 1010, 55, 341, 132, 50, 1010, 55, 341, 132, 50, 1010, 55, 341, 132, 50, 1010, 55, 341, 132, 50, 1010, 55, 341, 132, 50, 1010, 55, 341, 132, 50, 1010, 55, 341, 132, 50, 1010, 55, 341, 132, 50, 1010, 55, 341, 132, 50, 1010, 55, 341, 132, 50, 1010, 55, 341, 132, 50, 1010, 55, 341, 132, 50, 1010, 55, 341, 132, 50, 1010, 55, 341, 132, 50, 1010, 55, 341, 132, 50, 1010, 55, 341, 132, 50, 1010, 55, 341, 132, 50, 1010, 55, 341, 132, 50, 1010, 55, 341, 132, 50, 1010, 55, 341, 132, 50, 1010, 55, 341, 132, 50, 1010, 55, 341, 132, 50, 1010, 55, 341, 132, 50, 1010, 55, 341, 132, 50, 1010, 55, 341, 132, 50, 1010, 55, 341, 132, 50, 1010, 55, 341, 132, 50, 1010, 55, 341, 132, 50, 1010, 55, 341, 132, 50, 1010, 55, 341, 132, 50, 1010, 55, 341, 132, 50, 1010, 55, 341, 132, 50, 1010, 55, 341, 132, 50, 1010, 55, 341, 132, 50, 1010, 55, 341, 132, 50, 1010, 55, 341, 132, 50, 1010, 55, 341, 132, 50, 1010, 55, 341, 132, 50, 1010, 55, 341, 132, 50, 1010, 55, 341, 132, 50, 1010, 55, 341, 132, 50, 1010, 55, 341, 132, 50, 1010, 55, 341, 132, 50, 1010, 55, 341, 132, 50, 1010, 55, 341, 132, 50, 1010, 55, 341, 132, 50, 1010, 55, 341, 132, 50, 1010, 55, 341, 132, 50, 1010, 55, 341, 132, 50, 1010, 55, 341, 132, 50, 1010, 55, 341, 132, 50, 1010, 55, 341, 132, 50, 1010, 55, 341, 132, 50, 1010, 55, 341, 132, 50, 1010, 55, 341, 132, 50, 1010, 55, 341, 132, 50, 1010, 55, 341, 132, 50, 1010, 55, 341, 132, 50, 1010, 55, 341, 132, 50, 1010, 55, 341, 132, 50, 1010, 55, 341, 132, 50, 1010, 55, 341, 132, 50, 1010, 55, 341, 132, 50, 1010, 55, 341, 132, 50, 1010, 55, 341, 132, 50, 1010, 55, 341, 132, 50, 1010, 55, 341, 132, 50, 1010, 55, 341, 132, 50, 1010, 55, 341, 132, 50, 1010, 55, 341, 132, 50, 1010, 55, 341, 132, 50, 1010, 55, 341, 132, 50, 1010, 55, 341, 132, 50, 1010, 55, 341, 132, 50, 1010, 55, 341, 132, 50, 1010, 55, 341, 132, 50, 1010, 55, 341, 132, 50, 1010, 55, 341, 132, 50, 1010, 55, 341, 132, 50, 1010, 55, 341, 132, 50, 1010, 55, 341, 132, 50, 1010, 55, 341, 132, 50, 1010, 55, 341, 132, 50, 1010, 55, 341, 132, 50, 1010, 55, 341, 132, 50, 1010, 55, 341, 132, 50, 1010, 55, 341, 132, 50, 1010, 55, 341, 132, 50, 1010, 55, 341, 132, 50, 1010, 55, 341, 132, 50, 1010, 55, 341, 132, 50, 1010, 55, 341, 132, 50, 1010, 55, 341, 132, 50, 1010, 55, 341, 132, 50, 1010, 55, 341, 132, 50, 1010, 55, 341, 132, 50, 1010, 55, 341, 132, 50, 1010, 55, 341, 132, 50, 1010, 55, 341, 132, 50, 1010, 55, 341, 132, 50, 1010, 55, 341, 132, 50, 1010, 55, 341, 132, 50, 1010, 55, 341, 132, 50, 1010, 55, 341, 132, 50, 1010, 55, 341, 132, 50, 1010, 55, 341, 132, 50, 1010, 55, 341, 132, 50, 1010, 55, 341, 132, 50, 1010, 55, 341, 132, 50, 1010, 55, 341, 132, 50, 1010, 55, 341, 132, 50, 1010, 55, 341, 132, 50, 1010, 55, 341, 132, 50, 1010, 55, 341, 132, 50, 1010, 55, 341, 132, 50, 1010, 55, 341, 132, 50, 1010, 55, 341, 132, 50, 1010, 55, 341, 132, 50, 1010, 55, 341, 132, 50, 1010, 55, 341, 132, 50, 1010, 55, 341, 132, 50, 1010, 55, 341, 132, 50, 1010, 55, 341, 132, 50, 1010, 55, 341, 132, 50, 1010, 55, 341, 132, 50, 1010, 55, 341, 132, 50, 1010, 55, 341, 132, 50, 1010, 55, 341, 132, 50, 1010, 55, 341, 132, 50, 1010, 55, 341, 132, 50, 1010, 55, 341, 132, 50, 1010, 55, 341, 132, 50, 1010, 55, 341, 132, 50, 1010, 55, 341, 132, 50, 1010, 55, 341, 132, 50, 1010, 55, 341, 132, 50, 1010, 55, 341, 132, 50, 1010, 55, 341, 132, 50, 1010, 55, 341, 132, 50, 1010, 55, 341, 132, 50, 1010, 55, 341, 132, 50, 1010, 55, 341, 132, 50, 1010, 55, 341, 132, 50, 1010, 55, 341, 132, 50, 1010, 55, 341, 132, 50, 1010, 55, 341, 132, 50, 1010, 55, 341, 132, 50, 1010, 55, 341, 132, 50, 1010, 55, 341, 132, 50, 1010, 55, 341, 132, 50, 1010, 55, 341, 132, 50, 1010, 55, 341, 132, 50, 1010, 55, 341, 132, 50, 1010, 55, 341, 132, 50, 1010, 55, 341, 132, 50, 1010, 55, 341, 132, 50, 1010, 55, 341, 132, 50, 1010, 55, 341, 132, 50, 1010, 55, 341, 132, 50, 1010, 55, 341, 132, 50, 1010, 55, 341, 132, 50, 1010, 55, 341, 132, 50, 1010, 55, 341, 132, 50, 1010, 55, 341, 132, 50, 1010, 55, 341, 132, 50, 1010, 55, 341, 132, 50, 1010, 55, 341, 132, 50, 1010, 55, 341, 132, 50, 1010, 55, 341, 132, 50, 1010, 55, 341, 132, 50, 1010, 55, 341, 132, 50, 1010, 55, 341, 132, 50, 1010, 55, 341, 132, 50, 1010, 55, 341, 132, 50, 1010, 55, 341, 132, 50, 1010, 55, 341, 132, 50, 1010, 55, 341, 132, 50, 1010, 55, 341, 132, 50, 1010, 55, 341, 132, 50, 1010, 55, 341, 132, 50, 1010, 55, 341, 132, 50, 1010, 55, 341, 132, 50, 1010, 55, 341, 132, 50, 1010, 55, 341, 132, 50, 1010, 55, 341, 132, 50, 1010, 55, 341, 132, 50, 1010, 55, 341, 132, 50, 1010, 55, 341, 132, 50, 1010, 55, 341, 132, 50, 1010, 55, 341, 132, 50, 1010, 55, 341, 132, 50, 1010, 55, 341, 132, 50, 1010, 55, 341, 132, 50, 1010, 55, 341, 132, 50, 1010, 55, 341, 132, 50, 1010, 55, 341, 132, 50, 1010, 55, 341, 132, 50, 1010, 55, 341, 132, 50, 1010, 55, 341, 132, 50, 1010, 55, 341, 132, 50, 1010, 55, 341, 132, 50, 1010, 55, 341, 132, 50, 1010, 55, 341, 132, 50, 1010, 55, 341, 132, 50, 1010, 55, 341, 132, 50, 1010, 55, 341, 132, 50, 1010, 55, 341, 132, 50, 1010, 55, 341, 132, 50, 1010, 55, 341, 132, 50, 1010, 55, 341, 132, 50, 1010, 55, 341, 132, 50, 1010, 55, 341, 132, 50, 1010, 55, 341, 132, 50, 1010, 55, 341, 132, 50, 1010, 55, 341, 132, 50, 1010, 55, 341, 132, 50, 1010, 55, 341, 132, 50, 1010, 55, 341, 132, 50, 1010, 55, 341, 132, 50, 1010, 55, 341, 132, 50, 1010, 55, 341, 132, 50, 1010, 55, 341, 132, 50, 1010, 55, 341, 132, 50, 1010, 55, 341, 132, 50, 1010, 55, 341, 132, 50, 1010, 55, 341, 132, 50, 1010, 55, 341, 132, 50, 1010, 55, 341, 132, 50, 1010, 55, 341, 132, 50, 1010, 55, 341, 132, 50, 1010, 55, 341, 132, 50, 1010, 55, 341, 132, 50, 1010, 55, 341, 132, 50, 1010, 55, 341, 132, 50, 1010, 55, 341, 132, 50, 1010, 55, 341, 132, 50, 1010, 55, 341, 132, 50, 1010, 55, 341, 132, 50, 1010, 55, 341, 132, 50, 1010, 55, 341, 132, 50, 1010, 55, 341, 132, 50, 1010, 55, 341, 132, 50, 1010, 55, 341, 132, 50, 1010, 55, 341, 132, 50, 1010, 55, 341, 132, 50, 1010, 55, 341, 132, 50, 1010, 55, 341, 132, 50, 1010, 55, 341, 132, 50, 1010, 55, 341, 132, 50, 1010, 55, 341, 132, 50, 1010, 55, 341, 132, 50, 1010, 55, 341, 132, 50, 1010, 55, 341, 132, 50, 1010, 55, 341, 132, 50, 1010, 55, 341, 132, 50, 1010, 55, 341, 132, 50, 1010, 55, 341, 132, 50, 1010, 55, 341, 132, 50, 1010, 55, 341, 132, 50, 1010, 55, 341, 132, 50, 1010, 55, 341, 132, 50, 1010, 55, 341, 132, 50, 1010, 55, 341, 132, 50, 1010, 55, 341, 132, 50, 1010, 55, 341, 132, 50, 1010, 55, 341, 132, 50, 1010, 55, 341, 132, 50, 1010, 55, 341, 132, 50, 1010, 55, 341, 132, 50, 1010, 55, 341, 132, 50, 1010, 55, 341, 132, 50, 1010, 55, 341, 132, 50, 1010, 55, 341, 132, 50, 1010, 55, 341, 132, 50, 1010, 55, 341, 132, 50, 1010, 55, 341, 132, 50, 1010, 55, 341, 132, 50, 1010, 55, 341, 132, 50, 1010, 55, 341, 132, 50, 1010, 55, 341, 132, 50, 1010, 55, 341, 132, 50, 1010, 55, 341, 132, 50, 1010, 55, 341, 132, 50, 1010, 55, 341, 132, 50, 1010, 55, 341, 132, 50, 1010, 55, 341, 132, 50, 1010, 55, 341, 132, 50, 1010, 55, 341, 132, 50, 1010, 55, 341, 132, 50, 1010, 55, 341, 132, 50, 1010, 55, 341, 132, 50, 1010, 55, 341, 132, 50, 1010, 55, 341, 132, 50, 1010, 55, 341, 132, 50, 1010, 55, 341, 132, 50, 1010, 55, 341, 132, 50, 1010, 55, 341, 132, 50, 1010, 55, 341, 132, 50, 1010, 55, 341, 132, 50, 1010, 55, 341, 132, 50, 1010, 55, 341, 132, 50, 1010, 55, 341, 132, 50, 1010, 55, 341, 132, 50, 1010, 55, 341, 132, 50, 1010, 55, 341, 132, 50, 1010, 55, 341, 132, 50, 1010, 55, 341, 132, 50, 1010, 55, 341, 132, 50, 1010, 55, 341, 132, 50, 1010, 55, 341, 132, 50, 1010, 55, 341, 132, 50, 1010, 55, 341, 132, 50, 1010, 55, 341, 132, 50, 1010, 55, 341, 132, 50, 1010, 55, 341, 132, 50, 1010, 55, 341, 132, 50, 1010, 55, 341, 132, 50, 1010, 55, 341, 132, 50, 1010, 55, 341, 132, 50, 1010, 55, 341, 132, 50, 1010, 55, 341, 132, 50, 1010, 55, 341, 132, 50, 1010, 55, 341, 132, 50, 1010, 55, 341, 132, 50, 1010, 55, 341, 132, 50, 1010, 55, 341, 132, 50, 1010, 55, 341, 132, 50, 1010, 55, 341, 132, 50, 1010, 55, 341, 132, 50, 1010, 55, 341, 132, 50, 1010, 55, 341, 132, 50, 1010, 55, 341, 132, 50, 1010, 55, 341, 132, 50, 1010, 55, 341, 132, 50, 1010, 55, 341, 132, 50, 1010, 55, 341, 132, 50, 1010, 55, 341, 132, 50, 1010, 55, 341, 132, 50, 1010, 55, 341, 132, 50, 1010, 55, 341, 132, 50, 1010, 55, 341, 132, 50, 1010, 55, 341, 132, 50, 1010, 55, 341, 132, 50, 1010, 55, 341, 132, 50, 1010, 55, 341, 132, 50, 1010, 55, 341, 132, 50, 1010, 55, 341, 132, 50, 1010, 55, 341, 132, 50, 1010, 55, 341, 132, 50, 1010, 55, 341, 132, 50, 1010, 55, 341, 132, 50, 1010, 55, 341, 132, 50, 1010, 55, 341, 132, 50, 1010, 55, 341, 132, 50, 1010, 55, 341, 132, 50, 1010, 55, 341, 132, 50, 1010, 55, 341, 132, 50, 1010, 55, 341, 132, 50, 1010, 55, 341, 132, 50, 1010, 55, 341, 132, 50, 1010, 55, 341, 132, 50, 1010, 55, 341, 132, 50, 1010, 55, 341, 132, 50, 1010, 55, 341, 132, 50, 1010, 55, 341, 132, 50, 1010, 55, 341, 132, 50, 1010, 55, 341, 132, 50, 1010, 55, 341, 132, 50, 1010, 55, 341, 132, 50, 1010, 55, 341, 132, 50, 1010, 55, 341, 132, 50, 1010, 55, 341, 132, 50, 1010, 55, 341, 132, 50, 1010, 55, 341, 132, 50, 1010, 55, 341, 132, 50, 1010, 55, 341, 132, 50, 1010, 55, 341, 132, 50, 1010, 55, 341, 132, 50, 1010, 55, 341, 132, 50, 1010, 55, 341, 132, 50, 1010, 55, 341, 132, 50, 1010, 55, 341, 132, 50, 1010, 55, 341, 132, 50, 1010, 55, 341, 132, 50, 1010, 55, 341, 132, 50, 1010, 55, 341, 132, 50, 1010, 55, 341, 132, 50, 1010, 55, 341, 132, 50, 1010, 55, 341, 132, 50, 1010, 55, 341, 132, 50, 1010, 55, 341, 132, 50, 1010, 55, 341, 132, 50, 1010, 55, 341, 132, 50, 1010, 55, 341, 132, 50, 1010, 55, 341, 132, 50, 1010, 55, 341, 132, 50, 1010, 55, 341, 132, 50, 1010, 55, 341, 132, 50, 1010, 55, 341, 132, 822, 563, 77, 451, 475, 822, 563, 77, 451, 475, 822, 563, 77, 451, 475, 822, 563, 77, 451, 475, 822, 563, 77, 451, 475, 822, 563, 77, 451, 475, 822, 563, 77, 451, 475, 822, 563, 77, 451, 475, 822, 563, 77, 451, 475, 822, 563, 77, 451, 475, 822, 563, 77, 451, 475, 822, 563, 77, 451, 475, 822, 563, 77, 451, 475, 822, 563, 77, 451, 475, 822, 563, 77, 451, 475]),\n",
              "       list([70, 16, 30, 21, 70, 16, 30, 21, 70, 16, 30, 21, 70, 16, 30, 21, 70, 16, 30, 21, 70, 16, 30, 21, 70, 16, 30, 21, 70, 16, 30, 21, 70, 16, 30, 21, 70, 16, 30, 21, 70, 16, 30, 21, 70, 16, 30, 21, 70, 16, 30, 21, 70, 16, 30, 21, 70, 16, 30, 21, 70, 16, 30, 21, 70, 16, 30, 21, 70, 16, 30, 21, 70, 16, 30, 21, 70, 16, 30, 21, 70, 16, 30, 21, 70, 16, 30, 21, 70, 16, 30, 21, 70, 16, 30, 21, 33, 34, 2, 43, 599, 33, 34, 2, 43, 599, 33, 34, 2, 43, 599, 33, 34, 2, 43, 599, 33, 34, 2, 43, 599, 33, 34, 2, 43, 599, 33, 34, 2, 43, 599, 33, 34, 2, 43, 599, 33, 34, 2, 43, 599, 33, 34, 2, 43, 599, 33, 34, 2, 43, 599, 33, 34, 2, 43, 599, 33, 34, 2, 43, 599, 33, 34, 2, 43, 599, 33, 34, 2, 43, 599, 33, 34, 2, 43, 599, 33, 34, 2, 43, 599, 33, 34, 2, 43, 599, 33, 34, 2, 43, 599, 33, 34, 2, 43, 599, 33, 34, 2, 43, 599, 33, 34, 2, 43, 599, 33, 34, 2, 43, 599, 33, 34, 2, 43, 599, 33, 34, 2, 43, 599, 33, 34, 2, 43, 599, 33, 34, 2, 43, 599, 33, 34, 2, 43, 599, 33, 34, 2, 43, 599, 33, 34, 2, 43, 599, 33, 34, 2, 43, 599, 33, 34, 2, 43, 599, 33, 34, 2, 43, 599, 33, 34, 2, 43, 599, 33, 34, 2, 43, 599, 33, 34, 2, 43, 599, 33, 34, 2, 43, 599, 33, 34, 2, 43, 599, 33, 34, 2, 43, 599, 33, 34, 2, 43, 599, 33, 34, 2, 43, 599, 33, 34, 2, 43, 599, 33, 34, 2, 43, 599, 33, 34, 2, 43, 599, 33, 34, 2, 43, 599, 33, 34, 2, 43, 599, 33, 34, 2, 43, 599, 33, 34, 2, 43, 599, 33, 34, 2, 43, 599, 33, 34, 2, 43, 599, 33, 34, 2, 43, 599, 33, 34, 2, 43, 599, 33, 34, 2, 43, 599, 33, 34, 2, 43, 599, 33, 34, 2, 43, 599, 33, 34, 2, 43, 599, 33, 34, 2, 43, 599, 33, 34, 2, 43, 599, 33, 34, 2, 43, 599, 33, 34, 2, 43, 599, 33, 34, 2, 43, 599, 33, 34, 2, 43, 599, 33, 34, 2, 43, 599, 33, 34, 2, 43, 599, 33, 34, 2, 43, 599, 33, 34, 2, 43, 599, 33, 34, 2, 43, 599, 33, 34, 2, 43, 599, 33, 34, 2, 43, 599, 33, 34, 2, 43, 599, 33, 34, 2, 43, 599, 33, 34, 2, 43, 599, 33, 34, 2, 43, 599, 33, 34, 2, 43, 599, 33, 34, 2, 43, 599, 33, 34, 2, 43, 599, 33, 34, 2, 43, 599, 33, 34, 2, 43, 599, 33, 34, 2, 43, 599, 33, 34, 2, 43, 599, 33, 34, 2, 43, 599, 33, 34, 2, 43, 599, 33, 34, 2, 43, 599, 33, 34, 2, 43, 599, 33, 34, 2, 43, 599, 33, 34, 2, 43, 599, 33, 34, 2, 43, 599, 33, 34, 2, 43, 599, 33, 34, 2, 43, 599, 33, 34, 2, 43, 599, 33, 34, 2, 43, 599, 33, 34, 2, 43, 599, 33, 34, 2, 43, 599, 33, 34, 2, 43, 599, 33, 34, 2, 43, 599, 33, 34, 2, 43, 599, 33, 34, 2, 43, 599, 33, 34, 2, 43, 599, 33, 34, 2, 43, 599, 33, 34, 2, 43, 599, 33, 34, 2, 43, 599, 33, 34, 2, 43, 599, 33, 34, 2, 43, 599, 33, 34, 2, 43, 599, 33, 34, 2, 43, 599, 33, 34, 2, 43, 599, 33, 34, 2, 43, 599, 33, 34, 2, 43, 599, 33, 34, 2, 43, 599, 33, 34, 2, 43, 599, 33, 34, 2, 43, 599, 33, 34, 2, 43, 599, 33, 34, 2, 43, 599, 33, 34, 2, 43, 599, 33, 34, 2, 43, 599, 33, 34, 2, 43, 599, 33, 34, 2, 43, 599, 33, 34, 2, 43, 599, 33, 34, 2, 43, 599, 33, 34, 2, 43, 599, 33, 34, 2, 43, 599, 33, 34, 2, 43, 599, 33, 34, 2, 43, 599, 33, 34, 2, 43, 599, 33, 34, 2, 43, 599, 33, 34, 2, 43, 599, 33, 34, 2, 43, 599, 33, 34, 2, 43, 599, 33, 34, 2, 43, 599, 33, 34, 2, 43, 599, 33, 34, 2, 43, 599, 33, 34, 2, 43, 599, 33, 34, 2, 43, 599, 33, 34, 2, 43, 599, 33, 34, 2, 43, 599, 33, 34, 2, 43, 599, 33, 34, 2, 43, 599, 33, 34, 2, 43, 599, 33, 34, 2, 43, 599, 33, 34, 2, 43, 599, 33, 34, 2, 43, 599, 33, 34, 2, 43, 599, 33, 34, 2, 43, 599, 33, 34, 2, 43, 599, 33, 34, 2, 43, 599, 33, 34, 2, 43, 599, 33, 34, 2, 43, 599, 33, 34, 2, 43, 599, 33, 34, 2, 43, 599, 33, 34, 2, 43, 599, 33, 34, 2, 43, 599, 33, 34, 2, 43, 599, 33, 34, 2, 43, 599, 33, 34, 2, 43, 599, 33, 34, 2, 43, 599, 33, 34, 2, 43, 599, 33, 34, 2, 43, 599, 33, 34, 2, 43, 599, 33, 34, 2, 43, 599, 33, 34, 2, 43, 599, 33, 34, 2, 43, 599, 33, 34, 2, 43, 599, 33, 34, 2, 43, 599, 33, 34, 2, 43, 599, 33, 34, 2, 43, 599, 33, 34, 2, 43, 599, 33, 34, 2, 43, 599, 33, 34, 2, 43, 599, 33, 34, 2, 43, 599, 33, 34, 2, 43, 599, 33, 34, 2, 43, 599, 33, 34, 2, 43, 599, 33, 34, 2, 43, 599, 33, 34, 2, 43, 599, 33, 34, 2, 43, 599, 33, 34, 2, 43, 599, 33, 34, 2, 43, 599, 33, 34, 2, 43, 599, 33, 34, 2, 43, 599, 33, 34, 2, 43, 599, 33, 34, 2, 43, 599, 33, 34, 2, 43, 599, 33, 34, 2, 43, 599, 33, 34, 2, 43, 599, 33, 34, 2, 43, 599, 33, 34, 2, 43, 599, 33, 34, 2, 43, 599, 33, 34, 2, 43, 599, 33, 34, 2, 43, 599, 33, 34, 2, 43, 599, 33, 34, 2, 43, 599, 33, 34, 2, 43, 599, 33, 34, 2, 43, 599, 33, 34, 2, 43, 599, 33, 34, 2, 43, 599, 33, 34, 2, 43, 599, 33, 34, 2, 43, 599, 33, 34, 2, 43, 599, 33, 34, 2, 43, 599, 33, 34, 2, 43, 599, 33, 34, 2, 43, 599, 33, 34, 2, 43, 599, 33, 34, 2, 43, 599, 33, 34, 2, 43, 599, 33, 34, 2, 43, 599, 33, 34, 2, 43, 599, 33, 34, 2, 43, 599, 33, 34, 2, 43, 599, 33, 34, 2, 43, 599, 33, 34, 2, 43, 599, 33, 34, 2, 43, 599, 33, 34, 2, 43, 599, 33, 34, 2, 43, 599, 33, 34, 2, 43, 599, 33, 34, 2, 43, 599, 33, 34, 2, 43, 599, 33, 34, 2, 43, 599, 33, 34, 2, 43, 599, 33, 34, 2, 43, 599, 33, 34, 2, 43, 599, 33, 34, 2, 43, 599, 33, 34, 2, 43, 599, 33, 34, 2, 43, 599, 33, 34, 2, 43, 599, 33, 34, 2, 43, 599, 33, 34, 2, 43, 599, 33, 34, 2, 43, 599, 33, 34, 2, 43, 599, 33, 34, 2, 43, 599, 33, 34, 2, 43, 599, 33, 34, 2, 43, 599, 33, 34, 2, 43, 599, 33, 34, 2, 43, 599, 33, 34, 2, 43, 599, 33, 34, 2, 43, 599, 33, 34, 2, 43, 599, 33, 34, 2, 43, 599, 33, 34, 2, 43, 599, 33, 34, 2, 43, 599, 33, 34, 2, 43, 599, 33, 34, 2, 43, 599, 33, 34, 2, 43, 599, 33, 34, 2, 43, 599, 33, 34, 2, 43, 599, 33, 34, 2, 43, 599, 33, 34, 2, 43, 599, 33, 34, 2, 43, 599, 33, 34, 2, 43, 599, 33, 34, 2, 43, 599, 33, 34, 2, 43, 599, 33, 34, 2, 43, 599, 33, 34, 2, 43, 599, 33, 34, 2, 43, 599, 33, 34, 2, 43, 599, 33, 34, 2, 43, 599, 33, 34, 2, 43, 599, 33, 34, 2, 43, 599, 33, 34, 2, 43, 599, 33, 34, 2, 43, 599, 33, 34, 2, 43, 599, 33, 34, 2, 43, 599, 33, 34, 2, 43, 599, 33, 34, 2, 43, 599, 33, 34, 2, 43, 599, 33, 34, 2, 43, 599, 33, 34, 2, 43, 599, 33, 34, 2, 43, 599, 33, 34, 2, 43, 599, 33, 34, 2, 43, 599, 33, 34, 2, 43, 599, 33, 34, 2, 43, 599, 33, 34, 2, 43, 599, 33, 34, 2, 43, 599, 33, 34, 2, 43, 599, 33, 34, 2, 43, 599, 33, 34, 2, 43, 599, 33, 34, 2, 43, 599, 33, 34, 2, 43, 599, 33, 34, 2, 43, 599, 33, 34, 2, 43, 599, 33, 34, 2, 43, 599, 33, 34, 2, 43, 599, 33, 34, 2, 43, 599, 33, 34, 2, 43, 599, 33, 34, 2, 43, 599, 33, 34, 2, 43, 599, 33, 34, 2, 43, 599, 33, 34, 2, 43, 599, 33, 34, 2, 43, 599, 33, 34, 2, 43, 599, 33, 34, 2, 43, 599, 33, 34, 2, 43, 599, 33, 34, 2, 43, 599, 33, 34, 2, 43, 599, 33, 34, 2, 43, 599, 33, 34, 2, 43, 599, 33, 34, 2, 43, 599, 33, 34, 2, 43, 599, 33, 34, 2, 43, 599, 33, 34, 2, 43, 599, 33, 34, 2, 43, 599, 33, 34, 2, 43, 599, 33, 34, 2, 43, 599, 33, 34, 2, 43, 599, 33, 34, 2, 43, 599, 33, 34, 2, 43, 599, 33, 34, 2, 43, 599, 33, 34, 2, 43, 599, 33, 34, 2, 43, 599, 33, 34, 2, 43, 599, 33, 34, 2, 43, 599, 33, 34, 2, 43, 599, 33, 34, 2, 43, 599, 33, 34, 2, 43, 599, 33, 34, 2, 43, 599, 33, 34, 2, 43, 599, 33, 34, 2, 43, 599, 33, 34, 2, 43, 599, 33, 34, 2, 43, 599, 33, 34, 2, 43, 599, 33, 34, 2, 43, 599, 33, 34, 2, 43, 599, 33, 34, 2, 43, 599, 33, 34, 2, 43, 599, 33, 34, 2, 43, 599, 33, 34, 2, 43, 599, 33, 34, 2, 43, 599, 33, 34, 2, 43, 599, 33, 34, 2, 43, 599, 33, 34, 2, 43, 599, 33, 34, 2, 43, 599, 33, 34, 2, 43, 599, 33, 34, 2, 43, 599, 33, 34, 2, 43, 599, 33, 34, 2, 43, 599, 33, 34, 2, 43, 599, 33, 34, 2, 43, 599, 33, 34, 2, 43, 599, 33, 34, 2, 43, 599, 33, 34, 2, 43, 599, 33, 34, 2, 43, 599, 33, 34, 2, 43, 599, 33, 34, 2, 43, 599, 33, 34, 2, 43, 599, 33, 34, 2, 43, 599, 33, 34, 2, 43, 599, 33, 34, 2, 43, 599, 33, 34, 2, 43, 599, 33, 34, 2, 43, 599, 33, 34, 2, 43, 599, 33, 34, 2, 43, 599, 33, 34, 2, 43, 599, 33, 34, 2, 43, 599, 33, 34, 2, 43, 599, 33, 34, 2, 43, 599, 33, 34, 2, 43, 599, 33, 34, 2, 43, 599, 33, 34, 2, 43, 599, 33, 34, 2, 43, 599, 33, 34, 2, 43, 599, 33, 34, 2, 43, 599, 33, 34, 2, 43, 599, 33, 34, 2, 43, 599, 33, 34, 2, 43, 599, 33, 34, 2, 43, 599, 33, 34, 2, 43, 599, 33, 34, 2, 43, 599, 33, 34, 2, 43, 599, 33, 34, 2, 43, 599, 33, 34, 2, 43, 599, 33, 34, 2, 43, 599, 33, 34, 2, 43, 599, 33, 34, 2, 43, 599, 33, 34, 2, 43, 599, 33, 34, 2, 43, 599, 33, 34, 2, 43, 599, 33, 34, 2, 43, 599, 33, 34, 2, 43, 599, 33, 34, 2, 43, 599, 33, 34, 2, 43, 599, 33, 34, 2, 43, 599, 33, 34, 2, 43, 599, 33, 34, 2, 43, 599, 33, 34, 2, 43, 599, 33, 34, 2, 43, 599, 33, 34, 2, 43, 599, 33, 34, 2, 43, 599, 33, 34, 2, 43, 599, 33, 34, 2, 43, 599, 33, 34, 2, 43, 599, 33, 34, 2, 43, 599, 33, 34, 2, 43, 599, 33, 34, 2, 43, 599, 33, 34, 2, 43, 599, 33, 34, 2, 43, 599, 33, 34, 2, 43, 599, 33, 34, 2, 43, 599, 33, 34, 2, 43, 599, 33, 34, 2, 43, 599, 33, 34, 2, 43, 599, 33, 34, 2, 43, 599, 33, 34, 2, 43, 599, 33, 34, 2, 43, 599, 33, 34, 2, 43, 599, 33, 34, 2, 43, 599, 33, 34, 2, 43, 599, 33, 34, 2, 43, 599, 33, 34, 2, 43, 599, 33, 34, 2, 43, 599, 33, 34, 2, 43, 599, 33, 34, 2, 43, 599, 33, 34, 2, 43, 599, 33, 34, 2, 43, 599, 33, 34, 2, 43, 599, 33, 34, 2, 43, 599, 33, 34, 2, 43, 599, 33, 34, 2, 43, 599, 33, 34, 2, 43, 599, 33, 34, 2, 43, 599, 33, 34, 2, 43, 599, 33, 34, 2, 43, 599, 33, 34, 2, 43, 599, 33, 34, 2, 43, 599, 33, 34, 2, 43, 599, 33, 34, 2, 43, 599, 33, 34, 2, 43, 599, 33, 34, 2, 43, 599, 33, 34, 2, 43, 599, 33, 34, 2, 43, 599, 33, 34, 2, 43, 599, 33, 34, 2, 43, 599, 33, 34, 2, 43, 599, 33, 34, 2, 43, 599, 33, 34, 2, 43, 599, 33, 34, 2, 43, 599, 33, 34, 2, 43, 599, 33, 34, 2, 43, 599, 33, 34, 2, 43, 599, 33, 34, 2, 43, 599, 33, 34, 2, 43, 599, 33, 34, 2, 43, 599, 33, 34, 2, 43, 599, 33, 34, 2, 43, 599, 33, 34, 2, 43, 599, 33, 34, 2, 43, 599, 33, 34, 2, 43, 599, 33, 34, 2, 43, 599, 33, 34, 2, 43, 599, 33, 34, 2, 43, 599, 33, 34, 2, 43, 599, 33, 34, 2, 43, 599, 33, 34, 2, 43, 599, 33, 34, 2, 43, 599, 33, 34, 2, 43, 599, 33, 34, 2, 43, 599, 33, 34, 2, 43, 599, 33, 34, 2, 43, 599, 33, 34, 2, 43, 599, 33, 34, 2, 43, 599, 33, 34, 2, 43, 599, 33, 34, 2, 43, 599, 33, 34, 2, 43, 599, 33, 34, 2, 43, 599, 33, 34, 2, 43, 599, 33, 34, 2, 43, 599, 33, 34, 2, 43, 599, 33, 34, 2, 43, 599, 33, 34, 2, 43, 599, 33, 34, 2, 43, 599, 33, 34, 2, 43, 599, 33, 34, 2, 43, 599, 33, 34, 2, 43, 599, 33, 34, 2, 43, 599, 33, 34, 2, 43, 599, 33, 34, 2, 43, 599, 33, 34, 2, 43, 599, 33, 34, 2, 43, 599, 33, 34, 2, 43, 599, 33, 34, 2, 43, 599, 33, 34, 2, 43, 599, 33, 34, 2, 43, 599, 33, 34, 2, 43, 599, 33, 34, 2, 43, 599, 33, 34, 2, 43, 599, 33, 34, 2, 43, 599, 33, 34, 2, 43, 599, 33, 34, 2, 43, 599, 33, 34, 2, 43, 599, 33, 34, 2, 43, 599, 33, 34, 2, 43, 599, 33, 34, 2, 43, 599, 33, 34, 2, 43, 599, 33, 34, 2, 43, 599, 33, 34, 2, 43, 599, 33, 34, 2, 43, 599, 33, 34, 2, 43, 599, 33, 34, 2, 43, 599, 33, 34, 2, 43, 599, 33, 34, 2, 43, 599, 33, 34, 2, 43, 599, 33, 34, 2, 43, 599, 33, 34, 2, 43, 599, 33, 34, 2, 43, 599, 33, 34, 2, 43, 599, 33, 34, 2, 43, 599, 33, 34, 2, 43, 599, 33, 34, 2, 43, 599, 33, 34, 2, 43, 599, 33, 34, 2, 43, 599, 33, 34, 2, 43, 599, 33, 34, 2, 43, 599, 33, 34, 2, 43, 599, 33, 34, 2, 43, 599, 33, 34, 2, 43, 599, 33, 34, 2, 43, 599, 33, 34, 2, 43, 599, 33, 34, 2, 43, 599, 33, 34, 2, 43, 599, 33, 34, 2, 43, 599, 33, 34, 2, 43, 599, 33, 34, 2, 43, 599, 33, 34, 2, 43, 599, 33, 34, 2, 43, 599, 33, 34, 2, 43, 599, 33, 34, 2, 43, 599, 33, 34, 2, 43, 599, 33, 34, 2, 43, 599, 33, 34, 2, 43, 599, 33, 34, 2, 43, 599, 33, 34, 2, 43, 599, 33, 34, 2, 43, 599, 33, 34, 2, 43, 599, 33, 34, 2, 43, 599, 33, 34, 2, 43, 599, 33, 34, 2, 43, 599, 33, 34, 2, 43, 599, 33, 34, 2, 43, 599, 33, 34, 2, 43, 599, 33, 34, 2, 43, 599, 33, 34, 2, 43, 599, 33, 34, 2, 43, 599, 33, 34, 2, 43, 599, 33, 34, 2, 43, 599, 33, 34, 2, 43, 599, 33, 34, 2, 43, 599, 33, 34, 2, 43, 599, 33, 34, 2, 43, 599, 33, 34, 2, 43, 599, 33, 34, 2, 43, 599, 33, 34, 2, 43, 599, 33, 34, 2, 43, 599, 33, 34, 2, 43, 599, 33, 34, 2, 43, 599, 33, 34, 2, 43, 599, 33, 34, 2, 43, 599, 33, 34, 2, 43, 599, 33, 34, 2, 43, 599, 33, 34, 2, 43, 599, 33, 34, 2, 43, 599, 33, 34, 2, 43, 599, 33, 34, 2, 43, 599, 33, 34, 2, 43, 599, 33, 34, 2, 43, 599, 33, 34, 2, 43, 599, 33, 34, 2, 43, 599, 33, 34, 2, 43, 599, 33, 34, 2, 43, 599, 33, 34, 2, 43, 599, 33, 34, 2, 43, 599, 33, 34, 2, 43, 599, 33, 34, 2, 43, 599, 33, 34, 2, 43, 599, 33, 34, 2, 43, 599, 33, 34, 2, 43, 599, 33, 34, 2, 43, 599, 33, 34, 2, 43, 599, 33, 34, 2, 43, 599, 33, 34, 2, 43, 599, 33, 34, 2, 43, 599, 33, 34, 2, 43, 599, 33, 34, 2, 43, 599, 33, 34, 2, 43, 599, 33, 34, 2, 43, 599, 33, 34, 2, 43, 599, 33, 34, 2, 43, 599, 33, 34, 2, 43, 599, 33, 34, 2, 43, 599, 33, 34, 2, 43, 599, 33, 34, 2, 43, 599, 33, 34, 2, 43, 599, 33, 34, 2, 43, 599, 33, 34, 2, 43, 599, 33, 34, 2, 43, 599, 33, 34, 2, 43, 599, 33, 34, 2, 43, 599, 33, 34, 2, 43, 599, 33, 34, 2, 43, 599, 33, 34, 2, 43, 599, 33, 34, 2, 43, 599, 33, 34, 2, 43, 599, 33, 34, 2, 43, 599, 33, 34, 2, 43, 599, 33, 34, 2, 43, 599, 33, 34, 2, 43, 599, 33, 34, 2, 43, 599, 33, 34, 2, 43, 599, 33, 34, 2, 43, 599, 33, 34, 2, 43, 599, 33, 34, 2, 43, 599, 33, 34, 2, 43, 599, 33, 34, 2, 43, 599, 33, 34, 2, 43, 599, 33, 34, 2, 43, 599, 33, 34, 2, 43, 599, 33, 34, 2, 43, 599, 33, 34, 2, 43, 599, 33, 34, 2, 43, 599, 33, 34, 2, 43, 599, 33, 34, 2, 43, 599, 33, 34, 2, 43, 599, 33, 34, 2, 43, 599, 33, 34, 2, 43, 599, 33, 34, 2, 43, 599, 33, 34, 2, 43, 599, 33, 34, 2, 43, 599, 33, 34, 2, 43, 599, 33, 34, 2, 43, 599, 33, 34, 2, 43, 599, 33, 34, 2, 43, 599, 33, 34, 2, 43, 599, 33, 34, 2, 43, 599, 33, 34, 2, 43, 599, 33, 34, 2, 43, 599, 33, 34, 2, 43, 599, 33, 34, 2, 43, 599, 33, 34, 2, 43, 599, 33, 34, 2, 43, 599, 33, 34, 2, 43, 599, 33, 34, 2, 43, 599, 33, 34, 2, 43, 599, 33, 34, 2, 43, 599, 33, 34, 2, 43, 599, 33, 34, 2, 43, 599, 33, 34, 2, 43, 599, 33, 34, 2, 43, 599, 33, 34, 2, 43, 599, 33, 34, 2, 43, 599, 33, 34, 2, 43, 599, 33, 34, 2, 43, 599, 33, 34, 2, 43, 599, 33, 34, 2, 43, 599, 33, 34, 2, 43, 599, 33, 34, 2, 43, 599, 33, 34, 2, 43, 599, 33, 34, 2, 43, 599, 33, 34, 2, 43, 599, 33, 34, 2, 43, 599, 33, 34, 2, 43, 599, 33, 34, 2, 43, 599, 33, 34, 2, 43, 599, 33, 34, 2, 43, 599, 33, 34, 2, 43, 599, 33, 34, 2, 43, 599, 33, 34, 2, 43, 599, 33, 34, 2, 43, 599, 33, 34, 2, 43, 599, 48, 100, 333, 452, 567, 48, 100, 333, 452, 567, 48, 100, 333, 452, 567, 48, 100, 333, 452, 567, 48, 100, 333, 452, 567, 48, 100, 333, 452, 567, 48, 100, 333, 452, 567, 48, 100, 333, 452, 567, 48, 100, 333, 452, 567, 48, 100, 333, 452, 567, 48, 100, 333, 452, 567, 48, 100, 333, 452, 567, 48, 100, 333, 452, 567, 48, 100, 333, 452, 567, 48, 100, 333, 452, 567, 48, 100, 333, 452, 567, 48, 100, 333, 452, 567, 48, 100, 333, 452, 567, 48, 100, 333, 452, 567, 48, 100, 333, 452, 567, 48, 100, 333, 452, 567, 48, 100, 333, 452, 567, 48, 100, 333, 452, 567, 48, 100, 333, 452, 567, 48, 100, 333, 452, 567, 48, 100, 333, 452, 567, 48, 100, 333, 452, 567, 48, 100, 333, 452, 567, 48, 100, 333, 452, 567, 48, 100, 333, 452, 567, 48, 100, 333, 452, 567, 48, 100, 333, 452, 567, 48, 100, 333, 452, 567, 48, 100, 333, 452, 567, 48, 100, 333, 452, 567, 48, 100, 333, 452, 567, 48, 100, 333, 452, 567, 48, 100, 333, 452, 567, 48, 100, 333, 452, 567, 48, 100, 333, 452, 567, 48, 100, 333, 452, 567, 48, 100, 333, 452, 567, 48, 100, 333, 452, 567, 48, 100, 333, 452, 567, 48, 100, 333, 452, 567, 48, 100, 333, 452, 567, 48, 100, 333, 452, 567, 48, 100, 333, 452, 567, 48, 100, 333, 452, 567, 48, 100, 333, 452, 567, 48, 100, 333, 452, 567, 48, 100, 333, 452, 567, 48, 100, 333, 452, 567, 48, 100, 333, 452, 567, 48, 100, 333, 452, 567, 48, 100, 333, 452, 567, 48, 100, 333, 452, 567, 48, 100, 333, 452, 567, 48, 100, 333, 452, 567, 48, 100, 333, 452, 567, 48, 100, 333, 452, 567, 48, 100, 333, 452, 567, 48, 100, 333, 452, 567, 48, 100, 333, 452, 567, 48, 100, 333, 452, 567, 48, 100, 333, 452, 567, 48, 100, 333, 452, 567, 48, 100, 333, 452, 567, 48, 100, 333, 452, 567, 48, 100, 333, 452, 567, 48, 100, 333, 452, 567, 48, 100, 333, 452, 567, 48, 100, 333, 452, 567, 48, 100, 333, 452, 567, 48, 100, 333, 452, 567, 48, 100, 333, 452, 567, 48, 100, 333, 452, 567, 48, 100, 333, 452, 567, 48, 100, 333, 452, 567, 48, 100, 333, 452, 567, 48, 100, 333, 452, 567, 48, 100, 333, 452, 567, 48, 100, 333, 452, 567, 48, 100, 333, 452, 567, 48, 100, 333, 452, 567, 48, 100, 333, 452, 567, 48, 100, 333, 452, 567, 48, 100, 333, 452, 567, 48, 100, 333, 452, 567, 48, 100, 333, 452, 567, 48, 100, 333, 452, 567, 48, 100, 333, 452, 567, 48, 100, 333, 452, 567, 48, 100, 333, 452, 567, 48, 100, 333, 452, 567, 48, 100, 333, 452, 567, 48, 100, 333, 452, 567, 48, 100, 333, 452, 567, 48, 100, 333, 452, 567, 48, 100, 333, 452, 567, 48, 100, 333, 452, 567, 48, 100, 333, 452, 567, 48, 100, 333, 452, 567, 48, 100, 333, 452, 567, 48, 100, 333, 452, 567, 48, 100, 333, 452, 567, 48, 100, 333, 452, 567, 48, 100, 333, 452, 567, 48, 100, 333, 452, 567, 48, 100, 333, 452, 567, 48, 100, 333, 452, 567, 48, 100, 333, 452, 567, 48, 100, 333, 452, 567, 48, 100, 333, 452, 567, 48, 100, 333, 452, 567, 48, 100, 333, 452, 567, 48, 100, 333, 452, 567, 48, 100, 333, 452, 567, 48, 100, 333, 452, 567, 48, 100, 333, 452, 567, 48, 100, 333, 452, 567, 48, 100, 333, 452, 567, 48, 100, 333, 452, 567, 48, 100, 333, 452, 567, 48, 100, 333, 452, 567, 48, 100, 333, 452, 567, 48, 100, 333, 452, 567, 48, 100, 333, 452, 567, 48, 100, 333, 452, 567, 48, 100, 333, 452, 567, 48, 100, 333, 452, 567, 48, 100, 333, 452, 567, 48, 100, 333, 452, 567, 48, 100, 333, 452, 567, 48, 100, 333, 452, 567, 48, 100, 333, 452, 567, 48, 100, 333, 452, 567, 48, 100, 333, 452, 567, 48, 100, 333, 452, 567, 48, 100, 333, 452, 567, 48, 100, 333, 452, 567, 48, 100, 333, 452, 567, 48, 100, 333, 452, 567, 48, 100, 333, 452, 567, 48, 100, 333, 452, 567, 48, 100, 333, 452, 567, 48, 100, 333, 452, 567, 48, 100, 333, 452, 567, 48, 100, 333, 452, 567, 48, 100, 333, 452, 567, 48, 100, 333, 452, 567, 48, 100, 333, 452, 567, 48, 100, 333, 452, 567, 48, 100, 333, 452, 567, 48, 100, 333, 452, 567, 48, 100, 333, 452, 567, 48, 100, 333, 452, 567, 48, 100, 333, 452, 567, 48, 100, 333, 452, 567, 48, 100, 333, 452, 567, 48, 100, 333, 452, 567, 48, 100, 333, 452, 567, 48, 100, 333, 452, 567, 48, 100, 333, 452, 567, 48, 100, 333, 452, 567, 48, 100, 333, 452, 567, 48, 100, 333, 452, 567, 48, 100, 333, 452, 567, 48, 100, 333, 452, 567, 48, 100, 333, 452, 567, 48, 100, 333, 452, 567, 48, 100, 333, 452, 567, 48, 100, 333, 452, 567, 48, 100, 333, 452, 567, 48, 100, 333, 452, 567, 48, 100, 333, 452, 567, 48, 100, 333, 452, 567, 48, 100, 333, 452, 567, 48, 100, 333, 452, 567, 48, 100, 333, 452, 567, 48, 100, 333, 452, 567, 48, 100, 333, 452, 567, 48, 100, 333, 452, 567, 48, 100, 333, 452, 567, 48, 100, 333, 452, 567, 48, 100, 333, 452, 567, 48, 100, 333, 452, 567, 48, 100, 333, 452, 567, 48, 100, 333, 452, 567, 48, 100, 333, 452, 567, 48, 100, 333, 452, 567, 48, 100, 333, 452, 567, 48, 100, 333, 452, 567, 48, 100, 333, 452, 567, 48, 100, 333, 452, 567, 48, 100, 333, 452, 567, 48, 100, 333, 452, 567, 48, 100, 333, 452, 567, 48, 100, 333, 452, 567, 48, 100, 333, 452, 567, 48, 100, 333, 452, 567, 48, 100, 333, 452, 567, 48, 100, 333, 452, 567, 48, 100, 333, 452, 567, 48, 100, 333, 452, 567, 48, 100, 333, 452, 567, 48, 100, 333, 452, 567, 48, 100, 333, 452, 567, 48, 100, 333, 452, 567, 48, 100, 333, 452, 567, 48, 100, 333, 452, 567, 48, 100, 333, 452, 567, 48, 100, 333, 452, 567, 48, 100, 333, 452, 567, 48, 100, 333, 452, 567, 48, 100, 333, 452, 567, 48, 100, 333, 452, 567, 48, 100, 333, 452, 567, 48, 100, 333, 452, 567, 48, 100, 333, 452, 567, 48, 100, 333, 452, 567, 48, 100, 333, 452, 567, 48, 100, 333, 452, 567, 48, 100, 333, 452, 567, 48, 100, 333, 452, 567, 48, 100, 333, 452, 567, 48, 100, 333, 452, 567, 48, 100, 333, 452, 567, 48, 100, 333, 452, 567, 48, 100, 333, 452, 567, 48, 100, 333, 452, 567, 48, 100, 333, 452, 567, 48, 100, 333, 452, 567, 48, 100, 333, 452, 567, 48, 100, 333, 452, 567, 48, 100, 333, 452, 567, 48, 100, 333, 452, 567, 48, 100, 333, 452, 567, 48, 100, 333, 452, 567, 48, 100, 333, 452, 567, 48, 100, 333, 452, 567, 48, 100, 333, 452, 567, 48, 100, 333, 452, 567, 48, 100, 333, 452, 567, 48, 100, 333, 452, 567, 48, 100, 333, 452, 567, 48, 100, 333, 452, 567, 48, 100, 333, 452, 567, 48, 100, 333, 452, 567, 48, 100, 333, 452, 567, 48, 100, 333, 452, 567, 48, 100, 333, 452, 567, 48, 100, 333, 452, 567, 48, 100, 333, 452, 567, 48, 100, 333, 452, 567, 48, 100, 333, 452, 567, 48, 100, 333, 452, 567, 48, 100, 333, 452, 567, 48, 100, 333, 452, 567, 48, 100, 333, 452, 567, 48, 100, 333, 452, 567, 48, 100, 333, 452, 567, 48, 100, 333, 452, 567, 48, 100, 333, 452, 567, 48, 100, 333, 452, 567, 48, 100, 333, 452, 567, 48, 100, 333, 452, 567, 48, 100, 333, 452, 567, 48, 100, 333, 452, 567, 48, 100, 333, 452, 567, 48, 100, 333, 452, 567, 48, 100, 333, 452, 567, 48, 100, 333, 452, 567, 48, 100, 333, 452, 567, 48, 100, 333, 452, 567, 48, 100, 333, 452, 567, 48, 100, 333, 452, 567, 48, 100, 333, 452, 567, 48, 100, 333, 452, 567, 48, 100, 333, 452, 567, 48, 100, 333, 452, 567, 48, 100, 333, 452, 567, 48, 100, 333, 452, 567, 48, 100, 333, 452, 567, 48, 100, 333, 452, 567, 48, 100, 333, 452, 567, 48, 100, 333, 452, 567, 48, 100, 333, 452, 567, 48, 100, 333, 452, 567, 48, 100, 333, 452, 567, 48, 100, 333, 452, 567, 48, 100, 333, 452, 567, 48, 100, 333, 452, 567, 48, 100, 333, 452, 567, 48, 100, 333, 452, 567, 48, 100, 333, 452, 567, 48, 100, 333, 452, 567, 48, 100, 333, 452, 567, 48, 100, 333, 452, 567, 48, 100, 333, 452, 567, 48, 100, 333, 452, 567, 48, 100, 333, 452, 567, 48, 100, 333, 452, 567, 48, 100, 333, 452, 567, 48, 100, 333, 452, 567, 48, 100, 333, 452, 567, 48, 100, 333, 452, 567, 48, 100, 333, 452, 567, 48, 100, 333, 452, 567, 48, 100, 333, 452, 567, 48, 100, 333, 452, 567, 48, 100, 333, 452, 567, 48, 100, 333, 452, 567, 48, 100, 333, 452, 567, 48, 100, 333, 452, 567, 48, 100, 333, 452, 567, 48, 100, 333, 452, 567, 48, 100, 333, 452, 567, 48, 100, 333, 452, 567, 48, 100, 333, 452, 567, 48, 100, 333, 452, 567, 48, 100, 333, 452, 567, 48, 100, 333, 452, 567, 48, 100, 333, 452, 567, 48, 100, 333, 452, 567, 48, 100, 333, 452, 567, 48, 100, 333, 452, 567, 48, 100, 333, 452, 567, 48, 100, 333, 452, 567, 48, 100, 333, 452, 567, 48, 100, 333, 452, 567, 48, 100, 333, 452, 567, 48, 100, 333, 452, 567, 48, 100, 333, 452, 567, 48, 100, 333, 452, 567, 48, 100, 333, 452, 567, 48, 100, 333, 452, 567, 48, 100, 333, 452, 567, 48, 100, 333, 452, 567, 48, 100, 333, 452, 567, 48, 100, 333, 452, 567, 48, 100, 333, 452, 567, 50, 1010, 55, 341, 132, 50, 1010, 55, 341, 132, 50, 1010, 55, 341, 132, 50, 1010, 55, 341, 132, 50, 1010, 55, 341, 132, 50, 1010, 55, 341, 132, 50, 1010, 55, 341, 132, 50, 1010, 55, 341, 132, 50, 1010, 55, 341, 132, 50, 1010, 55, 341, 132, 50, 1010, 55, 341, 132, 50, 1010, 55, 341, 132, 50, 1010, 55, 341, 132, 50, 1010, 55, 341, 132, 50, 1010, 55, 341, 132, 50, 1010, 55, 341, 132, 50, 1010, 55, 341, 132, 50, 1010, 55, 341, 132, 50, 1010, 55, 341, 132, 50, 1010, 55, 341, 132, 50, 1010, 55, 341, 132, 50, 1010, 55, 341, 132, 50, 1010, 55, 341, 132, 50, 1010, 55, 341, 132, 50, 1010, 55, 341, 132, 50, 1010, 55, 341, 132, 50, 1010, 55, 341, 132, 50, 1010, 55, 341, 132, 50, 1010, 55, 341, 132, 50, 1010, 55, 341, 132, 50, 1010, 55, 341, 132, 50, 1010, 55, 341, 132, 50, 1010, 55, 341, 132, 50, 1010, 55, 341, 132, 50, 1010, 55, 341, 132, 50, 1010, 55, 341, 132, 50, 1010, 55, 341, 132, 50, 1010, 55, 341, 132, 50, 1010, 55, 341, 132, 50, 1010, 55, 341, 132, 50, 1010, 55, 341, 132, 50, 1010, 55, 341, 132, 50, 1010, 55, 341, 132, 50, 1010, 55, 341, 132, 50, 1010, 55, 341, 132, 50, 1010, 55, 341, 132, 50, 1010, 55, 341, 132, 50, 1010, 55, 341, 132, 50, 1010, 55, 341, 132, 50, 1010, 55, 341, 132, 50, 1010, 55, 341, 132, 50, 1010, 55, 341, 132, 50, 1010, 55, 341, 132, 50, 1010, 55, 341, 132, 50, 1010, 55, 341, 132, 50, 1010, 55, 341, 132, 50, 1010, 55, 341, 132, 50, 1010, 55, 341, 132, 50, 1010, 55, 341, 132, 50, 1010, 55, 341, 132, 50, 1010, 55, 341, 132, 50, 1010, 55, 341, 132, 50, 1010, 55, 341, 132, 50, 1010, 55, 341, 132, 50, 1010, 55, 341, 132, 50, 1010, 55, 341, 132, 50, 1010, 55, 341, 132, 50, 1010, 55, 341, 132, 50, 1010, 55, 341, 132, 50, 1010, 55, 341, 132, 50, 1010, 55, 341, 132, 50, 1010, 55, 341, 132, 50, 1010, 55, 341, 132, 50, 1010, 55, 341, 132, 50, 1010, 55, 341, 132, 50, 1010, 55, 341, 132, 50, 1010, 55, 341, 132, 50, 1010, 55, 341, 132, 50, 1010, 55, 341, 132, 50, 1010, 55, 341, 132, 50, 1010, 55, 341, 132, 50, 1010, 55, 341, 132, 50, 1010, 55, 341, 132, 50, 1010, 55, 341, 132, 50, 1010, 55, 341, 132, 50, 1010, 55, 341, 132, 50, 1010, 55, 341, 132, 50, 1010, 55, 341, 132, 50, 1010, 55, 341, 132, 50, 1010, 55, 341, 132, 50, 1010, 55, 341, 132, 50, 1010, 55, 341, 132, 50, 1010, 55, 341, 132, 50, 1010, 55, 341, 132, 50, 1010, 55, 341, 132, 50, 1010, 55, 341, 132, 50, 1010, 55, 341, 132, 50, 1010, 55, 341, 132, 50, 1010, 55, 341, 132, 50, 1010, 55, 341, 132, 50, 1010, 55, 341, 132, 50, 1010, 55, 341, 132, 50, 1010, 55, 341, 132, 50, 1010, 55, 341, 132, 50, 1010, 55, 341, 132, 50, 1010, 55, 341, 132, 50, 1010, 55, 341, 132, 50, 1010, 55, 341, 132, 50, 1010, 55, 341, 132, 50, 1010, 55, 341, 132, 50, 1010, 55, 341, 132, 50, 1010, 55, 341, 132, 50, 1010, 55, 341, 132, 50, 1010, 55, 341, 132, 50, 1010, 55, 341, 132, 50, 1010, 55, 341, 132, 50, 1010, 55, 341, 132, 50, 1010, 55, 341, 132, 50, 1010, 55, 341, 132, 50, 1010, 55, 341, 132, 50, 1010, 55, 341, 132, 50, 1010, 55, 341, 132, 50, 1010, 55, 341, 132, 50, 1010, 55, 341, 132, 50, 1010, 55, 341, 132, 50, 1010, 55, 341, 132, 50, 1010, 55, 341, 132, 50, 1010, 55, 341, 132, 50, 1010, 55, 341, 132, 50, 1010, 55, 341, 132, 50, 1010, 55, 341, 132, 50, 1010, 55, 341, 132, 50, 1010, 55, 341, 132, 50, 1010, 55, 341, 132, 50, 1010, 55, 341, 132, 50, 1010, 55, 341, 132, 50, 1010, 55, 341, 132, 50, 1010, 55, 341, 132, 50, 1010, 55, 341, 132, 50, 1010, 55, 341, 132, 50, 1010, 55, 341, 132, 50, 1010, 55, 341, 132, 50, 1010, 55, 341, 132, 50, 1010, 55, 341, 132, 50, 1010, 55, 341, 132, 50, 1010, 55, 341, 132, 50, 1010, 55, 341, 132, 50, 1010, 55, 341, 132, 50, 1010, 55, 341, 132, 50, 1010, 55, 341, 132, 50, 1010, 55, 341, 132, 50, 1010, 55, 341, 132, 50, 1010, 55, 341, 132, 50, 1010, 55, 341, 132, 50, 1010, 55, 341, 132, 50, 1010, 55, 341, 132, 50, 1010, 55, 341, 132, 50, 1010, 55, 341, 132, 50, 1010, 55, 341, 132, 50, 1010, 55, 341, 132, 50, 1010, 55, 341, 132, 50, 1010, 55, 341, 132, 50, 1010, 55, 341, 132, 50, 1010, 55, 341, 132, 50, 1010, 55, 341, 132, 50, 1010, 55, 341, 132, 50, 1010, 55, 341, 132, 50, 1010, 55, 341, 132, 50, 1010, 55, 341, 132, 50, 1010, 55, 341, 132, 50, 1010, 55, 341, 132, 50, 1010, 55, 341, 132, 50, 1010, 55, 341, 132, 50, 1010, 55, 341, 132, 50, 1010, 55, 341, 132, 50, 1010, 55, 341, 132, 50, 1010, 55, 341, 132, 50, 1010, 55, 341, 132, 50, 1010, 55, 341, 132, 50, 1010, 55, 341, 132, 50, 1010, 55, 341, 132, 50, 1010, 55, 341, 132, 50, 1010, 55, 341, 132, 50, 1010, 55, 341, 132, 50, 1010, 55, 341, 132, 50, 1010, 55, 341, 132, 50, 1010, 55, 341, 132, 50, 1010, 55, 341, 132, 50, 1010, 55, 341, 132, 50, 1010, 55, 341, 132, 50, 1010, 55, 341, 132, 50, 1010, 55, 341, 132, 50, 1010, 55, 341, 132, 50, 1010, 55, 341, 132, 50, 1010, 55, 341, 132, 50, 1010, 55, 341, 132, 50, 1010, 55, 341, 132, 50, 1010, 55, 341, 132, 50, 1010, 55, 341, 132, 50, 1010, 55, 341, 132, 50, 1010, 55, 341, 132, 50, 1010, 55, 341, 132, 50, 1010, 55, 341, 132, 50, 1010, 55, 341, 132, 50, 1010, 55, 341, 132, 50, 1010, 55, 341, 132, 50, 1010, 55, 341, 132, 50, 1010, 55, 341, 132, 50, 1010, 55, 341, 132, 50, 1010, 55, 341, 132, 50, 1010, 55, 341, 132, 50, 1010, 55, 341, 132, 50, 1010, 55, 341, 132, 50, 1010, 55, 341, 132, 50, 1010, 55, 341, 132, 50, 1010, 55, 341, 132, 50, 1010, 55, 341, 132, 50, 1010, 55, 341, 132, 50, 1010, 55, 341, 132, 50, 1010, 55, 341, 132, 50, 1010, 55, 341, 132, 50, 1010, 55, 341, 132, 50, 1010, 55, 341, 132, 50, 1010, 55, 341, 132, 50, 1010, 55, 341, 132, 50, 1010, 55, 341, 132, 50, 1010, 55, 341, 132, 50, 1010, 55, 341, 132, 50, 1010, 55, 341, 132, 50, 1010, 55, 341, 132, 50, 1010, 55, 341, 132, 50, 1010, 55, 341, 132, 50, 1010, 55, 341, 132, 50, 1010, 55, 341, 132, 50, 1010, 55, 341, 132, 50, 1010, 55, 341, 132, 50, 1010, 55, 341, 132, 50, 1010, 55, 341, 132, 50, 1010, 55, 341, 132, 50, 1010, 55, 341, 132, 50, 1010, 55, 341, 132, 50, 1010, 55, 341, 132, 50, 1010, 55, 341, 132, 50, 1010, 55, 341, 132, 50, 1010, 55, 341, 132, 50, 1010, 55, 341, 132, 50, 1010, 55, 341, 132, 50, 1010, 55, 341, 132, 50, 1010, 55, 341, 132, 50, 1010, 55, 341, 132, 50, 1010, 55, 341, 132, 50, 1010, 55, 341, 132, 50, 1010, 55, 341, 132, 50, 1010, 55, 341, 132, 50, 1010, 55, 341, 132, 50, 1010, 55, 341, 132, 50, 1010, 55, 341, 132, 50, 1010, 55, 341, 132, 50, 1010, 55, 341, 132, 50, 1010, 55, 341, 132, 50, 1010, 55, 341, 132, 50, 1010, 55, 341, 132, 50, 1010, 55, 341, 132, 50, 1010, 55, 341, 132, 50, 1010, 55, 341, 132, 50, 1010, 55, 341, 132, 50, 1010, 55, 341, 132, 50, 1010, 55, 341, 132, 50, 1010, 55, 341, 132, 50, 1010, 55, 341, 132, 50, 1010, 55, 341, 132, 50, 1010, 55, 341, 132, 50, 1010, 55, 341, 132, 50, 1010, 55, 341, 132, 50, 1010, 55, 341, 132, 50, 1010, 55, 341, 132, 50, 1010, 55, 341, 132, 50, 1010, 55, 341, 132, 50, 1010, 55, 341, 132, 50, 1010, 55, 341, 132, 50, 1010, 55, 341, 132, 50, 1010, 55, 341, 132, 50, 1010, 55, 341, 132, 50, 1010, 55, 341, 132, 50, 1010, 55, 341, 132, 50, 1010, 55, 341, 132, 50, 1010, 55, 341, 132, 50, 1010, 55, 341, 132, 50, 1010, 55, 341, 132, 50, 1010, 55, 341, 132, 50, 1010, 55, 341, 132, 50, 1010, 55, 341, 132, 50, 1010, 55, 341, 132, 50, 1010, 55, 341, 132, 50, 1010, 55, 341, 132, 50, 1010, 55, 341, 132, 50, 1010, 55, 341, 132, 50, 1010, 55, 341, 132, 50, 1010, 55, 341, 132, 50, 1010, 55, 341, 132, 50, 1010, 55, 341, 132, 50, 1010, 55, 341, 132, 50, 1010, 55, 341, 132, 50, 1010, 55, 341, 132, 50, 1010, 55, 341, 132, 50, 1010, 55, 341, 132, 50, 1010, 55, 341, 132, 50, 1010, 55, 341, 132, 50, 1010, 55, 341, 132, 50, 1010, 55, 341, 132, 50, 1010, 55, 341, 132, 50, 1010, 55, 341, 132, 50, 1010, 55, 341, 132, 50, 1010, 55, 341, 132, 50, 1010, 55, 341, 132, 50, 1010, 55, 341, 132, 50, 1010, 55, 341, 132, 50, 1010, 55, 341, 132, 50, 1010, 55, 341, 132, 50, 1010, 55, 341, 132, 50, 1010, 55, 341, 132, 50, 1010, 55, 341, 132, 50, 1010, 55, 341, 132, 50, 1010, 55, 341, 132, 50, 1010, 55, 341, 132, 50, 1010, 55, 341, 132, 50, 1010, 55, 341, 132, 50, 1010, 55, 341, 132, 50, 1010, 55, 341, 132, 50, 1010, 55, 341, 132, 50, 1010, 55, 341, 132, 50, 1010, 55, 341, 132, 50, 1010, 55, 341, 132, 50, 1010, 55, 341, 132, 50, 1010, 55, 341, 132, 50, 1010, 55, 341, 132, 50, 1010, 55, 341, 132, 50, 1010, 55, 341, 132, 50, 1010, 55, 341, 132, 50, 1010, 55, 341, 132, 50, 1010, 55, 341, 132, 50, 1010, 55, 341, 132, 50, 1010, 55, 341, 132, 50, 1010, 55, 341, 132, 50, 1010, 55, 341, 132, 50, 1010, 55, 341, 132, 50, 1010, 55, 341, 132, 50, 1010, 55, 341, 132, 50, 1010, 55, 341, 132, 50, 1010, 55, 341, 132, 50, 1010, 55, 341, 132, 50, 1010, 55, 341, 132, 50, 1010, 55, 341, 132, 50, 1010, 55, 341, 132, 50, 1010, 55, 341, 132, 50, 1010, 55, 341, 132, 50, 1010, 55, 341, 132, 50, 1010, 55, 341, 132, 50, 1010, 55, 341, 132, 50, 1010, 55, 341, 132, 50, 1010, 55, 341, 132, 50, 1010, 55, 341, 132, 50, 1010, 55, 341, 132, 50, 1010, 55, 341, 132, 50, 1010, 55, 341, 132, 50, 1010, 55, 341, 132, 50, 1010, 55, 341, 132, 50, 1010, 55, 341, 132, 50, 1010, 55, 341, 132, 50, 1010, 55, 341, 132, 50, 1010, 55, 341, 132, 50, 1010, 55, 341, 132, 50, 1010, 55, 341, 132, 50, 1010, 55, 341, 132, 50, 1010, 55, 341, 132, 50, 1010, 55, 341, 132, 50, 1010, 55, 341, 132, 50, 1010, 55, 341, 132, 50, 1010, 55, 341, 132, 50, 1010, 55, 341, 132, 50, 1010, 55, 341, 132, 50, 1010, 55, 341, 132, 50, 1010, 55, 341, 132, 50, 1010, 55, 341, 132, 50, 1010, 55, 341, 132, 50, 1010, 55, 341, 132, 50, 1010, 55, 341, 132, 50, 1010, 55, 341, 132, 50, 1010, 55, 341, 132, 50, 1010, 55, 341, 132, 50, 1010, 55, 341, 132, 50, 1010, 55, 341, 132, 50, 1010, 55, 341, 132, 50, 1010, 55, 341, 132, 50, 1010, 55, 341, 132, 50, 1010, 55, 341, 132, 50, 1010, 55, 341, 132, 50, 1010, 55, 341, 132, 50, 1010, 55, 341, 132, 50, 1010, 55, 341, 132, 50, 1010, 55, 341, 132, 50, 1010, 55, 341, 132, 50, 1010, 55, 341, 132, 50, 1010, 55, 341, 132, 50, 1010, 55, 341, 132, 50, 1010, 55, 341, 132, 50, 1010, 55, 341, 132, 50, 1010, 55, 341, 132, 50, 1010, 55, 341, 132, 50, 1010, 55, 341, 132, 50, 1010, 55, 341, 132, 50, 1010, 55, 341, 132, 50, 1010, 55, 341, 132, 50, 1010, 55, 341, 132, 50, 1010, 55, 341, 132, 50, 1010, 55, 341, 132, 50, 1010, 55, 341, 132, 50, 1010, 55, 341, 132, 50, 1010, 55, 341, 132, 50, 1010, 55, 341, 132, 50, 1010, 55, 341, 132, 50, 1010, 55, 341, 132, 50, 1010, 55, 341, 132, 50, 1010, 55, 341, 132, 50, 1010, 55, 341, 132, 50, 1010, 55, 341, 132, 50, 1010, 55, 341, 132, 50, 1010, 55, 341, 132, 50, 1010, 55, 341, 132, 50, 1010, 55, 341, 132, 50, 1010, 55, 341, 132, 50, 1010, 55, 341, 132, 50, 1010, 55, 341, 132, 50, 1010, 55, 341, 132, 50, 1010, 55, 341, 132, 50, 1010, 55, 341, 132, 50, 1010, 55, 341, 132, 50, 1010, 55, 341, 132, 50, 1010, 55, 341, 132, 50, 1010, 55, 341, 132, 50, 1010, 55, 341, 132, 50, 1010, 55, 341, 132, 50, 1010, 55, 341, 132, 50, 1010, 55, 341, 132, 50, 1010, 55, 341, 132, 50, 1010, 55, 341, 132, 50, 1010, 55, 341, 132, 50, 1010, 55, 341, 132, 50, 1010, 55, 341, 132, 50, 1010, 55, 341, 132, 50, 1010, 55, 341, 132, 50, 1010, 55, 341, 132, 50, 1010, 55, 341, 132, 50, 1010, 55, 341, 132, 50, 1010, 55, 341, 132, 50, 1010, 55, 341, 132, 50, 1010, 55, 341, 132, 50, 1010, 55, 341, 132, 50, 1010, 55, 341, 132, 50, 1010, 55, 341, 132, 50, 1010, 55, 341, 132, 50, 1010, 55, 341, 132, 50, 1010, 55, 341, 132, 50, 1010, 55, 341, 132, 50, 1010, 55, 341, 132, 50, 1010, 55, 341, 132, 50, 1010, 55, 341, 132, 50, 1010, 55, 341, 132, 50, 1010, 55, 341, 132, 50, 1010, 55, 341, 132, 50, 1010, 55, 341, 132, 50, 1010, 55, 341, 132, 50, 1010, 55, 341, 132, 50, 1010, 55, 341, 132, 50, 1010, 55, 341, 132, 50, 1010, 55, 341, 132, 50, 1010, 55, 341, 132, 50, 1010, 55, 341, 132, 50, 1010, 55, 341, 132, 50, 1010, 55, 341, 132, 50, 1010, 55, 341, 132, 50, 1010, 55, 341, 132, 50, 1010, 55, 341, 132, 50, 1010, 55, 341, 132, 50, 1010, 55, 341, 132, 50, 1010, 55, 341, 132, 50, 1010, 55, 341, 132, 50, 1010, 55, 341, 132, 50, 1010, 55, 341, 132, 50, 1010, 55, 341, 132, 50, 1010, 55, 341, 132, 50, 1010, 55, 341, 132, 50, 1010, 55, 341, 132, 50, 1010, 55, 341, 132, 50, 1010, 55, 341, 132, 50, 1010, 55, 341, 132, 50, 1010, 55, 341, 132, 50, 1010, 55, 341, 132, 50, 1010, 55, 341, 132, 50, 1010, 55, 341, 132, 50, 1010, 55, 341, 132, 50, 1010, 55, 341, 132, 50, 1010, 55, 341, 132, 50, 1010, 55, 341, 132, 50, 1010, 55, 341, 132, 50, 1010, 55, 341, 132, 50, 1010, 55, 341, 132, 50, 1010, 55, 341, 132, 50, 1010, 55, 341, 132, 50, 1010, 55, 341, 132, 50, 1010, 55, 341, 132, 50, 1010, 55, 341, 132, 50, 1010, 55, 341, 132, 50, 1010, 55, 341, 132, 50, 1010, 55, 341, 132, 50, 1010, 55, 341, 132, 50, 1010, 55, 341, 132, 50, 1010, 55, 341, 132, 50, 1010, 55, 341, 132, 50, 1010, 55, 341, 132, 50, 1010, 55, 341, 132, 50, 1010, 55, 341, 132, 50, 1010, 55, 341, 132, 50, 1010, 55, 341, 132, 50, 1010, 55, 341, 132, 50, 1010, 55, 341, 132, 50, 1010, 55, 341, 132, 50, 1010, 55, 341, 132, 50, 1010, 55, 341, 132, 50, 1010, 55, 341, 132, 50, 1010, 55, 341, 132, 50, 1010, 55, 341, 132, 50, 1010, 55, 341, 132, 50, 1010, 55, 341, 132, 50, 1010, 55, 341, 132, 50, 1010, 55, 341, 132, 50, 1010, 55, 341, 132, 50, 1010, 55, 341, 132, 50, 1010, 55, 341, 132, 50, 1010, 55, 341, 132, 50, 1010, 55, 341, 132, 822, 563, 77, 451, 475, 822, 563, 77, 451, 475, 822, 563, 77, 451, 475, 822, 563, 77, 451, 475, 822, 563, 77, 451, 475, 822, 563, 77, 451, 475, 822, 563, 77, 451, 475, 822, 563, 77, 451, 475, 822, 563, 77, 451, 475, 822, 563, 77, 451, 475, 822, 563, 77, 451, 475, 822, 563, 77, 451, 475, 822, 563, 77, 451, 475, 822, 563, 77, 451, 475, 822, 563, 77, 451, 475, 822, 563, 77, 451, 475, 822, 563, 77, 451, 475, 822, 563, 77, 451, 475, 822, 563, 77, 451, 475, 822, 563, 77, 451, 475, 822, 563, 77, 451, 475, 822, 563, 77, 451, 475, 822, 563, 77, 451, 475, 822, 563, 77, 451, 475, 822, 563, 77, 451, 475, 822, 563, 77, 451, 475, 822, 563, 77, 451, 475, 822, 563, 77, 451, 475, 822, 563, 77, 451, 475, 822, 563, 77, 451, 475, 822, 563, 77, 451, 475, 822, 563, 77, 451, 475, 822, 563, 77, 451, 475, 822, 563, 77, 451, 475, 822, 563, 77, 451, 475, 822, 563, 77, 451, 475, 822, 563, 77, 451, 475, 822, 563, 77, 451, 475, 822, 563, 77, 451, 475, 822, 563, 77, 451, 475, 822, 563, 77, 451, 475, 822, 563, 77, 451, 475, 822, 563, 77, 451, 475, 822, 563, 77, 451, 475, 822, 563, 77, 451, 475, 822, 563, 77, 451, 475, 822, 563, 77, 451, 475, 822, 563, 77, 451, 475, 822, 563, 77, 451, 475, 822, 563, 77, 451, 475, 822, 563, 77, 451, 475, 822, 563, 77, 451, 475, 822, 563, 77, 451, 475, 822, 563, 77, 451, 475, 822, 563, 77, 451, 475, 822, 563, 77, 451, 475, 822, 563, 77, 451, 475, 822, 563, 77, 451, 475, 822, 563, 77, 451, 475, 822, 563, 77, 451, 475, 822, 563, 77, 451, 475, 822, 563, 77, 451, 475, 822, 563, 77, 451, 475, 822, 563, 77, 451, 475, 822, 563, 77, 451, 475, 822, 563, 77, 451, 475, 822, 563, 77, 451, 475, 822, 563, 77, 451, 475, 822, 563, 77, 451, 475, 822, 563, 77, 451, 475]),\n",
              "       list([70, 16, 30, 21, 70, 16, 30, 21, 70, 16, 30, 21, 70, 16, 30, 21, 70, 16, 30, 21, 70, 16, 30, 21, 70, 16, 30, 21, 70, 16, 30, 21, 70, 16, 30, 21, 70, 16, 30, 21, 70, 16, 30, 21, 70, 16, 30, 21, 70, 16, 30, 21, 70, 16, 30, 21, 70, 16, 30, 21, 70, 16, 30, 21, 70, 16, 30, 21, 70, 16, 30, 21, 70, 16, 30, 21, 70, 16, 30, 21, 70, 16, 30, 21, 70, 16, 30, 21, 70, 16, 30, 21, 70, 16, 30, 21, 70, 16, 30, 21, 70, 16, 30, 21, 70, 16, 30, 21, 70, 16, 30, 21, 70, 16, 30, 21, 70, 16, 30, 21, 70, 16, 30, 21, 70, 16, 30, 21, 70, 16, 30, 21, 70, 16, 30, 21, 70, 16, 30, 21, 70, 16, 30, 21, 70, 16, 30, 21, 70, 16, 30, 21, 70, 16, 30, 21, 70, 16, 30, 21, 70, 16, 30, 21, 70, 16, 30, 21, 70, 16, 30, 21, 70, 16, 30, 21, 70, 16, 30, 21, 70, 16, 30, 21, 70, 16, 30, 21, 70, 16, 30, 21, 70, 16, 30, 21, 70, 16, 30, 21, 70, 16, 30, 21, 70, 16, 30, 21, 70, 16, 30, 21, 70, 16, 30, 21, 70, 16, 30, 21, 70, 16, 30, 21, 70, 16, 30, 21, 70, 16, 30, 21, 70, 16, 30, 21, 70, 16, 30, 21, 70, 16, 30, 21, 70, 16, 30, 21, 70, 16, 30, 21, 70, 16, 30, 21, 70, 16, 30, 21, 70, 16, 30, 21, 70, 16, 30, 21, 70, 16, 30, 21, 70, 16, 30, 21, 70, 16, 30, 21, 70, 16, 30, 21, 70, 16, 30, 21, 70, 16, 30, 21, 70, 16, 30, 21, 70, 16, 30, 21, 70, 16, 30, 21, 70, 16, 30, 21, 70, 16, 30, 21, 70, 16, 30, 21, 70, 16, 30, 21, 70, 16, 30, 21, 70, 16, 30, 21, 70, 16, 30, 21, 70, 16, 30, 21, 70, 16, 30, 21, 70, 16, 30, 21, 70, 16, 30, 21, 70, 16, 30, 21, 70, 16, 30, 21, 70, 16, 30, 21, 70, 16, 30, 21, 70, 16, 30, 21, 70, 16, 30, 21, 70, 16, 30, 21, 70, 16, 30, 21, 70, 16, 30, 21, 70, 16, 30, 21, 70, 16, 30, 21, 70, 16, 30, 21, 70, 16, 30, 21, 70, 16, 30, 21, 70, 16, 30, 21, 70, 16, 30, 21, 70, 16, 30, 21, 70, 16, 30, 21, 70, 16, 30, 21, 70, 16, 30, 21, 70, 16, 30, 21, 70, 16, 30, 21, 70, 16, 30, 21, 70, 16, 30, 21, 70, 16, 30, 21, 70, 16, 30, 21, 70, 16, 30, 21, 70, 16, 30, 21, 70, 16, 30, 21, 70, 16, 30, 21, 70, 16, 30, 21, 70, 16, 30, 21, 70, 16, 30, 21, 70, 16, 30, 21, 70, 16, 30, 21, 70, 16, 30, 21, 70, 16, 30, 21, 70, 16, 30, 21, 70, 16, 30, 21, 70, 16, 30, 21, 70, 16, 30, 21, 70, 16, 30, 21, 70, 16, 30, 21, 70, 16, 30, 21, 70, 16, 30, 21, 70, 16, 30, 21, 70, 16, 30, 21, 70, 16, 30, 21, 70, 16, 30, 21, 70, 16, 30, 21, 70, 16, 30, 21, 70, 16, 30, 21, 70, 16, 30, 21, 70, 16, 30, 21, 70, 16, 30, 21, 70, 16, 30, 21, 70, 16, 30, 21, 70, 16, 30, 21, 70, 16, 30, 21, 70, 16, 30, 21, 70, 16, 30, 21, 70, 16, 30, 21, 70, 16, 30, 21, 70, 16, 30, 21, 70, 16, 30, 21, 70, 16, 30, 21, 70, 16, 30, 21, 70, 16, 30, 21, 70, 16, 30, 21, 70, 16, 30, 21, 70, 16, 30, 21, 70, 16, 30, 21, 70, 16, 30, 21, 70, 16, 30, 21, 70, 16, 30, 21, 70, 16, 30, 21, 70, 16, 30, 21, 70, 16, 30, 21, 70, 16, 30, 21, 70, 16, 30, 21, 70, 16, 30, 21, 70, 16, 30, 21, 70, 16, 30, 21, 70, 16, 30, 21, 70, 16, 30, 21, 70, 16, 30, 21, 70, 16, 30, 21, 70, 16, 30, 21, 70, 16, 30, 21, 70, 16, 30, 21, 70, 16, 30, 21, 70, 16, 30, 21, 70, 16, 30, 21, 70, 16, 30, 21, 70, 16, 30, 21, 70, 16, 30, 21, 70, 16, 30, 21, 70, 16, 30, 21, 70, 16, 30, 21, 70, 16, 30, 21, 70, 16, 30, 21, 70, 16, 30, 21, 70, 16, 30, 21, 70, 16, 30, 21, 70, 16, 30, 21, 70, 16, 30, 21, 70, 16, 30, 21, 70, 16, 30, 21, 70, 16, 30, 21, 70, 16, 30, 21, 70, 16, 30, 21, 70, 16, 30, 21, 70, 16, 30, 21, 70, 16, 30, 21, 70, 16, 30, 21, 70, 16, 30, 21, 70, 16, 30, 21, 70, 16, 30, 21, 70, 16, 30, 21, 70, 16, 30, 21, 70, 16, 30, 21, 70, 16, 30, 21, 70, 16, 30, 21, 70, 16, 30, 21, 70, 16, 30, 21, 70, 16, 30, 21, 70, 16, 30, 21, 70, 16, 30, 21, 70, 16, 30, 21, 70, 16, 30, 21, 70, 16, 30, 21, 70, 16, 30, 21, 70, 16, 30, 21, 70, 16, 30, 21, 70, 16, 30, 21, 70, 16, 30, 21, 70, 16, 30, 21, 70, 16, 30, 21, 70, 16, 30, 21, 70, 16, 30, 21, 70, 16, 30, 21, 70, 16, 30, 21, 70, 16, 30, 21, 70, 16, 30, 21, 70, 16, 30, 21, 70, 16, 30, 21, 70, 16, 30, 21, 70, 16, 30, 21, 70, 16, 30, 21, 70, 16, 30, 21, 70, 16, 30, 21, 70, 16, 30, 21, 70, 16, 30, 21, 70, 16, 30, 21, 70, 16, 30, 21, 70, 16, 30, 21, 70, 16, 30, 21, 70, 16, 30, 21, 70, 16, 30, 21, 70, 16, 30, 21, 70, 16, 30, 21, 70, 16, 30, 21, 70, 16, 30, 21, 70, 16, 30, 21, 70, 16, 30, 21, 70, 16, 30, 21, 70, 16, 30, 21, 70, 16, 30, 21, 70, 16, 30, 21, 70, 16, 30, 21, 70, 16, 30, 21, 70, 16, 30, 21, 70, 16, 30, 21, 70, 16, 30, 21, 70, 16, 30, 21, 70, 16, 30, 21, 70, 16, 30, 21, 70, 16, 30, 21, 70, 16, 30, 21, 70, 16, 30, 21, 70, 16, 30, 21, 70, 16, 30, 21, 70, 16, 30, 21, 70, 16, 30, 21, 70, 16, 30, 21, 70, 16, 30, 21, 70, 16, 30, 21, 70, 16, 30, 21, 70, 16, 30, 21, 70, 16, 30, 21, 70, 16, 30, 21, 70, 16, 30, 21, 70, 16, 30, 21, 70, 16, 30, 21, 70, 16, 30, 21, 70, 16, 30, 21, 70, 16, 30, 21, 70, 16, 30, 21, 70, 16, 30, 21, 70, 16, 30, 21, 70, 16, 30, 21, 70, 16, 30, 21, 70, 16, 30, 21, 70, 16, 30, 21, 70, 16, 30, 21, 70, 16, 30, 21, 70, 16, 30, 21, 70, 16, 30, 21, 70, 16, 30, 21, 70, 16, 30, 21, 70, 16, 30, 21, 70, 16, 30, 21, 70, 16, 30, 21, 70, 16, 30, 21, 70, 16, 30, 21, 70, 16, 30, 21, 70, 16, 30, 21, 70, 16, 30, 21, 70, 16, 30, 21, 70, 16, 30, 21, 70, 16, 30, 21, 70, 16, 30, 21, 70, 16, 30, 21, 70, 16, 30, 21, 70, 16, 30, 21, 70, 16, 30, 21, 70, 16, 30, 21, 70, 16, 30, 21, 70, 16, 30, 21, 70, 16, 30, 21, 70, 16, 30, 21, 70, 16, 30, 21, 70, 16, 30, 21, 70, 16, 30, 21, 70, 16, 30, 21, 70, 16, 30, 21, 70, 16, 30, 21, 70, 16, 30, 21, 70, 16, 30, 21, 70, 16, 30, 21, 70, 16, 30, 21, 70, 16, 30, 21, 70, 16, 30, 21, 70, 16, 30, 21, 70, 16, 30, 21, 70, 16, 30, 21, 70, 16, 30, 21, 70, 16, 30, 21, 70, 16, 30, 21, 70, 16, 30, 21, 70, 16, 30, 21, 70, 16, 30, 21, 70, 16, 30, 21, 70, 16, 30, 21, 70, 16, 30, 21, 70, 16, 30, 21, 70, 16, 30, 21, 70, 16, 30, 21, 70, 16, 30, 21, 70, 16, 30, 21, 70, 16, 30, 21, 70, 16, 30, 21, 70, 16, 30, 21, 70, 16, 30, 21, 70, 16, 30, 21, 70, 16, 30, 21, 70, 16, 30, 21, 70, 16, 30, 21, 70, 16, 30, 21, 70, 16, 30, 21, 70, 16, 30, 21, 70, 16, 30, 21, 70, 16, 30, 21, 70, 16, 30, 21, 70, 16, 30, 21, 70, 16, 30, 21, 70, 16, 30, 21, 70, 16, 30, 21, 70, 16, 30, 21, 70, 16, 30, 21, 70, 16, 30, 21, 70, 16, 30, 21, 70, 16, 30, 21, 70, 16, 30, 21, 70, 16, 30, 21, 70, 16, 30, 21, 70, 16, 30, 21, 70, 16, 30, 21, 70, 16, 30, 21, 70, 16, 30, 21, 70, 16, 30, 21, 70, 16, 30, 21, 70, 16, 30, 21, 70, 16, 30, 21, 70, 16, 30, 21, 70, 16, 30, 21, 70, 16, 30, 21, 70, 16, 30, 21, 70, 16, 30, 21, 70, 16, 30, 21, 70, 16, 30, 21, 70, 16, 30, 21, 70, 16, 30, 21, 70, 16, 30, 21, 70, 16, 30, 21, 70, 16, 30, 21, 70, 16, 30, 21, 70, 16, 30, 21, 70, 16, 30, 21, 70, 16, 30, 21, 70, 16, 30, 21, 70, 16, 30, 21, 70, 16, 30, 21, 70, 16, 30, 21, 70, 16, 30, 21, 70, 16, 30, 21, 70, 16, 30, 21, 70, 16, 30, 21, 70, 16, 30, 21, 70, 16, 30, 21, 70, 16, 30, 21, 70, 16, 30, 21, 70, 16, 30, 21, 70, 16, 30, 21, 70, 16, 30, 21, 70, 16, 30, 21, 70, 16, 30, 21, 70, 16, 30, 21, 70, 16, 30, 21, 70, 16, 30, 21, 70, 16, 30, 21, 70, 16, 30, 21, 70, 16, 30, 21, 70, 16, 30, 21, 70, 16, 30, 21, 70, 16, 30, 21, 70, 16, 30, 21, 70, 16, 30, 21, 70, 16, 30, 21, 70, 16, 30, 21, 70, 16, 30, 21, 70, 16, 30, 21, 70, 16, 30, 21, 70, 16, 30, 21, 70, 16, 30, 21, 70, 16, 30, 21, 70, 16, 30, 21, 70, 16, 30, 21, 70, 16, 30, 21, 70, 16, 30, 21, 70, 16, 30, 21, 70, 16, 30, 21, 70, 16, 30, 21, 70, 16, 30, 21, 70, 16, 30, 21, 70, 16, 30, 21, 70, 16, 30, 21, 70, 16, 30, 21, 70, 16, 30, 21, 70, 16, 30, 21, 70, 16, 30, 21, 70, 16, 30, 21, 70, 16, 30, 21, 70, 16, 30, 21, 70, 16, 30, 21, 70, 16, 30, 21, 70, 16, 30, 21, 70, 16, 30, 21, 70, 16, 30, 21, 70, 16, 30, 21, 70, 16, 30, 21, 70, 16, 30, 21, 70, 16, 30, 21, 70, 16, 30, 21, 70, 16, 30, 21, 70, 16, 30, 21, 70, 16, 30, 21, 70, 16, 30, 21, 70, 16, 30, 21, 70, 16, 30, 21, 70, 16, 30, 21, 70, 16, 30, 21, 70, 16, 30, 21, 70, 16, 30, 21, 70, 16, 30, 21, 70, 16, 30, 21, 70, 16, 30, 21, 70, 16, 30, 21, 70, 16, 30, 21, 70, 16, 30, 21, 70, 16, 30, 21, 70, 16, 30, 21, 70, 16, 30, 21, 70, 16, 30, 21, 70, 16, 30, 21, 70, 16, 30, 21, 70, 16, 30, 21, 70, 16, 30, 21, 70, 16, 30, 21, 70, 16, 30, 21, 70, 16, 30, 21, 70, 16, 30, 21, 70, 16, 30, 21, 70, 16, 30, 21, 70, 16, 30, 21, 70, 16, 30, 21, 70, 16, 30, 21, 70, 16, 30, 21, 70, 16, 30, 21, 70, 16, 30, 21, 70, 16, 30, 21, 70, 16, 30, 21, 70, 16, 30, 21, 70, 16, 30, 21, 70, 16, 30, 21, 70, 16, 30, 21, 70, 16, 30, 21, 70, 16, 30, 21, 70, 16, 30, 21, 70, 16, 30, 21, 70, 16, 30, 21, 70, 16, 30, 21, 70, 16, 30, 21, 70, 16, 30, 21, 70, 16, 30, 21, 70, 16, 30, 21, 70, 16, 30, 21, 70, 16, 30, 21, 70, 16, 30, 21, 70, 16, 30, 21, 70, 16, 30, 21, 70, 16, 30, 21, 70, 16, 30, 21, 70, 16, 30, 21, 70, 16, 30, 21, 70, 16, 30, 21, 70, 16, 30, 21, 70, 16, 30, 21, 70, 16, 30, 21, 70, 16, 30, 21, 70, 16, 30, 21, 70, 16, 30, 21, 70, 16, 30, 21, 70, 16, 30, 21, 70, 16, 30, 21, 70, 16, 30, 21, 70, 16, 30, 21, 70, 16, 30, 21, 70, 16, 30, 21, 70, 16, 30, 21, 70, 16, 30, 21, 70, 16, 30, 21, 70, 16, 30, 21, 70, 16, 30, 21, 70, 16, 30, 21, 70, 16, 30, 21, 70, 16, 30, 21, 70, 16, 30, 21, 70, 16, 30, 21, 70, 16, 30, 21, 70, 16, 30, 21, 70, 16, 30, 21, 70, 16, 30, 21, 70, 16, 30, 21, 70, 16, 30, 21, 70, 16, 30, 21, 70, 16, 30, 21, 70, 16, 30, 21, 70, 16, 30, 21, 70, 16, 30, 21, 70, 16, 30, 21, 70, 16, 30, 21, 70, 16, 30, 21, 70, 16, 30, 21, 70, 16, 30, 21, 70, 16, 30, 21, 70, 16, 30, 21, 70, 16, 30, 21, 70, 16, 30, 21, 70, 16, 30, 21, 70, 16, 30, 21, 70, 16, 30, 21, 70, 16, 30, 21, 70, 16, 30, 21, 70, 16, 30, 21, 70, 16, 30, 21, 70, 16, 30, 21, 70, 16, 30, 21, 70, 16, 30, 21, 70, 16, 30, 21, 70, 16, 30, 21, 70, 16, 30, 21, 70, 16, 30, 21, 70, 16, 30, 21, 70, 16, 30, 21, 70, 16, 30, 21, 70, 16, 30, 21, 70, 16, 30, 21, 70, 16, 30, 21, 70, 16, 30, 21, 70, 16, 30, 21, 70, 16, 30, 21, 70, 16, 30, 21, 70, 16, 30, 21, 70, 16, 30, 21, 70, 16, 30, 21, 70, 16, 30, 21, 70, 16, 30, 21, 70, 16, 30, 21, 70, 16, 30, 21, 70, 16, 30, 21, 70, 16, 30, 21, 70, 16, 30, 21, 70, 16, 30, 21, 70, 16, 30, 21, 70, 16, 30, 21, 70, 16, 30, 21, 70, 16, 30, 21, 70, 16, 30, 21, 70, 16, 30, 21, 70, 16, 30, 21, 70, 16, 30, 21, 70, 16, 30, 21, 70, 16, 30, 21, 70, 16, 30, 21, 70, 16, 30, 21, 70, 16, 30, 21, 70, 16, 30, 21, 70, 16, 30, 21, 70, 16, 30, 21, 70, 16, 30, 21, 70, 16, 30, 21, 70, 16, 30, 21, 70, 16, 30, 21, 70, 16, 30, 21, 70, 16, 30, 21, 70, 16, 30, 21, 70, 16, 30, 21, 70, 16, 30, 21, 70, 16, 30, 21, 70, 16, 30, 21, 70, 16, 30, 21, 70, 16, 30, 21, 70, 16, 30, 21, 70, 16, 30, 21, 70, 16, 30, 21, 70, 16, 30, 21, 70, 16, 30, 21, 70, 16, 30, 21, 70, 16, 30, 21, 70, 16, 30, 21, 70, 16, 30, 21, 70, 16, 30, 21, 70, 16, 30, 21, 70, 16, 30, 21, 70, 16, 30, 21, 70, 16, 30, 21, 70, 16, 30, 21, 70, 16, 30, 21, 70, 16, 30, 21, 70, 16, 30, 21, 70, 16, 30, 21, 70, 16, 30, 21, 70, 16, 30, 21, 70, 16, 30, 21, 70, 16, 30, 21, 70, 16, 30, 21, 70, 16, 30, 21, 70, 16, 30, 21, 70, 16, 30, 21, 70, 16, 30, 21, 70, 16, 30, 21, 70, 16, 30, 21, 70, 16, 30, 21, 70, 16, 30, 21, 70, 16, 30, 21, 70, 16, 30, 21, 70, 16, 30, 21, 70, 16, 30, 21, 70, 16, 30, 21, 70, 16, 30, 21, 70, 16, 30, 21, 70, 16, 30, 21, 70, 16, 30, 21, 70, 16, 30, 21, 70, 16, 30, 21, 70, 16, 30, 21, 70, 16, 30, 21, 70, 16, 30, 21, 70, 16, 30, 21, 70, 16, 30, 21, 70, 16, 30, 21, 70, 16, 30, 21, 70, 16, 30, 21, 70, 16, 30, 21, 70, 16, 30, 21, 70, 16, 30, 21, 70, 16, 30, 21, 70, 16, 30, 21, 33, 34, 2, 43, 599, 33, 34, 2, 43, 599, 33, 34, 2, 43, 599, 33, 34, 2, 43, 599, 33, 34, 2, 43, 599, 33, 34, 2, 43, 599, 33, 34, 2, 43, 599, 33, 34, 2, 43, 599, 33, 34, 2, 43, 599, 33, 34, 2, 43, 599, 33, 34, 2, 43, 599, 33, 34, 2, 43, 599, 33, 34, 2, 43, 599, 33, 34, 2, 43, 599, 33, 34, 2, 43, 599, 33, 34, 2, 43, 599, 33, 34, 2, 43, 599, 33, 34, 2, 43, 599, 48, 100, 333, 452, 567, 48, 100, 333, 452, 567, 48, 100, 333, 452, 567, 48, 100, 333, 452, 567, 48, 100, 333, 452, 567, 48, 100, 333, 452, 567, 48, 100, 333, 452, 567, 48, 100, 333, 452, 567, 48, 100, 333, 452, 567, 48, 100, 333, 452, 567, 48, 100, 333, 452, 567, 48, 100, 333, 452, 567, 48, 100, 333, 452, 567, 48, 100, 333, 452, 567, 48, 100, 333, 452, 567, 48, 100, 333, 452, 567, 48, 100, 333, 452, 567, 48, 100, 333, 452, 567, 48, 100, 333, 452, 567, 48, 100, 333, 452, 567, 48, 100, 333, 452, 567, 48, 100, 333, 452, 567, 48, 100, 333, 452, 567, 48, 100, 333, 452, 567, 48, 100, 333, 452, 567, 48, 100, 333, 452, 567, 48, 100, 333, 452, 567, 48, 100, 333, 452, 567, 48, 100, 333, 452, 567, 48, 100, 333, 452, 567, 48, 100, 333, 452, 567, 48, 100, 333, 452, 567, 48, 100, 333, 452, 567, 48, 100, 333, 452, 567, 48, 100, 333, 452, 567, 48, 100, 333, 452, 567, 48, 100, 333, 452, 567, 48, 100, 333, 452, 567, 48, 100, 333, 452, 567, 48, 100, 333, 452, 567, 48, 100, 333, 452, 567, 48, 100, 333, 452, 567, 48, 100, 333, 452, 567, 48, 100, 333, 452, 567, 48, 100, 333, 452, 567, 48, 100, 333, 452, 567, 48, 100, 333, 452, 567, 48, 100, 333, 452, 567, 48, 100, 333, 452, 567, 48, 100, 333, 452, 567, 48, 100, 333, 452, 567, 48, 100, 333, 452, 567, 48, 100, 333, 452, 567, 48, 100, 333, 452, 567, 48, 100, 333, 452, 567, 48, 100, 333, 452, 567, 48, 100, 333, 452, 567, 48, 100, 333, 452, 567, 48, 100, 333, 452, 567, 48, 100, 333, 452, 567, 48, 100, 333, 452, 567, 48, 100, 333, 452, 567, 48, 100, 333, 452, 567, 48, 100, 333, 452, 567, 48, 100, 333, 452, 567, 48, 100, 333, 452, 567, 48, 100, 333, 452, 567, 48, 100, 333, 452, 567, 48, 100, 333, 452, 567, 48, 100, 333, 452, 567, 48, 100, 333, 452, 567, 48, 100, 333, 452, 567, 48, 100, 333, 452, 567, 48, 100, 333, 452, 567, 48, 100, 333, 452, 567, 48, 100, 333, 452, 567, 48, 100, 333, 452, 567, 48, 100, 333, 452, 567, 48, 100, 333, 452, 567, 48, 100, 333, 452, 567, 48, 100, 333, 452, 567, 48, 100, 333, 452, 567, 48, 100, 333, 452, 567, 48, 100, 333, 452, 567, 48, 100, 333, 452, 567, 48, 100, 333, 452, 567, 48, 100, 333, 452, 567, 48, 100, 333, 452, 567, 48, 100, 333, 452, 567, 48, 100, 333, 452, 567, 48, 100, 333, 452, 567, 48, 100, 333, 452, 567, 48, 100, 333, 452, 567, 48, 100, 333, 452, 567, 48, 100, 333, 452, 567, 48, 100, 333, 452, 567, 48, 100, 333, 452, 567, 48, 100, 333, 452, 567, 48, 100, 333, 452, 567, 48, 100, 333, 452, 567, 48, 100, 333, 452, 567, 48, 100, 333, 452, 567, 48, 100, 333, 452, 567, 48, 100, 333, 452, 567, 48, 100, 333, 452, 567, 48, 100, 333, 452, 567, 48, 100, 333, 452, 567, 48, 100, 333, 452, 567, 48, 100, 333, 452, 567, 48, 100, 333, 452, 567, 48, 100, 333, 452, 567, 48, 100, 333, 452, 567, 48, 100, 333, 452, 567, 48, 100, 333, 452, 567, 48, 100, 333, 452, 567, 48, 100, 333, 452, 567, 48, 100, 333, 452, 567, 48, 100, 333, 452, 567, 48, 100, 333, 452, 567, 48, 100, 333, 452, 567, 48, 100, 333, 452, 567, 48, 100, 333, 452, 567, 48, 100, 333, 452, 567, 48, 100, 333, 452, 567, 48, 100, 333, 452, 567, 48, 100, 333, 452, 567, 48, 100, 333, 452, 567, 48, 100, 333, 452, 567, 48, 100, 333, 452, 567, 48, 100, 333, 452, 567, 48, 100, 333, 452, 567, 48, 100, 333, 452, 567, 48, 100, 333, 452, 567, 48, 100, 333, 452, 567, 48, 100, 333, 452, 567, 48, 100, 333, 452, 567, 48, 100, 333, 452, 567, 48, 100, 333, 452, 567, 48, 100, 333, 452, 567, 48, 100, 333, 452, 567, 48, 100, 333, 452, 567, 48, 100, 333, 452, 567, 48, 100, 333, 452, 567, 48, 100, 333, 452, 567, 48, 100, 333, 452, 567, 48, 100, 333, 452, 567, 48, 100, 333, 452, 567, 48, 100, 333, 452, 567, 48, 100, 333, 452, 567, 48, 100, 333, 452, 567, 48, 100, 333, 452, 567, 48, 100, 333, 452, 567, 48, 100, 333, 452, 567, 48, 100, 333, 452, 567, 48, 100, 333, 452, 567, 48, 100, 333, 452, 567, 48, 100, 333, 452, 567, 48, 100, 333, 452, 567, 48, 100, 333, 452, 567, 48, 100, 333, 452, 567, 48, 100, 333, 452, 567, 48, 100, 333, 452, 567, 48, 100, 333, 452, 567, 48, 100, 333, 452, 567, 48, 100, 333, 452, 567, 48, 100, 333, 452, 567, 48, 100, 333, 452, 567, 48, 100, 333, 452, 567, 48, 100, 333, 452, 567, 48, 100, 333, 452, 567, 48, 100, 333, 452, 567, 48, 100, 333, 452, 567, 48, 100, 333, 452, 567, 48, 100, 333, 452, 567, 48, 100, 333, 452, 567, 48, 100, 333, 452, 567, 48, 100, 333, 452, 567, 48, 100, 333, 452, 567, 48, 100, 333, 452, 567, 48, 100, 333, 452, 567, 48, 100, 333, 452, 567, 48, 100, 333, 452, 567, 48, 100, 333, 452, 567, 48, 100, 333, 452, 567, 48, 100, 333, 452, 567, 48, 100, 333, 452, 567, 48, 100, 333, 452, 567, 48, 100, 333, 452, 567, 48, 100, 333, 452, 567, 48, 100, 333, 452, 567, 48, 100, 333, 452, 567, 48, 100, 333, 452, 567, 48, 100, 333, 452, 567, 48, 100, 333, 452, 567, 48, 100, 333, 452, 567, 48, 100, 333, 452, 567, 48, 100, 333, 452, 567, 48, 100, 333, 452, 567, 48, 100, 333, 452, 567, 48, 100, 333, 452, 567, 48, 100, 333, 452, 567, 48, 100, 333, 452, 567, 48, 100, 333, 452, 567, 48, 100, 333, 452, 567, 48, 100, 333, 452, 567, 48, 100, 333, 452, 567, 48, 100, 333, 452, 567, 48, 100, 333, 452, 567, 48, 100, 333, 452, 567, 48, 100, 333, 452, 567, 48, 100, 333, 452, 567, 48, 100, 333, 452, 567, 48, 100, 333, 452, 567, 48, 100, 333, 452, 567, 48, 100, 333, 452, 567, 48, 100, 333, 452, 567, 48, 100, 333, 452, 567, 48, 100, 333, 452, 567, 48, 100, 333, 452, 567, 48, 100, 333, 452, 567, 48, 100, 333, 452, 567, 48, 100, 333, 452, 567, 48, 100, 333, 452, 567, 48, 100, 333, 452, 567, 48, 100, 333, 452, 567, 48, 100, 333, 452, 567, 48, 100, 333, 452, 567, 48, 100, 333, 452, 567, 48, 100, 333, 452, 567, 48, 100, 333, 452, 567, 48, 100, 333, 452, 567, 48, 100, 333, 452, 567, 48, 100, 333, 452, 567, 48, 100, 333, 452, 567, 48, 100, 333, 452, 567, 48, 100, 333, 452, 567, 48, 100, 333, 452, 567, 48, 100, 333, 452, 567, 48, 100, 333, 452, 567, 48, 100, 333, 452, 567, 48, 100, 333, 452, 567, 48, 100, 333, 452, 567, 48, 100, 333, 452, 567, 48, 100, 333, 452, 567, 48, 100, 333, 452, 567, 48, 100, 333, 452, 567, 48, 100, 333, 452, 567, 48, 100, 333, 452, 567, 48, 100, 333, 452, 567, 48, 100, 333, 452, 567, 48, 100, 333, 452, 567, 48, 100, 333, 452, 567, 48, 100, 333, 452, 567, 48, 100, 333, 452, 567, 48, 100, 333, 452, 567, 48, 100, 333, 452, 567, 48, 100, 333, 452, 567, 48, 100, 333, 452, 567, 48, 100, 333, 452, 567, 48, 100, 333, 452, 567, 48, 100, 333, 452, 567, 48, 100, 333, 452, 567, 48, 100, 333, 452, 567, 48, 100, 333, 452, 567, 48, 100, 333, 452, 567, 48, 100, 333, 452, 567, 48, 100, 333, 452, 567, 48, 100, 333, 452, 567, 48, 100, 333, 452, 567, 48, 100, 333, 452, 567, 48, 100, 333, 452, 567, 48, 100, 333, 452, 567, 48, 100, 333, 452, 567, 48, 100, 333, 452, 567, 48, 100, 333, 452, 567, 48, 100, 333, 452, 567, 48, 100, 333, 452, 567, 48, 100, 333, 452, 567, 48, 100, 333, 452, 567, 48, 100, 333, 452, 567, 48, 100, 333, 452, 567, 48, 100, 333, 452, 567, 48, 100, 333, 452, 567, 48, 100, 333, 452, 567, 48, 100, 333, 452, 567, 48, 100, 333, 452, 567, 48, 100, 333, 452, 567, 48, 100, 333, 452, 567, 48, 100, 333, 452, 567, 48, 100, 333, 452, 567, 48, 100, 333, 452, 567, 48, 100, 333, 452, 567, 48, 100, 333, 452, 567, 48, 100, 333, 452, 567, 48, 100, 333, 452, 567, 48, 100, 333, 452, 567, 48, 100, 333, 452, 567, 48, 100, 333, 452, 567, 48, 100, 333, 452, 567, 48, 100, 333, 452, 567, 48, 100, 333, 452, 567, 48, 100, 333, 452, 567, 48, 100, 333, 452, 567, 48, 100, 333, 452, 567, 48, 100, 333, 452, 567, 48, 100, 333, 452, 567, 48, 100, 333, 452, 567, 48, 100, 333, 452, 567, 48, 100, 333, 452, 567, 48, 100, 333, 452, 567, 48, 100, 333, 452, 567, 48, 100, 333, 452, 567, 48, 100, 333, 452, 567, 48, 100, 333, 452, 567, 48, 100, 333, 452, 567, 48, 100, 333, 452, 567, 48, 100, 333, 452, 567, 48, 100, 333, 452, 567, 48, 100, 333, 452, 567, 48, 100, 333, 452, 567, 48, 100, 333, 452, 567, 48, 100, 333, 452, 567, 50, 1010, 55, 341, 132, 50, 1010, 55, 341, 132, 50, 1010, 55, 341, 132, 50, 1010, 55, 341, 132, 50, 1010, 55, 341, 132, 50, 1010, 55, 341, 132, 50, 1010, 55, 341, 132, 50, 1010, 55, 341, 132, 50, 1010, 55, 341, 132, 50, 1010, 55, 341, 132, 50, 1010, 55, 341, 132, 50, 1010, 55, 341, 132, 50, 1010, 55, 341, 132, 50, 1010, 55, 341, 132, 50, 1010, 55, 341, 132, 50, 1010, 55, 341, 132, 50, 1010, 55, 341, 132, 50, 1010, 55, 341, 132, 50, 1010, 55, 341, 132, 50, 1010, 55, 341, 132, 50, 1010, 55, 341, 132, 50, 1010, 55, 341, 132, 50, 1010, 55, 341, 132, 50, 1010, 55, 341, 132, 50, 1010, 55, 341, 132, 50, 1010, 55, 341, 132, 50, 1010, 55, 341, 132, 50, 1010, 55, 341, 132, 50, 1010, 55, 341, 132, 50, 1010, 55, 341, 132, 50, 1010, 55, 341, 132, 50, 1010, 55, 341, 132, 50, 1010, 55, 341, 132, 50, 1010, 55, 341, 132, 50, 1010, 55, 341, 132, 50, 1010, 55, 341, 132, 50, 1010, 55, 341, 132, 50, 1010, 55, 341, 132, 50, 1010, 55, 341, 132, 50, 1010, 55, 341, 132, 50, 1010, 55, 341, 132, 50, 1010, 55, 341, 132, 50, 1010, 55, 341, 132, 50, 1010, 55, 341, 132, 50, 1010, 55, 341, 132, 50, 1010, 55, 341, 132, 50, 1010, 55, 341, 132, 50, 1010, 55, 341, 132, 50, 1010, 55, 341, 132, 50, 1010, 55, 341, 132, 50, 1010, 55, 341, 132, 50, 1010, 55, 341, 132, 50, 1010, 55, 341, 132, 50, 1010, 55, 341, 132, 50, 1010, 55, 341, 132, 50, 1010, 55, 341, 132, 50, 1010, 55, 341, 132, 50, 1010, 55, 341, 132, 50, 1010, 55, 341, 132, 50, 1010, 55, 341, 132, 50, 1010, 55, 341, 132, 50, 1010, 55, 341, 132, 50, 1010, 55, 341, 132, 50, 1010, 55, 341, 132, 50, 1010, 55, 341, 132, 50, 1010, 55, 341, 132, 50, 1010, 55, 341, 132, 50, 1010, 55, 341, 132, 50, 1010, 55, 341, 132, 50, 1010, 55, 341, 132, 50, 1010, 55, 341, 132, 50, 1010, 55, 341, 132, 50, 1010, 55, 341, 132, 50, 1010, 55, 341, 132, 50, 1010, 55, 341, 132, 50, 1010, 55, 341, 132, 50, 1010, 55, 341, 132, 50, 1010, 55, 341, 132, 50, 1010, 55, 341, 132, 50, 1010, 55, 341, 132, 50, 1010, 55, 341, 132, 50, 1010, 55, 341, 132, 50, 1010, 55, 341, 132, 50, 1010, 55, 341, 132, 50, 1010, 55, 341, 132, 50, 1010, 55, 341, 132, 50, 1010, 55, 341, 132, 50, 1010, 55, 341, 132, 50, 1010, 55, 341, 132, 50, 1010, 55, 341, 132, 50, 1010, 55, 341, 132, 50, 1010, 55, 341, 132, 50, 1010, 55, 341, 132, 50, 1010, 55, 341, 132, 50, 1010, 55, 341, 132, 50, 1010, 55, 341, 132, 50, 1010, 55, 341, 132, 50, 1010, 55, 341, 132, 50, 1010, 55, 341, 132, 822, 563, 77, 451, 475, 822, 563, 77, 451, 475, 822, 563, 77, 451, 475, 822, 563, 77, 451, 475, 822, 563, 77, 451, 475, 822, 563, 77, 451, 475, 822, 563, 77, 451, 475, 822, 563, 77, 451, 475, 822, 563, 77, 451, 475, 822, 563, 77, 451, 475, 822, 563, 77, 451, 475, 822, 563, 77, 451, 475, 822, 563, 77, 451, 475, 822, 563, 77, 451, 475, 822, 563, 77, 451, 475, 822, 563, 77, 451, 475, 822, 563, 77, 451, 475, 822, 563, 77, 451, 475, 822, 563, 77, 451, 475, 822, 563, 77, 451, 475, 822, 563, 77, 451, 475, 822, 563, 77, 451, 475, 822, 563, 77, 451, 475, 822, 563, 77, 451, 475, 822, 563, 77, 451, 475, 822, 563, 77, 451, 475, 822, 563, 77, 451, 475, 822, 563, 77, 451, 475, 822, 563, 77, 451, 475, 822, 563, 77, 451, 475, 822, 563, 77, 451, 475, 822, 563, 77, 451, 475, 822, 563, 77, 451, 475, 822, 563, 77, 451, 475, 822, 563, 77, 451, 475, 822, 563, 77, 451, 475, 822, 563, 77, 451, 475, 822, 563, 77, 451, 475, 822, 563, 77, 451, 475, 822, 563, 77, 451, 475, 822, 563, 77, 451, 475, 822, 563, 77, 451, 475, 822, 563, 77, 451, 475, 822, 563, 77, 451, 475, 822, 563, 77, 451, 475, 822, 563, 77, 451, 475, 822, 563, 77, 451, 475, 822, 563, 77, 451, 475, 822, 563, 77, 451, 475, 822, 563, 77, 451, 475, 822, 563, 77, 451, 475, 822, 563, 77, 451, 475, 822, 563, 77, 451, 475, 822, 563, 77, 451, 475, 822, 563, 77, 451, 475, 822, 563, 77, 451, 475, 822, 563, 77, 451, 475, 822, 563, 77, 451, 475, 822, 563, 77, 451, 475, 822, 563, 77, 451, 475, 822, 563, 77, 451, 475, 822, 563, 77, 451, 475, 822, 563, 77, 451, 475, 822, 563, 77, 451, 475, 822, 563, 77, 451, 475, 822, 563, 77, 451, 475, 822, 563, 77, 451, 475, 822, 563, 77, 451, 475, 822, 563, 77, 451, 475, 822, 563, 77, 451, 475, 822, 563, 77, 451, 475, 822, 563, 77, 451, 475, 822, 563, 77, 451, 475, 822, 563, 77, 451, 475, 822, 563, 77, 451, 475, 822, 563, 77, 451, 475, 822, 563, 77, 451, 475, 822, 563, 77, 451, 475, 822, 563, 77, 451, 475, 822, 563, 77, 451, 475, 822, 563, 77, 451, 475, 822, 563, 77, 451, 475, 822, 563, 77, 451, 475, 822, 563, 77, 451, 475, 822, 563, 77, 451, 475, 822, 563, 77, 451, 475, 822, 563, 77, 451, 475, 822, 563, 77, 451, 475, 822, 563, 77, 451, 475, 822, 563, 77, 451, 475, 822, 563, 77, 451, 475, 822, 563, 77, 451, 475, 822, 563, 77, 451, 475, 822, 563, 77, 451, 475, 822, 563, 77, 451, 475, 822, 563, 77, 451, 475, 822, 563, 77, 451, 475, 822, 563, 77, 451, 475, 822, 563, 77, 451, 475, 822, 563, 77, 451, 475, 822, 563, 77, 451, 475, 822, 563, 77, 451, 475, 822, 563, 77, 451, 475, 822, 563, 77, 451, 475, 822, 563, 77, 451, 475, 822, 563, 77, 451, 475, 822, 563, 77, 451, 475, 822, 563, 77, 451, 475, 822, 563, 77, 451, 475, 822, 563, 77, 451, 475, 822, 563, 77, 451, 475, 822, 563, 77, 451, 475, 822, 563, 77, 451, 475, 822, 563, 77, 451, 475, 822, 563, 77, 451, 475, 822, 563, 77, 451, 475, 822, 563, 77, 451, 475, 822, 563, 77, 451, 475, 822, 563, 77, 451, 475, 822, 563, 77, 451, 475, 822, 563, 77, 451, 475, 822, 563, 77, 451, 475, 822, 563, 77, 451, 475, 822, 563, 77, 451, 475, 822, 563, 77, 451, 475, 822, 563, 77, 451, 475, 822, 563, 77, 451, 475, 822, 563, 77, 451, 475, 822, 563, 77, 451, 475, 822, 563, 77, 451, 475, 822, 563, 77, 451, 475, 822, 563, 77, 451, 475, 822, 563, 77, 451, 475, 822, 563, 77, 451, 475, 822, 563, 77, 451, 475, 822, 563, 77, 451, 475, 822, 563, 77, 451, 475, 822, 563, 77, 451, 475, 822, 563, 77, 451, 475, 822, 563, 77, 451, 475, 822, 563, 77, 451, 475, 822, 563, 77, 451, 475, 822, 563, 77, 451, 475, 822, 563, 77, 451, 475, 822, 563, 77, 451, 475, 822, 563, 77, 451, 475, 822, 563, 77, 451, 475, 822, 563, 77, 451, 475, 822, 563, 77, 451, 475, 822, 563, 77, 451, 475, 822, 563, 77, 451, 475, 822, 563, 77, 451, 475, 822, 563, 77, 451, 475, 822, 563, 77, 451, 475, 822, 563, 77, 451, 475, 822, 563, 77, 451, 475, 822, 563, 77, 451, 475, 822, 563, 77, 451, 475, 822, 563, 77, 451, 475, 822, 563, 77, 451, 475, 822, 563, 77, 451, 475, 822, 563, 77, 451, 475, 822, 563, 77, 451, 475, 822, 563, 77, 451, 475, 822, 563, 77, 451, 475, 822, 563, 77, 451, 475, 822, 563, 77, 451, 475, 822, 563, 77, 451, 475, 822, 563, 77, 451, 475, 822, 563, 77, 451, 475, 822, 563, 77, 451, 475, 822, 563, 77, 451, 475, 822, 563, 77, 451, 475, 822, 563, 77, 451, 475, 822, 563, 77, 451, 475, 822, 563, 77, 451, 475, 822, 563, 77, 451, 475, 822, 563, 77, 451, 475, 822, 563, 77, 451, 475, 822, 563, 77, 451, 475, 822, 563, 77, 451, 475, 822, 563, 77, 451, 475, 822, 563, 77, 451, 475, 822, 563, 77, 451, 475, 822, 563, 77, 451, 475, 822, 563, 77, 451, 475, 822, 563, 77, 451, 475, 822, 563, 77, 451, 475, 822, 563, 77, 451, 475, 822, 563, 77, 451, 475, 822, 563, 77, 451, 475, 822, 563, 77, 451, 475, 822, 563, 77, 451, 475, 822, 563, 77, 451, 475, 822, 563, 77, 451, 475, 822, 563, 77, 451, 475, 822, 563, 77, 451, 475, 822, 563, 77, 451, 475, 822, 563, 77, 451, 475, 822, 563, 77, 451, 475, 822, 563, 77, 451, 475, 822, 563, 77, 451, 475, 822, 563, 77, 451, 475, 822, 563, 77, 451, 475, 822, 563, 77, 451, 475, 822, 563, 77, 451, 475, 822, 563, 77, 451, 475, 822, 563, 77, 451, 475, 822, 563, 77, 451, 475, 822, 563, 77, 451, 475, 822, 563, 77, 451, 475, 822, 563, 77, 451, 475, 822, 563, 77, 451, 475, 822, 563, 77, 451, 475, 822, 563, 77, 451, 475, 822, 563, 77, 451, 475, 822, 563, 77, 451, 475, 822, 563, 77, 451, 475, 822, 563, 77, 451, 475, 822, 563, 77, 451, 475, 822, 563, 77, 451, 475, 822, 563, 77, 451, 475, 822, 563, 77, 451, 475, 822, 563, 77, 451, 475, 822, 563, 77, 451, 475, 822, 563, 77, 451, 475, 822, 563, 77, 451, 475, 822, 563, 77, 451, 475, 822, 563, 77, 451, 475, 822, 563, 77, 451, 475, 822, 563, 77, 451, 475, 822, 563, 77, 451, 475, 822, 563, 77, 451, 475, 822, 563, 77, 451, 475, 822, 563, 77, 451, 475, 822, 563, 77, 451, 475, 822, 563, 77, 451, 475, 822, 563, 77, 451, 475, 822, 563, 77, 451, 475, 822, 563, 77, 451, 475, 822, 563, 77, 451, 475, 822, 563, 77, 451, 475, 822, 563, 77, 451, 475, 822, 563, 77, 451, 475, 822, 563, 77, 451, 475, 822, 563, 77, 451, 475, 822, 563, 77, 451, 475, 822, 563, 77, 451, 475, 822, 563, 77, 451, 475, 822, 563, 77, 451, 475, 822, 563, 77, 451, 475, 822, 563, 77, 451, 475, 822, 563, 77, 451, 475, 822, 563, 77, 451, 475, 822, 563, 77, 451, 475, 822, 563, 77, 451, 475, 822, 563, 77, 451, 475, 822, 563, 77, 451, 475, 822, 563, 77, 451, 475, 822, 563, 77, 451, 475, 822, 563, 77, 451, 475, 822, 563, 77, 451, 475, 822, 563, 77, 451, 475, 822, 563, 77, 451, 475, 822, 563, 77, 451, 475, 822, 563, 77, 451, 475, 822, 563, 77, 451, 475, 822, 563, 77, 451, 475, 822, 563, 77, 451, 475, 822, 563, 77, 451, 475, 822, 563, 77, 451, 475, 822, 563, 77, 451, 475, 822, 563, 77, 451, 475, 822, 563, 77, 451, 475, 822, 563, 77, 451, 475, 822, 563, 77, 451, 475, 822, 563, 77, 451, 475, 822, 563, 77, 451, 475, 822, 563, 77, 451, 475, 822, 563, 77, 451, 475, 822, 563, 77, 451, 475, 822, 563, 77, 451, 475, 822, 563, 77, 451, 475, 822, 563, 77, 451, 475, 822, 563, 77, 451, 475, 822, 563, 77, 451, 475, 822, 563, 77, 451, 475, 822, 563, 77, 451, 475, 822, 563, 77, 451, 475, 822, 563, 77, 451, 475, 822, 563, 77, 451, 475, 822, 563, 77, 451, 475, 822, 563, 77, 451, 475, 822, 563, 77, 451, 475, 822, 563, 77, 451, 475, 822, 563, 77, 451, 475, 822, 563, 77, 451, 475, 822, 563, 77, 451, 475, 822, 563, 77, 451, 475, 822, 563, 77, 451, 475, 822, 563, 77, 451, 475, 822, 563, 77, 451, 475, 822, 563, 77, 451, 475, 822, 563, 77, 451, 475, 822, 563, 77, 451, 475, 822, 563, 77, 451, 475, 822, 563, 77, 451, 475, 822, 563, 77, 451, 475, 822, 563, 77, 451, 475, 822, 563, 77, 451, 475, 822, 563, 77, 451, 475, 822, 563, 77, 451, 475, 822, 563, 77, 451, 475, 822, 563, 77, 451, 475, 822, 563, 77, 451, 475, 822, 563, 77, 451, 475, 822, 563, 77, 451, 475, 822, 563, 77, 451, 475, 822, 563, 77, 451, 475, 822, 563, 77, 451, 475, 822, 563, 77, 451, 475, 822, 563, 77, 451, 475, 822, 563, 77, 451, 475, 822, 563, 77, 451, 475, 822, 563, 77, 451, 475, 822, 563, 77, 451, 475, 822, 563, 77, 451, 475, 822, 563, 77, 451, 475, 822, 563, 77, 451, 475, 822, 563, 77, 451, 475, 822, 563, 77, 451, 475, 822, 563, 77, 451, 475, 822, 563, 77, 451, 475, 822, 563, 77, 451, 475, 822, 563, 77, 451, 475, 822, 563, 77, 451, 475, 822, 563, 77, 451, 475, 822, 563, 77, 451, 475, 822, 563, 77, 451, 475, 822, 563, 77, 451, 475, 822, 563, 77, 451, 475, 822, 563, 77, 451, 475, 822, 563, 77, 451, 475, 822, 563, 77, 451, 475, 822, 563, 77, 451, 475, 822, 563, 77, 451, 475, 822, 563, 77, 451, 475, 822, 563, 77, 451, 475, 822, 563, 77, 451, 475, 822, 563, 77, 451, 475, 822, 563, 77, 451, 475, 822, 563, 77, 451, 475, 822, 563, 77, 451, 475, 822, 563, 77, 451, 475, 822, 563, 77, 451, 475, 822, 563, 77, 451, 475, 822, 563, 77, 451, 475, 822, 563, 77, 451, 475, 822, 563, 77, 451, 475, 822, 563, 77, 451, 475, 822, 563, 77, 451, 475, 822, 563, 77, 451, 475, 822, 563, 77, 451, 475, 822, 563, 77, 451, 475, 822, 563, 77, 451, 475, 822, 563, 77, 451, 475, 822, 563, 77, 451, 475, 822, 563, 77, 451, 475, 822, 563, 77, 451, 475, 822, 563, 77, 451, 475, 822, 563, 77, 451, 475, 822, 563, 77, 451, 475, 822, 563, 77, 451, 475, 822, 563, 77, 451, 475, 822, 563, 77, 451, 475, 822, 563, 77, 451, 475, 822, 563, 77, 451, 475, 822, 563, 77, 451, 475, 822, 563, 77, 451, 475, 822, 563, 77, 451, 475, 822, 563, 77, 451, 475, 822, 563, 77, 451, 475, 822, 563, 77, 451, 475, 822, 563, 77, 451, 475, 822, 563, 77, 451, 475, 822, 563, 77, 451, 475, 822, 563, 77, 451, 475, 822, 563, 77, 451, 475, 822, 563, 77, 451, 475, 822, 563, 77, 451, 475, 822, 563, 77, 451, 475, 822, 563, 77, 451, 475, 822, 563, 77, 451, 475, 822, 563, 77, 451, 475, 822, 563, 77, 451, 475, 822, 563, 77, 451, 475, 822, 563, 77, 451, 475, 822, 563, 77, 451, 475, 822, 563, 77, 451, 475, 822, 563, 77, 451, 475, 822, 563, 77, 451, 475, 822, 563, 77, 451, 475, 822, 563, 77, 451, 475, 822, 563, 77, 451, 475, 822, 563, 77, 451, 475, 822, 563, 77, 451, 475, 822, 563, 77, 451, 475, 822, 563, 77, 451, 475, 822, 563, 77, 451, 475, 822, 563, 77, 451, 475, 822, 563, 77, 451, 475, 822, 563, 77, 451, 475, 822, 563, 77, 451, 475, 822, 563, 77, 451, 475, 822, 563, 77, 451, 475, 822, 563, 77, 451, 475, 822, 563, 77, 451, 475, 822, 563, 77, 451, 475, 822, 563, 77, 451, 475, 822, 563, 77, 451, 475, 822, 563, 77, 451, 475, 822, 563, 77, 451, 475, 822, 563, 77, 451, 475, 822, 563, 77, 451, 475, 822, 563, 77, 451, 475, 822, 563, 77, 451, 475, 822, 563, 77, 451, 475, 822, 563, 77, 451, 475, 822, 563, 77, 451, 475, 822, 563, 77, 451, 475, 822, 563, 77, 451, 475, 822, 563, 77, 451, 475, 822, 563, 77, 451, 475, 822, 563, 77, 451, 475, 822, 563, 77, 451, 475, 822, 563, 77, 451, 475, 822, 563, 77, 451, 475, 822, 563, 77, 451, 475, 822, 563, 77, 451, 475, 822, 563, 77, 451, 475, 822, 563, 77, 451, 475, 822, 563, 77, 451, 475, 822, 563, 77, 451, 475, 822, 563, 77, 451, 475, 822, 563, 77, 451, 475, 822, 563, 77, 451, 475, 822, 563, 77, 451, 475, 822, 563, 77, 451, 475, 822, 563, 77, 451, 475, 822, 563, 77, 451, 475, 822, 563, 77, 451, 475, 822, 563, 77, 451, 475, 822, 563, 77, 451, 475, 822, 563, 77, 451, 475, 822, 563, 77, 451, 475, 822, 563, 77, 451, 475, 822, 563, 77, 451, 475, 822, 563, 77, 451, 475, 822, 563, 77, 451, 475, 822, 563, 77, 451, 475, 822, 563, 77, 451, 475, 822, 563, 77, 451, 475, 822, 563, 77, 451, 475, 822, 563, 77, 451, 475, 822, 563, 77, 451, 475, 822, 563, 77, 451, 475, 822, 563, 77, 451, 475, 822, 563, 77, 451, 475, 822, 563, 77, 451, 475, 822, 563, 77, 451, 475, 822, 563, 77, 451, 475, 822, 563, 77, 451, 475, 822, 563, 77, 451, 475, 822, 563, 77, 451, 475, 822, 563, 77, 451, 475, 822, 563, 77, 451, 475, 822, 563, 77, 451, 475, 822, 563, 77, 451, 475, 822, 563, 77, 451, 475, 822, 563, 77, 451, 475, 822, 563, 77, 451, 475, 822, 563, 77, 451, 475, 822, 563, 77, 451, 475, 822, 563, 77, 451, 475, 822, 563, 77, 451, 475, 822, 563, 77, 451, 475, 822, 563, 77, 451, 475, 822, 563, 77, 451, 475, 822, 563, 77, 451, 475, 822, 563, 77, 451, 475, 822, 563, 77, 451, 475, 822, 563, 77, 451, 475, 822, 563, 77, 451, 475, 822, 563, 77, 451, 475, 822, 563, 77, 451, 475, 822, 563, 77, 451, 475, 822, 563, 77, 451, 475, 822, 563, 77, 451, 475, 822, 563, 77, 451, 475, 822, 563, 77, 451, 475, 822, 563, 77, 451, 475, 822, 563, 77, 451, 475, 822, 563, 77, 451, 475, 822, 563, 77, 451, 475, 822, 563, 77, 451, 475, 822, 563, 77, 451, 475, 822, 563, 77, 451, 475, 822, 563, 77, 451, 475, 822, 563, 77, 451, 475, 822, 563, 77, 451, 475, 822, 563, 77, 451, 475, 822, 563, 77, 451, 475, 822, 563, 77, 451, 475, 822, 563, 77, 451, 475, 822, 563, 77, 451, 475, 822, 563, 77, 451, 475, 822, 563, 77, 451, 475, 822, 563, 77, 451, 475, 822, 563, 77, 451, 475, 822, 563, 77, 451, 475, 822, 563, 77, 451, 475, 822, 563, 77, 451, 475, 822, 563, 77, 451, 475, 822, 563, 77, 451, 475, 822, 563, 77, 451, 475, 822, 563, 77, 451, 475, 822, 563, 77, 451, 475, 822, 563, 77, 451, 475, 822, 563, 77, 451, 475, 822, 563, 77, 451, 475, 822, 563, 77, 451, 475, 822, 563, 77, 451, 475, 822, 563, 77, 451, 475, 822, 563, 77, 451, 475, 822, 563, 77, 451, 475, 822, 563, 77, 451, 475, 822, 563, 77, 451, 475, 822, 563, 77, 451, 475, 822, 563, 77, 451, 475, 822, 563, 77, 451, 475, 822, 563, 77, 451, 475, 822, 563, 77, 451, 475, 822, 563, 77, 451, 475, 822, 563, 77, 451, 475, 822, 563, 77, 451, 475, 822, 563, 77, 451, 475, 822, 563, 77, 451, 475, 822, 563, 77, 451, 475, 822, 563, 77, 451, 475, 822, 563, 77, 451, 475, 822, 563, 77, 451, 475, 822, 563, 77, 451, 475, 822, 563, 77, 451, 475, 822, 563, 77, 451, 475, 822, 563, 77, 451, 475, 822, 563, 77, 451, 475, 822, 563, 77, 451, 475, 822, 563, 77, 451, 475, 822, 563, 77, 451, 475, 822, 563, 77, 451, 475, 822, 563, 77, 451, 475, 822, 563, 77, 451, 475, 822, 563, 77, 451, 475, 822, 563, 77, 451, 475, 822, 563, 77, 451, 475, 822, 563, 77, 451, 475, 822, 563, 77, 451, 475, 822, 563, 77, 451, 475, 822, 563, 77, 451, 475, 822, 563, 77, 451, 475, 822, 563, 77, 451, 475, 822, 563, 77, 451, 475, 822, 563, 77, 451, 475, 822, 563, 77, 451, 475, 822, 563, 77, 451, 475, 822, 563, 77, 451, 475, 822, 563, 77, 451, 475, 822, 563, 77, 451, 475, 822, 563, 77, 451, 475, 822, 563, 77, 451, 475, 822, 563, 77, 451, 475, 822, 563, 77, 451, 475, 822, 563, 77, 451, 475, 822, 563, 77, 451, 475, 822, 563, 77, 451, 475, 822, 563, 77, 451, 475, 822, 563, 77, 451, 475, 822, 563, 77, 451, 475, 822, 563, 77, 451, 475, 822, 563, 77, 451, 475, 822, 563, 77, 451, 475, 822, 563, 77, 451, 475, 822, 563, 77, 451, 475, 822, 563, 77, 451, 475, 822, 563, 77, 451, 475, 822, 563, 77, 451, 475, 822, 563, 77, 451, 475, 822, 563, 77, 451, 475, 822, 563, 77, 451, 475, 822, 563, 77, 451, 475, 822, 563, 77, 451, 475, 822, 563, 77, 451, 475, 822, 563, 77, 451, 475, 822, 563, 77, 451, 475, 822, 563, 77, 451, 475, 822, 563, 77, 451, 475, 822, 563, 77, 451, 475, 822, 563, 77, 451, 475, 822, 563, 77, 451, 475, 822, 563, 77, 451, 475, 822, 563, 77, 451, 475, 822, 563, 77, 451, 475, 822, 563, 77, 451, 475, 822, 563, 77, 451, 475, 822, 563, 77, 451, 475, 822, 563, 77, 451, 475, 822, 563, 77, 451, 475, 822, 563, 77, 451, 475, 822, 563, 77, 451, 475, 822, 563, 77, 451, 475, 822, 563, 77, 451, 475, 822, 563, 77, 451, 475, 822, 563, 77, 451, 475, 822, 563, 77, 451, 475, 822, 563, 77, 451, 475, 822, 563, 77, 451, 475, 822, 563, 77, 451, 475, 822, 563, 77, 451, 475, 822, 563, 77, 451, 475, 822, 563, 77, 451, 475, 822, 563, 77, 451, 475, 822, 563, 77, 451, 475, 822, 563, 77, 451, 475, 822, 563, 77, 451, 475, 822, 563, 77, 451, 475, 822, 563, 77, 451, 475, 822, 563, 77, 451, 475, 822, 563, 77, 451, 475, 822, 563, 77, 451, 475, 822, 563, 77, 451, 475, 822, 563, 77, 451, 475, 822, 563, 77, 451, 475, 822, 563, 77, 451, 475, 822, 563, 77, 451, 475, 822, 563, 77, 451, 475, 822, 563, 77, 451, 475, 822, 563, 77, 451, 475, 822, 563, 77, 451, 475, 822, 563, 77, 451, 475, 822, 563, 77, 451, 475, 822, 563, 77, 451, 475, 822, 563, 77, 451, 475, 822, 563, 77, 451, 475, 822, 563, 77, 451, 475, 822, 563, 77, 451, 475, 822, 563, 77, 451, 475, 822, 563, 77, 451, 475, 822, 563, 77, 451, 475, 822, 563, 77, 451, 475, 822, 563, 77, 451, 475, 822, 563, 77, 451, 475, 822, 563, 77, 451, 475, 822, 563, 77, 451, 475, 822, 563, 77, 451, 475, 822, 563, 77, 451, 475, 822, 563, 77, 451, 475, 822, 563, 77, 451, 475, 822, 563, 77, 451, 475, 822, 563, 77, 451, 475, 822, 563, 77, 451, 475, 822, 563, 77, 451, 475, 822, 563, 77, 451, 475, 822, 563, 77, 451, 475, 822, 563, 77, 451, 475, 822, 563, 77, 451, 475, 822, 563, 77, 451, 475, 822, 563, 77, 451, 475, 822, 563, 77, 451, 475, 822, 563, 77, 451, 475, 822, 563, 77, 451, 475, 822, 563, 77, 451, 475, 822, 563, 77, 451, 475, 822, 563, 77, 451, 475, 822, 563, 77, 451, 475, 822, 563, 77, 451, 475, 822, 563, 77, 451, 475, 822, 563, 77, 451, 475, 822, 563, 77, 451, 475, 822, 563, 77, 451, 475, 822, 563, 77, 451, 475, 822, 563, 77, 451, 475, 822, 563, 77, 451, 475, 822, 563, 77, 451, 475, 822, 563, 77, 451, 475, 822, 563, 77, 451, 475, 822, 563, 77, 451, 475, 822, 563, 77, 451, 475, 822, 563, 77, 451, 475, 822, 563, 77, 451, 475, 822, 563, 77, 451, 475, 822, 563, 77, 451, 475, 822, 563, 77, 451, 475, 822, 563, 77, 451, 475, 822, 563, 77, 451, 475, 822, 563, 77, 451, 475, 822, 563, 77, 451, 475, 822, 563, 77, 451, 475, 822, 563, 77, 451, 475, 822, 563, 77, 451, 475, 822, 563, 77, 451, 475, 822, 563, 77, 451, 475, 822, 563, 77, 451, 475, 822, 563, 77, 451, 475, 822, 563, 77, 451, 475, 822, 563, 77, 451, 475, 822, 563, 77, 451, 475, 822, 563, 77, 451, 475, 822, 563, 77, 451, 475, 822, 563, 77, 451, 475, 822, 563, 77, 451, 475, 822, 563, 77, 451, 475, 822, 563, 77, 451, 475, 822, 563, 77, 451, 475, 822, 563, 77, 451, 475, 822, 563, 77, 451, 475, 822, 563, 77, 451, 475, 822, 563, 77, 451, 475, 822, 563, 77, 451, 475, 822, 563, 77, 451, 475, 822, 563, 77, 451, 475, 822, 563, 77, 451, 475, 822, 563, 77, 451, 475, 822, 563, 77, 451, 475, 822, 563, 77, 451, 475, 822, 563, 77, 451, 475, 822, 563, 77, 451, 475, 822, 563, 77, 451, 475, 822, 563, 77, 451, 475, 822, 563, 77, 451, 475, 822, 563, 77, 451, 475, 822, 563, 77, 451, 475, 822, 563, 77, 451, 475, 822, 563, 77, 451, 475, 822, 563, 77, 451, 475, 822, 563, 77, 451, 475, 822, 563, 77, 451, 475, 822, 563, 77, 451, 475, 822, 563, 77, 451, 475, 822, 563, 77, 451, 475, 822, 563, 77, 451, 475, 822, 563, 77, 451, 475, 822, 563, 77, 451, 475, 822, 563, 77, 451, 475, 822, 563, 77, 451, 475]),\n",
              "       list([70, 16, 30, 21, 70, 16, 30, 21, 70, 16, 30, 21, 70, 16, 30, 21, 70, 16, 30, 21, 70, 16, 30, 21, 70, 16, 30, 21, 70, 16, 30, 21, 70, 16, 30, 21, 70, 16, 30, 21, 70, 16, 30, 21, 70, 16, 30, 21, 70, 16, 30, 21, 70, 16, 30, 21, 70, 16, 30, 21, 70, 16, 30, 21, 70, 16, 30, 21, 70, 16, 30, 21, 70, 16, 30, 21, 70, 16, 30, 21, 70, 16, 30, 21, 70, 16, 30, 21, 70, 16, 30, 21, 70, 16, 30, 21, 70, 16, 30, 21, 70, 16, 30, 21, 70, 16, 30, 21, 70, 16, 30, 21, 70, 16, 30, 21, 70, 16, 30, 21, 70, 16, 30, 21, 70, 16, 30, 21, 70, 16, 30, 21, 70, 16, 30, 21, 70, 16, 30, 21, 70, 16, 30, 21, 70, 16, 30, 21, 70, 16, 30, 21, 70, 16, 30, 21, 70, 16, 30, 21, 70, 16, 30, 21, 70, 16, 30, 21, 70, 16, 30, 21, 70, 16, 30, 21, 70, 16, 30, 21, 70, 16, 30, 21, 70, 16, 30, 21, 70, 16, 30, 21, 33, 34, 2, 43, 599, 33, 34, 2, 43, 599, 33, 34, 2, 43, 599, 33, 34, 2, 43, 599, 33, 34, 2, 43, 599, 33, 34, 2, 43, 599, 33, 34, 2, 43, 599, 33, 34, 2, 43, 599, 33, 34, 2, 43, 599, 33, 34, 2, 43, 599, 33, 34, 2, 43, 599, 33, 34, 2, 43, 599, 33, 34, 2, 43, 599, 33, 34, 2, 43, 599, 33, 34, 2, 43, 599, 33, 34, 2, 43, 599, 33, 34, 2, 43, 599, 33, 34, 2, 43, 599, 33, 34, 2, 43, 599, 33, 34, 2, 43, 599, 33, 34, 2, 43, 599, 33, 34, 2, 43, 599, 33, 34, 2, 43, 599, 33, 34, 2, 43, 599, 33, 34, 2, 43, 599, 33, 34, 2, 43, 599, 33, 34, 2, 43, 599, 33, 34, 2, 43, 599, 33, 34, 2, 43, 599, 33, 34, 2, 43, 599, 33, 34, 2, 43, 599, 33, 34, 2, 43, 599, 33, 34, 2, 43, 599, 33, 34, 2, 43, 599, 33, 34, 2, 43, 599, 33, 34, 2, 43, 599, 48, 100, 333, 452, 567, 48, 100, 333, 452, 567, 48, 100, 333, 452, 567, 48, 100, 333, 452, 567, 48, 100, 333, 452, 567, 48, 100, 333, 452, 567, 48, 100, 333, 452, 567, 48, 100, 333, 452, 567, 48, 100, 333, 452, 567, 48, 100, 333, 452, 567, 48, 100, 333, 452, 567, 48, 100, 333, 452, 567, 48, 100, 333, 452, 567, 48, 100, 333, 452, 567, 48, 100, 333, 452, 567, 48, 100, 333, 452, 567, 48, 100, 333, 452, 567, 48, 100, 333, 452, 567, 48, 100, 333, 452, 567, 48, 100, 333, 452, 567, 48, 100, 333, 452, 567, 48, 100, 333, 452, 567, 48, 100, 333, 452, 567, 48, 100, 333, 452, 567, 48, 100, 333, 452, 567, 48, 100, 333, 452, 567, 48, 100, 333, 452, 567, 48, 100, 333, 452, 567, 48, 100, 333, 452, 567, 48, 100, 333, 452, 567, 48, 100, 333, 452, 567, 48, 100, 333, 452, 567, 48, 100, 333, 452, 567, 48, 100, 333, 452, 567, 48, 100, 333, 452, 567, 48, 100, 333, 452, 567, 48, 100, 333, 452, 567, 48, 100, 333, 452, 567, 48, 100, 333, 452, 567, 48, 100, 333, 452, 567, 48, 100, 333, 452, 567, 48, 100, 333, 452, 567, 48, 100, 333, 452, 567, 48, 100, 333, 452, 567, 48, 100, 333, 452, 567, 48, 100, 333, 452, 567, 48, 100, 333, 452, 567, 48, 100, 333, 452, 567, 48, 100, 333, 452, 567, 48, 100, 333, 452, 567, 48, 100, 333, 452, 567, 48, 100, 333, 452, 567, 48, 100, 333, 452, 567, 48, 100, 333, 452, 567, 48, 100, 333, 452, 567, 48, 100, 333, 452, 567, 48, 100, 333, 452, 567, 48, 100, 333, 452, 567, 48, 100, 333, 452, 567, 48, 100, 333, 452, 567, 48, 100, 333, 452, 567, 48, 100, 333, 452, 567, 48, 100, 333, 452, 567, 48, 100, 333, 452, 567, 48, 100, 333, 452, 567, 48, 100, 333, 452, 567, 48, 100, 333, 452, 567, 48, 100, 333, 452, 567, 48, 100, 333, 452, 567, 48, 100, 333, 452, 567, 48, 100, 333, 452, 567, 48, 100, 333, 452, 567, 48, 100, 333, 452, 567, 48, 100, 333, 452, 567, 48, 100, 333, 452, 567, 48, 100, 333, 452, 567, 50, 1010, 55, 341, 132, 50, 1010, 55, 341, 132, 50, 1010, 55, 341, 132, 50, 1010, 55, 341, 132, 50, 1010, 55, 341, 132, 50, 1010, 55, 341, 132, 50, 1010, 55, 341, 132, 50, 1010, 55, 341, 132, 50, 1010, 55, 341, 132, 50, 1010, 55, 341, 132, 50, 1010, 55, 341, 132, 50, 1010, 55, 341, 132, 50, 1010, 55, 341, 132, 50, 1010, 55, 341, 132, 50, 1010, 55, 341, 132, 50, 1010, 55, 341, 132, 50, 1010, 55, 341, 132, 50, 1010, 55, 341, 132, 50, 1010, 55, 341, 132, 50, 1010, 55, 341, 132, 50, 1010, 55, 341, 132, 50, 1010, 55, 341, 132, 50, 1010, 55, 341, 132, 50, 1010, 55, 341, 132, 50, 1010, 55, 341, 132, 50, 1010, 55, 341, 132, 50, 1010, 55, 341, 132, 50, 1010, 55, 341, 132, 50, 1010, 55, 341, 132, 50, 1010, 55, 341, 132, 50, 1010, 55, 341, 132, 50, 1010, 55, 341, 132, 50, 1010, 55, 341, 132, 50, 1010, 55, 341, 132, 50, 1010, 55, 341, 132, 50, 1010, 55, 341, 132, 50, 1010, 55, 341, 132, 50, 1010, 55, 341, 132, 50, 1010, 55, 341, 132, 50, 1010, 55, 341, 132, 50, 1010, 55, 341, 132, 50, 1010, 55, 341, 132, 50, 1010, 55, 341, 132, 50, 1010, 55, 341, 132, 50, 1010, 55, 341, 132, 50, 1010, 55, 341, 132, 50, 1010, 55, 341, 132, 50, 1010, 55, 341, 132, 50, 1010, 55, 341, 132, 50, 1010, 55, 341, 132, 50, 1010, 55, 341, 132, 50, 1010, 55, 341, 132, 50, 1010, 55, 341, 132, 50, 1010, 55, 341, 132, 50, 1010, 55, 341, 132, 50, 1010, 55, 341, 132, 50, 1010, 55, 341, 132, 50, 1010, 55, 341, 132, 50, 1010, 55, 341, 132, 50, 1010, 55, 341, 132, 50, 1010, 55, 341, 132, 50, 1010, 55, 341, 132, 50, 1010, 55, 341, 132, 50, 1010, 55, 341, 132, 50, 1010, 55, 341, 132, 50, 1010, 55, 341, 132, 50, 1010, 55, 341, 132, 50, 1010, 55, 341, 132, 50, 1010, 55, 341, 132, 50, 1010, 55, 341, 132, 50, 1010, 55, 341, 132, 50, 1010, 55, 341, 132, 50, 1010, 55, 341, 132, 50, 1010, 55, 341, 132, 50, 1010, 55, 341, 132, 50, 1010, 55, 341, 132, 50, 1010, 55, 341, 132, 50, 1010, 55, 341, 132, 50, 1010, 55, 341, 132, 50, 1010, 55, 341, 132, 50, 1010, 55, 341, 132, 50, 1010, 55, 341, 132, 50, 1010, 55, 341, 132, 50, 1010, 55, 341, 132, 50, 1010, 55, 341, 132, 50, 1010, 55, 341, 132, 50, 1010, 55, 341, 132, 50, 1010, 55, 341, 132, 50, 1010, 55, 341, 132, 50, 1010, 55, 341, 132, 50, 1010, 55, 341, 132, 50, 1010, 55, 341, 132, 50, 1010, 55, 341, 132, 50, 1010, 55, 341, 132, 50, 1010, 55, 341, 132, 50, 1010, 55, 341, 132, 50, 1010, 55, 341, 132, 50, 1010, 55, 341, 132, 50, 1010, 55, 341, 132, 50, 1010, 55, 341, 132, 50, 1010, 55, 341, 132, 50, 1010, 55, 341, 132, 50, 1010, 55, 341, 132, 50, 1010, 55, 341, 132, 50, 1010, 55, 341, 132, 50, 1010, 55, 341, 132, 50, 1010, 55, 341, 132, 50, 1010, 55, 341, 132, 50, 1010, 55, 341, 132, 50, 1010, 55, 341, 132, 50, 1010, 55, 341, 132, 50, 1010, 55, 341, 132, 50, 1010, 55, 341, 132, 50, 1010, 55, 341, 132, 50, 1010, 55, 341, 132, 50, 1010, 55, 341, 132, 50, 1010, 55, 341, 132, 50, 1010, 55, 341, 132, 50, 1010, 55, 341, 132, 50, 1010, 55, 341, 132, 50, 1010, 55, 341, 132, 50, 1010, 55, 341, 132, 50, 1010, 55, 341, 132, 50, 1010, 55, 341, 132, 50, 1010, 55, 341, 132, 50, 1010, 55, 341, 132, 50, 1010, 55, 341, 132, 50, 1010, 55, 341, 132, 50, 1010, 55, 341, 132, 50, 1010, 55, 341, 132, 50, 1010, 55, 341, 132, 50, 1010, 55, 341, 132, 50, 1010, 55, 341, 132, 50, 1010, 55, 341, 132, 50, 1010, 55, 341, 132, 50, 1010, 55, 341, 132, 50, 1010, 55, 341, 132, 50, 1010, 55, 341, 132, 50, 1010, 55, 341, 132, 50, 1010, 55, 341, 132, 50, 1010, 55, 341, 132, 50, 1010, 55, 341, 132, 50, 1010, 55, 341, 132, 822, 563, 77, 451, 475, 822, 563, 77, 451, 475, 822, 563, 77, 451, 475, 822, 563, 77, 451, 475, 822, 563, 77, 451, 475, 822, 563, 77, 451, 475, 822, 563, 77, 451, 475, 822, 563, 77, 451, 475, 822, 563, 77, 451, 475, 822, 563, 77, 451, 475, 822, 563, 77, 451, 475, 822, 563, 77, 451, 475, 822, 563, 77, 451, 475, 822, 563, 77, 451, 475, 822, 563, 77, 451, 475, 822, 563, 77, 451, 475, 822, 563, 77, 451, 475, 822, 563, 77, 451, 475, 822, 563, 77, 451, 475, 822, 563, 77, 451, 475, 822, 563, 77, 451, 475, 822, 563, 77, 451, 475, 822, 563, 77, 451, 475, 822, 563, 77, 451, 475, 822, 563, 77, 451, 475, 822, 563, 77, 451, 475, 822, 563, 77, 451, 475, 822, 563, 77, 451, 475, 822, 563, 77, 451, 475, 822, 563, 77, 451, 475, 822, 563, 77, 451, 475, 822, 563, 77, 451, 475, 822, 563, 77, 451, 475, 822, 563, 77, 451, 475, 822, 563, 77, 451, 475, 822, 563, 77, 451, 475, 822, 563, 77, 451, 475, 822, 563, 77, 451, 475, 822, 563, 77, 451, 475, 822, 563, 77, 451, 475, 822, 563, 77, 451, 475, 822, 563, 77, 451, 475, 822, 563, 77, 451, 475, 822, 563, 77, 451, 475, 822, 563, 77, 451, 475, 822, 563, 77, 451, 475, 822, 563, 77, 451, 475, 822, 563, 77, 451, 475, 822, 563, 77, 451, 475, 822, 563, 77, 451, 475, 822, 563, 77, 451, 475, 822, 563, 77, 451, 475, 822, 563, 77, 451, 475, 822, 563, 77, 451, 475, 822, 563, 77, 451, 475, 822, 563, 77, 451, 475, 822, 563, 77, 451, 475, 822, 563, 77, 451, 475, 822, 563, 77, 451, 475, 822, 563, 77, 451, 475, 822, 563, 77, 451, 475, 822, 563, 77, 451, 475, 822, 563, 77, 451, 475, 822, 563, 77, 451, 475, 822, 563, 77, 451, 475, 822, 563, 77, 451, 475, 822, 563, 77, 451, 475, 822, 563, 77, 451, 475, 822, 563, 77, 451, 475, 822, 563, 77, 451, 475, 822, 563, 77, 451, 475, 822, 563, 77, 451, 475, 822, 563, 77, 451, 475, 822, 563, 77, 451, 475, 822, 563, 77, 451, 475, 822, 563, 77, 451, 475, 822, 563, 77, 451, 475, 822, 563, 77, 451, 475, 822, 563, 77, 451, 475, 822, 563, 77, 451, 475, 822, 563, 77, 451, 475, 822, 563, 77, 451, 475, 822, 563, 77, 451, 475, 822, 563, 77, 451, 475, 822, 563, 77, 451, 475, 822, 563, 77, 451, 475, 822, 563, 77, 451, 475, 822, 563, 77, 451, 475, 822, 563, 77, 451, 475, 822, 563, 77, 451, 475, 822, 563, 77, 451, 475, 822, 563, 77, 451, 475, 822, 563, 77, 451, 475, 822, 563, 77, 451, 475, 822, 563, 77, 451, 475, 822, 563, 77, 451, 475, 822, 563, 77, 451, 475, 822, 563, 77, 451, 475, 822, 563, 77, 451, 475, 822, 563, 77, 451, 475, 822, 563, 77, 451, 475, 822, 563, 77, 451, 475, 822, 563, 77, 451, 475, 822, 563, 77, 451, 475, 822, 563, 77, 451, 475, 822, 563, 77, 451, 475, 822, 563, 77, 451, 475, 822, 563, 77, 451, 475, 822, 563, 77, 451, 475, 822, 563, 77, 451, 475, 822, 563, 77, 451, 475, 822, 563, 77, 451, 475, 822, 563, 77, 451, 475, 822, 563, 77, 451, 475, 822, 563, 77, 451, 475, 822, 563, 77, 451, 475, 822, 563, 77, 451, 475, 822, 563, 77, 451, 475, 822, 563, 77, 451, 475, 822, 563, 77, 451, 475, 822, 563, 77, 451, 475, 822, 563, 77, 451, 475, 822, 563, 77, 451, 475, 822, 563, 77, 451, 475, 822, 563, 77, 451, 475, 822, 563, 77, 451, 475, 822, 563, 77, 451, 475, 822, 563, 77, 451, 475, 822, 563, 77, 451, 475, 822, 563, 77, 451, 475, 822, 563, 77, 451, 475, 822, 563, 77, 451, 475, 822, 563, 77, 451, 475, 822, 563, 77, 451, 475, 822, 563, 77, 451, 475, 822, 563, 77, 451, 475, 822, 563, 77, 451, 475, 822, 563, 77, 451, 475, 822, 563, 77, 451, 475, 822, 563, 77, 451, 475, 822, 563, 77, 451, 475, 822, 563, 77, 451, 475, 822, 563, 77, 451, 475, 822, 563, 77, 451, 475, 822, 563, 77, 451, 475, 822, 563, 77, 451, 475, 822, 563, 77, 451, 475, 822, 563, 77, 451, 475, 822, 563, 77, 451, 475, 822, 563, 77, 451, 475, 822, 563, 77, 451, 475, 822, 563, 77, 451, 475, 822, 563, 77, 451, 475, 822, 563, 77, 451, 475, 822, 563, 77, 451, 475, 822, 563, 77, 451, 475, 822, 563, 77, 451, 475, 822, 563, 77, 451, 475, 822, 563, 77, 451, 475, 822, 563, 77, 451, 475, 822, 563, 77, 451, 475, 822, 563, 77, 451, 475, 822, 563, 77, 451, 475, 822, 563, 77, 451, 475, 822, 563, 77, 451, 475, 822, 563, 77, 451, 475, 822, 563, 77, 451, 475, 822, 563, 77, 451, 475, 822, 563, 77, 451, 475, 822, 563, 77, 451, 475, 822, 563, 77, 451, 475, 822, 563, 77, 451, 475, 822, 563, 77, 451, 475, 822, 563, 77, 451, 475, 822, 563, 77, 451, 475, 822, 563, 77, 451, 475, 822, 563, 77, 451, 475, 822, 563, 77, 451, 475, 822, 563, 77, 451, 475, 822, 563, 77, 451, 475, 822, 563, 77, 451, 475, 822, 563, 77, 451, 475, 822, 563, 77, 451, 475, 822, 563, 77, 451, 475, 822, 563, 77, 451, 475, 822, 563, 77, 451, 475, 822, 563, 77, 451, 475, 822, 563, 77, 451, 475, 822, 563, 77, 451, 475, 822, 563, 77, 451, 475, 822, 563, 77, 451, 475, 822, 563, 77, 451, 475, 822, 563, 77, 451, 475, 822, 563, 77, 451, 475, 822, 563, 77, 451, 475, 822, 563, 77, 451, 475, 822, 563, 77, 451, 475, 822, 563, 77, 451, 475, 822, 563, 77, 451, 475, 822, 563, 77, 451, 475, 822, 563, 77, 451, 475, 822, 563, 77, 451, 475, 822, 563, 77, 451, 475, 822, 563, 77, 451, 475, 822, 563, 77, 451, 475, 822, 563, 77, 451, 475, 822, 563, 77, 451, 475, 822, 563, 77, 451, 475, 822, 563, 77, 451, 475, 822, 563, 77, 451, 475, 822, 563, 77, 451, 475, 822, 563, 77, 451, 475, 822, 563, 77, 451, 475, 822, 563, 77, 451, 475, 822, 563, 77, 451, 475, 822, 563, 77, 451, 475, 822, 563, 77, 451, 475, 822, 563, 77, 451, 475, 822, 563, 77, 451, 475, 822, 563, 77, 451, 475, 822, 563, 77, 451, 475, 822, 563, 77, 451, 475, 822, 563, 77, 451, 475, 822, 563, 77, 451, 475, 822, 563, 77, 451, 475, 822, 563, 77, 451, 475, 822, 563, 77, 451, 475, 822, 563, 77, 451, 475, 822, 563, 77, 451, 475, 822, 563, 77, 451, 475, 822, 563, 77, 451, 475, 822, 563, 77, 451, 475, 822, 563, 77, 451, 475, 822, 563, 77, 451, 475, 822, 563, 77, 451, 475, 822, 563, 77, 451, 475, 822, 563, 77, 451, 475, 822, 563, 77, 451, 475, 822, 563, 77, 451, 475, 822, 563, 77, 451, 475, 822, 563, 77, 451, 475, 822, 563, 77, 451, 475, 822, 563, 77, 451, 475, 822, 563, 77, 451, 475, 822, 563, 77, 451, 475, 822, 563, 77, 451, 475, 822, 563, 77, 451, 475, 822, 563, 77, 451, 475, 822, 563, 77, 451, 475, 822, 563, 77, 451, 475, 822, 563, 77, 451, 475, 822, 563, 77, 451, 475, 822, 563, 77, 451, 475, 822, 563, 77, 451, 475, 822, 563, 77, 451, 475, 822, 563, 77, 451, 475, 822, 563, 77, 451, 475, 822, 563, 77, 451, 475, 822, 563, 77, 451, 475, 822, 563, 77, 451, 475, 822, 563, 77, 451, 475, 822, 563, 77, 451, 475, 822, 563, 77, 451, 475, 822, 563, 77, 451, 475, 822, 563, 77, 451, 475, 822, 563, 77, 451, 475, 822, 563, 77, 451, 475, 822, 563, 77, 451, 475, 822, 563, 77, 451, 475, 822, 563, 77, 451, 475, 822, 563, 77, 451, 475, 822, 563, 77, 451, 475, 822, 563, 77, 451, 475, 822, 563, 77, 451, 475, 822, 563, 77, 451, 475, 822, 563, 77, 451, 475, 822, 563, 77, 451, 475, 822, 563, 77, 451, 475, 822, 563, 77, 451, 475, 822, 563, 77, 451, 475, 822, 563, 77, 451, 475, 822, 563, 77, 451, 475, 822, 563, 77, 451, 475, 822, 563, 77, 451, 475, 822, 563, 77, 451, 475, 822, 563, 77, 451, 475, 822, 563, 77, 451, 475, 822, 563, 77, 451, 475, 822, 563, 77, 451, 475, 822, 563, 77, 451, 475, 822, 563, 77, 451, 475, 822, 563, 77, 451, 475, 822, 563, 77, 451, 475, 822, 563, 77, 451, 475, 822, 563, 77, 451, 475, 822, 563, 77, 451, 475, 822, 563, 77, 451, 475, 822, 563, 77, 451, 475, 822, 563, 77, 451, 475, 822, 563, 77, 451, 475, 822, 563, 77, 451, 475, 822, 563, 77, 451, 475, 822, 563, 77, 451, 475, 822, 563, 77, 451, 475, 822, 563, 77, 451, 475, 822, 563, 77, 451, 475, 822, 563, 77, 451, 475, 822, 563, 77, 451, 475, 822, 563, 77, 451, 475, 822, 563, 77, 451, 475, 822, 563, 77, 451, 475, 822, 563, 77, 451, 475, 822, 563, 77, 451, 475, 822, 563, 77, 451, 475, 822, 563, 77, 451, 475, 822, 563, 77, 451, 475, 822, 563, 77, 451, 475, 822, 563, 77, 451, 475, 822, 563, 77, 451, 475, 822, 563, 77, 451, 475, 822, 563, 77, 451, 475, 822, 563, 77, 451, 475, 822, 563, 77, 451, 475, 822, 563, 77, 451, 475, 822, 563, 77, 451, 475, 822, 563, 77, 451, 475, 822, 563, 77, 451, 475, 822, 563, 77, 451, 475, 822, 563, 77, 451, 475, 822, 563, 77, 451, 475, 822, 563, 77, 451, 475, 822, 563, 77, 451, 475, 822, 563, 77, 451, 475, 822, 563, 77, 451, 475, 822, 563, 77, 451, 475, 822, 563, 77, 451, 475, 822, 563, 77, 451, 475, 822, 563, 77, 451, 475, 822, 563, 77, 451, 475, 822, 563, 77, 451, 475, 822, 563, 77, 451, 475, 822, 563, 77, 451, 475, 822, 563, 77, 451, 475, 822, 563, 77, 451, 475, 822, 563, 77, 451, 475, 822, 563, 77, 451, 475, 822, 563, 77, 451, 475, 822, 563, 77, 451, 475, 822, 563, 77, 451, 475, 822, 563, 77, 451, 475, 822, 563, 77, 451, 475, 822, 563, 77, 451, 475, 822, 563, 77, 451, 475, 822, 563, 77, 451, 475, 822, 563, 77, 451, 475, 822, 563, 77, 451, 475, 822, 563, 77, 451, 475, 822, 563, 77, 451, 475, 822, 563, 77, 451, 475, 822, 563, 77, 451, 475, 822, 563, 77, 451, 475, 822, 563, 77, 451, 475, 822, 563, 77, 451, 475, 822, 563, 77, 451, 475, 822, 563, 77, 451, 475, 822, 563, 77, 451, 475, 822, 563, 77, 451, 475, 822, 563, 77, 451, 475, 822, 563, 77, 451, 475, 822, 563, 77, 451, 475, 822, 563, 77, 451, 475, 822, 563, 77, 451, 475, 822, 563, 77, 451, 475, 822, 563, 77, 451, 475, 822, 563, 77, 451, 475, 822, 563, 77, 451, 475, 822, 563, 77, 451, 475, 822, 563, 77, 451, 475, 822, 563, 77, 451, 475, 822, 563, 77, 451, 475, 822, 563, 77, 451, 475, 822, 563, 77, 451, 475, 822, 563, 77, 451, 475, 822, 563, 77, 451, 475, 822, 563, 77, 451, 475, 822, 563, 77, 451, 475, 822, 563, 77, 451, 475, 822, 563, 77, 451, 475, 822, 563, 77, 451, 475, 822, 563, 77, 451, 475, 822, 563, 77, 451, 475, 822, 563, 77, 451, 475, 822, 563, 77, 451, 475, 822, 563, 77, 451, 475, 822, 563, 77, 451, 475, 822, 563, 77, 451, 475, 822, 563, 77, 451, 475, 822, 563, 77, 451, 475, 822, 563, 77, 451, 475, 822, 563, 77, 451, 475, 822, 563, 77, 451, 475, 822, 563, 77, 451, 475, 822, 563, 77, 451, 475, 822, 563, 77, 451, 475, 822, 563, 77, 451, 475, 822, 563, 77, 451, 475, 822, 563, 77, 451, 475, 822, 563, 77, 451, 475, 822, 563, 77, 451, 475, 822, 563, 77, 451, 475, 822, 563, 77, 451, 475, 822, 563, 77, 451, 475, 822, 563, 77, 451, 475])],\n",
              "      dtype=object)"
            ]
          },
          "metadata": {},
          "execution_count": 83
        }
      ]
    },
    {
      "cell_type": "code",
      "source": [
        "np.array_equiv(MA, RK)"
      ],
      "metadata": {
        "id": "y2fXlXU1Lbob",
        "colab": {
          "base_uri": "https://localhost:8080/"
        },
        "outputId": "f5c7f8ea-137e-4af5-8a2c-ecbd4cf8bb55"
      },
      "execution_count": 84,
      "outputs": [
        {
          "output_type": "execute_result",
          "data": {
            "text/plain": [
              "False"
            ]
          },
          "metadata": {},
          "execution_count": 84
        }
      ]
    },
    {
      "cell_type": "code",
      "source": [
        "U = ([\n",
        "    [6,1,3,5],\n",
        "    [9,12,31,15],\n",
        "    [17,2,10,20,],\n",
        "    [18,16,13,26]\n",
        "])\n",
        "\n",
        "V = ([\n",
        "      [30, 40,22,21],\n",
        "      [14,29,19,33],\n",
        "      [27,4,69,77],\n",
        "      [11,68,97,81]\n",
        "])\n",
        "\n",
        "W = ([\n",
        "      [13,26,29,18],\n",
        "      [125, 31, 142,153],\n",
        "      [1, 55, 74, 23,],\n",
        "      [111,61,51,77]\n",
        "])   \n",
        "sum1 = np.add(V,W)\n",
        "sum1"
      ],
      "metadata": {
        "colab": {
          "base_uri": "https://localhost:8080/"
        },
        "id": "I5QRv8jdQLku",
        "outputId": "f6d81e92-7a47-4c05-e5b0-cba6cf93f1fe"
      },
      "execution_count": 85,
      "outputs": [
        {
          "output_type": "execute_result",
          "data": {
            "text/plain": [
              "array([[ 43,  66,  51,  39],\n",
              "       [139,  60, 161, 186],\n",
              "       [ 28,  59, 143, 100],\n",
              "       [122, 129, 148, 158]])"
            ]
          },
          "metadata": {},
          "execution_count": 85
        }
      ]
    },
    {
      "cell_type": "markdown",
      "source": [
        "$U = V\\cdot U + W\\cdot U$"
      ],
      "metadata": {
        "id": "rlBC1IfgQFcD"
      }
    },
    {
      "cell_type": "code",
      "source": [
        "zealot1 = np.dot(V,W)\n",
        "zealot1"
      ],
      "metadata": {
        "colab": {
          "base_uri": "https://localhost:8080/"
        },
        "id": "Yc7LJ3nsSocw",
        "outputId": "0b9f6e4f-5995-4ee8-a52a-d4b690e88da9"
      },
      "execution_count": 87,
      "outputs": [
        {
          "output_type": "execute_result",
          "data": {
            "text/plain": [
              "array([[ 7743,  4511,  9249,  8783],\n",
              "       [ 7489,  4321,  7613,  7667],\n",
              "       [ 9467,  9318, 10384,  8614],\n",
              "       [17731, 12670, 21284, 19070]])"
            ]
          },
          "metadata": {},
          "execution_count": 87
        }
      ]
    },
    {
      "cell_type": "code",
      "source": [
        "prod1 = np.dot(U,zealot1)\n",
        "prod1 "
      ],
      "metadata": {
        "colab": {
          "base_uri": "https://localhost:8080/"
        },
        "id": "5qEMHww1S3UT",
        "outputId": "80f47032-7520-40f2-d873-435c0a334f65"
      },
      "execution_count": 88,
      "outputs": [
        {
          "output_type": "execute_result",
          "data": {
            "text/plain": [
              "array([[171003, 122691, 200679, 181557],\n",
              "       [718997, 571359, 815761, 724135],\n",
              "       [595899, 431909, 701979, 632185],\n",
              "       [843275, 600888, 976666, 888568]])"
            ]
          },
          "metadata": {},
          "execution_count": 88
        }
      ]
    },
    {
      "cell_type": "code",
      "source": [
        "zealot2 = np.dot(U,V)\n",
        "zealot2"
      ],
      "metadata": {
        "colab": {
          "base_uri": "https://localhost:8080/"
        },
        "id": "h1S4t6YGTBlv",
        "outputId": "9f0ad9e6-1c5c-4650-b85e-789db798a9ee"
      },
      "execution_count": 89,
      "outputs": [
        {
          "output_type": "execute_result",
          "data": {
            "text/plain": [
              "array([[ 330,  621,  843,  795],\n",
              "       [1440, 1852, 4020, 4187],\n",
              "       [1028, 2138, 3042, 2813],\n",
              "       [1401, 3004, 4119, 4013]])"
            ]
          },
          "metadata": {},
          "execution_count": 89
        }
      ]
    },
    {
      "cell_type": "code",
      "source": [
        "prod2 = np.dot(zealot2,W)\n",
        "prod2"
      ],
      "metadata": {
        "colab": {
          "base_uri": "https://localhost:8080/"
        },
        "id": "l7GlBlwgTMQL",
        "outputId": "4db793aa-47be-4ac4-f653-137a092440ef"
      },
      "execution_count": 90,
      "outputs": [
        {
          "output_type": "execute_result",
          "data": {
            "text/plain": [
              "array([[171003, 122691, 200679, 181557],\n",
              "       [718997, 571359, 815761, 724135],\n",
              "       [595899, 431909, 701979, 632185],\n",
              "       [843275, 600888, 976666, 888568]])"
            ]
          },
          "metadata": {},
          "execution_count": 90
        }
      ]
    },
    {
      "cell_type": "code",
      "source": [
        "np.array_equiv(prod1,prod2)"
      ],
      "metadata": {
        "colab": {
          "base_uri": "https://localhost:8080/"
        },
        "id": "tuhox3m9TX0k",
        "outputId": "d6e1a613-f8a0-4a9c-9396-df18cb638419"
      },
      "execution_count": 91,
      "outputs": [
        {
          "output_type": "execute_result",
          "data": {
            "text/plain": [
              "True"
            ]
          },
          "metadata": {},
          "execution_count": 91
        }
      ]
    },
    {
      "cell_type": "code",
      "source": [
        "sum1 = np.add (V,W)\n",
        "sum1"
      ],
      "metadata": {
        "colab": {
          "base_uri": "https://localhost:8080/"
        },
        "id": "7iJkrIKhUn4e",
        "outputId": "d94bc944-4f18-4b02-be2d-7ae5e0c8f85c"
      },
      "execution_count": 92,
      "outputs": [
        {
          "output_type": "execute_result",
          "data": {
            "text/plain": [
              "array([[ 43,  66,  51,  39],\n",
              "       [139,  60, 161, 186],\n",
              "       [ 28,  59, 143, 100],\n",
              "       [122, 129, 148, 158]])"
            ]
          },
          "metadata": {},
          "execution_count": 92
        }
      ]
    },
    {
      "cell_type": "code",
      "source": [
        "sum2 = np.dot(U,sum1)\n",
        "sum2"
      ],
      "metadata": {
        "colab": {
          "base_uri": "https://localhost:8080/"
        },
        "id": "bGgr_5dOVPEN",
        "outputId": "42f9e8a1-9e42-40ae-fafe-ae8a753b1021"
      },
      "execution_count": 93,
      "outputs": [
        {
          "output_type": "execute_result",
          "data": {
            "text/plain": [
              "array([[1091, 1278, 1636, 1510],\n",
              "       [4753, 5078, 9044, 8053],\n",
              "       [3729, 4412, 5579, 5195],\n",
              "       [6534, 6269, 9201, 9086]])"
            ]
          },
          "metadata": {},
          "execution_count": 93
        }
      ]
    },
    {
      "cell_type": "code",
      "source": [
        "sum3 = np.dot(U,W)+ np.dot (U,W)\n",
        "sum3"
      ],
      "metadata": {
        "colab": {
          "base_uri": "https://localhost:8080/"
        },
        "id": "dRc42nMVVbY8",
        "outputId": "461b9b93-f5cf-4c2c-a30b-4fa8c4eed937"
      },
      "execution_count": 95,
      "outputs": [
        {
          "output_type": "execute_result",
          "data": {
            "text/plain": [
              "array([[ 1522,  1314,  1586,  1430],\n",
              "       [ 6626,  6452, 10048,  7732],\n",
              "       [ 5402,  4548,  5074,  4764],\n",
              "       [10266,  6530, 10164, 10146]])"
            ]
          },
          "metadata": {},
          "execution_count": 95
        }
      ]
    },
    {
      "cell_type": "code",
      "source": [
        "np.array_equiv(sum2,sum3)"
      ],
      "metadata": {
        "colab": {
          "base_uri": "https://localhost:8080/"
        },
        "id": "TG_e2GK6Vwdw",
        "outputId": "ca595e81-1ce1-4587-aa41-bcb3da18b61b"
      },
      "execution_count": 96,
      "outputs": [
        {
          "output_type": "execute_result",
          "data": {
            "text/plain": [
              "False"
            ]
          },
          "metadata": {},
          "execution_count": 96
        }
      ]
    },
    {
      "cell_type": "code",
      "source": [
        "R = np.add(V,W)\n",
        "R"
      ],
      "metadata": {
        "colab": {
          "base_uri": "https://localhost:8080/"
        },
        "id": "WSf-p6KXW1ma",
        "outputId": "3b6d1484-da5f-448a-eb48-ee52de8f505e"
      },
      "execution_count": 100,
      "outputs": [
        {
          "output_type": "execute_result",
          "data": {
            "text/plain": [
              "array([[ 43,  66,  51,  39],\n",
              "       [139,  60, 161, 186],\n",
              "       [ 28,  59, 143, 100],\n",
              "       [122, 129, 148, 158]])"
            ]
          },
          "metadata": {},
          "execution_count": 100
        }
      ]
    },
    {
      "cell_type": "code",
      "source": [
        "I = np.dot(Q,U)\n",
        "I"
      ],
      "metadata": {
        "colab": {
          "base_uri": "https://localhost:8080/"
        },
        "id": "Cni2qB5JXJqi",
        "outputId": "2b587e91-c39f-4c18-a84f-e6c605cd39f9"
      },
      "execution_count": 101,
      "outputs": [
        {
          "output_type": "execute_result",
          "data": {
            "text/plain": [
              "array([[2421, 1561, 3192, 3239],\n",
              "       [7459, 4157, 6305, 9651],\n",
              "       [4930, 2622, 4643, 6485],\n",
              "       [7253, 4494, 7899, 9613]])"
            ]
          },
          "metadata": {},
          "execution_count": 101
        }
      ]
    },
    {
      "cell_type": "code",
      "source": [
        "O = np.dot(V,U) + np.dot(W,U)\n",
        "O"
      ],
      "metadata": {
        "colab": {
          "base_uri": "https://localhost:8080/"
        },
        "id": "k1Jx2QikXOen",
        "outputId": "84f5e2fe-6ed5-43bc-86aa-6a6e8dce4d7b"
      },
      "execution_count": 103,
      "outputs": [
        {
          "output_type": "execute_result",
          "data": {
            "text/plain": [
              "array([[2421, 1561, 3192, 3239],\n",
              "       [7459, 4157, 6305, 9651],\n",
              "       [4930, 2622, 4643, 6485],\n",
              "       [7253, 4494, 7899, 9613]])"
            ]
          },
          "metadata": {},
          "execution_count": 103
        }
      ]
    },
    {
      "cell_type": "code",
      "source": [
        "np.array_equiv(I,O)"
      ],
      "metadata": {
        "colab": {
          "base_uri": "https://localhost:8080/"
        },
        "id": "Paw9v0OpXiB0",
        "outputId": "8f909286-2e75-42e1-d3b1-a39e79e1d6db"
      },
      "execution_count": 104,
      "outputs": [
        {
          "output_type": "execute_result",
          "data": {
            "text/plain": [
              "True"
            ]
          },
          "metadata": {},
          "execution_count": 104
        }
      ]
    },
    {
      "cell_type": "code",
      "source": [
        "Z = np.array([\n",
        "    [50,36,31],\n",
        "    [16,1,15],\n",
        "    [9,19,50]\n",
        "])\n",
        "np.dot(Z,1)"
      ],
      "metadata": {
        "colab": {
          "base_uri": "https://localhost:8080/"
        },
        "id": "hDg_Sl01YmfH",
        "outputId": "ee307aae-26d4-4322-f0ef-18c2a8d8a7c4"
      },
      "execution_count": 105,
      "outputs": [
        {
          "output_type": "execute_result",
          "data": {
            "text/plain": [
              "array([[50, 36, 31],\n",
              "       [16,  1, 15],\n",
              "       [ 9, 19, 50]])"
            ]
          },
          "metadata": {},
          "execution_count": 105
        }
      ]
    }
  ]
}