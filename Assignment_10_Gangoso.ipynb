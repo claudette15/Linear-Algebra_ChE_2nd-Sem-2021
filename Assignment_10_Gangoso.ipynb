{
  "nbformat": 4,
  "nbformat_minor": 0,
  "metadata": {
    "colab": {
      "name": "Assignment 10. Gangoso",
      "provenance": [],
      "authorship_tag": "ABX9TyOp6rV6McrgKHkGE5ARrbso",
      "include_colab_link": true
    },
    "kernelspec": {
      "name": "python3",
      "display_name": "Python 3"
    },
    "language_info": {
      "name": "python"
    }
  },
  "cells": [
    {
      "cell_type": "markdown",
      "metadata": {
        "id": "view-in-github",
        "colab_type": "text"
      },
      "source": [
        "<a href=\"https://colab.research.google.com/github/claudette15/Linear-Algebra_ChE_2nd-Sem-2021/blob/main/Assignment_10_Gangoso.ipynb\" target=\"_parent\"><img src=\"https://colab.research.google.com/assets/colab-badge.svg\" alt=\"Open In Colab\"/></a>"
      ]
    },
    {
      "cell_type": "markdown",
      "source": [
        "## Laboratory 10 : Linear Combination and Vector Spaces"
      ],
      "metadata": {
        "id": "6p7xuKUsSZqn"
      }
    },
    {
      "cell_type": "markdown",
      "source": [
        "Now that you have a fundamental knowledge about linear combination, we'll try to visualize it using scientific programming."
      ],
      "metadata": {
        "id": "RX5Au1-bSeEb"
      }
    },
    {
      "cell_type": "markdown",
      "source": [
        "### Objectives\n",
        "At the end of this activity you will be able to:\n",
        "1. Be familiar with representing linear combinations in the 2-dimensional plane.\n",
        "2. Visualize spans using vector fields in Python.\n",
        "3. Perform vector fields operations using scientific programming."
      ],
      "metadata": {
        "id": "H20eO6WySewo"
      }
    },
    {
      "cell_type": "markdown",
      "source": [
        "## Discussion"
      ],
      "metadata": {
        "id": "QoKf30b_SkJk"
      }
    },
    {
      "cell_type": "code",
      "source": [
        "import numpy as np\n",
        "import matplotlib.pyplot as plt\n",
        "%matplotlib inline"
      ],
      "metadata": {
        "id": "EkSGaJWNSnMV"
      },
      "execution_count": 1,
      "outputs": []
    },
    {
      "cell_type": "markdown",
      "source": [
        "## Linear Combination"
      ],
      "metadata": {
        "id": "Znp6YqGuSvs2"
      }
    },
    {
      "cell_type": "markdown",
      "source": [
        "It is said that a linear combination is the combination of linear scaling and addition of a vector its bases/components"
      ],
      "metadata": {
        "id": "CzVy4J8JS1KT"
      }
    },
    {
      "cell_type": "markdown",
      "source": [
        "We will try to visualize the vectors and their linear combinations by plotting a sample of real number values for the scalars for the vectors. Let's first try the vectors below:"
      ],
      "metadata": {
        "id": "kp0QWS4rS2eI"
      }
    },
    {
      "cell_type": "markdown",
      "source": [
        "$$X = \\begin{bmatrix} 3\\\\5 \\\\\\end{bmatrix} , Y = \\begin{bmatrix} 8\\\\9 \\\\\\end{bmatrix} $$"
      ],
      "metadata": {
        "id": "pmctryzHS8Py"
      }
    },
    {
      "cell_type": "code",
      "source": [
        "vectX =  np.array([3,8])\n",
        "vectY =  np.array([5,9])"
      ],
      "metadata": {
        "id": "_XaxQIOcTB_W"
      },
      "execution_count": 3,
      "outputs": []
    },
    {
      "cell_type": "markdown",
      "source": [
        "#### Span of single vectors"
      ],
      "metadata": {
        "id": "fCyhploPTW4T"
      }
    },
    {
      "cell_type": "markdown",
      "source": [
        "As discussed in the lecture, the span of individual vectors can be represented by a line span. Let's take vector $X$ as an example."
      ],
      "metadata": {
        "id": "FeGb9-euTaKt"
      }
    },
    {
      "cell_type": "markdown",
      "source": [
        "$$X = c\\cdot \\begin{bmatrix} 3\\\\8 \\\\\\end{bmatrix} $$"
      ],
      "metadata": {
        "id": "aPmMtsdqTd78"
      }
    },
    {
      "cell_type": "code",
      "source": [
        "c = np.arange(-15,15,0.125)\n",
        "\n",
        "plt.scatter(c*vectX[0],c*vectX[1])\n",
        "\n",
        "plt.xlim(-15,15)\n",
        "plt.ylim(-15,15)\n",
        "plt.axhline(y=0, color='k')\n",
        "plt.axvline(x=0, color='k')\n",
        "plt.grid()\n",
        "plt.show()"
      ],
      "metadata": {
        "colab": {
          "base_uri": "https://localhost:8080/",
          "height": 269
        },
        "id": "nAuhnnFZTi0q",
        "outputId": "cfa8b915-985b-4739-9e7e-59db1400accf"
      },
      "execution_count": 5,
      "outputs": [
        {
          "output_type": "display_data",
          "data": {
            "text/plain": [
              "<Figure size 432x288 with 1 Axes>"
            ],
            "image/png": "[encoded data removed]"
          },
          "metadata": {
            "needs_background": "light"
          }
        }
      ]
    },
    {
      "cell_type": "markdown",
      "source": [
        "$$Y = c\\cdot \\begin{bmatrix} 8\\\\9 \\\\\\end{bmatrix} $$"
      ],
      "metadata": {
        "id": "rE-CC5DiT1Rq"
      }
    },
    {
      "cell_type": "code",
      "source": [
        "c = np.arange(-10,10,0.5)\n",
        "\n",
        "plt.scatter(c*vectY[0],c*vectY[1])\n",
        "\n",
        "plt.xlim(-10,10)\n",
        "plt.ylim(-10,10)\n",
        "plt.axhline(y=0, color='k')\n",
        "plt.axvline(x=0, color='k')\n",
        "plt.grid()\n",
        "plt.show()"
      ],
      "metadata": {
        "colab": {
          "base_uri": "https://localhost:8080/",
          "height": 269
        },
        "id": "us6CFD3OT8DO",
        "outputId": "db2b4e47-999e-42c1-d5dd-c325814403b9"
      },
      "execution_count": 6,
      "outputs": [
        {
          "output_type": "display_data",
          "data": {
            "text/plain": [
              "<Figure size 432x288 with 1 Axes>"
            ],
            "image/png": "[encoded data removed]"
          },
          "metadata": {
            "needs_background": "light"
          }
        }
      ]
    },
    {
      "cell_type": "markdown",
      "source": [
        "### Span of a linear combination of vectors"
      ],
      "metadata": {
        "id": "hSHaKHvaUKMl"
      }
    },
    {
      "cell_type": "markdown",
      "source": [
        "So what if we are to plot the span of a linear combination of vectors? We can visualize as a plane on the 2-dimensional coordinate system. Let's take the span of the linear combination below:"
      ],
      "metadata": {
        "id": "ABWL8mm5UN1Y"
      }
    },
    {
      "cell_type": "markdown",
      "source": [
        "$$S = \\begin{Bmatrix} c_1 \\cdot\\begin{bmatrix} 0\\\\1 \\\\\\end{bmatrix}, \n",
        "c_2 \\cdot \\begin{bmatrix} 1\\\\-1 \\\\\\end{bmatrix}\\end{Bmatrix} $$"
      ],
      "metadata": {
        "id": "7yfDLnKRUScK"
      }
    },
    {
      "cell_type": "code",
      "source": [
        "vectA = np.array([0,1])\n",
        "vectB = np.array([1,-1])\n",
        "\n",
        "R = np.arange(-15,15,1)\n",
        "\n",
        "c1, c2 = np.meshgrid(R,R)\n",
        "\n",
        "vectR = vectA + vectB\n",
        "spanRx = c1*vectA[0] + c2*vectB[0]\n",
        "spanRy = c1*vectA[1] + c2*vectB[1]\n",
        "##plt.scatter(R*vectA[0],R*vectA[1])\n",
        "##plt.scatter(R*vectB[0],R*vectB[1])\n",
        "plt.scatter(spanRx,spanRy, s=5, alpha=0.75)\n",
        "\n",
        "plt.axhline(y=0, color='k')\n",
        "plt.axvline(x=0, color='k')\n",
        "plt.grid()\n",
        "plt.show()"
      ],
      "metadata": {
        "colab": {
          "base_uri": "https://localhost:8080/",
          "height": 265
        },
        "id": "5Z5zWA1EUawb",
        "outputId": "32504ecb-87e9-4654-ba7a-f59b9af7346f"
      },
      "execution_count": 7,
      "outputs": [
        {
          "output_type": "display_data",
          "data": {
            "text/plain": [
              "<Figure size 432x288 with 1 Axes>"
            ],
            "image/png": "[encoded data removed]"
          },
          "metadata": {
            "needs_background": "light"
          }
        }
      ]
    },
    {
      "cell_type": "code",
      "source": [
        "vectP = np.array([1,2])\n",
        "vectQ = np.array([3,4])\n",
        "\n",
        "R = np.arange(-10,10,1)\n",
        "\n",
        "c1, c2 = np.meshgrid(R,R)\n",
        "\n",
        "vectR = vectP + vectQ\n",
        "spanRx = c1*vectP[0] + c2*vectQ[0]\n",
        "spanRy = c1*vectP[1] + c2*vectQ[1]\n",
        "##plt.scatter(R*vectA[0],R*vectA[1])\n",
        "##plt.scatter(R*vectB[0],R*vectB[1])\n",
        "plt.scatter(spanRx,spanRy, s=5, alpha=0.75)\n",
        "\n",
        "plt.axhline(y=0, color='k')\n",
        "plt.axvline(x=0, color='k')\n",
        "plt.grid()\n",
        "plt.show()"
      ],
      "metadata": {
        "colab": {
          "base_uri": "https://localhost:8080/",
          "height": 265
        },
        "id": "nvZEQC_oUul6",
        "outputId": "06f9a929-d1de-4bc3-e47a-ce1d14173d6d"
      },
      "execution_count": 8,
      "outputs": [
        {
          "output_type": "display_data",
          "data": {
            "text/plain": [
              "<Figure size 432x288 with 1 Axes>"
            ],
            "image/png": "[encoded data removed]"
          },
          "metadata": {
            "needs_background": "light"
          }
        }
      ]
    },
    {
      "cell_type": "markdown",
      "source": [
        "Take note that if vectors are seen to be as a 2-dimensional span we can say it has a Rank of 2 or $\\mathbb{R}^2$. But if the span of the linear combination of vectors are seen to be like a line, they are said to be <b> linearly dependent </b> and they have a rank of 1 or $\\mathbb{R}^1$."
      ],
      "metadata": {
        "id": "4-El-u86U5L4"
      }
    },
    {
      "cell_type": "markdown",
      "source": [
        "# Activity"
      ],
      "metadata": {
        "id": "bpB0e7zPU_TU"
      }
    },
    {
      "cell_type": "markdown",
      "source": [
        "### Task 1"
      ],
      "metadata": {
        "id": "TWf1aHWzVKbn"
      }
    },
    {
      "cell_type": "markdown",
      "source": [
        "Try different linear combinations using different scalar values. In your methodology discuss the different functions that you have used, the  linear equation and vector form of the linear combination, and the flowchart for declaring and displaying linear combinations. Please make sure that your flowchart has only few words and not putting the entire code as it is bad practice. In your results, display and discuss the linear combination visualization you made. You should use the cells below for displaying the equation markdows using LaTeX and your code."
      ],
      "metadata": {
        "id": "k7fjfA2SVNqz"
      }
    },
    {
      "cell_type": "code",
      "source": [
        "X = np.array([5,10])\n",
        "Y = np.array([5,12])\n",
        "#Y= np.array([-2,-4])\n",
        "\n",
        "Z = np.arange(-15,15,1)\n",
        "\n",
        "A, B = np.meshgrid(Z,Z)\n",
        "\n",
        "vectZ = X + Y\n",
        "spanZx = A*X[1] + B*Y[1]\n",
        "spanZy = A*X[0] + B*Y[0]\n",
        "plt.scatter(Z*X[1],Z*Y[0])\n",
        "plt.scatter(Z*X[1],Z*Y[0])\n",
        "plt.scatter(spanZx,spanZy, s=0.4, alpha=0.4)\n",
        "plt.axhline(y=0, color='blue')\n",
        "plt.axvline(x=0, color='blue')\n",
        "plt.grid()\n",
        "plt.show()"
      ],
      "metadata": {
        "colab": {
          "base_uri": "https://localhost:8080/",
          "height": 266
        },
        "id": "tXxlnXd7VpZk",
        "outputId": "86a83a18-6ff8-4bd8-f134-e53a225c6aab"
      },
      "execution_count": 10,
      "outputs": [
        {
          "output_type": "display_data",
          "data": {
            "text/plain": [
              "<Figure size 432x288 with 1 Axes>"
            ],
            "image/png": "[encoded data removed]"
          },
          "metadata": {
            "needs_background": "light"
          }
        }
      ]
    }
  ]
}